{
 "cells": [
  {
   "cell_type": "code",
   "execution_count": 30,
   "metadata": {},
   "outputs": [],
   "source": [
    "import pandas as pd\n",
    "import os\n",
    "import skimage\n",
    "from skimage import io\n",
    "import numpy as np\n",
    "import torch\n",
    "from torch.utils.data import DataLoader, Dataset\n",
    "import matplotlib.pyplot as plt\n",
    "import sys\n",
    "sys.path.append(\"../Dataset_utils\")\n",
    "from poses_parser import pose_2_sixd_array\n",
    "from torchvision import transforms"
   ]
  },
  {
   "cell_type": "code",
   "execution_count": 35,
   "metadata": {},
   "outputs": [],
   "source": [
    "class UAV_GPS_Dataset(Dataset):\n",
    "    def __init__(self, data_dir, representations=[\"rgb\"],transform=None):\n",
    "        self.data_dir = data_dir\n",
    "        self.representations = representations\n",
    "        self.images_names=os.listdir(os.path.join(data_dir,\"rgb\"))\n",
    "        self.transform=transform\n",
    "        self.TT=transforms.ToTensor()\n",
    "\n",
    "\n",
    "    def __len__(self):\n",
    "        return len(self.images_names)\n",
    "\n",
    "    def __getitem__(self, idx):\n",
    "        image_name=self.images_names[idx]\n",
    "        name=image_name.split(\".\")[0]\n",
    "        sample={}\n",
    "        for representation in self.representations:\n",
    "            if representation==\"rgb\":\n",
    "                repre=io.imread(os.path.join(self.data_dir,\"rgb\",(name+\".png\")))\n",
    "                if repre.shape[2]>3:\n",
    "                    repre=repre[:,:,:3]\n",
    "                repre=self.TT(repre)\n",
    "            elif representation==\"poses\":\n",
    "                repre = np.loadtxt(\n",
    "                    os.path.join(self.data_dir,\"poses\",(name+\".txt\")),\n",
    "                    dtype=np.float16\n",
    "                )\n",
    "                repre=pose_2_sixd_array(repre)\n",
    "            elif representation==\"semantics\":\n",
    "                repre=torch.from_numpy(\n",
    "                    np.fromfile(\n",
    "                    os.path.join(self.data_dir,\"addl_scene_info\",\"semantics\",(name+\".npy\")),\n",
    "                    dtype=np.uint8,\n",
    "                    offset=128\n",
    "                 ).reshape(480,720))\n",
    "            else:\n",
    "                repre = torch.load(os.path.join(self.data_dir,\"addl_scene_info\",representation,(name+\".dat\")))\n",
    "                \n",
    "            sample[representation]=repre\n",
    "        if self.transform:\n",
    "            sample=self.transform(sample)\n",
    "        return sample"
   ]
  },
  {
   "cell_type": "code",
   "execution_count": 36,
   "metadata": {},
   "outputs": [],
   "source": [
    "DS=UAV_GPS_Dataset(\n",
    "    data_dir=\"../../Datasets/GPS/train_sorted\",\n",
    "    representations=[\"rgb\", 'poses']\n",
    ")"
   ]
  },
  {
   "cell_type": "code",
   "execution_count": 38,
   "metadata": {},
   "outputs": [
    {
     "data": {
      "text/plain": [
       "tensor([[[0.6039, 0.5569, 0.6353,  ..., 0.9451, 0.8667, 0.5608],\n",
       "         [0.5647, 0.5608, 0.7020,  ..., 0.9216, 0.6118, 0.5059],\n",
       "         [0.2392, 0.4824, 0.6784,  ..., 0.7686, 0.4980, 0.3216],\n",
       "         ...,\n",
       "         [0.4667, 0.5647, 0.5725,  ..., 0.5216, 0.4784, 0.5373],\n",
       "         [0.3843, 0.6510, 0.4941,  ..., 0.4980, 0.5137, 0.5529],\n",
       "         [0.4275, 0.4549, 0.5294,  ..., 0.5765, 0.5804, 0.4706]],\n",
       "\n",
       "        [[0.4941, 0.4549, 0.5490,  ..., 0.8039, 0.7020, 0.3804],\n",
       "         [0.4588, 0.4902, 0.6196,  ..., 0.7765, 0.4706, 0.4392],\n",
       "         [0.2196, 0.4039, 0.5922,  ..., 0.6157, 0.4549, 0.2784],\n",
       "         ...,\n",
       "         [0.3647, 0.4627, 0.4745,  ..., 0.4118, 0.3804, 0.4667],\n",
       "         [0.2824, 0.5529, 0.3961,  ..., 0.4039, 0.4314, 0.4902],\n",
       "         [0.3294, 0.3569, 0.4235,  ..., 0.4941, 0.5020, 0.3961]],\n",
       "\n",
       "        [[0.4471, 0.4118, 0.4980,  ..., 0.7412, 0.6627, 0.3490],\n",
       "         [0.4353, 0.4314, 0.5451,  ..., 0.7020, 0.4078, 0.4863],\n",
       "         [0.2471, 0.3412, 0.5137,  ..., 0.5725, 0.5098, 0.3098],\n",
       "         ...,\n",
       "         [0.2745, 0.3608, 0.3529,  ..., 0.2275, 0.1922, 0.2706],\n",
       "         [0.1765, 0.4353, 0.2745,  ..., 0.2157, 0.2392, 0.2902],\n",
       "         [0.2118, 0.2353, 0.3608,  ..., 0.3020, 0.3059, 0.2000]]])"
      ]
     },
     "execution_count": 38,
     "metadata": {},
     "output_type": "execute_result"
    }
   ],
   "source": [
    "DS[78][\"rgb\"]"
   ]
  },
  {
   "cell_type": "code",
   "execution_count": 1,
   "metadata": {},
   "outputs": [],
   "source": [
    "#Test\n",
    "import sys\n",
    "sys.path.append(\"../Dataset_utils\")\n",
    "7from DataLoader import UAV_GPS_Dataset"
   ]
  },
  {
   "cell_type": "code",
   "execution_count": 2,
   "metadata": {},
   "outputs": [],
   "source": [
    "DS=UAV_GPS_Dataset(\n",
    "    data_dir=\"../../Datasets/GPS/train_sorted\",\n",
    "    representations=[\"rgb\", 'init', 'semantics', 'normal', 'depth']\n",
    ")"
   ]
  },
  {
   "cell_type": "code",
   "execution_count": 4,
   "metadata": {},
   "outputs": [
    {
     "data": {
      "text/plain": [
       "16197"
      ]
     },
     "execution_count": 4,
     "metadata": {},
     "output_type": "execute_result"
    }
   ],
   "source": [
    "len(DS)"
   ]
  }
 ],
 "metadata": {
  "kernelspec": {
   "display_name": "ODO_ENV",
   "language": "python",
   "name": "odo_env"
  },
  "language_info": {
   "codemirror_mode": {
    "name": "ipython",
    "version": 3
   },
   "file_extension": ".py",
   "mimetype": "text/x-python",
   "name": "python",
   "nbconvert_exporter": "python",
   "pygments_lexer": "ipython3",
   "version": "3.6.9"
  }
 },
 "nbformat": 4,
 "nbformat_minor": 2
}
