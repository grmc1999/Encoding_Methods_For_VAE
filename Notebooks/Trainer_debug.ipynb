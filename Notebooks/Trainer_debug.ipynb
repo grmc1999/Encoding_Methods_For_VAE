{
 "cells": [
  {
   "cell_type": "code",
   "execution_count": 1,
   "metadata": {},
   "outputs": [],
   "source": [
    "import os\n",
    "import sys\n",
    "sys.path.append(\"../Train_utils\")\n",
    "sys.path.append('../Models')\n",
    "sys.path.append(\"../Dataset_utils\")\n",
    "import numpy as np"
   ]
  },
  {
   "cell_type": "code",
   "execution_count": 2,
   "metadata": {},
   "outputs": [],
   "source": [
    "from TT_class import trainer"
   ]
  },
  {
   "cell_type": "code",
   "execution_count": 3,
   "metadata": {},
   "outputs": [],
   "source": [
    "#Dataset\n",
    "from DataLoader import UAV_GPS_Dataset\n",
    "DS=UAV_GPS_Dataset(\n",
    "    data_dir=\"../../Datasets/GPS/train_sorted\",\n",
    "    representations=[\"rgb\",\"poses\"]\n",
    ")"
   ]
  },
  {
   "cell_type": "code",
   "execution_count": 4,
   "metadata": {},
   "outputs": [
    {
     "data": {
      "text/plain": [
       "ResNET_WL(\n",
       "  (MSEloss): MSELoss()\n",
       "  (img_enc): ResNET_ENC(\n",
       "    (im_layers): ModuleList(\n",
       "      (0): set_ResNET_conv(\n",
       "        (shortcut): ModuleList(\n",
       "          (0): Conv2d(3, 5, kernel_size=(3, 3), stride=(1, 1), padding=(1, 1))\n",
       "          (1): BatchNorm2d(5, eps=1e-05, momentum=0.1, affine=True, track_running_stats=True)\n",
       "          (2): ReLU()\n",
       "        )\n",
       "        (pre_layer): ModuleList(\n",
       "          (0): Conv2d(3, 4, kernel_size=(3, 3), stride=(1, 1), padding=(1, 1))\n",
       "          (1): BatchNorm2d(4, eps=1e-05, momentum=0.1, affine=True, track_running_stats=True)\n",
       "          (2): ReLU()\n",
       "          (3): Conv2d(4, 5, kernel_size=(5, 5), stride=(1, 1), padding=(2, 2))\n",
       "          (4): BatchNorm2d(5, eps=1e-05, momentum=0.1, affine=True, track_running_stats=True)\n",
       "        )\n",
       "        (lay_act): ReLU()\n",
       "      )\n",
       "      (1): set_ResNET_conv(\n",
       "        (shortcut): ModuleList(\n",
       "          (0): Conv2d(5, 7, kernel_size=(3, 3), stride=(2, 2), padding=(1, 1))\n",
       "          (1): BatchNorm2d(7, eps=1e-05, momentum=0.1, affine=True, track_running_stats=True)\n",
       "          (2): ReLU()\n",
       "        )\n",
       "        (pre_layer): ModuleList(\n",
       "          (0): Conv2d(5, 6, kernel_size=(5, 5), stride=(1, 1), padding=(2, 2))\n",
       "          (1): BatchNorm2d(6, eps=1e-05, momentum=0.1, affine=True, track_running_stats=True)\n",
       "          (2): ReLU()\n",
       "          (3): Conv2d(6, 7, kernel_size=(5, 5), stride=(2, 2), padding=(2, 2))\n",
       "          (4): BatchNorm2d(7, eps=1e-05, momentum=0.1, affine=True, track_running_stats=True)\n",
       "        )\n",
       "        (lay_act): ReLU()\n",
       "      )\n",
       "    )\n",
       "  )\n",
       "  (grph_enc): WL_GNN_ENC(\n",
       "    (graph_layers): ModuleList(\n",
       "      (0): Conv_WL_GNN()\n",
       "      (1): Conv_WL_GNN()\n",
       "      (2): Conv_WL_GNN()\n",
       "    )\n",
       "  )\n",
       "  (E_NN): NeuralNet(\n",
       "    (layers): ModuleList(\n",
       "      (0): Sequential(\n",
       "        (0): NN_layer(\n",
       "          (layer): ModuleList(\n",
       "            (0): Linear(in_features=84, out_features=12, bias=True)\n",
       "            (1): BatchNorm1d(12, eps=1e-05, momentum=0.1, affine=True, track_running_stats=True)\n",
       "            (2): LeakyReLU(negative_slope=0.01)\n",
       "          )\n",
       "        )\n",
       "      )\n",
       "    )\n",
       "  )\n",
       ")"
      ]
     },
     "execution_count": 4,
     "metadata": {},
     "output_type": "execute_result"
    }
   ],
   "source": [
    "#Model\n",
    "from torch import nn\n",
    "import torch\n",
    "from Encoding_Decoding_modules.Basic_Encoding_Decoding_Module import ResNET_Convolutional_EDM\n",
    "from DL_utils.utils import NeuralNet\n",
    "from DL_utils.ResNET import ResNET_ENC\n",
    "from DL_utils.Graph_layers import Conv_WL_GNN,KNN_graph,image_batch_to_graph_batch,split_batch_graph\n",
    "from DL_utils.Graph_modules import WL_GNN_ENC\n",
    "from CNN_graph import ResNET_WL\n",
    "\n",
    "CWLGNN=Conv_WL_GNN(225,5)\n",
    "\n",
    "EDM=ResNET_ENC(\n",
    "    repr_sizes=[[3,4,5],[5,6,7]],\n",
    "    kernel_sizes=[[3,5],[5,5]],\n",
    "    bridge_kernel_size=3,\n",
    "    act=nn.ReLU(),\n",
    "    bridge_act=nn.ReLU(),\n",
    "    lay_act=nn.ReLU(),\n",
    "    batch_norm=True,\n",
    "    dropout=None,\n",
    "    stride=[[1,1],[1,2]],\n",
    "    )\n",
    "RWL=ResNET_WL(\n",
    "    image_encoding_mode=EDM,\n",
    "    graph_encoding_mode=WL_GNN_ENC([86400,100,50,12]),\n",
    "    Estimation_NeuralNet=NeuralNet(layer_sizes=[84,12],activators=nn.LeakyReLU(),batch_norm=True,dropout=None)\n",
    "    )\n",
    "RWL.cuda()"
   ]
  },
  {
   "cell_type": "code",
   "execution_count": 5,
   "metadata": {},
   "outputs": [
    {
     "data": {
      "text/plain": [
       "device(type='cuda', index=0)"
      ]
     },
     "execution_count": 5,
     "metadata": {},
     "output_type": "execute_result"
    }
   ],
   "source": [
    "#RWL.E_NN.layers[0][0].layer[0]\n",
    "#RWL.E_NN.is_cuda()\n",
    "next(RWL.parameters()).device"
   ]
  },
  {
   "cell_type": "code",
   "execution_count": 5,
   "metadata": {},
   "outputs": [],
   "source": [
    "tr=trainer(\n",
    "    model=RWL,\n",
    "    dataset=DS,\n",
    "    epochs=100,\n",
    "    folds=5,\n",
    "    batch_size=16,\n",
    "    use_cuda=True,\n",
    "    data_dir=\"../../Results/Debug\",\n",
    "    in_device=None,\n",
    "    num_workers=0,\n",
    "    args=[\"rgb\",\"poses\"],\n",
    "    uniform=True\n",
    ")\n",
    "tr.optimizer=torch.optim.Adam(RWL.parameters(),lr=0.001)"
   ]
  },
  {
   "cell_type": "code",
   "execution_count": 6,
   "metadata": {},
   "outputs": [],
   "source": [
    "PRS=torch.utils.data.Subset(DS, np.arange(32))\n",
    "\n",
    "DL=torch.utils.data.DataLoader(PRS,batch_size=16,shuffle=True,num_workers=0,drop_last=True)"
   ]
  },
  {
   "cell_type": "code",
   "execution_count": 7,
   "metadata": {},
   "outputs": [
    {
     "name": "stderr",
     "output_type": "stream",
     "text": [
      "instances: 1it [00:02,  2.93s/it]"
     ]
    },
    {
     "name": "stdout",
     "output_type": "stream",
     "text": [
      "data:\tregression_loss 3378736791552.0000\ttotal_loss 3378736791552.0000 \tbatch 16.0000\n"
     ]
    },
    {
     "name": "stderr",
     "output_type": "stream",
     "text": [
      "instances: 2it [00:05,  2.95s/it]"
     ]
    },
    {
     "name": "stdout",
     "output_type": "stream",
     "text": [
      "data:\tregression_loss 3378737053696.0000\ttotal_loss 3378737053696.0000 \tbatch 16.0000\n"
     ]
    },
    {
     "name": "stderr",
     "output_type": "stream",
     "text": [
      "\n"
     ]
    },
    {
     "data": {
      "text/plain": [
       "{'train': {'regression_loss': [3378736791552.0, 3378737053696.0],\n",
       "  'total_loss': [3378736791552.0, 3378737053696.0]},\n",
       " 'test': {'regression_loss': [], 'total_loss': []}}"
      ]
     },
     "execution_count": 7,
     "metadata": {},
     "output_type": "execute_result"
    }
   ],
   "source": [
    "tr.train(DL)"
   ]
  },
  {
   "cell_type": "code",
   "execution_count": 17,
   "metadata": {},
   "outputs": [
    {
     "name": "stderr",
     "output_type": "stream",
     "text": [
      "Test: 1it [00:03,  3.34s/it]"
     ]
    },
    {
     "name": "stdout",
     "output_type": "stream",
     "text": [
      "{'total_loss': tensor(3.3787e+12, grad_fn=<AddBackward0>), 'regression_loss': tensor(3.3787e+12, grad_fn=<MseLossBackward0>)}\n",
      "data:\ttotal_loss 3378732335104.0000\tregression_loss 3378732335104.0000 \tbatch 16.0000\n"
     ]
    },
    {
     "name": "stderr",
     "output_type": "stream",
     "text": [
      "Test: 2it [00:06,  3.36s/it]"
     ]
    },
    {
     "name": "stdout",
     "output_type": "stream",
     "text": [
      "{'total_loss': tensor(3.3787e+12, grad_fn=<AddBackward0>), 'regression_loss': tensor(3.3787e+12, grad_fn=<MseLossBackward0>)}\n",
      "data:\ttotal_loss 3378740461568.0000\tregression_loss 3378740461568.0000 \tbatch 16.0000\n"
     ]
    },
    {
     "name": "stderr",
     "output_type": "stream",
     "text": [
      "\n"
     ]
    },
    {
     "data": {
      "text/plain": [
       "{'train': {'total_loss': [3378743869440.0, 3378729189376.0],\n",
       "  'regression_loss': [3378743869440.0, 3378729189376.0]},\n",
       " 'test': {'total_loss': [3378732335104.0, 3378740461568.0],\n",
       "  'regression_loss': [3378732335104.0, 3378740461568.0]}}"
      ]
     },
     "execution_count": 17,
     "metadata": {},
     "output_type": "execute_result"
    }
   ],
   "source": [
    "tr.test(DL)"
   ]
  },
  {
   "cell_type": "code",
   "execution_count": 18,
   "metadata": {},
   "outputs": [
    {
     "name": "stderr",
     "output_type": "stream",
     "text": [
      "Epoch:   0%|          | 0/100 [00:00<?, ?it/s]\n",
      "                                              \n",
      "Epoch:   0%|          | 0/100 [00:04<?, ?it/s]\n",
      "instances: 0it [00:04, ?it/s]\u001b[A\n",
      "instances: 1it [00:04,  4.48s/it]\u001b[A"
     ]
    },
    {
     "name": "stdout",
     "output_type": "stream",
     "text": [
      "data:\ttotal_loss 3378733383680.0000\tregression_loss 3378733383680.0000 \tbatch 16.0000\n"
     ]
    },
    {
     "name": "stderr",
     "output_type": "stream",
     "text": [
      "                                              \n",
      "Epoch:   0%|          | 0/100 [00:08<?, ?it/s]\n",
      "instances: 1it [00:08,  4.48s/it]\u001b[A\n",
      "instances: 2it [00:08,  4.46s/it]\u001b[A\n"
     ]
    },
    {
     "name": "stdout",
     "output_type": "stream",
     "text": [
      "data:\ttotal_loss 3378739675136.0000\tregression_loss 3378739675136.0000 \tbatch 16.0000\n"
     ]
    },
    {
     "name": "stderr",
     "output_type": "stream",
     "text": [
      "\n",
      "Test: 0it [00:00, ?it/s]\u001b[A\n",
      "                                              \n",
      "Epoch:   0%|          | 0/100 [00:12<?, ?it/s]\n",
      "Test: 1it [00:03,  3.37s/it]\u001b[A"
     ]
    },
    {
     "name": "stdout",
     "output_type": "stream",
     "text": [
      "{'total_loss': tensor(3.3787e+12, grad_fn=<AddBackward0>), 'regression_loss': tensor(3.3787e+12, grad_fn=<MseLossBackward0>)}\n",
      "data:\ttotal_loss 3378724470784.0000\tregression_loss 3378724470784.0000 \tbatch 16.0000\n"
     ]
    },
    {
     "name": "stderr",
     "output_type": "stream",
     "text": [
      "\n",
      "                                              \n",
      "Epoch:   0%|          | 0/100 [00:15<?, ?it/s]\n",
      "Test: 2it [00:06,  3.37s/it]\u001b[A\n",
      "Epoch:   0%|          | 0/100 [00:15<?, ?it/s]"
     ]
    },
    {
     "name": "stdout",
     "output_type": "stream",
     "text": [
      "{'total_loss': tensor(3.3787e+12, grad_fn=<AddBackward0>), 'regression_loss': tensor(3.3787e+12, grad_fn=<MseLossBackward0>)}\n",
      "data:\ttotal_loss 3378749112320.0000\tregression_loss 3378749112320.0000 \tbatch 16.0000\n",
      "epoch 0.00%\n"
     ]
    },
    {
     "name": "stderr",
     "output_type": "stream",
     "text": [
      "Epoch:   1%|          | 1/100 [00:16<26:29, 16.05s/it]\n",
      "                                                      \n",
      "Epoch:   1%|          | 1/100 [00:20<26:29, 16.05s/it]\n",
      "instances: 0it [00:04, ?it/s]\u001b[A\n",
      "instances: 1it [00:04,  4.44s/it]\u001b[A"
     ]
    },
    {
     "name": "stdout",
     "output_type": "stream",
     "text": [
      "data:\ttotal_loss 3378727616512.0000\tregression_loss 3378727616512.0000 \tbatch 16.0000\n"
     ]
    },
    {
     "name": "stderr",
     "output_type": "stream",
     "text": [
      "                                                      \n",
      "Epoch:   1%|          | 1/100 [00:24<26:29, 16.05s/it]\n",
      "instances: 1it [00:08,  4.44s/it]\u001b[A\n",
      "instances: 2it [00:08,  4.42s/it]\u001b[A\n"
     ]
    },
    {
     "name": "stdout",
     "output_type": "stream",
     "text": [
      "data:\ttotal_loss 3378745704448.0000\tregression_loss 3378745704448.0000 \tbatch 16.0000\n"
     ]
    },
    {
     "name": "stderr",
     "output_type": "stream",
     "text": [
      "\n",
      "Test: 0it [00:00, ?it/s]\u001b[A\n",
      "                                                      \n",
      "Epoch:   1%|          | 1/100 [00:28<26:29, 16.05s/it]\n",
      "Test: 1it [00:03,  3.36s/it]\u001b[A"
     ]
    },
    {
     "name": "stdout",
     "output_type": "stream",
     "text": [
      "{'total_loss': tensor(3.3787e+12, grad_fn=<AddBackward0>), 'regression_loss': tensor(3.3787e+12, grad_fn=<MseLossBackward0>)}\n",
      "data:\ttotal_loss 3378740723712.0000\tregression_loss 3378740723712.0000 \tbatch 16.0000\n"
     ]
    },
    {
     "name": "stderr",
     "output_type": "stream",
     "text": [
      "\n",
      "                                                      \n",
      "Epoch:   1%|          | 1/100 [00:31<26:29, 16.05s/it]\n",
      "Test: 2it [00:06,  3.38s/it]\u001b[A\n",
      "Epoch:   1%|          | 1/100 [00:31<26:29, 16.05s/it]"
     ]
    },
    {
     "name": "stdout",
     "output_type": "stream",
     "text": [
      "{'total_loss': tensor(3.3787e+12, grad_fn=<AddBackward0>), 'regression_loss': tensor(3.3787e+12, grad_fn=<MseLossBackward0>)}\n",
      "data:\ttotal_loss 3378732335104.0000\tregression_loss 3378732335104.0000 \tbatch 16.0000\n",
      "epoch 1.00%\n"
     ]
    },
    {
     "name": "stderr",
     "output_type": "stream",
     "text": [
      "Epoch:   2%|▏         | 2/100 [00:32<26:27, 16.20s/it]\n",
      "instances: 0it [00:00, ?it/s]\u001b[A\n",
      "                                                      \n",
      "Epoch:   2%|▏         | 2/100 [00:36<26:27, 16.20s/it]\n",
      "instances: 1it [00:04,  4.46s/it]\u001b[A"
     ]
    },
    {
     "name": "stdout",
     "output_type": "stream",
     "text": [
      "data:\ttotal_loss 3378739412992.0000\tregression_loss 3378739412992.0000 \tbatch 16.0000\n"
     ]
    },
    {
     "name": "stderr",
     "output_type": "stream",
     "text": [
      "\n",
      "                                                      \n",
      "Epoch:   2%|▏         | 2/100 [00:41<26:27, 16.20s/it]\n",
      "instances: 2it [00:08,  4.44s/it]\u001b[A\n"
     ]
    },
    {
     "name": "stdout",
     "output_type": "stream",
     "text": [
      "data:\ttotal_loss 3378733383680.0000\tregression_loss 3378733383680.0000 \tbatch 16.0000\n"
     ]
    },
    {
     "name": "stderr",
     "output_type": "stream",
     "text": [
      "\n",
      "Test: 0it [00:00, ?it/s]\u001b[A\n",
      "                                                      \n",
      "Epoch:   2%|▏         | 2/100 [00:44<26:27, 16.20s/it]\n",
      "Test: 1it [00:03,  3.37s/it]\u001b[A"
     ]
    },
    {
     "name": "stdout",
     "output_type": "stream",
     "text": [
      "{'total_loss': tensor(3.3787e+12, grad_fn=<AddBackward0>), 'regression_loss': tensor(3.3787e+12, grad_fn=<MseLossBackward0>)}\n",
      "data:\ttotal_loss 3378737577984.0000\tregression_loss 3378737577984.0000 \tbatch 16.0000\n"
     ]
    },
    {
     "name": "stderr",
     "output_type": "stream",
     "text": [
      "\n",
      "                                                      \n",
      "Epoch:   2%|▏         | 2/100 [00:47<26:27, 16.20s/it]\n",
      "Test: 2it [00:06,  3.37s/it]\u001b[A\n",
      "Epoch:   2%|▏         | 2/100 [00:47<26:27, 16.20s/it]"
     ]
    },
    {
     "name": "stdout",
     "output_type": "stream",
     "text": [
      "{'total_loss': tensor(3.3787e+12, grad_fn=<AddBackward0>), 'regression_loss': tensor(3.3787e+12, grad_fn=<MseLossBackward0>)}\n",
      "data:\ttotal_loss 3378735480832.0000\tregression_loss 3378735480832.0000 \tbatch 16.0000\n",
      "epoch 2.00%\n"
     ]
    },
    {
     "name": "stderr",
     "output_type": "stream",
     "text": [
      "Epoch:   3%|▎         | 3/100 [00:48<26:16, 16.25s/it]\n",
      "instances: 0it [00:00, ?it/s]\u001b[A\n",
      "                                                      \n",
      "Epoch:   3%|▎         | 3/100 [00:53<26:16, 16.25s/it]\n",
      "instances: 1it [00:04,  4.46s/it]\u001b[A"
     ]
    },
    {
     "name": "stdout",
     "output_type": "stream",
     "text": [
      "data:\ttotal_loss 3378732072960.0000\tregression_loss 3378732072960.0000 \tbatch 16.0000\n"
     ]
    },
    {
     "name": "stderr",
     "output_type": "stream",
     "text": [
      "\n",
      "                                                      \n",
      "Epoch:   3%|▎         | 3/100 [00:57<26:16, 16.25s/it]\n",
      "instances: 2it [00:08,  4.44s/it]\u001b[A\n"
     ]
    },
    {
     "name": "stdout",
     "output_type": "stream",
     "text": [
      "data:\ttotal_loss 3378741248000.0000\tregression_loss 3378741248000.0000 \tbatch 16.0000\n"
     ]
    },
    {
     "name": "stderr",
     "output_type": "stream",
     "text": [
      "\n",
      "Test: 0it [00:00, ?it/s]\u001b[A\n",
      "                                                      \n",
      "Epoch:   3%|▎         | 3/100 [01:00<26:16, 16.25s/it]\n",
      "Test: 1it [00:03,  3.35s/it]\u001b[A"
     ]
    },
    {
     "name": "stdout",
     "output_type": "stream",
     "text": [
      "{'total_loss': tensor(3.3787e+12, grad_fn=<AddBackward0>), 'regression_loss': tensor(3.3787e+12, grad_fn=<MseLossBackward0>)}\n",
      "data:\ttotal_loss 3378729189376.0000\tregression_loss 3378729189376.0000 \tbatch 16.0000\n"
     ]
    },
    {
     "name": "stderr",
     "output_type": "stream",
     "text": [
      "\n",
      "                                                      \n",
      "Epoch:   3%|▎         | 3/100 [01:04<26:16, 16.25s/it]\n",
      "Test: 2it [00:06,  3.37s/it]\u001b[A\n",
      "Epoch:   3%|▎         | 3/100 [01:04<26:16, 16.25s/it]"
     ]
    },
    {
     "name": "stdout",
     "output_type": "stream",
     "text": [
      "{'total_loss': tensor(3.3787e+12, grad_fn=<AddBackward0>), 'regression_loss': tensor(3.3787e+12, grad_fn=<MseLossBackward0>)}\n",
      "data:\ttotal_loss 3378744393728.0000\tregression_loss 3378744393728.0000 \tbatch 16.0000\n",
      "epoch 3.00%\n"
     ]
    },
    {
     "name": "stderr",
     "output_type": "stream",
     "text": [
      "Epoch:   4%|▍         | 4/100 [01:04<26:02, 16.27s/it]\n",
      "instances: 0it [00:00, ?it/s]\u001b[A\n",
      "                                                      \n",
      "Epoch:   4%|▍         | 4/100 [01:09<26:02, 16.27s/it]\n",
      "instances: 1it [00:04,  4.50s/it]\u001b[A"
     ]
    },
    {
     "name": "stdout",
     "output_type": "stream",
     "text": [
      "data:\ttotal_loss 3378740461568.0000\tregression_loss 3378740461568.0000 \tbatch 16.0000\n"
     ]
    },
    {
     "name": "stderr",
     "output_type": "stream",
     "text": [
      "\n",
      "                                                      \n",
      "Epoch:   4%|▍         | 4/100 [01:13<26:02, 16.27s/it]\n",
      "instances: 2it [00:08,  4.45s/it]\u001b[A\n"
     ]
    },
    {
     "name": "stdout",
     "output_type": "stream",
     "text": [
      "data:\ttotal_loss 3378733121536.0000\tregression_loss 3378733121536.0000 \tbatch 16.0000\n"
     ]
    },
    {
     "name": "stderr",
     "output_type": "stream",
     "text": [
      "\n",
      "Test: 0it [00:00, ?it/s]\u001b[A\n",
      "                                                      \n",
      "Epoch:   4%|▍         | 4/100 [01:17<26:02, 16.27s/it]\n",
      "Test: 1it [00:03,  3.35s/it]\u001b[A"
     ]
    },
    {
     "name": "stdout",
     "output_type": "stream",
     "text": [
      "{'total_loss': tensor(3.3787e+12, grad_fn=<AddBackward0>), 'regression_loss': tensor(3.3787e+12, grad_fn=<MseLossBackward0>)}\n",
      "data:\ttotal_loss 3378738364416.0000\tregression_loss 3378738364416.0000 \tbatch 16.0000\n"
     ]
    },
    {
     "name": "stderr",
     "output_type": "stream",
     "text": [
      "\n",
      "                                                      \n",
      "Epoch:   4%|▍         | 4/100 [01:20<26:02, 16.27s/it]\n",
      "Test: 2it [00:06,  3.37s/it]\u001b[A\n",
      "Epoch:   4%|▍         | 4/100 [01:20<26:02, 16.27s/it]"
     ]
    },
    {
     "name": "stdout",
     "output_type": "stream",
     "text": [
      "{'total_loss': tensor(3.3787e+12, grad_fn=<AddBackward0>), 'regression_loss': tensor(3.3787e+12, grad_fn=<MseLossBackward0>)}\n",
      "data:\ttotal_loss 3378734956544.0000\tregression_loss 3378734956544.0000 \tbatch 16.0000\n",
      "epoch 4.00%\n"
     ]
    },
    {
     "name": "stderr",
     "output_type": "stream",
     "text": [
      "Epoch:   5%|▌         | 5/100 [01:21<25:49, 16.31s/it]\n",
      "instances: 0it [00:00, ?it/s]\u001b[A\n",
      "                                                      \n",
      "Epoch:   5%|▌         | 5/100 [01:25<25:49, 16.31s/it]\n",
      "instances: 1it [00:04,  4.49s/it]\u001b[A"
     ]
    },
    {
     "name": "stdout",
     "output_type": "stream",
     "text": [
      "data:\ttotal_loss 3378732859392.0000\tregression_loss 3378732859392.0000 \tbatch 16.0000\n"
     ]
    },
    {
     "name": "stderr",
     "output_type": "stream",
     "text": [
      "\n",
      "                                                      \n",
      "Epoch:   5%|▌         | 5/100 [01:30<25:49, 16.31s/it]\n",
      "instances: 2it [00:08,  4.48s/it]\u001b[A\n"
     ]
    },
    {
     "name": "stdout",
     "output_type": "stream",
     "text": [
      "data:\ttotal_loss 3378740461568.0000\tregression_loss 3378740461568.0000 \tbatch 16.0000\n"
     ]
    },
    {
     "name": "stderr",
     "output_type": "stream",
     "text": [
      "\n",
      "Test: 0it [00:00, ?it/s]\u001b[A\n",
      "                                                      \n",
      "Epoch:   5%|▌         | 5/100 [01:33<25:49, 16.31s/it]\n",
      "Test: 1it [00:03,  3.35s/it]\u001b[A"
     ]
    },
    {
     "name": "stdout",
     "output_type": "stream",
     "text": [
      "{'total_loss': tensor(3.3787e+12, grad_fn=<AddBackward0>), 'regression_loss': tensor(3.3787e+12, grad_fn=<MseLossBackward0>)}\n",
      "data:\ttotal_loss 3378730762240.0000\tregression_loss 3378730762240.0000 \tbatch 16.0000\n"
     ]
    },
    {
     "name": "stderr",
     "output_type": "stream",
     "text": [
      "\n",
      "                                                      \n",
      "Epoch:   5%|▌         | 5/100 [01:37<25:49, 16.31s/it]\n",
      "Test: 2it [00:06,  3.40s/it]\u001b[A\n",
      "Epoch:   5%|▌         | 5/100 [01:37<25:49, 16.31s/it]"
     ]
    },
    {
     "name": "stdout",
     "output_type": "stream",
     "text": [
      "{'total_loss': tensor(3.3787e+12, grad_fn=<AddBackward0>), 'regression_loss': tensor(3.3787e+12, grad_fn=<MseLossBackward0>)}\n",
      "data:\ttotal_loss 3378742558720.0000\tregression_loss 3378742558720.0000 \tbatch 16.0000\n",
      "epoch 5.00%\n"
     ]
    },
    {
     "name": "stderr",
     "output_type": "stream",
     "text": [
      "Epoch:   6%|▌         | 6/100 [01:37<25:37, 16.36s/it]\n",
      "instances: 0it [00:00, ?it/s]\u001b[A\n",
      "                                                      \n",
      "Epoch:   6%|▌         | 6/100 [01:42<25:37, 16.36s/it]\n",
      "instances: 1it [00:04,  4.49s/it]\u001b[A"
     ]
    },
    {
     "name": "stdout",
     "output_type": "stream",
     "text": [
      "data:\ttotal_loss 3378729713664.0000\tregression_loss 3378729713664.0000 \tbatch 16.0000\n"
     ]
    },
    {
     "name": "stderr",
     "output_type": "stream",
     "text": [
      "\n",
      "                                                      \n",
      "Epoch:   6%|▌         | 6/100 [01:46<25:37, 16.36s/it]\n",
      "instances: 2it [00:08,  4.45s/it]\u001b[A\n"
     ]
    },
    {
     "name": "stdout",
     "output_type": "stream",
     "text": [
      "data:\ttotal_loss 3378743607296.0000\tregression_loss 3378743607296.0000 \tbatch 16.0000\n"
     ]
    },
    {
     "name": "stderr",
     "output_type": "stream",
     "text": [
      "\n",
      "Test: 0it [00:00, ?it/s]\u001b[A\n",
      "                                                      \n",
      "Epoch:   6%|▌         | 6/100 [01:50<25:37, 16.36s/it]\n",
      "Test: 1it [00:03,  3.36s/it]\u001b[A"
     ]
    },
    {
     "name": "stdout",
     "output_type": "stream",
     "text": [
      "{'total_loss': tensor(3.3787e+12, grad_fn=<AddBackward0>), 'regression_loss': tensor(3.3787e+12, grad_fn=<MseLossBackward0>)}\n",
      "data:\ttotal_loss 3378741510144.0000\tregression_loss 3378741510144.0000 \tbatch 16.0000\n"
     ]
    },
    {
     "name": "stderr",
     "output_type": "stream",
     "text": [
      "\n",
      "                                                      \n",
      "Epoch:   6%|▌         | 6/100 [01:53<25:37, 16.36s/it]\n",
      "Test: 2it [00:06,  3.38s/it]\u001b[A\n",
      "Epoch:   6%|▌         | 6/100 [01:53<25:37, 16.36s/it]"
     ]
    },
    {
     "name": "stdout",
     "output_type": "stream",
     "text": [
      "{'total_loss': tensor(3.3787e+12, grad_fn=<AddBackward0>), 'regression_loss': tensor(3.3787e+12, grad_fn=<MseLossBackward0>)}\n",
      "data:\ttotal_loss 3378732072960.0000\tregression_loss 3378732072960.0000 \tbatch 16.0000\n",
      "epoch 6.00%\n"
     ]
    },
    {
     "name": "stderr",
     "output_type": "stream",
     "text": [
      "Epoch:   7%|▋         | 7/100 [01:54<25:21, 16.36s/it]\n",
      "instances: 0it [00:00, ?it/s]\u001b[A\n",
      "                                                      \n",
      "Epoch:   7%|▋         | 7/100 [01:58<25:21, 16.36s/it]\n",
      "instances: 1it [00:04,  4.45s/it]\u001b[A"
     ]
    },
    {
     "name": "stdout",
     "output_type": "stream",
     "text": [
      "data:\ttotal_loss 3378744393728.0000\tregression_loss 3378744393728.0000 \tbatch 16.0000\n"
     ]
    },
    {
     "name": "stderr",
     "output_type": "stream",
     "text": [
      "\n",
      "                                                      \n",
      "Epoch:   7%|▋         | 7/100 [02:03<25:21, 16.36s/it]\n",
      "instances: 2it [00:08,  4.42s/it]\u001b[A\n"
     ]
    },
    {
     "name": "stdout",
     "output_type": "stream",
     "text": [
      "data:\ttotal_loss 3378728665088.0000\tregression_loss 3378728665088.0000 \tbatch 16.0000\n"
     ]
    },
    {
     "name": "stderr",
     "output_type": "stream",
     "text": [
      "\n",
      "Test: 0it [00:00, ?it/s]\u001b[A\n",
      "                                                      \n",
      "Epoch:   7%|▋         | 7/100 [02:06<25:21, 16.36s/it]\n",
      "Test: 1it [00:03,  3.35s/it]\u001b[A"
     ]
    },
    {
     "name": "stdout",
     "output_type": "stream",
     "text": [
      "{'total_loss': tensor(3.3787e+12, grad_fn=<AddBackward0>), 'regression_loss': tensor(3.3787e+12, grad_fn=<MseLossBackward0>)}\n",
      "data:\ttotal_loss 3378735480832.0000\tregression_loss 3378735480832.0000 \tbatch 16.0000\n"
     ]
    },
    {
     "name": "stderr",
     "output_type": "stream",
     "text": [
      "\n",
      "                                                      \n",
      "Epoch:   7%|▋         | 7/100 [02:09<25:21, 16.36s/it]\n",
      "Test: 2it [00:06,  3.39s/it]\u001b[A\n",
      "Epoch:   7%|▋         | 7/100 [02:09<25:21, 16.36s/it]"
     ]
    },
    {
     "name": "stdout",
     "output_type": "stream",
     "text": [
      "{'total_loss': tensor(3.3787e+12, grad_fn=<AddBackward0>), 'regression_loss': tensor(3.3787e+12, grad_fn=<MseLossBackward0>)}\n",
      "data:\ttotal_loss 3378737315840.0000\tregression_loss 3378737315840.0000 \tbatch 16.0000\n",
      "epoch 7.00%\n"
     ]
    },
    {
     "name": "stderr",
     "output_type": "stream",
     "text": [
      "Epoch:   8%|▊         | 8/100 [02:10<25:04, 16.36s/it]\n",
      "instances: 0it [00:00, ?it/s]\u001b[A\n",
      "                                                      \n",
      "Epoch:   8%|▊         | 8/100 [02:14<25:04, 16.36s/it]\n",
      "instances: 1it [00:04,  4.45s/it]\u001b[A"
     ]
    },
    {
     "name": "stdout",
     "output_type": "stream",
     "text": [
      "data:\ttotal_loss 3378738102272.0000\tregression_loss 3378738102272.0000 \tbatch 16.0000\n"
     ]
    },
    {
     "name": "stderr",
     "output_type": "stream",
     "text": [
      "\n",
      "                                                      \n",
      "Epoch:   8%|▊         | 8/100 [02:19<25:04, 16.36s/it]\n",
      "instances: 2it [00:08,  4.43s/it]\u001b[A\n"
     ]
    },
    {
     "name": "stdout",
     "output_type": "stream",
     "text": [
      "data:\ttotal_loss 3378735218688.0000\tregression_loss 3378735218688.0000 \tbatch 16.0000\n"
     ]
    },
    {
     "name": "stderr",
     "output_type": "stream",
     "text": [
      "\n",
      "                                                      \n",
      "Epoch:   8%|▊         | 8/100 [02:22<25:04, 16.36s/it]\n",
      "Test: 0it [00:03, ?it/s]\u001b[A\n",
      "Test: 1it [00:03,  3.37s/it]\u001b[A"
     ]
    },
    {
     "name": "stdout",
     "output_type": "stream",
     "text": [
      "{'total_loss': tensor(3.3787e+12, grad_fn=<AddBackward0>), 'regression_loss': tensor(3.3787e+12, grad_fn=<MseLossBackward0>)}\n",
      "data:\ttotal_loss 3378734170112.0000\tregression_loss 3378734170112.0000 \tbatch 16.0000\n"
     ]
    },
    {
     "name": "stderr",
     "output_type": "stream",
     "text": [
      "                                                      \n",
      "Epoch:   8%|▊         | 8/100 [02:26<25:04, 16.36s/it]\n",
      "Test: 1it [00:06,  3.37s/it]\u001b[A\n",
      "Test: 2it [00:06,  3.40s/it]\u001b[A\n",
      "Epoch:   8%|▊         | 8/100 [02:26<25:04, 16.36s/it]"
     ]
    },
    {
     "name": "stdout",
     "output_type": "stream",
     "text": [
      "{'total_loss': tensor(3.3787e+12, grad_fn=<AddBackward0>), 'regression_loss': tensor(3.3787e+12, grad_fn=<MseLossBackward0>)}\n",
      "data:\ttotal_loss 3378738626560.0000\tregression_loss 3378738626560.0000 \tbatch 16.0000\n",
      "epoch 8.00%\n"
     ]
    },
    {
     "name": "stderr",
     "output_type": "stream",
     "text": [
      "Epoch:   9%|▉         | 9/100 [02:26<24:49, 16.37s/it]\n",
      "                                                      \n",
      "Epoch:   9%|▉         | 9/100 [02:31<24:49, 16.37s/it]\n",
      "instances: 0it [00:04, ?it/s]\u001b[A\n",
      "instances: 1it [00:04,  4.58s/it]\u001b[A"
     ]
    },
    {
     "name": "stdout",
     "output_type": "stream",
     "text": [
      "data:\ttotal_loss 3378737053696.0000\tregression_loss 3378737053696.0000 \tbatch 16.0000\n"
     ]
    },
    {
     "name": "stderr",
     "output_type": "stream",
     "text": [
      "                                                      \n",
      "Epoch:   9%|▉         | 9/100 [02:35<24:49, 16.37s/it]\n",
      "instances: 1it [00:09,  4.58s/it]\u001b[A\n",
      "instances: 2it [00:09,  4.51s/it]\u001b[A\n"
     ]
    },
    {
     "name": "stdout",
     "output_type": "stream",
     "text": [
      "data:\ttotal_loss 3378736267264.0000\tregression_loss 3378736267264.0000 \tbatch 16.0000\n"
     ]
    },
    {
     "name": "stderr",
     "output_type": "stream",
     "text": [
      "\n",
      "                                                      \n",
      "Epoch:   9%|▉         | 9/100 [02:39<24:49, 16.37s/it]\n",
      "Test: 0it [00:03, ?it/s]\u001b[A\n",
      "Test: 1it [00:03,  3.35s/it]\u001b[A"
     ]
    },
    {
     "name": "stdout",
     "output_type": "stream",
     "text": [
      "{'total_loss': tensor(3.3787e+12, grad_fn=<AddBackward0>), 'regression_loss': tensor(3.3787e+12, grad_fn=<MseLossBackward0>)}\n",
      "data:\ttotal_loss 3378729189376.0000\tregression_loss 3378729189376.0000 \tbatch 16.0000\n"
     ]
    },
    {
     "name": "stderr",
     "output_type": "stream",
     "text": [
      "                                                      \n",
      "Epoch:   9%|▉         | 9/100 [02:42<24:49, 16.37s/it]\n",
      "Test: 1it [00:06,  3.35s/it]\u001b[A\n",
      "Test: 2it [00:06,  3.39s/it]\u001b[A\n",
      "Epoch:   9%|▉         | 9/100 [02:42<24:49, 16.37s/it]"
     ]
    },
    {
     "name": "stdout",
     "output_type": "stream",
     "text": [
      "{'total_loss': tensor(3.3787e+12, grad_fn=<AddBackward0>), 'regression_loss': tensor(3.3787e+12, grad_fn=<MseLossBackward0>)}\n",
      "data:\ttotal_loss 3378743869440.0000\tregression_loss 3378743869440.0000 \tbatch 16.0000\n",
      "epoch 9.00%\n"
     ]
    },
    {
     "name": "stderr",
     "output_type": "stream",
     "text": [
      "Epoch:  10%|█         | 10/100 [02:43<24:36, 16.41s/it]\n",
      "instances: 0it [00:00, ?it/s]\u001b[A\n",
      "                                                       \n",
      "Epoch:  10%|█         | 10/100 [02:47<24:36, 16.41s/it]\n",
      "instances: 1it [00:04,  4.51s/it]\u001b[A"
     ]
    },
    {
     "name": "stdout",
     "output_type": "stream",
     "text": [
      "data:\ttotal_loss 3378743869440.0000\tregression_loss 3378743869440.0000 \tbatch 16.0000\n"
     ]
    },
    {
     "name": "stderr",
     "output_type": "stream",
     "text": [
      "\n",
      "                                                       \n",
      "Epoch:  10%|█         | 10/100 [02:52<24:36, 16.41s/it]\n",
      "instances: 2it [00:08,  4.45s/it]\u001b[A\n"
     ]
    },
    {
     "name": "stdout",
     "output_type": "stream",
     "text": [
      "data:\ttotal_loss 3378729189376.0000\tregression_loss 3378729189376.0000 \tbatch 16.0000\n"
     ]
    },
    {
     "name": "stderr",
     "output_type": "stream",
     "text": [
      "\n",
      "Test: 0it [00:00, ?it/s]\u001b[A\n",
      "                                                       \n",
      "Epoch:  10%|█         | 10/100 [02:55<24:36, 16.41s/it]\n",
      "Test: 1it [00:03,  3.35s/it]\u001b[A"
     ]
    },
    {
     "name": "stdout",
     "output_type": "stream",
     "text": [
      "{'total_loss': tensor(3.3787e+12, grad_fn=<AddBackward0>), 'regression_loss': tensor(3.3787e+12, grad_fn=<MseLossBackward0>)}\n",
      "data:\ttotal_loss 3378744918016.0000\tregression_loss 3378744918016.0000 \tbatch 16.0000\n"
     ]
    },
    {
     "name": "stderr",
     "output_type": "stream",
     "text": [
      "\n",
      "                                                       \n",
      "Epoch:  10%|█         | 10/100 [02:59<24:36, 16.41s/it]\n",
      "Test: 2it [00:06,  3.38s/it]\u001b[A\n",
      "Epoch:  10%|█         | 10/100 [02:59<24:36, 16.41s/it]"
     ]
    },
    {
     "name": "stdout",
     "output_type": "stream",
     "text": [
      "{'total_loss': tensor(3.3787e+12, grad_fn=<AddBackward0>), 'regression_loss': tensor(3.3787e+12, grad_fn=<MseLossBackward0>)}\n",
      "data:\ttotal_loss 3378728140800.0000\tregression_loss 3378728140800.0000 \tbatch 16.0000\n",
      "epoch 10.00%\n"
     ]
    },
    {
     "name": "stderr",
     "output_type": "stream",
     "text": [
      "Epoch:  11%|█         | 11/100 [02:59<24:19, 16.39s/it]\n",
      "instances: 0it [00:00, ?it/s]\u001b[A\n",
      "                                                       \n",
      "Epoch:  11%|█         | 11/100 [03:04<24:19, 16.39s/it]\n",
      "instances: 1it [00:04,  4.45s/it]\u001b[A"
     ]
    },
    {
     "name": "stdout",
     "output_type": "stream",
     "text": [
      "data:\ttotal_loss 3378719227904.0000\tregression_loss 3378719227904.0000 \tbatch 16.0000\n"
     ]
    },
    {
     "name": "stderr",
     "output_type": "stream",
     "text": [
      "\n",
      "                                                       \n",
      "Epoch:  11%|█         | 11/100 [03:08<24:19, 16.39s/it]\n",
      "instances: 2it [00:08,  4.43s/it]\u001b[A\n"
     ]
    },
    {
     "name": "stdout",
     "output_type": "stream",
     "text": [
      "data:\ttotal_loss 3378753830912.0000\tregression_loss 3378753830912.0000 \tbatch 16.0000\n"
     ]
    },
    {
     "name": "stderr",
     "output_type": "stream",
     "text": [
      "\n",
      "Test: 0it [00:00, ?it/s]\u001b[A\n",
      "                                                       \n",
      "Epoch:  11%|█         | 11/100 [03:12<24:19, 16.39s/it]\n",
      "Test: 1it [00:03,  3.35s/it]\u001b[A"
     ]
    },
    {
     "name": "stdout",
     "output_type": "stream",
     "text": [
      "{'total_loss': tensor(3.3787e+12, grad_fn=<AddBackward0>), 'regression_loss': tensor(3.3787e+12, grad_fn=<MseLossBackward0>)}\n",
      "data:\ttotal_loss 3378742820864.0000\tregression_loss 3378742820864.0000 \tbatch 16.0000\n"
     ]
    },
    {
     "name": "stderr",
     "output_type": "stream",
     "text": [
      "\n",
      "                                                       \n",
      "Epoch:  11%|█         | 11/100 [03:15<24:19, 16.39s/it]\n",
      "Test: 2it [00:06,  3.37s/it]\u001b[A\n",
      "Epoch:  11%|█         | 11/100 [03:15<24:19, 16.39s/it]"
     ]
    },
    {
     "name": "stdout",
     "output_type": "stream",
     "text": [
      "{'total_loss': tensor(3.3787e+12, grad_fn=<AddBackward0>), 'regression_loss': tensor(3.3787e+12, grad_fn=<MseLossBackward0>)}\n",
      "data:\ttotal_loss 3378730237952.0000\tregression_loss 3378730237952.0000 \tbatch 16.0000\n",
      "epoch 11.00%\n"
     ]
    },
    {
     "name": "stderr",
     "output_type": "stream",
     "text": [
      "Epoch:  12%|█▏        | 12/100 [03:16<24:02, 16.39s/it]\n",
      "instances: 0it [00:00, ?it/s]\u001b[A\n",
      "                                                       \n",
      "Epoch:  12%|█▏        | 12/100 [03:20<24:02, 16.39s/it]\n",
      "instances: 1it [00:04,  4.50s/it]\u001b[A"
     ]
    },
    {
     "name": "stdout",
     "output_type": "stream",
     "text": [
      "data:\ttotal_loss 3378730762240.0000\tregression_loss 3378730762240.0000 \tbatch 16.0000\n"
     ]
    },
    {
     "name": "stderr",
     "output_type": "stream",
     "text": [
      "\n",
      "                                                       \n",
      "Epoch:  12%|█▏        | 12/100 [03:25<24:02, 16.39s/it]\n",
      "instances: 2it [00:08,  4.47s/it]\u001b[A\n"
     ]
    },
    {
     "name": "stdout",
     "output_type": "stream",
     "text": [
      "data:\ttotal_loss 3378742558720.0000\tregression_loss 3378742558720.0000 \tbatch 16.0000\n"
     ]
    },
    {
     "name": "stderr",
     "output_type": "stream",
     "text": [
      "\n",
      "Test: 0it [00:00, ?it/s]\u001b[A\n",
      "                                                       \n",
      "Epoch:  12%|█▏        | 12/100 [03:28<24:02, 16.39s/it]\n",
      "Test: 1it [00:03,  3.39s/it]\u001b[A"
     ]
    },
    {
     "name": "stdout",
     "output_type": "stream",
     "text": [
      "{'total_loss': tensor(3.3787e+12, grad_fn=<AddBackward0>), 'regression_loss': tensor(3.3787e+12, grad_fn=<MseLossBackward0>)}\n",
      "data:\ttotal_loss 3378748063744.0000\tregression_loss 3378748063744.0000 \tbatch 16.0000\n"
     ]
    },
    {
     "name": "stderr",
     "output_type": "stream",
     "text": [
      "\n",
      "                                                       \n",
      "Epoch:  12%|█▏        | 12/100 [03:31<24:02, 16.39s/it]\n",
      "Test: 2it [00:06,  3.39s/it]\u001b[A\n",
      "Epoch:  12%|█▏        | 12/100 [03:31<24:02, 16.39s/it]"
     ]
    },
    {
     "name": "stdout",
     "output_type": "stream",
     "text": [
      "{'total_loss': tensor(3.3787e+12, grad_fn=<AddBackward0>), 'regression_loss': tensor(3.3787e+12, grad_fn=<MseLossBackward0>)}\n",
      "data:\ttotal_loss 3378724995072.0000\tregression_loss 3378724995072.0000 \tbatch 16.0000\n",
      "epoch 12.00%\n"
     ]
    },
    {
     "name": "stderr",
     "output_type": "stream",
     "text": [
      "Epoch:  13%|█▎        | 13/100 [03:32<23:47, 16.40s/it]\n",
      "instances: 0it [00:00, ?it/s]\u001b[A\n",
      "                                                       \n",
      "Epoch:  13%|█▎        | 13/100 [03:37<23:47, 16.40s/it]\n",
      "instances: 1it [00:04,  4.45s/it]\u001b[A"
     ]
    },
    {
     "name": "stdout",
     "output_type": "stream",
     "text": [
      "data:\ttotal_loss 3378743345152.0000\tregression_loss 3378743345152.0000 \tbatch 16.0000\n"
     ]
    },
    {
     "name": "stderr",
     "output_type": "stream",
     "text": [
      "\n",
      "                                                       \n",
      "Epoch:  13%|█▎        | 13/100 [03:41<23:47, 16.40s/it]\n",
      "instances: 2it [00:08,  4.45s/it]\u001b[A\n"
     ]
    },
    {
     "name": "stdout",
     "output_type": "stream",
     "text": [
      "data:\ttotal_loss 3378730237952.0000\tregression_loss 3378730237952.0000 \tbatch 16.0000\n"
     ]
    },
    {
     "name": "stderr",
     "output_type": "stream",
     "text": [
      "\n",
      "Test: 0it [00:00, ?it/s]\u001b[A\n",
      "                                                       \n",
      "Epoch:  13%|█▎        | 13/100 [03:44<23:47, 16.40s/it]\n",
      "Test: 1it [00:03,  3.37s/it]\u001b[A"
     ]
    },
    {
     "name": "stdout",
     "output_type": "stream",
     "text": [
      "{'total_loss': tensor(3.3787e+12, grad_fn=<AddBackward0>), 'regression_loss': tensor(3.3787e+12, grad_fn=<MseLossBackward0>)}\n",
      "data:\ttotal_loss 3378739412992.0000\tregression_loss 3378739412992.0000 \tbatch 16.0000\n"
     ]
    },
    {
     "name": "stderr",
     "output_type": "stream",
     "text": [
      "\n",
      "                                                       \n",
      "Epoch:  13%|█▎        | 13/100 [03:48<23:47, 16.40s/it]\n",
      "Test: 2it [00:06,  3.39s/it]\u001b[A\n",
      "Epoch:  13%|█▎        | 13/100 [03:48<23:47, 16.40s/it]"
     ]
    },
    {
     "name": "stdout",
     "output_type": "stream",
     "text": [
      "{'total_loss': tensor(3.3787e+12, grad_fn=<AddBackward0>), 'regression_loss': tensor(3.3787e+12, grad_fn=<MseLossBackward0>)}\n",
      "data:\ttotal_loss 3378733383680.0000\tregression_loss 3378733383680.0000 \tbatch 16.0000\n",
      "epoch 13.00%\n"
     ]
    },
    {
     "name": "stderr",
     "output_type": "stream",
     "text": [
      "Epoch:  14%|█▍        | 14/100 [03:48<23:30, 16.40s/it]\n",
      "instances: 0it [00:00, ?it/s]\u001b[A\n",
      "                                                       \n",
      "Epoch:  14%|█▍        | 14/100 [03:53<23:30, 16.40s/it]\n",
      "instances: 1it [00:04,  4.55s/it]\u001b[A"
     ]
    },
    {
     "name": "stdout",
     "output_type": "stream",
     "text": [
      "data:\ttotal_loss 3378751209472.0000\tregression_loss 3378751209472.0000 \tbatch 16.0000\n"
     ]
    },
    {
     "name": "stderr",
     "output_type": "stream",
     "text": [
      "\n",
      "                                                       \n",
      "Epoch:  14%|█▍        | 14/100 [03:57<23:30, 16.40s/it]\n",
      "instances: 2it [00:08,  4.50s/it]\u001b[A\n"
     ]
    },
    {
     "name": "stdout",
     "output_type": "stream",
     "text": [
      "data:\ttotal_loss 3378721849344.0000\tregression_loss 3378721849344.0000 \tbatch 16.0000\n"
     ]
    },
    {
     "name": "stderr",
     "output_type": "stream",
     "text": [
      "\n",
      "Test: 0it [00:00, ?it/s]\u001b[A\n",
      "                                                       \n",
      "Epoch:  14%|█▍        | 14/100 [04:01<23:30, 16.40s/it]\n",
      "Test: 1it [00:03,  3.38s/it]\u001b[A"
     ]
    },
    {
     "name": "stdout",
     "output_type": "stream",
     "text": [
      "{'total_loss': tensor(3.3787e+12, grad_fn=<AddBackward0>), 'regression_loss': tensor(3.3787e+12, grad_fn=<MseLossBackward0>)}\n",
      "data:\ttotal_loss 3378734956544.0000\tregression_loss 3378734956544.0000 \tbatch 16.0000\n"
     ]
    },
    {
     "name": "stderr",
     "output_type": "stream",
     "text": [
      "\n",
      "                                                       \n",
      "Epoch:  14%|█▍        | 14/100 [04:04<23:30, 16.40s/it]\n",
      "Test: 2it [00:06,  3.39s/it]\u001b[A"
     ]
    },
    {
     "name": "stdout",
     "output_type": "stream",
     "text": [
      "{'total_loss': tensor(3.3787e+12, grad_fn=<AddBackward0>), 'regression_loss': tensor(3.3787e+12, grad_fn=<MseLossBackward0>)}\n",
      "data:\ttotal_loss 3378739150848.0000\tregression_loss 3378739150848.0000 \tbatch 16.0000\n"
     ]
    },
    {
     "name": "stderr",
     "output_type": "stream",
     "text": [
      "\n",
      "Epoch:  14%|█▍        | 14/100 [04:04<23:30, 16.40s/it]"
     ]
    },
    {
     "name": "stdout",
     "output_type": "stream",
     "text": [
      "epoch 14.00%\n"
     ]
    },
    {
     "name": "stderr",
     "output_type": "stream",
     "text": [
      "Epoch:  15%|█▌        | 15/100 [04:05<23:21, 16.49s/it]\n",
      "instances: 0it [00:00, ?it/s]\u001b[A\n",
      "                                                       \n",
      "Epoch:  15%|█▌        | 15/100 [04:10<23:21, 16.49s/it]\n",
      "instances: 1it [00:04,  4.50s/it]\u001b[A"
     ]
    },
    {
     "name": "stdout",
     "output_type": "stream",
     "text": [
      "data:\ttotal_loss 3378749112320.0000\tregression_loss 3378749112320.0000 \tbatch 16.0000\n"
     ]
    },
    {
     "name": "stderr",
     "output_type": "stream",
     "text": [
      "\n",
      "                                                       \n",
      "Epoch:  15%|█▌        | 15/100 [04:14<23:21, 16.49s/it]\n",
      "instances: 2it [00:08,  4.46s/it]\u001b[A\n"
     ]
    },
    {
     "name": "stdout",
     "output_type": "stream",
     "text": [
      "data:\ttotal_loss 3378723946496.0000\tregression_loss 3378723946496.0000 \tbatch 16.0000\n"
     ]
    },
    {
     "name": "stderr",
     "output_type": "stream",
     "text": [
      "\n",
      "                                                       \n",
      "Epoch:  15%|█▌        | 15/100 [04:17<23:21, 16.49s/it]\n",
      "Test: 0it [00:03, ?it/s]\u001b[A\n",
      "Test: 1it [00:03,  3.36s/it]\u001b[A"
     ]
    },
    {
     "name": "stdout",
     "output_type": "stream",
     "text": [
      "{'total_loss': tensor(3.3787e+12, grad_fn=<AddBackward0>), 'regression_loss': tensor(3.3787e+12, grad_fn=<MseLossBackward0>)}\n",
      "data:\ttotal_loss 3378742558720.0000\tregression_loss 3378742558720.0000 \tbatch 16.0000\n"
     ]
    },
    {
     "name": "stderr",
     "output_type": "stream",
     "text": [
      "                                                       \n",
      "Epoch:  15%|█▌        | 15/100 [04:21<23:21, 16.49s/it]\n",
      "Test: 1it [00:06,  3.36s/it]\u001b[A\n",
      "Test: 2it [00:06,  3.38s/it]\u001b[A\n",
      "Epoch:  15%|█▌        | 15/100 [04:21<23:21, 16.49s/it]"
     ]
    },
    {
     "name": "stdout",
     "output_type": "stream",
     "text": [
      "{'total_loss': tensor(3.3787e+12, grad_fn=<AddBackward0>), 'regression_loss': tensor(3.3787e+12, grad_fn=<MseLossBackward0>)}\n",
      "data:\ttotal_loss 3378730237952.0000\tregression_loss 3378730237952.0000 \tbatch 16.0000\n",
      "epoch 15.00%\n"
     ]
    },
    {
     "name": "stderr",
     "output_type": "stream",
     "text": [
      "Epoch:  16%|█▌        | 16/100 [04:22<23:02, 16.46s/it]\n",
      "instances: 0it [00:00, ?it/s]\u001b[A\n",
      "                                                       \n",
      "Epoch:  16%|█▌        | 16/100 [04:26<23:02, 16.46s/it]\n",
      "instances: 1it [00:04,  4.46s/it]\u001b[A"
     ]
    },
    {
     "name": "stdout",
     "output_type": "stream",
     "text": [
      "data:\ttotal_loss 3378741248000.0000\tregression_loss 3378741248000.0000 \tbatch 16.0000\n"
     ]
    },
    {
     "name": "stderr",
     "output_type": "stream",
     "text": [
      "\n",
      "                                                       \n",
      "Epoch:  16%|█▌        | 16/100 [04:30<23:02, 16.46s/it]\n",
      "instances: 2it [00:08,  4.43s/it]\u001b[A\n"
     ]
    },
    {
     "name": "stdout",
     "output_type": "stream",
     "text": [
      "data:\ttotal_loss 3378732072960.0000\tregression_loss 3378732072960.0000 \tbatch 16.0000\n"
     ]
    },
    {
     "name": "stderr",
     "output_type": "stream",
     "text": [
      "\n",
      "Test: 0it [00:00, ?it/s]\u001b[A\n",
      "                                                       \n",
      "Epoch:  16%|█▌        | 16/100 [04:34<23:02, 16.46s/it]\n",
      "Test: 1it [00:03,  3.35s/it]\u001b[A"
     ]
    },
    {
     "name": "stdout",
     "output_type": "stream",
     "text": [
      "{'total_loss': tensor(3.3787e+12, grad_fn=<AddBackward0>), 'regression_loss': tensor(3.3787e+12, grad_fn=<MseLossBackward0>)}\n",
      "data:\ttotal_loss 3378741772288.0000\tregression_loss 3378741772288.0000 \tbatch 16.0000\n"
     ]
    },
    {
     "name": "stderr",
     "output_type": "stream",
     "text": [
      "\n",
      "                                                       \n",
      "Epoch:  16%|█▌        | 16/100 [04:37<23:02, 16.46s/it]\n",
      "Test: 2it [00:06,  3.37s/it]\u001b[A\n",
      "Epoch:  16%|█▌        | 16/100 [04:37<23:02, 16.46s/it]"
     ]
    },
    {
     "name": "stdout",
     "output_type": "stream",
     "text": [
      "{'total_loss': tensor(3.3787e+12, grad_fn=<AddBackward0>), 'regression_loss': tensor(3.3787e+12, grad_fn=<MseLossBackward0>)}\n",
      "data:\ttotal_loss 3378731286528.0000\tregression_loss 3378731286528.0000 \tbatch 16.0000\n",
      "epoch 16.00%\n"
     ]
    },
    {
     "name": "stderr",
     "output_type": "stream",
     "text": [
      "Epoch:  17%|█▋        | 17/100 [04:38<22:42, 16.42s/it]\n",
      "instances: 0it [00:00, ?it/s]\u001b[A\n",
      "                                                       \n",
      "Epoch:  17%|█▋        | 17/100 [04:42<22:42, 16.42s/it]\n",
      "instances: 1it [00:04,  4.47s/it]\u001b[A"
     ]
    },
    {
     "name": "stdout",
     "output_type": "stream",
     "text": [
      "data:\ttotal_loss 3378723684352.0000\tregression_loss 3378723684352.0000 \tbatch 16.0000\n"
     ]
    },
    {
     "name": "stderr",
     "output_type": "stream",
     "text": [
      "\n",
      "                                                       \n",
      "Epoch:  17%|█▋        | 17/100 [04:47<22:42, 16.42s/it]\n",
      "instances: 2it [00:08,  4.45s/it]\u001b[A\n"
     ]
    },
    {
     "name": "stdout",
     "output_type": "stream",
     "text": [
      "data:\ttotal_loss 3378749636608.0000\tregression_loss 3378749636608.0000 \tbatch 16.0000\n"
     ]
    },
    {
     "name": "stderr",
     "output_type": "stream",
     "text": [
      "\n",
      "Test: 0it [00:00, ?it/s]\u001b[A\n",
      "                                                       \n",
      "Epoch:  17%|█▋        | 17/100 [04:50<22:42, 16.42s/it]\n",
      "Test: 1it [00:03,  3.34s/it]\u001b[A"
     ]
    },
    {
     "name": "stdout",
     "output_type": "stream",
     "text": [
      "{'total_loss': tensor(3.3787e+12, grad_fn=<AddBackward0>), 'regression_loss': tensor(3.3787e+12, grad_fn=<MseLossBackward0>)}\n",
      "data:\ttotal_loss 3378730237952.0000\tregression_loss 3378730237952.0000 \tbatch 16.0000\n"
     ]
    },
    {
     "name": "stderr",
     "output_type": "stream",
     "text": [
      "\n",
      "                                                       \n",
      "Epoch:  17%|█▋        | 17/100 [04:54<22:42, 16.42s/it]\n",
      "Test: 2it [00:06,  3.38s/it]\u001b[A\n",
      "Epoch:  17%|█▋        | 17/100 [04:54<22:42, 16.42s/it]"
     ]
    },
    {
     "name": "stdout",
     "output_type": "stream",
     "text": [
      "{'total_loss': tensor(3.3787e+12, grad_fn=<AddBackward0>), 'regression_loss': tensor(3.3787e+12, grad_fn=<MseLossBackward0>)}\n",
      "data:\ttotal_loss 3378743345152.0000\tregression_loss 3378743345152.0000 \tbatch 16.0000\n",
      "epoch 17.00%\n"
     ]
    },
    {
     "name": "stderr",
     "output_type": "stream",
     "text": [
      "Epoch:  18%|█▊        | 18/100 [04:54<22:26, 16.42s/it]\n",
      "instances: 0it [00:00, ?it/s]\u001b[A\n",
      "                                                       \n",
      "Epoch:  18%|█▊        | 18/100 [04:59<22:26, 16.42s/it]\n",
      "instances: 1it [00:04,  4.46s/it]\u001b[A"
     ]
    },
    {
     "name": "stdout",
     "output_type": "stream",
     "text": [
      "data:\ttotal_loss 3378739150848.0000\tregression_loss 3378739150848.0000 \tbatch 16.0000\n"
     ]
    },
    {
     "name": "stderr",
     "output_type": "stream",
     "text": [
      "\n",
      "                                                       \n",
      "Epoch:  18%|█▊        | 18/100 [05:03<22:26, 16.42s/it]\n",
      "instances: 2it [00:08,  4.44s/it]\u001b[A\n"
     ]
    },
    {
     "name": "stdout",
     "output_type": "stream",
     "text": [
      "data:\ttotal_loss 3378734170112.0000\tregression_loss 3378734170112.0000 \tbatch 16.0000\n"
     ]
    },
    {
     "name": "stderr",
     "output_type": "stream",
     "text": [
      "\n",
      "Test: 0it [00:00, ?it/s]\u001b[A\n",
      "                                                       \n",
      "Epoch:  18%|█▊        | 18/100 [05:07<22:26, 16.42s/it]\n",
      "Test: 1it [00:03,  3.37s/it]\u001b[A"
     ]
    },
    {
     "name": "stdout",
     "output_type": "stream",
     "text": [
      "{'total_loss': tensor(3.3787e+12, grad_fn=<AddBackward0>), 'regression_loss': tensor(3.3787e+12, grad_fn=<MseLossBackward0>)}\n",
      "data:\ttotal_loss 3378732335104.0000\tregression_loss 3378732335104.0000 \tbatch 16.0000\n"
     ]
    },
    {
     "name": "stderr",
     "output_type": "stream",
     "text": [
      "\n",
      "                                                       \n",
      "Epoch:  18%|█▊        | 18/100 [05:10<22:26, 16.42s/it]\n",
      "Test: 2it [00:06,  3.38s/it]\u001b[A\n",
      "Epoch:  18%|█▊        | 18/100 [05:10<22:26, 16.42s/it]"
     ]
    },
    {
     "name": "stdout",
     "output_type": "stream",
     "text": [
      "{'total_loss': tensor(3.3787e+12, grad_fn=<AddBackward0>), 'regression_loss': tensor(3.3787e+12, grad_fn=<MseLossBackward0>)}\n",
      "data:\ttotal_loss 3378740723712.0000\tregression_loss 3378740723712.0000 \tbatch 16.0000\n",
      "epoch 18.00%\n"
     ]
    },
    {
     "name": "stderr",
     "output_type": "stream",
     "text": [
      "Epoch:  19%|█▉        | 19/100 [05:11<22:08, 16.40s/it]\n",
      "                                                       \n",
      "Epoch:  19%|█▉        | 19/100 [05:15<22:08, 16.40s/it]\n",
      "instances: 0it [00:04, ?it/s]\u001b[A\n",
      "instances: 1it [00:04,  4.47s/it]\u001b[A"
     ]
    },
    {
     "name": "stdout",
     "output_type": "stream",
     "text": [
      "data:\ttotal_loss 3378734956544.0000\tregression_loss 3378734956544.0000 \tbatch 16.0000\n"
     ]
    },
    {
     "name": "stderr",
     "output_type": "stream",
     "text": [
      "                                                       \n",
      "Epoch:  19%|█▉        | 19/100 [05:20<22:08, 16.40s/it]\n",
      "instances: 1it [00:08,  4.47s/it]\u001b[A\n",
      "instances: 2it [00:08,  4.45s/it]\u001b[A\n"
     ]
    },
    {
     "name": "stdout",
     "output_type": "stream",
     "text": [
      "data:\ttotal_loss 3378738364416.0000\tregression_loss 3378738364416.0000 \tbatch 16.0000\n"
     ]
    },
    {
     "name": "stderr",
     "output_type": "stream",
     "text": [
      "\n",
      "Test: 0it [00:00, ?it/s]\u001b[A\n",
      "                                                       \n",
      "Epoch:  19%|█▉        | 19/100 [05:23<22:08, 16.40s/it]\n",
      "Test: 1it [00:03,  3.35s/it]\u001b[A"
     ]
    },
    {
     "name": "stdout",
     "output_type": "stream",
     "text": [
      "{'total_loss': tensor(3.3787e+12, grad_fn=<AddBackward0>), 'regression_loss': tensor(3.3787e+12, grad_fn=<MseLossBackward0>)}\n",
      "data:\ttotal_loss 3378729975808.0000\tregression_loss 3378729975808.0000 \tbatch 16.0000\n"
     ]
    },
    {
     "name": "stderr",
     "output_type": "stream",
     "text": [
      "\n",
      "                                                       \n",
      "Epoch:  19%|█▉        | 19/100 [05:26<22:08, 16.40s/it]\n",
      "Test: 2it [00:06,  3.37s/it]\u001b[A\n",
      "Epoch:  19%|█▉        | 19/100 [05:26<22:08, 16.40s/it]"
     ]
    },
    {
     "name": "stdout",
     "output_type": "stream",
     "text": [
      "{'total_loss': tensor(3.3787e+12, grad_fn=<AddBackward0>), 'regression_loss': tensor(3.3787e+12, grad_fn=<MseLossBackward0>)}\n",
      "data:\ttotal_loss 3378743345152.0000\tregression_loss 3378743345152.0000 \tbatch 16.0000\n",
      "epoch 19.00%\n"
     ]
    },
    {
     "name": "stderr",
     "output_type": "stream",
     "text": [
      "Epoch:  20%|██        | 20/100 [05:27<21:50, 16.38s/it]\n",
      "instances: 0it [00:00, ?it/s]\u001b[A\n",
      "                                                       \n",
      "Epoch:  20%|██        | 20/100 [05:31<21:50, 16.38s/it]\n",
      "instances: 1it [00:04,  4.45s/it]\u001b[A"
     ]
    },
    {
     "name": "stdout",
     "output_type": "stream",
     "text": [
      "data:\ttotal_loss 3378741510144.0000\tregression_loss 3378741510144.0000 \tbatch 16.0000\n"
     ]
    },
    {
     "name": "stderr",
     "output_type": "stream",
     "text": [
      "\n",
      "                                                       \n",
      "Epoch:  20%|██        | 20/100 [05:36<21:50, 16.38s/it]\n",
      "instances: 2it [00:08,  4.44s/it]\u001b[A\n"
     ]
    },
    {
     "name": "stdout",
     "output_type": "stream",
     "text": [
      "data:\ttotal_loss 3378731286528.0000\tregression_loss 3378731286528.0000 \tbatch 16.0000\n"
     ]
    },
    {
     "name": "stderr",
     "output_type": "stream",
     "text": [
      "\n",
      "Test: 0it [00:00, ?it/s]\u001b[A\n",
      "                                                       \n",
      "Epoch:  20%|██        | 20/100 [05:39<21:50, 16.38s/it]\n",
      "Test: 1it [00:03,  3.36s/it]\u001b[A"
     ]
    },
    {
     "name": "stdout",
     "output_type": "stream",
     "text": [
      "{'total_loss': tensor(3.3787e+12, grad_fn=<AddBackward0>), 'regression_loss': tensor(3.3787e+12, grad_fn=<MseLossBackward0>)}\n",
      "data:\ttotal_loss 3378724470784.0000\tregression_loss 3378724470784.0000 \tbatch 16.0000\n"
     ]
    },
    {
     "name": "stderr",
     "output_type": "stream",
     "text": [
      "\n",
      "                                                       \n",
      "Epoch:  20%|██        | 20/100 [05:43<21:50, 16.38s/it]\n",
      "Test: 2it [00:06,  3.38s/it]\u001b[A\n",
      "Epoch:  20%|██        | 20/100 [05:43<21:50, 16.38s/it]"
     ]
    },
    {
     "name": "stdout",
     "output_type": "stream",
     "text": [
      "{'total_loss': tensor(3.3787e+12, grad_fn=<AddBackward0>), 'regression_loss': tensor(3.3787e+12, grad_fn=<MseLossBackward0>)}\n",
      "data:\ttotal_loss 3378748850176.0000\tregression_loss 3378748850176.0000 \tbatch 16.0000\n",
      "epoch 20.00%\n"
     ]
    },
    {
     "name": "stderr",
     "output_type": "stream",
     "text": [
      "Epoch:  21%|██        | 21/100 [05:43<21:33, 16.37s/it]\n",
      "instances: 0it [00:00, ?it/s]\u001b[A\n",
      "                                                       \n",
      "Epoch:  21%|██        | 21/100 [05:48<21:33, 16.37s/it]\n",
      "instances: 1it [00:04,  4.50s/it]\u001b[A"
     ]
    },
    {
     "name": "stdout",
     "output_type": "stream",
     "text": [
      "data:\ttotal_loss 3378739150848.0000\tregression_loss 3378739150848.0000 \tbatch 16.0000\n"
     ]
    },
    {
     "name": "stderr",
     "output_type": "stream",
     "text": [
      "\n",
      "                                                       \n",
      "Epoch:  21%|██        | 21/100 [05:52<21:33, 16.37s/it]\n",
      "instances: 2it [00:08,  4.47s/it]\u001b[A\n"
     ]
    },
    {
     "name": "stdout",
     "output_type": "stream",
     "text": [
      "data:\ttotal_loss 3378733907968.0000\tregression_loss 3378733907968.0000 \tbatch 16.0000\n"
     ]
    },
    {
     "name": "stderr",
     "output_type": "stream",
     "text": [
      "\n",
      "                                                       \n",
      "Epoch:  21%|██        | 21/100 [05:56<21:33, 16.37s/it]\n",
      "Test: 0it [00:03, ?it/s]\u001b[A\n",
      "Test: 1it [00:03,  3.39s/it]\u001b[A"
     ]
    },
    {
     "name": "stdout",
     "output_type": "stream",
     "text": [
      "{'total_loss': tensor(3.3787e+12, grad_fn=<AddBackward0>), 'regression_loss': tensor(3.3787e+12, grad_fn=<MseLossBackward0>)}\n",
      "data:\ttotal_loss 3378743607296.0000\tregression_loss 3378743607296.0000 \tbatch 16.0000\n"
     ]
    },
    {
     "name": "stderr",
     "output_type": "stream",
     "text": [
      "                                                       \n",
      "Epoch:  21%|██        | 21/100 [05:59<21:33, 16.37s/it]\n",
      "Test: 1it [00:06,  3.39s/it]\u001b[A\n",
      "Test: 2it [00:06,  3.41s/it]\u001b[A\n",
      "Epoch:  21%|██        | 21/100 [05:59<21:33, 16.37s/it]"
     ]
    },
    {
     "name": "stdout",
     "output_type": "stream",
     "text": [
      "{'total_loss': tensor(3.3787e+12, grad_fn=<AddBackward0>), 'regression_loss': tensor(3.3787e+12, grad_fn=<MseLossBackward0>)}\n",
      "data:\ttotal_loss 3378729189376.0000\tregression_loss 3378729189376.0000 \tbatch 16.0000\n",
      "epoch 21.00%\n"
     ]
    },
    {
     "name": "stderr",
     "output_type": "stream",
     "text": [
      "Epoch:  22%|██▏       | 22/100 [06:00<21:19, 16.40s/it]\n",
      "instances: 0it [00:00, ?it/s]\u001b[A\n",
      "                                                       \n",
      "Epoch:  22%|██▏       | 22/100 [06:04<21:19, 16.40s/it]\n",
      "instances: 1it [00:04,  4.48s/it]\u001b[A"
     ]
    },
    {
     "name": "stdout",
     "output_type": "stream",
     "text": [
      "data:\ttotal_loss 3378743869440.0000\tregression_loss 3378743869440.0000 \tbatch 16.0000\n"
     ]
    },
    {
     "name": "stderr",
     "output_type": "stream",
     "text": [
      "\n",
      "                                                       \n",
      "Epoch:  22%|██▏       | 22/100 [06:09<21:19, 16.40s/it]\n",
      "instances: 2it [00:08,  4.44s/it]\u001b[A\n"
     ]
    },
    {
     "name": "stdout",
     "output_type": "stream",
     "text": [
      "data:\ttotal_loss 3378728927232.0000\tregression_loss 3378728927232.0000 \tbatch 16.0000\n"
     ]
    },
    {
     "name": "stderr",
     "output_type": "stream",
     "text": [
      "\n",
      "Test: 0it [00:00, ?it/s]\u001b[A\n",
      "                                                       \n",
      "Epoch:  22%|██▏       | 22/100 [06:12<21:19, 16.40s/it]\n",
      "Test: 1it [00:03,  3.39s/it]\u001b[A"
     ]
    },
    {
     "name": "stdout",
     "output_type": "stream",
     "text": [
      "{'total_loss': tensor(3.3787e+12, grad_fn=<AddBackward0>), 'regression_loss': tensor(3.3787e+12, grad_fn=<MseLossBackward0>)}\n",
      "data:\ttotal_loss 3378745442304.0000\tregression_loss 3378745442304.0000 \tbatch 16.0000\n"
     ]
    },
    {
     "name": "stderr",
     "output_type": "stream",
     "text": [
      "\n",
      "                                                       \n",
      "Epoch:  22%|██▏       | 22/100 [06:15<21:19, 16.40s/it]\n",
      "Test: 2it [00:06,  3.39s/it]\u001b[A\n",
      "Epoch:  22%|██▏       | 22/100 [06:16<21:19, 16.40s/it]"
     ]
    },
    {
     "name": "stdout",
     "output_type": "stream",
     "text": [
      "{'total_loss': tensor(3.3787e+12, grad_fn=<AddBackward0>), 'regression_loss': tensor(3.3787e+12, grad_fn=<MseLossBackward0>)}\n",
      "data:\ttotal_loss 3378727878656.0000\tregression_loss 3378727878656.0000 \tbatch 16.0000\n",
      "epoch 22.00%\n"
     ]
    },
    {
     "name": "stderr",
     "output_type": "stream",
     "text": [
      "Epoch:  23%|██▎       | 23/100 [06:16<21:02, 16.39s/it]\n",
      "                                                       \n",
      "Epoch:  23%|██▎       | 23/100 [06:21<21:02, 16.39s/it]\n",
      "instances: 0it [00:04, ?it/s]\u001b[A\n",
      "instances: 1it [00:04,  4.50s/it]\u001b[A"
     ]
    },
    {
     "name": "stdout",
     "output_type": "stream",
     "text": [
      "data:\ttotal_loss 3378729975808.0000\tregression_loss 3378729975808.0000 \tbatch 16.0000\n"
     ]
    },
    {
     "name": "stderr",
     "output_type": "stream",
     "text": [
      "                                                       \n",
      "Epoch:  23%|██▎       | 23/100 [06:25<21:02, 16.39s/it]\n",
      "instances: 1it [00:08,  4.50s/it]\u001b[A\n",
      "instances: 2it [00:08,  4.47s/it]\u001b[A\n"
     ]
    },
    {
     "name": "stdout",
     "output_type": "stream",
     "text": [
      "data:\ttotal_loss 3378743345152.0000\tregression_loss 3378743345152.0000 \tbatch 16.0000\n"
     ]
    },
    {
     "name": "stderr",
     "output_type": "stream",
     "text": [
      "\n",
      "Test: 0it [00:00, ?it/s]\u001b[A\n",
      "                                                       \n",
      "Epoch:  23%|██▎       | 23/100 [06:29<21:02, 16.39s/it]\n",
      "Test: 1it [00:03,  3.41s/it]\u001b[A"
     ]
    },
    {
     "name": "stdout",
     "output_type": "stream",
     "text": [
      "{'total_loss': tensor(3.3787e+12, grad_fn=<AddBackward0>), 'regression_loss': tensor(3.3787e+12, grad_fn=<MseLossBackward0>)}\n",
      "data:\ttotal_loss 3378737053696.0000\tregression_loss 3378737053696.0000 \tbatch 16.0000\n"
     ]
    },
    {
     "name": "stderr",
     "output_type": "stream",
     "text": [
      "\n",
      "                                                       \n",
      "Epoch:  23%|██▎       | 23/100 [06:32<21:02, 16.39s/it]\n",
      "Test: 2it [00:06,  3.41s/it]\u001b[A\n",
      "Epoch:  23%|██▎       | 23/100 [06:32<21:02, 16.39s/it]"
     ]
    },
    {
     "name": "stdout",
     "output_type": "stream",
     "text": [
      "{'total_loss': tensor(3.3787e+12, grad_fn=<AddBackward0>), 'regression_loss': tensor(3.3787e+12, grad_fn=<MseLossBackward0>)}\n",
      "data:\ttotal_loss 3378736267264.0000\tregression_loss 3378736267264.0000 \tbatch 16.0000\n",
      "epoch 23.00%\n"
     ]
    },
    {
     "name": "stderr",
     "output_type": "stream",
     "text": [
      "Epoch:  24%|██▍       | 24/100 [06:33<20:47, 16.41s/it]\n",
      "instances: 0it [00:00, ?it/s]\u001b[A\n",
      "                                                       \n",
      "Epoch:  24%|██▍       | 24/100 [06:37<20:47, 16.41s/it]\n",
      "instances: 1it [00:04,  4.49s/it]\u001b[A"
     ]
    },
    {
     "name": "stdout",
     "output_type": "stream",
     "text": [
      "data:\ttotal_loss 3378733383680.0000\tregression_loss 3378733383680.0000 \tbatch 16.0000\n"
     ]
    },
    {
     "name": "stderr",
     "output_type": "stream",
     "text": [
      "\n",
      "                                                       \n",
      "Epoch:  24%|██▍       | 24/100 [06:42<20:47, 16.41s/it]\n",
      "instances: 2it [00:08,  4.45s/it]\u001b[A\n"
     ]
    },
    {
     "name": "stdout",
     "output_type": "stream",
     "text": [
      "data:\ttotal_loss 3378739675136.0000\tregression_loss 3378739675136.0000 \tbatch 16.0000\n"
     ]
    },
    {
     "name": "stderr",
     "output_type": "stream",
     "text": [
      "\n",
      "Test: 0it [00:00, ?it/s]\u001b[A\n",
      "                                                       \n",
      "Epoch:  24%|██▍       | 24/100 [06:45<20:47, 16.41s/it]\n",
      "Test: 1it [00:03,  3.35s/it]\u001b[A"
     ]
    },
    {
     "name": "stdout",
     "output_type": "stream",
     "text": [
      "{'total_loss': tensor(3.3787e+12, grad_fn=<AddBackward0>), 'regression_loss': tensor(3.3787e+12, grad_fn=<MseLossBackward0>)}\n",
      "data:\ttotal_loss 3378730762240.0000\tregression_loss 3378730762240.0000 \tbatch 16.0000\n"
     ]
    },
    {
     "name": "stderr",
     "output_type": "stream",
     "text": [
      "\n",
      "                                                       \n",
      "Epoch:  24%|██▍       | 24/100 [06:48<20:47, 16.41s/it]\n",
      "Test: 2it [00:06,  3.39s/it]\u001b[A\n",
      "Epoch:  24%|██▍       | 24/100 [06:48<20:47, 16.41s/it]"
     ]
    },
    {
     "name": "stdout",
     "output_type": "stream",
     "text": [
      "{'total_loss': tensor(3.3787e+12, grad_fn=<AddBackward0>), 'regression_loss': tensor(3.3787e+12, grad_fn=<MseLossBackward0>)}\n",
      "data:\ttotal_loss 3378742296576.0000\tregression_loss 3378742296576.0000 \tbatch 16.0000\n",
      "epoch 24.00%\n"
     ]
    },
    {
     "name": "stderr",
     "output_type": "stream",
     "text": [
      "Epoch:  25%|██▌       | 25/100 [06:49<20:31, 16.42s/it]\n",
      "instances: 0it [00:00, ?it/s]\u001b[A\n",
      "                                                       \n",
      "Epoch:  25%|██▌       | 25/100 [06:54<20:31, 16.42s/it]\n",
      "instances: 1it [00:04,  4.50s/it]\u001b[A"
     ]
    },
    {
     "name": "stdout",
     "output_type": "stream",
     "text": [
      "data:\ttotal_loss 3378736267264.0000\tregression_loss 3378736267264.0000 \tbatch 16.0000\n"
     ]
    },
    {
     "name": "stderr",
     "output_type": "stream",
     "text": [
      "\n",
      "                                                       \n",
      "Epoch:  25%|██▌       | 25/100 [06:58<20:31, 16.42s/it]\n",
      "instances: 2it [00:08,  4.46s/it]\u001b[A\n"
     ]
    },
    {
     "name": "stdout",
     "output_type": "stream",
     "text": [
      "data:\ttotal_loss 3378737315840.0000\tregression_loss 3378737315840.0000 \tbatch 16.0000\n"
     ]
    },
    {
     "name": "stderr",
     "output_type": "stream",
     "text": [
      "\n",
      "                                                       \n",
      "Epoch:  25%|██▌       | 25/100 [07:01<20:31, 16.42s/it]\n",
      "Test: 0it [00:03, ?it/s]\u001b[A\n",
      "Test: 1it [00:03,  3.37s/it]\u001b[A"
     ]
    },
    {
     "name": "stdout",
     "output_type": "stream",
     "text": [
      "{'total_loss': tensor(3.3787e+12, grad_fn=<AddBackward0>), 'regression_loss': tensor(3.3787e+12, grad_fn=<MseLossBackward0>)}\n",
      "data:\ttotal_loss 3378733383680.0000\tregression_loss 3378733383680.0000 \tbatch 16.0000\n"
     ]
    },
    {
     "name": "stderr",
     "output_type": "stream",
     "text": [
      "                                                       \n",
      "Epoch:  25%|██▌       | 25/100 [07:05<20:31, 16.42s/it]\n",
      "Test: 1it [00:06,  3.37s/it]\u001b[A\n",
      "Test: 2it [00:06,  3.37s/it]\u001b[A\n",
      "Epoch:  25%|██▌       | 25/100 [07:05<20:31, 16.42s/it]"
     ]
    },
    {
     "name": "stdout",
     "output_type": "stream",
     "text": [
      "{'total_loss': tensor(3.3787e+12, grad_fn=<AddBackward0>), 'regression_loss': tensor(3.3787e+12, grad_fn=<MseLossBackward0>)}\n",
      "data:\ttotal_loss 3378740461568.0000\tregression_loss 3378740461568.0000 \tbatch 16.0000\n",
      "epoch 25.00%\n"
     ]
    },
    {
     "name": "stderr",
     "output_type": "stream",
     "text": [
      "Epoch:  26%|██▌       | 26/100 [07:05<20:14, 16.41s/it]\n",
      "                                                       \n",
      "Epoch:  26%|██▌       | 26/100 [07:10<20:14, 16.41s/it]\n",
      "instances: 0it [00:04, ?it/s]\u001b[A\n",
      "instances: 1it [00:04,  4.47s/it]\u001b[A"
     ]
    },
    {
     "name": "stdout",
     "output_type": "stream",
     "text": [
      "data:\ttotal_loss 3378744918016.0000\tregression_loss 3378744918016.0000 \tbatch 16.0000\n"
     ]
    },
    {
     "name": "stderr",
     "output_type": "stream",
     "text": [
      "                                                       \n",
      "Epoch:  26%|██▌       | 26/100 [07:14<20:14, 16.41s/it]\n",
      "instances: 1it [00:08,  4.47s/it]\u001b[A\n",
      "instances: 2it [00:08,  4.45s/it]\u001b[A\n"
     ]
    },
    {
     "name": "stdout",
     "output_type": "stream",
     "text": [
      "data:\ttotal_loss 3378728140800.0000\tregression_loss 3378728140800.0000 \tbatch 16.0000\n"
     ]
    },
    {
     "name": "stderr",
     "output_type": "stream",
     "text": [
      "\n",
      "Test: 0it [00:00, ?it/s]\u001b[A\n",
      "                                                       \n",
      "Epoch:  26%|██▌       | 26/100 [07:18<20:14, 16.41s/it]\n",
      "Test: 1it [00:03,  3.35s/it]\u001b[A"
     ]
    },
    {
     "name": "stdout",
     "output_type": "stream",
     "text": [
      "{'total_loss': tensor(3.3787e+12, grad_fn=<AddBackward0>), 'regression_loss': tensor(3.3787e+12, grad_fn=<MseLossBackward0>)}\n",
      "data:\ttotal_loss 3378742820864.0000\tregression_loss 3378742820864.0000 \tbatch 16.0000\n"
     ]
    },
    {
     "name": "stderr",
     "output_type": "stream",
     "text": [
      "\n",
      "                                                       \n",
      "Epoch:  26%|██▌       | 26/100 [07:21<20:14, 16.41s/it]\n",
      "Test: 2it [00:06,  3.37s/it]\u001b[A\n",
      "Epoch:  26%|██▌       | 26/100 [07:21<20:14, 16.41s/it]"
     ]
    },
    {
     "name": "stdout",
     "output_type": "stream",
     "text": [
      "{'total_loss': tensor(3.3787e+12, grad_fn=<AddBackward0>), 'regression_loss': tensor(3.3787e+12, grad_fn=<MseLossBackward0>)}\n",
      "data:\ttotal_loss 3378730762240.0000\tregression_loss 3378730762240.0000 \tbatch 16.0000\n",
      "epoch 26.00%\n"
     ]
    },
    {
     "name": "stderr",
     "output_type": "stream",
     "text": [
      "Epoch:  27%|██▋       | 27/100 [07:22<19:56, 16.38s/it]\n",
      "                                                       \n",
      "Epoch:  27%|██▋       | 27/100 [07:26<19:56, 16.38s/it]\n",
      "instances: 0it [00:04, ?it/s]\u001b[A\n",
      "instances: 1it [00:04,  4.55s/it]\u001b[A"
     ]
    },
    {
     "name": "stdout",
     "output_type": "stream",
     "text": [
      "data:\ttotal_loss 3378743607296.0000\tregression_loss 3378743607296.0000 \tbatch 16.0000\n"
     ]
    },
    {
     "name": "stderr",
     "output_type": "stream",
     "text": [
      "                                                       \n",
      "Epoch:  27%|██▋       | 27/100 [07:31<19:56, 16.38s/it]\n",
      "instances: 1it [00:08,  4.55s/it]\u001b[A\n",
      "instances: 2it [00:08,  4.48s/it]\u001b[A\n"
     ]
    },
    {
     "name": "stdout",
     "output_type": "stream",
     "text": [
      "data:\ttotal_loss 3378729189376.0000\tregression_loss 3378729189376.0000 \tbatch 16.0000\n"
     ]
    },
    {
     "name": "stderr",
     "output_type": "stream",
     "text": [
      "\n",
      "Test: 0it [00:00, ?it/s]\u001b[A\n",
      "                                                       \n",
      "Epoch:  27%|██▋       | 27/100 [07:34<19:56, 16.38s/it]\n",
      "Test: 1it [00:03,  3.37s/it]\u001b[A"
     ]
    },
    {
     "name": "stdout",
     "output_type": "stream",
     "text": [
      "{'total_loss': tensor(3.3787e+12, grad_fn=<AddBackward0>), 'regression_loss': tensor(3.3787e+12, grad_fn=<MseLossBackward0>)}\n",
      "data:\ttotal_loss 3378731024384.0000\tregression_loss 3378731024384.0000 \tbatch 16.0000\n"
     ]
    },
    {
     "name": "stderr",
     "output_type": "stream",
     "text": [
      "\n",
      "                                                       \n",
      "Epoch:  27%|██▋       | 27/100 [07:38<19:56, 16.38s/it]\n",
      "Test: 2it [00:06,  3.38s/it]\u001b[A\n",
      "Epoch:  27%|██▋       | 27/100 [07:38<19:56, 16.38s/it]"
     ]
    },
    {
     "name": "stdout",
     "output_type": "stream",
     "text": [
      "{'total_loss': tensor(3.3787e+12, grad_fn=<AddBackward0>), 'regression_loss': tensor(3.3787e+12, grad_fn=<MseLossBackward0>)}\n",
      "data:\ttotal_loss 3378741772288.0000\tregression_loss 3378741772288.0000 \tbatch 16.0000\n",
      "epoch 27.00%\n"
     ]
    },
    {
     "name": "stderr",
     "output_type": "stream",
     "text": [
      "Epoch:  28%|██▊       | 28/100 [07:38<19:40, 16.40s/it]\n",
      "instances: 0it [00:00, ?it/s]\u001b[A\n",
      "                                                       \n",
      "Epoch:  28%|██▊       | 28/100 [07:43<19:40, 16.40s/it]\n",
      "instances: 1it [00:04,  4.52s/it]\u001b[A"
     ]
    },
    {
     "name": "stdout",
     "output_type": "stream",
     "text": [
      "data:\ttotal_loss 3378742820864.0000\tregression_loss 3378742820864.0000 \tbatch 16.0000\n"
     ]
    },
    {
     "name": "stderr",
     "output_type": "stream",
     "text": [
      "\n",
      "                                                       \n",
      "Epoch:  28%|██▊       | 28/100 [07:47<19:40, 16.40s/it]\n",
      "instances: 2it [00:09,  4.51s/it]\u001b[A\n"
     ]
    },
    {
     "name": "stdout",
     "output_type": "stream",
     "text": [
      "data:\ttotal_loss 3378730237952.0000\tregression_loss 3378730237952.0000 \tbatch 16.0000\n"
     ]
    },
    {
     "name": "stderr",
     "output_type": "stream",
     "text": [
      "\n",
      "Test: 0it [00:00, ?it/s]\u001b[A\n",
      "                                                       \n",
      "Epoch:  28%|██▊       | 28/100 [07:51<19:40, 16.40s/it]\n",
      "Test: 1it [00:03,  3.38s/it]\u001b[A"
     ]
    },
    {
     "name": "stdout",
     "output_type": "stream",
     "text": [
      "{'total_loss': tensor(3.3787e+12, grad_fn=<AddBackward0>), 'regression_loss': tensor(3.3787e+12, grad_fn=<MseLossBackward0>)}\n",
      "data:\ttotal_loss 3378740723712.0000\tregression_loss 3378740723712.0000 \tbatch 16.0000\n"
     ]
    },
    {
     "name": "stderr",
     "output_type": "stream",
     "text": [
      "\n",
      "                                                       \n",
      "Epoch:  28%|██▊       | 28/100 [07:54<19:40, 16.40s/it]\n",
      "Test: 2it [00:06,  3.40s/it]\u001b[A\n",
      "Epoch:  28%|██▊       | 28/100 [07:54<19:40, 16.40s/it]"
     ]
    },
    {
     "name": "stdout",
     "output_type": "stream",
     "text": [
      "{'total_loss': tensor(3.3787e+12, grad_fn=<AddBackward0>), 'regression_loss': tensor(3.3787e+12, grad_fn=<MseLossBackward0>)}\n",
      "data:\ttotal_loss 3378732335104.0000\tregression_loss 3378732335104.0000 \tbatch 16.0000\n",
      "epoch 28.00%\n"
     ]
    },
    {
     "name": "stderr",
     "output_type": "stream",
     "text": [
      "Epoch:  29%|██▉       | 29/100 [07:55<19:26, 16.43s/it]\n",
      "instances: 0it [00:00, ?it/s]\u001b[A\n",
      "                                                       \n",
      "Epoch:  29%|██▉       | 29/100 [07:59<19:26, 16.43s/it]\n",
      "instances: 1it [00:04,  4.50s/it]\u001b[A"
     ]
    },
    {
     "name": "stdout",
     "output_type": "stream",
     "text": [
      "data:\ttotal_loss 3378740461568.0000\tregression_loss 3378740461568.0000 \tbatch 16.0000\n"
     ]
    },
    {
     "name": "stderr",
     "output_type": "stream",
     "text": [
      "\n",
      "                                                       \n",
      "Epoch:  29%|██▉       | 29/100 [08:04<19:26, 16.43s/it]\n",
      "instances: 2it [00:08,  4.45s/it]\u001b[A\n"
     ]
    },
    {
     "name": "stdout",
     "output_type": "stream",
     "text": [
      "data:\ttotal_loss 3378732859392.0000\tregression_loss 3378732859392.0000 \tbatch 16.0000\n"
     ]
    },
    {
     "name": "stderr",
     "output_type": "stream",
     "text": [
      "\n",
      "Test: 0it [00:00, ?it/s]\u001b[A\n",
      "                                                       \n",
      "Epoch:  29%|██▉       | 29/100 [08:07<19:26, 16.43s/it]\n",
      "Test: 1it [00:03,  3.33s/it]\u001b[A"
     ]
    },
    {
     "name": "stdout",
     "output_type": "stream",
     "text": [
      "{'total_loss': tensor(3.3788e+12, grad_fn=<AddBackward0>), 'regression_loss': tensor(3.3788e+12, grad_fn=<MseLossBackward0>)}\n",
      "data:\ttotal_loss 3378754093056.0000\tregression_loss 3378754093056.0000 \tbatch 16.0000\n"
     ]
    },
    {
     "name": "stderr",
     "output_type": "stream",
     "text": [
      "\n",
      "                                                       \n",
      "Epoch:  29%|██▉       | 29/100 [08:10<19:26, 16.43s/it]\n",
      "Test: 2it [00:06,  3.36s/it]\u001b[A\n",
      "Epoch:  29%|██▉       | 29/100 [08:10<19:26, 16.43s/it]"
     ]
    },
    {
     "name": "stdout",
     "output_type": "stream",
     "text": [
      "{'total_loss': tensor(3.3787e+12, grad_fn=<AddBackward0>), 'regression_loss': tensor(3.3787e+12, grad_fn=<MseLossBackward0>)}\n",
      "data:\ttotal_loss 3378719227904.0000\tregression_loss 3378719227904.0000 \tbatch 16.0000\n",
      "epoch 29.00%\n"
     ]
    },
    {
     "name": "stderr",
     "output_type": "stream",
     "text": [
      "Epoch:  30%|███       | 30/100 [08:11<19:07, 16.40s/it]\n",
      "instances: 0it [00:00, ?it/s]\u001b[A\n",
      "                                                       \n",
      "Epoch:  30%|███       | 30/100 [08:16<19:07, 16.40s/it]\n",
      "instances: 1it [00:04,  4.48s/it]\u001b[A"
     ]
    },
    {
     "name": "stdout",
     "output_type": "stream",
     "text": [
      "data:\ttotal_loss 3378735480832.0000\tregression_loss 3378735480832.0000 \tbatch 16.0000\n"
     ]
    },
    {
     "name": "stderr",
     "output_type": "stream",
     "text": [
      "\n",
      "                                                       \n",
      "Epoch:  30%|███       | 30/100 [08:20<19:07, 16.40s/it]\n",
      "instances: 2it [00:08,  4.44s/it]\u001b[A\n"
     ]
    },
    {
     "name": "stdout",
     "output_type": "stream",
     "text": [
      "data:\ttotal_loss 3378737577984.0000\tregression_loss 3378737577984.0000 \tbatch 16.0000\n"
     ]
    },
    {
     "name": "stderr",
     "output_type": "stream",
     "text": [
      "\n",
      "                                                       \n",
      "Epoch:  30%|███       | 30/100 [08:23<19:07, 16.40s/it]\n",
      "Test: 0it [00:03, ?it/s]\u001b[A\n",
      "Test: 1it [00:03,  3.36s/it]\u001b[A"
     ]
    },
    {
     "name": "stdout",
     "output_type": "stream",
     "text": [
      "{'total_loss': tensor(3.3787e+12, grad_fn=<AddBackward0>), 'regression_loss': tensor(3.3787e+12, grad_fn=<MseLossBackward0>)}\n",
      "data:\ttotal_loss 3378745966592.0000\tregression_loss 3378745966592.0000 \tbatch 16.0000\n"
     ]
    },
    {
     "name": "stderr",
     "output_type": "stream",
     "text": [
      "                                                       \n",
      "Epoch:  30%|███       | 30/100 [08:27<19:07, 16.40s/it]\n",
      "Test: 1it [00:06,  3.36s/it]\u001b[A\n",
      "Test: 2it [00:06,  3.38s/it]\u001b[A\n",
      "Epoch:  30%|███       | 30/100 [08:27<19:07, 16.40s/it]"
     ]
    },
    {
     "name": "stdout",
     "output_type": "stream",
     "text": [
      "{'total_loss': tensor(3.3787e+12, grad_fn=<AddBackward0>), 'regression_loss': tensor(3.3787e+12, grad_fn=<MseLossBackward0>)}\n",
      "data:\ttotal_loss 3378727092224.0000\tregression_loss 3378727092224.0000 \tbatch 16.0000\n",
      "epoch 30.00%\n"
     ]
    },
    {
     "name": "stderr",
     "output_type": "stream",
     "text": [
      "Epoch:  31%|███       | 31/100 [08:27<18:49, 16.37s/it]\n",
      "instances: 0it [00:00, ?it/s]\u001b[A\n",
      "                                                       \n",
      "Epoch:  31%|███       | 31/100 [08:32<18:49, 16.37s/it]\n",
      "instances: 1it [00:04,  4.47s/it]\u001b[A"
     ]
    },
    {
     "name": "stdout",
     "output_type": "stream",
     "text": [
      "data:\ttotal_loss 3378737053696.0000\tregression_loss 3378737053696.0000 \tbatch 16.0000\n"
     ]
    },
    {
     "name": "stderr",
     "output_type": "stream",
     "text": [
      "\n",
      "                                                       \n",
      "Epoch:  31%|███       | 31/100 [08:36<18:49, 16.37s/it]\n",
      "instances: 2it [00:08,  4.44s/it]\u001b[A\n"
     ]
    },
    {
     "name": "stdout",
     "output_type": "stream",
     "text": [
      "data:\ttotal_loss 3378736005120.0000\tregression_loss 3378736005120.0000 \tbatch 16.0000\n"
     ]
    },
    {
     "name": "stderr",
     "output_type": "stream",
     "text": [
      "\n",
      "Test: 0it [00:00, ?it/s]\u001b[A\n",
      "                                                       \n",
      "Epoch:  31%|███       | 31/100 [08:40<18:49, 16.37s/it]\n",
      "Test: 1it [00:03,  3.38s/it]\u001b[A"
     ]
    },
    {
     "name": "stdout",
     "output_type": "stream",
     "text": [
      "{'total_loss': tensor(3.3787e+12, grad_fn=<AddBackward0>), 'regression_loss': tensor(3.3787e+12, grad_fn=<MseLossBackward0>)}\n",
      "data:\ttotal_loss 3378736529408.0000\tregression_loss 3378736529408.0000 \tbatch 16.0000\n"
     ]
    },
    {
     "name": "stderr",
     "output_type": "stream",
     "text": [
      "\n",
      "                                                       \n",
      "Epoch:  31%|███       | 31/100 [08:43<18:49, 16.37s/it]\n",
      "Test: 2it [00:06,  3.39s/it]\u001b[A\n",
      "Epoch:  31%|███       | 31/100 [08:43<18:49, 16.37s/it]"
     ]
    },
    {
     "name": "stdout",
     "output_type": "stream",
     "text": [
      "{'total_loss': tensor(3.3787e+12, grad_fn=<AddBackward0>), 'regression_loss': tensor(3.3787e+12, grad_fn=<MseLossBackward0>)}\n",
      "data:\ttotal_loss 3378736267264.0000\tregression_loss 3378736267264.0000 \tbatch 16.0000\n",
      "epoch 31.00%\n"
     ]
    },
    {
     "name": "stderr",
     "output_type": "stream",
     "text": [
      "Epoch:  32%|███▏      | 32/100 [08:44<18:33, 16.37s/it]\n",
      "                                                       \n",
      "Epoch:  32%|███▏      | 32/100 [08:48<18:33, 16.37s/it]\n",
      "instances: 0it [00:04, ?it/s]\u001b[A\n",
      "instances: 1it [00:04,  4.52s/it]\u001b[A"
     ]
    },
    {
     "name": "stdout",
     "output_type": "stream",
     "text": [
      "data:\ttotal_loss 3378733121536.0000\tregression_loss 3378733121536.0000 \tbatch 16.0000\n"
     ]
    },
    {
     "name": "stderr",
     "output_type": "stream",
     "text": [
      "                                                       \n",
      "Epoch:  32%|███▏      | 32/100 [08:53<18:33, 16.37s/it]\n",
      "instances: 1it [00:08,  4.52s/it]\u001b[A\n",
      "instances: 2it [00:08,  4.49s/it]\u001b[A\n"
     ]
    },
    {
     "name": "stdout",
     "output_type": "stream",
     "text": [
      "data:\ttotal_loss 3378739675136.0000\tregression_loss 3378739675136.0000 \tbatch 16.0000\n"
     ]
    },
    {
     "name": "stderr",
     "output_type": "stream",
     "text": [
      "\n",
      "Test: 0it [00:00, ?it/s]\u001b[A\n",
      "                                                       \n",
      "Epoch:  32%|███▏      | 32/100 [08:56<18:33, 16.37s/it]\n",
      "Test: 1it [00:03,  3.36s/it]\u001b[A"
     ]
    },
    {
     "name": "stdout",
     "output_type": "stream",
     "text": [
      "{'total_loss': tensor(3.3787e+12, grad_fn=<AddBackward0>), 'regression_loss': tensor(3.3787e+12, grad_fn=<MseLossBackward0>)}\n",
      "data:\ttotal_loss 3378737053696.0000\tregression_loss 3378737053696.0000 \tbatch 16.0000\n"
     ]
    },
    {
     "name": "stderr",
     "output_type": "stream",
     "text": [
      "\n",
      "                                                       \n",
      "Epoch:  32%|███▏      | 32/100 [08:59<18:33, 16.37s/it]\n",
      "Test: 2it [00:06,  3.38s/it]\u001b[A\n",
      "Epoch:  32%|███▏      | 32/100 [08:59<18:33, 16.37s/it]"
     ]
    },
    {
     "name": "stdout",
     "output_type": "stream",
     "text": [
      "{'total_loss': tensor(3.3787e+12, grad_fn=<AddBackward0>), 'regression_loss': tensor(3.3787e+12, grad_fn=<MseLossBackward0>)}\n",
      "data:\ttotal_loss 3378736529408.0000\tregression_loss 3378736529408.0000 \tbatch 16.0000\n",
      "epoch 32.00%\n"
     ]
    },
    {
     "name": "stderr",
     "output_type": "stream",
     "text": [
      "Epoch:  33%|███▎      | 33/100 [09:00<18:15, 16.35s/it]\n",
      "instances: 0it [00:00, ?it/s]\u001b[A\n",
      "                                                       \n",
      "Epoch:  33%|███▎      | 33/100 [09:05<18:15, 16.35s/it]\n",
      "instances: 1it [00:04,  4.62s/it]\u001b[A"
     ]
    },
    {
     "name": "stdout",
     "output_type": "stream",
     "text": [
      "data:\ttotal_loss 3378739675136.0000\tregression_loss 3378739675136.0000 \tbatch 16.0000\n"
     ]
    },
    {
     "name": "stderr",
     "output_type": "stream",
     "text": [
      "\n",
      "                                                       \n",
      "Epoch:  33%|███▎      | 33/100 [09:09<18:15, 16.35s/it]\n",
      "instances: 2it [00:09,  4.53s/it]\u001b[A\n"
     ]
    },
    {
     "name": "stdout",
     "output_type": "stream",
     "text": [
      "data:\ttotal_loss 3378733383680.0000\tregression_loss 3378733383680.0000 \tbatch 16.0000\n"
     ]
    },
    {
     "name": "stderr",
     "output_type": "stream",
     "text": [
      "\n",
      "                                                       \n",
      "Epoch:  33%|███▎      | 33/100 [09:13<18:15, 16.35s/it]\n",
      "Test: 0it [00:03, ?it/s]\u001b[A\n",
      "Test: 1it [00:03,  3.40s/it]\u001b[A"
     ]
    },
    {
     "name": "stdout",
     "output_type": "stream",
     "text": [
      "{'total_loss': tensor(3.3787e+12, grad_fn=<AddBackward0>), 'regression_loss': tensor(3.3787e+12, grad_fn=<MseLossBackward0>)}\n",
      "data:\ttotal_loss 3378726567936.0000\tregression_loss 3378726567936.0000 \tbatch 16.0000\n"
     ]
    },
    {
     "name": "stderr",
     "output_type": "stream",
     "text": [
      "                                                       \n",
      "Epoch:  33%|███▎      | 33/100 [09:16<18:15, 16.35s/it]\n",
      "Test: 1it [00:06,  3.40s/it]\u001b[A\n",
      "Test: 2it [00:06,  3.40s/it]\u001b[A\n",
      "Epoch:  33%|███▎      | 33/100 [09:16<18:15, 16.35s/it]"
     ]
    },
    {
     "name": "stdout",
     "output_type": "stream",
     "text": [
      "{'total_loss': tensor(3.3787e+12, grad_fn=<AddBackward0>), 'regression_loss': tensor(3.3787e+12, grad_fn=<MseLossBackward0>)}\n",
      "data:\ttotal_loss 3378746753024.0000\tregression_loss 3378746753024.0000 \tbatch 16.0000\n",
      "epoch 33.00%\n"
     ]
    },
    {
     "name": "stderr",
     "output_type": "stream",
     "text": [
      "Epoch:  34%|███▍      | 34/100 [09:17<18:03, 16.42s/it]\n",
      "                                                       \n",
      "Epoch:  34%|███▍      | 34/100 [09:21<18:03, 16.42s/it]\n",
      "instances: 0it [00:04, ?it/s]\u001b[A\n",
      "instances: 1it [00:04,  4.56s/it]\u001b[A"
     ]
    },
    {
     "name": "stdout",
     "output_type": "stream",
     "text": [
      "data:\ttotal_loss 3378733121536.0000\tregression_loss 3378733121536.0000 \tbatch 16.0000\n"
     ]
    },
    {
     "name": "stderr",
     "output_type": "stream",
     "text": [
      "                                                       \n",
      "Epoch:  34%|███▍      | 34/100 [09:26<18:03, 16.42s/it]\n",
      "instances: 1it [00:08,  4.56s/it]\u001b[A\n",
      "instances: 2it [00:08,  4.49s/it]\u001b[A\n"
     ]
    },
    {
     "name": "stdout",
     "output_type": "stream",
     "text": [
      "data:\ttotal_loss 3378740461568.0000\tregression_loss 3378740461568.0000 \tbatch 16.0000\n"
     ]
    },
    {
     "name": "stderr",
     "output_type": "stream",
     "text": [
      "\n",
      "Test: 0it [00:00, ?it/s]\u001b[A\n",
      "                                                       \n",
      "Epoch:  34%|███▍      | 34/100 [09:29<18:03, 16.42s/it]\n",
      "Test: 1it [00:03,  3.42s/it]\u001b[A"
     ]
    },
    {
     "name": "stdout",
     "output_type": "stream",
     "text": [
      "{'total_loss': tensor(3.3787e+12, grad_fn=<AddBackward0>), 'regression_loss': tensor(3.3787e+12, grad_fn=<MseLossBackward0>)}\n",
      "data:\ttotal_loss 3378745966592.0000\tregression_loss 3378745966592.0000 \tbatch 16.0000\n"
     ]
    },
    {
     "name": "stderr",
     "output_type": "stream",
     "text": [
      "\n",
      "                                                       \n",
      "Epoch:  34%|███▍      | 34/100 [09:32<18:03, 16.42s/it]\n",
      "Test: 2it [00:06,  3.42s/it]\u001b[A\n",
      "Epoch:  34%|███▍      | 34/100 [09:32<18:03, 16.42s/it]"
     ]
    },
    {
     "name": "stdout",
     "output_type": "stream",
     "text": [
      "{'total_loss': tensor(3.3787e+12, grad_fn=<AddBackward0>), 'regression_loss': tensor(3.3787e+12, grad_fn=<MseLossBackward0>)}\n",
      "data:\ttotal_loss 3378727092224.0000\tregression_loss 3378727092224.0000 \tbatch 16.0000\n",
      "epoch 34.00%\n"
     ]
    },
    {
     "name": "stderr",
     "output_type": "stream",
     "text": [
      "Epoch:  35%|███▌      | 35/100 [09:33<17:49, 16.45s/it]\n",
      "                                                       \n",
      "Epoch:  35%|███▌      | 35/100 [09:38<17:49, 16.45s/it]\n",
      "instances: 0it [00:04, ?it/s]\u001b[A\n",
      "instances: 1it [00:04,  4.53s/it]\u001b[A"
     ]
    },
    {
     "name": "stdout",
     "output_type": "stream",
     "text": [
      "data:\ttotal_loss 3378732072960.0000\tregression_loss 3378732072960.0000 \tbatch 16.0000\n"
     ]
    },
    {
     "name": "stderr",
     "output_type": "stream",
     "text": [
      "                                                       \n",
      "Epoch:  35%|███▌      | 35/100 [09:42<17:49, 16.45s/it]\n",
      "instances: 1it [00:09,  4.53s/it]\u001b[A\n",
      "instances: 2it [00:09,  4.52s/it]\u001b[A\n"
     ]
    },
    {
     "name": "stdout",
     "output_type": "stream",
     "text": [
      "data:\ttotal_loss 3378740723712.0000\tregression_loss 3378740723712.0000 \tbatch 16.0000\n"
     ]
    },
    {
     "name": "stderr",
     "output_type": "stream",
     "text": [
      "\n",
      "                                                       \n",
      "Epoch:  35%|███▌      | 35/100 [09:46<17:49, 16.45s/it]\n",
      "Test: 0it [00:03, ?it/s]\u001b[A\n",
      "Test: 1it [00:03,  3.39s/it]\u001b[A"
     ]
    },
    {
     "name": "stdout",
     "output_type": "stream",
     "text": [
      "{'total_loss': tensor(3.3787e+12, grad_fn=<AddBackward0>), 'regression_loss': tensor(3.3787e+12, grad_fn=<MseLossBackward0>)}\n",
      "data:\ttotal_loss 3378733907968.0000\tregression_loss 3378733907968.0000 \tbatch 16.0000\n"
     ]
    },
    {
     "name": "stderr",
     "output_type": "stream",
     "text": [
      "                                                       \n",
      "Epoch:  35%|███▌      | 35/100 [09:49<17:49, 16.45s/it]\n",
      "Test: 1it [00:06,  3.39s/it]\u001b[A\n",
      "Test: 2it [00:06,  3.41s/it]\u001b[A\n",
      "Epoch:  35%|███▌      | 35/100 [09:49<17:49, 16.45s/it]"
     ]
    },
    {
     "name": "stdout",
     "output_type": "stream",
     "text": [
      "{'total_loss': tensor(3.3787e+12, grad_fn=<AddBackward0>), 'regression_loss': tensor(3.3787e+12, grad_fn=<MseLossBackward0>)}\n",
      "data:\ttotal_loss 3378739150848.0000\tregression_loss 3378739150848.0000 \tbatch 16.0000\n",
      "epoch 35.00%\n"
     ]
    },
    {
     "name": "stderr",
     "output_type": "stream",
     "text": [
      "Epoch:  36%|███▌      | 36/100 [09:50<17:35, 16.49s/it]\n",
      "instances: 0it [00:00, ?it/s]\u001b[A\n",
      "                                                       \n",
      "Epoch:  36%|███▌      | 36/100 [09:54<17:35, 16.49s/it]\n",
      "instances: 1it [00:04,  4.62s/it]\u001b[A"
     ]
    },
    {
     "name": "stdout",
     "output_type": "stream",
     "text": [
      "data:\ttotal_loss 3378735480832.0000\tregression_loss 3378735480832.0000 \tbatch 16.0000\n"
     ]
    },
    {
     "name": "stderr",
     "output_type": "stream",
     "text": [
      "\n",
      "                                                       \n",
      "Epoch:  36%|███▌      | 36/100 [09:59<17:35, 16.49s/it]\n",
      "instances: 2it [00:09,  4.55s/it]\u001b[A\n"
     ]
    },
    {
     "name": "stdout",
     "output_type": "stream",
     "text": [
      "data:\ttotal_loss 3378737577984.0000\tregression_loss 3378737577984.0000 \tbatch 16.0000\n"
     ]
    },
    {
     "name": "stderr",
     "output_type": "stream",
     "text": [
      "\n",
      "                                                       \n",
      "Epoch:  36%|███▌      | 36/100 [10:02<17:35, 16.49s/it]\n",
      "Test: 0it [00:03, ?it/s]\u001b[A\n",
      "Test: 1it [00:03,  3.43s/it]\u001b[A"
     ]
    },
    {
     "name": "stdout",
     "output_type": "stream",
     "text": [
      "{'total_loss': tensor(3.3787e+12, grad_fn=<AddBackward0>), 'regression_loss': tensor(3.3787e+12, grad_fn=<MseLossBackward0>)}\n",
      "data:\ttotal_loss 3378748850176.0000\tregression_loss 3378748850176.0000 \tbatch 16.0000\n"
     ]
    },
    {
     "name": "stderr",
     "output_type": "stream",
     "text": [
      "                                                       \n",
      "Epoch:  36%|███▌      | 36/100 [10:06<17:35, 16.49s/it]\n",
      "Test: 1it [00:06,  3.43s/it]\u001b[A\n",
      "Test: 2it [00:06,  3.44s/it]\u001b[A\n",
      "Epoch:  36%|███▌      | 36/100 [10:06<17:35, 16.49s/it]"
     ]
    },
    {
     "name": "stdout",
     "output_type": "stream",
     "text": [
      "{'total_loss': tensor(3.3787e+12, grad_fn=<AddBackward0>), 'regression_loss': tensor(3.3787e+12, grad_fn=<MseLossBackward0>)}\n",
      "data:\ttotal_loss 3378724470784.0000\tregression_loss 3378724470784.0000 \tbatch 16.0000\n",
      "epoch 36.00%\n"
     ]
    },
    {
     "name": "stderr",
     "output_type": "stream",
     "text": [
      "Epoch:  37%|███▋      | 37/100 [10:06<17:22, 16.55s/it]\n",
      "instances: 0it [00:00, ?it/s]\u001b[A\n",
      "                                                       \n",
      "Epoch:  37%|███▋      | 37/100 [10:11<17:22, 16.55s/it]\n",
      "instances: 1it [00:04,  4.75s/it]\u001b[A"
     ]
    },
    {
     "name": "stdout",
     "output_type": "stream",
     "text": [
      "data:\ttotal_loss 3378745966592.0000\tregression_loss 3378745966592.0000 \tbatch 16.0000\n"
     ]
    },
    {
     "name": "stderr",
     "output_type": "stream",
     "text": [
      "\n",
      "                                                       \n",
      "Epoch:  37%|███▋      | 37/100 [10:16<17:22, 16.55s/it]\n",
      "instances: 2it [00:09,  4.66s/it]\u001b[A\n"
     ]
    },
    {
     "name": "stdout",
     "output_type": "stream",
     "text": [
      "data:\ttotal_loss 3378727616512.0000\tregression_loss 3378727616512.0000 \tbatch 16.0000\n"
     ]
    },
    {
     "name": "stderr",
     "output_type": "stream",
     "text": [
      "\n",
      "Test: 0it [00:00, ?it/s]\u001b[A\n",
      "                                                       \n",
      "Epoch:  37%|███▋      | 37/100 [10:19<17:22, 16.55s/it]\n",
      "Test: 1it [00:03,  3.40s/it]\u001b[A"
     ]
    },
    {
     "name": "stdout",
     "output_type": "stream",
     "text": [
      "{'total_loss': tensor(3.3787e+12, grad_fn=<AddBackward0>), 'regression_loss': tensor(3.3787e+12, grad_fn=<MseLossBackward0>)}\n",
      "data:\ttotal_loss 3378732859392.0000\tregression_loss 3378732859392.0000 \tbatch 16.0000\n"
     ]
    },
    {
     "name": "stderr",
     "output_type": "stream",
     "text": [
      "\n",
      "                                                       \n",
      "Epoch:  37%|███▋      | 37/100 [10:23<17:22, 16.55s/it]\n",
      "Test: 2it [00:06,  3.40s/it]\u001b[A\n",
      "Epoch:  37%|███▋      | 37/100 [10:23<17:22, 16.55s/it]"
     ]
    },
    {
     "name": "stdout",
     "output_type": "stream",
     "text": [
      "{'total_loss': tensor(3.3787e+12, grad_fn=<AddBackward0>), 'regression_loss': tensor(3.3787e+12, grad_fn=<MseLossBackward0>)}\n",
      "data:\ttotal_loss 3378740461568.0000\tregression_loss 3378740461568.0000 \tbatch 16.0000\n",
      "epoch 37.00%\n"
     ]
    },
    {
     "name": "stderr",
     "output_type": "stream",
     "text": [
      "Epoch:  38%|███▊      | 38/100 [10:23<17:11, 16.64s/it]\n",
      "                                                       \n",
      "Epoch:  38%|███▊      | 38/100 [10:28<17:11, 16.64s/it]\n",
      "instances: 0it [00:04, ?it/s]\u001b[A\n",
      "instances: 1it [00:04,  4.46s/it]\u001b[A"
     ]
    },
    {
     "name": "stdout",
     "output_type": "stream",
     "text": [
      "data:\ttotal_loss 3378728927232.0000\tregression_loss 3378728927232.0000 \tbatch 16.0000\n"
     ]
    },
    {
     "name": "stderr",
     "output_type": "stream",
     "text": [
      "                                                       \n",
      "Epoch:  38%|███▊      | 38/100 [10:32<17:11, 16.64s/it]\n",
      "instances: 1it [00:09,  4.46s/it]\u001b[A\n",
      "instances: 2it [00:09,  4.52s/it]\u001b[A\n"
     ]
    },
    {
     "name": "stdout",
     "output_type": "stream",
     "text": [
      "data:\ttotal_loss 3378744655872.0000\tregression_loss 3378744655872.0000 \tbatch 16.0000\n"
     ]
    },
    {
     "name": "stderr",
     "output_type": "stream",
     "text": [
      "\n",
      "Test: 0it [00:00, ?it/s]\u001b[A\n",
      "                                                       \n",
      "Epoch:  38%|███▊      | 38/100 [10:36<17:11, 16.64s/it]\n",
      "Test: 1it [00:03,  3.37s/it]\u001b[A"
     ]
    },
    {
     "name": "stdout",
     "output_type": "stream",
     "text": [
      "{'total_loss': tensor(3.3787e+12, grad_fn=<AddBackward0>), 'regression_loss': tensor(3.3787e+12, grad_fn=<MseLossBackward0>)}\n",
      "data:\ttotal_loss 3378735480832.0000\tregression_loss 3378735480832.0000 \tbatch 16.0000\n"
     ]
    },
    {
     "name": "stderr",
     "output_type": "stream",
     "text": [
      "\n",
      "                                                       \n",
      "Epoch:  38%|███▊      | 38/100 [10:39<17:11, 16.64s/it]\n",
      "Test: 2it [00:06,  3.40s/it]\u001b[A\n",
      "Epoch:  38%|███▊      | 38/100 [10:39<17:11, 16.64s/it]"
     ]
    },
    {
     "name": "stdout",
     "output_type": "stream",
     "text": [
      "{'total_loss': tensor(3.3787e+12, grad_fn=<AddBackward0>), 'regression_loss': tensor(3.3787e+12, grad_fn=<MseLossBackward0>)}\n",
      "data:\ttotal_loss 3378737577984.0000\tregression_loss 3378737577984.0000 \tbatch 16.0000\n",
      "epoch 38.00%\n"
     ]
    },
    {
     "name": "stderr",
     "output_type": "stream",
     "text": [
      "Epoch:  39%|███▉      | 39/100 [10:40<16:53, 16.62s/it]\n",
      "instances: 0it [00:00, ?it/s]\u001b[A\n",
      "                                                       \n",
      "Epoch:  39%|███▉      | 39/100 [10:44<16:53, 16.62s/it]\n",
      "instances: 1it [00:04,  4.49s/it]\u001b[A"
     ]
    },
    {
     "name": "stdout",
     "output_type": "stream",
     "text": [
      "data:\ttotal_loss 3378739150848.0000\tregression_loss 3378739150848.0000 \tbatch 16.0000\n"
     ]
    },
    {
     "name": "stderr",
     "output_type": "stream",
     "text": [
      "\n",
      "                                                       \n",
      "Epoch:  39%|███▉      | 39/100 [10:49<16:53, 16.62s/it]\n",
      "instances: 2it [00:08,  4.45s/it]\u001b[A\n"
     ]
    },
    {
     "name": "stdout",
     "output_type": "stream",
     "text": [
      "data:\ttotal_loss 3378734170112.0000\tregression_loss 3378734170112.0000 \tbatch 16.0000\n"
     ]
    },
    {
     "name": "stderr",
     "output_type": "stream",
     "text": [
      "\n",
      "                                                       \n",
      "Epoch:  39%|███▉      | 39/100 [10:52<16:53, 16.62s/it]\n",
      "Test: 0it [00:03, ?it/s]\u001b[A\n",
      "Test: 1it [00:03,  3.41s/it]\u001b[A"
     ]
    },
    {
     "name": "stdout",
     "output_type": "stream",
     "text": [
      "{'total_loss': tensor(3.3787e+12, grad_fn=<AddBackward0>), 'regression_loss': tensor(3.3787e+12, grad_fn=<MseLossBackward0>)}\n",
      "data:\ttotal_loss 3378736267264.0000\tregression_loss 3378736267264.0000 \tbatch 16.0000\n"
     ]
    },
    {
     "name": "stderr",
     "output_type": "stream",
     "text": [
      "                                                       \n",
      "Epoch:  39%|███▉      | 39/100 [10:56<16:53, 16.62s/it]\n",
      "Test: 1it [00:06,  3.41s/it]\u001b[A\n",
      "Test: 2it [00:06,  3.41s/it]\u001b[A\n",
      "Epoch:  39%|███▉      | 39/100 [10:56<16:53, 16.62s/it]"
     ]
    },
    {
     "name": "stdout",
     "output_type": "stream",
     "text": [
      "{'total_loss': tensor(3.3787e+12, grad_fn=<AddBackward0>), 'regression_loss': tensor(3.3787e+12, grad_fn=<MseLossBackward0>)}\n",
      "data:\ttotal_loss 3378737053696.0000\tregression_loss 3378737053696.0000 \tbatch 16.0000\n",
      "epoch 39.00%\n"
     ]
    },
    {
     "name": "stderr",
     "output_type": "stream",
     "text": [
      "Epoch:  40%|████      | 40/100 [10:56<16:33, 16.56s/it]\n",
      "instances: 0it [00:00, ?it/s]\u001b[A\n",
      "                                                       \n",
      "Epoch:  40%|████      | 40/100 [11:01<16:33, 16.56s/it]\n",
      "instances: 1it [00:04,  4.49s/it]\u001b[A"
     ]
    },
    {
     "name": "stdout",
     "output_type": "stream",
     "text": [
      "data:\ttotal_loss 3378751733760.0000\tregression_loss 3378751733760.0000 \tbatch 16.0000\n"
     ]
    },
    {
     "name": "stderr",
     "output_type": "stream",
     "text": [
      "\n",
      "                                                       \n",
      "Epoch:  40%|████      | 40/100 [11:05<16:33, 16.56s/it]\n",
      "instances: 2it [00:08,  4.44s/it]\u001b[A\n"
     ]
    },
    {
     "name": "stdout",
     "output_type": "stream",
     "text": [
      "data:\ttotal_loss 3378721587200.0000\tregression_loss 3378721587200.0000 \tbatch 16.0000\n"
     ]
    },
    {
     "name": "stderr",
     "output_type": "stream",
     "text": [
      "\n",
      "                                                       \n",
      "Epoch:  40%|████      | 40/100 [11:09<16:33, 16.56s/it]\n",
      "Test: 0it [00:03, ?it/s]\u001b[A\n",
      "Test: 1it [00:03,  3.35s/it]\u001b[A"
     ]
    },
    {
     "name": "stdout",
     "output_type": "stream",
     "text": [
      "{'total_loss': tensor(3.3787e+12, grad_fn=<AddBackward0>), 'regression_loss': tensor(3.3787e+12, grad_fn=<MseLossBackward0>)}\n",
      "data:\ttotal_loss 3378737577984.0000\tregression_loss 3378737577984.0000 \tbatch 16.0000\n"
     ]
    },
    {
     "name": "stderr",
     "output_type": "stream",
     "text": [
      "                                                       \n",
      "Epoch:  40%|████      | 40/100 [11:12<16:33, 16.56s/it]\n",
      "Test: 1it [00:06,  3.35s/it]\u001b[A\n",
      "Test: 2it [00:06,  3.39s/it]\u001b[A\n",
      "Epoch:  40%|████      | 40/100 [11:12<16:33, 16.56s/it]"
     ]
    },
    {
     "name": "stdout",
     "output_type": "stream",
     "text": [
      "{'total_loss': tensor(3.3787e+12, grad_fn=<AddBackward0>), 'regression_loss': tensor(3.3787e+12, grad_fn=<MseLossBackward0>)}\n",
      "data:\ttotal_loss 3378735218688.0000\tregression_loss 3378735218688.0000 \tbatch 16.0000\n",
      "epoch 40.00%\n"
     ]
    },
    {
     "name": "stderr",
     "output_type": "stream",
     "text": [
      "Epoch:  41%|████      | 41/100 [11:13<16:13, 16.50s/it]\n",
      "                                                       \n",
      "Epoch:  41%|████      | 41/100 [11:17<16:13, 16.50s/it]\n",
      "instances: 0it [00:04, ?it/s]\u001b[A\n",
      "instances: 1it [00:04,  4.48s/it]\u001b[A"
     ]
    },
    {
     "name": "stdout",
     "output_type": "stream",
     "text": [
      "data:\ttotal_loss 3378733121536.0000\tregression_loss 3378733121536.0000 \tbatch 16.0000\n"
     ]
    },
    {
     "name": "stderr",
     "output_type": "stream",
     "text": [
      "                                                       \n",
      "Epoch:  41%|████      | 41/100 [11:22<16:13, 16.50s/it]\n",
      "instances: 1it [00:08,  4.48s/it]\u001b[A\n",
      "instances: 2it [00:08,  4.45s/it]\u001b[A\n"
     ]
    },
    {
     "name": "stdout",
     "output_type": "stream",
     "text": [
      "data:\ttotal_loss 3378739675136.0000\tregression_loss 3378739675136.0000 \tbatch 16.0000\n"
     ]
    },
    {
     "name": "stderr",
     "output_type": "stream",
     "text": [
      "\n",
      "                                                       \n",
      "Epoch:  41%|████      | 41/100 [11:25<16:13, 16.50s/it]\n",
      "Test: 0it [00:03, ?it/s]\u001b[A\n",
      "Test: 1it [00:03,  3.35s/it]\u001b[A"
     ]
    },
    {
     "name": "stdout",
     "output_type": "stream",
     "text": [
      "{'total_loss': tensor(3.3787e+12, grad_fn=<AddBackward0>), 'regression_loss': tensor(3.3787e+12, grad_fn=<MseLossBackward0>)}\n",
      "data:\ttotal_loss 3378734170112.0000\tregression_loss 3378734170112.0000 \tbatch 16.0000\n"
     ]
    },
    {
     "name": "stderr",
     "output_type": "stream",
     "text": [
      "                                                       \n",
      "Epoch:  41%|████      | 41/100 [11:28<16:13, 16.50s/it]\n",
      "Test: 1it [00:06,  3.35s/it]\u001b[A\n",
      "Test: 2it [00:06,  3.36s/it]\u001b[A\n",
      "Epoch:  41%|████      | 41/100 [11:28<16:13, 16.50s/it]"
     ]
    },
    {
     "name": "stdout",
     "output_type": "stream",
     "text": [
      "{'total_loss': tensor(3.3787e+12, grad_fn=<AddBackward0>), 'regression_loss': tensor(3.3787e+12, grad_fn=<MseLossBackward0>)}\n",
      "data:\ttotal_loss 3378739150848.0000\tregression_loss 3378739150848.0000 \tbatch 16.0000\n",
      "epoch 41.00%\n"
     ]
    },
    {
     "name": "stderr",
     "output_type": "stream",
     "text": [
      "Epoch:  42%|████▏     | 42/100 [11:29<15:54, 16.45s/it]\n",
      "                                                       \n",
      "Epoch:  42%|████▏     | 42/100 [11:33<15:54, 16.45s/it]\n",
      "instances: 0it [00:04, ?it/s]\u001b[A\n",
      "instances: 1it [00:04,  4.44s/it]\u001b[A"
     ]
    },
    {
     "name": "stdout",
     "output_type": "stream",
     "text": [
      "data:\ttotal_loss 3378733383680.0000\tregression_loss 3378733383680.0000 \tbatch 16.0000\n"
     ]
    },
    {
     "name": "stderr",
     "output_type": "stream",
     "text": [
      "                                                       \n",
      "Epoch:  42%|████▏     | 42/100 [11:38<15:54, 16.45s/it]\n",
      "instances: 1it [00:08,  4.44s/it]\u001b[A\n",
      "instances: 2it [00:08,  4.43s/it]\u001b[A\n"
     ]
    },
    {
     "name": "stdout",
     "output_type": "stream",
     "text": [
      "data:\ttotal_loss 3378739675136.0000\tregression_loss 3378739675136.0000 \tbatch 16.0000\n"
     ]
    },
    {
     "name": "stderr",
     "output_type": "stream",
     "text": [
      "\n",
      "Test: 0it [00:00, ?it/s]\u001b[A\n",
      "                                                       \n",
      "Epoch:  42%|████▏     | 42/100 [11:41<15:54, 16.45s/it]\n",
      "Test: 1it [00:03,  3.36s/it]\u001b[A"
     ]
    },
    {
     "name": "stdout",
     "output_type": "stream",
     "text": [
      "{'total_loss': tensor(3.3787e+12, grad_fn=<AddBackward0>), 'regression_loss': tensor(3.3787e+12, grad_fn=<MseLossBackward0>)}\n",
      "data:\ttotal_loss 3378734170112.0000\tregression_loss 3378734170112.0000 \tbatch 16.0000\n"
     ]
    },
    {
     "name": "stderr",
     "output_type": "stream",
     "text": [
      "\n",
      "                                                       \n",
      "Epoch:  42%|████▏     | 42/100 [11:45<15:54, 16.45s/it]\n",
      "Test: 2it [00:06,  3.38s/it]\u001b[A\n",
      "Epoch:  42%|████▏     | 42/100 [11:45<15:54, 16.45s/it]"
     ]
    },
    {
     "name": "stdout",
     "output_type": "stream",
     "text": [
      "{'total_loss': tensor(3.3787e+12, grad_fn=<AddBackward0>), 'regression_loss': tensor(3.3787e+12, grad_fn=<MseLossBackward0>)}\n",
      "data:\ttotal_loss 3378739150848.0000\tregression_loss 3378739150848.0000 \tbatch 16.0000\n",
      "epoch 42.00%\n"
     ]
    },
    {
     "name": "stderr",
     "output_type": "stream",
     "text": [
      "Epoch:  43%|████▎     | 43/100 [11:45<15:35, 16.42s/it]\n",
      "                                                       \n",
      "Epoch:  43%|████▎     | 43/100 [11:50<15:35, 16.42s/it]\n",
      "instances: 0it [00:04, ?it/s]\u001b[A\n",
      "instances: 1it [00:04,  4.49s/it]\u001b[A"
     ]
    },
    {
     "name": "stdout",
     "output_type": "stream",
     "text": [
      "data:\ttotal_loss 3378737577984.0000\tregression_loss 3378737577984.0000 \tbatch 16.0000\n"
     ]
    },
    {
     "name": "stderr",
     "output_type": "stream",
     "text": [
      "                                                       \n",
      "Epoch:  43%|████▎     | 43/100 [11:54<15:35, 16.42s/it]\n",
      "instances: 1it [00:08,  4.49s/it]\u001b[A\n",
      "instances: 2it [00:08,  4.47s/it]\u001b[A\n"
     ]
    },
    {
     "name": "stdout",
     "output_type": "stream",
     "text": [
      "data:\ttotal_loss 3378735480832.0000\tregression_loss 3378735480832.0000 \tbatch 16.0000\n"
     ]
    },
    {
     "name": "stderr",
     "output_type": "stream",
     "text": [
      "\n",
      "                                                       \n",
      "Epoch:  43%|████▎     | 43/100 [11:58<15:35, 16.42s/it]\n",
      "Test: 0it [00:03, ?it/s]\u001b[A\n",
      "Test: 1it [00:03,  3.37s/it]\u001b[A"
     ]
    },
    {
     "name": "stdout",
     "output_type": "stream",
     "text": [
      "{'total_loss': tensor(3.3787e+12, grad_fn=<AddBackward0>), 'regression_loss': tensor(3.3787e+12, grad_fn=<MseLossBackward0>)}\n",
      "data:\ttotal_loss 3378742558720.0000\tregression_loss 3378742558720.0000 \tbatch 16.0000\n"
     ]
    },
    {
     "name": "stderr",
     "output_type": "stream",
     "text": [
      "                                                       \n",
      "Epoch:  43%|████▎     | 43/100 [12:01<15:35, 16.42s/it]\n",
      "Test: 1it [00:06,  3.37s/it]\u001b[A\n",
      "Test: 2it [00:06,  3.38s/it]\u001b[A\n",
      "Epoch:  43%|████▎     | 43/100 [12:01<15:35, 16.42s/it]"
     ]
    },
    {
     "name": "stdout",
     "output_type": "stream",
     "text": [
      "{'total_loss': tensor(3.3787e+12, grad_fn=<AddBackward0>), 'regression_loss': tensor(3.3787e+12, grad_fn=<MseLossBackward0>)}\n",
      "data:\ttotal_loss 3378731024384.0000\tregression_loss 3378731024384.0000 \tbatch 16.0000\n",
      "epoch 43.00%\n"
     ]
    },
    {
     "name": "stderr",
     "output_type": "stream",
     "text": [
      "Epoch:  44%|████▍     | 44/100 [12:02<15:19, 16.43s/it]\n",
      "instances: 0it [00:00, ?it/s]\u001b[A\n",
      "                                                       \n",
      "Epoch:  44%|████▍     | 44/100 [12:06<15:19, 16.43s/it]\n",
      "instances: 1it [00:04,  4.48s/it]\u001b[A"
     ]
    },
    {
     "name": "stdout",
     "output_type": "stream",
     "text": [
      "data:\ttotal_loss 3378736267264.0000\tregression_loss 3378736267264.0000 \tbatch 16.0000\n"
     ]
    },
    {
     "name": "stderr",
     "output_type": "stream",
     "text": [
      "\n",
      "                                                       \n",
      "Epoch:  44%|████▍     | 44/100 [12:11<15:19, 16.43s/it]\n",
      "instances: 2it [00:08,  4.44s/it]\u001b[A\n"
     ]
    },
    {
     "name": "stdout",
     "output_type": "stream",
     "text": [
      "data:\ttotal_loss 3378737053696.0000\tregression_loss 3378737053696.0000 \tbatch 16.0000\n"
     ]
    },
    {
     "name": "stderr",
     "output_type": "stream",
     "text": [
      "\n",
      "                                                       \n",
      "Epoch:  44%|████▍     | 44/100 [12:14<15:19, 16.43s/it]\n",
      "Test: 0it [00:03, ?it/s]\u001b[A\n",
      "Test: 1it [00:03,  3.42s/it]\u001b[A"
     ]
    },
    {
     "name": "stdout",
     "output_type": "stream",
     "text": [
      "{'total_loss': tensor(3.3787e+12, grad_fn=<AddBackward0>), 'regression_loss': tensor(3.3787e+12, grad_fn=<MseLossBackward0>)}\n",
      "data:\ttotal_loss 3378735480832.0000\tregression_loss 3378735480832.0000 \tbatch 16.0000\n"
     ]
    },
    {
     "name": "stderr",
     "output_type": "stream",
     "text": [
      "                                                       \n",
      "Epoch:  44%|████▍     | 44/100 [12:17<15:19, 16.43s/it]\n",
      "Test: 1it [00:06,  3.42s/it]\u001b[A\n",
      "Test: 2it [00:06,  3.40s/it]\u001b[A\n",
      "Epoch:  44%|████▍     | 44/100 [12:17<15:19, 16.43s/it]"
     ]
    },
    {
     "name": "stdout",
     "output_type": "stream",
     "text": [
      "{'total_loss': tensor(3.3787e+12, grad_fn=<AddBackward0>), 'regression_loss': tensor(3.3787e+12, grad_fn=<MseLossBackward0>)}\n",
      "data:\ttotal_loss 3378737315840.0000\tregression_loss 3378737315840.0000 \tbatch 16.0000\n",
      "epoch 44.00%\n"
     ]
    },
    {
     "name": "stderr",
     "output_type": "stream",
     "text": [
      "Epoch:  45%|████▌     | 45/100 [12:18<15:03, 16.42s/it]\n",
      "instances: 0it [00:00, ?it/s]\u001b[A\n",
      "                                                       \n",
      "Epoch:  45%|████▌     | 45/100 [12:23<15:03, 16.42s/it]\n",
      "instances: 1it [00:04,  4.44s/it]\u001b[A"
     ]
    },
    {
     "name": "stdout",
     "output_type": "stream",
     "text": [
      "data:\ttotal_loss 3378725519360.0000\tregression_loss 3378725519360.0000 \tbatch 16.0000\n"
     ]
    },
    {
     "name": "stderr",
     "output_type": "stream",
     "text": [
      "\n",
      "                                                       \n",
      "Epoch:  45%|████▌     | 45/100 [12:27<15:03, 16.42s/it]\n",
      "instances: 2it [00:08,  4.43s/it]\u001b[A\n"
     ]
    },
    {
     "name": "stdout",
     "output_type": "stream",
     "text": [
      "data:\ttotal_loss 3378747801600.0000\tregression_loss 3378747801600.0000 \tbatch 16.0000\n"
     ]
    },
    {
     "name": "stderr",
     "output_type": "stream",
     "text": [
      "\n",
      "Test: 0it [00:00, ?it/s]\u001b[A\n",
      "                                                       \n",
      "Epoch:  45%|████▌     | 45/100 [12:30<15:03, 16.42s/it]\n",
      "Test: 1it [00:03,  3.37s/it]\u001b[A"
     ]
    },
    {
     "name": "stdout",
     "output_type": "stream",
     "text": [
      "{'total_loss': tensor(3.3787e+12, grad_fn=<AddBackward0>), 'regression_loss': tensor(3.3787e+12, grad_fn=<MseLossBackward0>)}\n",
      "data:\ttotal_loss 3378742296576.0000\tregression_loss 3378742296576.0000 \tbatch 16.0000\n"
     ]
    },
    {
     "name": "stderr",
     "output_type": "stream",
     "text": [
      "\n",
      "                                                       \n",
      "Epoch:  45%|████▌     | 45/100 [12:34<15:03, 16.42s/it]\n",
      "Test: 2it [00:06,  3.37s/it]\u001b[A\n",
      "Epoch:  45%|████▌     | 45/100 [12:34<15:03, 16.42s/it]"
     ]
    },
    {
     "name": "stdout",
     "output_type": "stream",
     "text": [
      "{'total_loss': tensor(3.3787e+12, grad_fn=<AddBackward0>), 'regression_loss': tensor(3.3787e+12, grad_fn=<MseLossBackward0>)}\n",
      "data:\ttotal_loss 3378731024384.0000\tregression_loss 3378731024384.0000 \tbatch 16.0000\n",
      "epoch 45.00%\n"
     ]
    },
    {
     "name": "stderr",
     "output_type": "stream",
     "text": [
      "Epoch:  46%|████▌     | 46/100 [12:34<14:44, 16.39s/it]\n",
      "                                                       \n",
      "Epoch:  46%|████▌     | 46/100 [12:39<14:44, 16.39s/it]\n",
      "instances: 0it [00:04, ?it/s]\u001b[A\n",
      "instances: 1it [00:04,  4.48s/it]\u001b[A"
     ]
    },
    {
     "name": "stdout",
     "output_type": "stream",
     "text": [
      "data:\ttotal_loss 3378734956544.0000\tregression_loss 3378734956544.0000 \tbatch 16.0000\n"
     ]
    },
    {
     "name": "stderr",
     "output_type": "stream",
     "text": [
      "                                                       \n",
      "Epoch:  46%|████▌     | 46/100 [12:43<14:44, 16.39s/it]\n",
      "instances: 1it [00:08,  4.48s/it]\u001b[A\n",
      "instances: 2it [00:08,  4.45s/it]\u001b[A\n"
     ]
    },
    {
     "name": "stdout",
     "output_type": "stream",
     "text": [
      "data:\ttotal_loss 3378738102272.0000\tregression_loss 3378738102272.0000 \tbatch 16.0000\n"
     ]
    },
    {
     "name": "stderr",
     "output_type": "stream",
     "text": [
      "\n",
      "                                                       \n",
      "Epoch:  46%|████▌     | 46/100 [12:47<14:44, 16.39s/it]\n",
      "Test: 0it [00:03, ?it/s]\u001b[A\n",
      "Test: 1it [00:03,  3.39s/it]\u001b[A"
     ]
    },
    {
     "name": "stdout",
     "output_type": "stream",
     "text": [
      "{'total_loss': tensor(3.3787e+12, grad_fn=<AddBackward0>), 'regression_loss': tensor(3.3787e+12, grad_fn=<MseLossBackward0>)}\n",
      "data:\ttotal_loss 3378732072960.0000\tregression_loss 3378732072960.0000 \tbatch 16.0000\n"
     ]
    },
    {
     "name": "stderr",
     "output_type": "stream",
     "text": [
      "                                                       \n",
      "Epoch:  46%|████▌     | 46/100 [12:50<14:44, 16.39s/it]\n",
      "Test: 1it [00:06,  3.39s/it]\u001b[A\n",
      "Test: 2it [00:06,  3.40s/it]\u001b[A\n",
      "Epoch:  46%|████▌     | 46/100 [12:50<14:44, 16.39s/it]"
     ]
    },
    {
     "name": "stdout",
     "output_type": "stream",
     "text": [
      "{'total_loss': tensor(3.3787e+12, grad_fn=<AddBackward0>), 'regression_loss': tensor(3.3787e+12, grad_fn=<MseLossBackward0>)}\n",
      "data:\ttotal_loss 3378741248000.0000\tregression_loss 3378741248000.0000 \tbatch 16.0000\n",
      "epoch 46.00%\n"
     ]
    },
    {
     "name": "stderr",
     "output_type": "stream",
     "text": [
      "Epoch:  47%|████▋     | 47/100 [12:51<14:29, 16.40s/it]\n",
      "instances: 0it [00:00, ?it/s]\u001b[A\n",
      "                                                       \n",
      "Epoch:  47%|████▋     | 47/100 [12:55<14:29, 16.40s/it]\n",
      "instances: 1it [00:04,  4.59s/it]\u001b[A"
     ]
    },
    {
     "name": "stdout",
     "output_type": "stream",
     "text": [
      "data:\ttotal_loss 3378737577984.0000\tregression_loss 3378737577984.0000 \tbatch 16.0000\n"
     ]
    },
    {
     "name": "stderr",
     "output_type": "stream",
     "text": [
      "\n",
      "                                                       \n",
      "Epoch:  47%|████▋     | 47/100 [13:00<14:29, 16.40s/it]\n",
      "instances: 2it [00:08,  4.49s/it]\u001b[A\n"
     ]
    },
    {
     "name": "stdout",
     "output_type": "stream",
     "text": [
      "data:\ttotal_loss 3378735480832.0000\tregression_loss 3378735480832.0000 \tbatch 16.0000\n"
     ]
    },
    {
     "name": "stderr",
     "output_type": "stream",
     "text": [
      "\n",
      "Test: 0it [00:00, ?it/s]\u001b[A\n",
      "                                                       \n",
      "Epoch:  47%|████▋     | 47/100 [13:03<14:29, 16.40s/it]\n",
      "Test: 1it [00:03,  3.40s/it]\u001b[A"
     ]
    },
    {
     "name": "stdout",
     "output_type": "stream",
     "text": [
      "{'total_loss': tensor(3.3787e+12, grad_fn=<AddBackward0>), 'regression_loss': tensor(3.3787e+12, grad_fn=<MseLossBackward0>)}\n",
      "data:\ttotal_loss 3378739675136.0000\tregression_loss 3378739675136.0000 \tbatch 16.0000\n"
     ]
    },
    {
     "name": "stderr",
     "output_type": "stream",
     "text": [
      "\n",
      "                                                       \n",
      "Epoch:  47%|████▋     | 47/100 [13:07<14:29, 16.40s/it]\n",
      "Test: 2it [00:06,  3.40s/it]\u001b[A\n",
      "Epoch:  47%|████▋     | 47/100 [13:07<14:29, 16.40s/it]"
     ]
    },
    {
     "name": "stdout",
     "output_type": "stream",
     "text": [
      "{'total_loss': tensor(3.3787e+12, grad_fn=<AddBackward0>), 'regression_loss': tensor(3.3787e+12, grad_fn=<MseLossBackward0>)}\n",
      "data:\ttotal_loss 3378733383680.0000\tregression_loss 3378733383680.0000 \tbatch 16.0000\n",
      "epoch 47.00%\n"
     ]
    },
    {
     "name": "stderr",
     "output_type": "stream",
     "text": [
      "Epoch:  48%|████▊     | 48/100 [13:07<14:14, 16.43s/it]\n",
      "                                                       \n",
      "Epoch:  48%|████▊     | 48/100 [13:12<14:14, 16.43s/it]\n",
      "instances: 0it [00:04, ?it/s]\u001b[A\n",
      "instances: 1it [00:04,  4.47s/it]\u001b[A"
     ]
    },
    {
     "name": "stdout",
     "output_type": "stream",
     "text": [
      "data:\ttotal_loss 3378729189376.0000\tregression_loss 3378729189376.0000 \tbatch 16.0000\n"
     ]
    },
    {
     "name": "stderr",
     "output_type": "stream",
     "text": [
      "                                                       \n",
      "Epoch:  48%|████▊     | 48/100 [13:16<14:14, 16.43s/it]\n",
      "instances: 1it [00:08,  4.47s/it]\u001b[A\n",
      "instances: 2it [00:08,  4.47s/it]\u001b[A\n"
     ]
    },
    {
     "name": "stdout",
     "output_type": "stream",
     "text": [
      "data:\ttotal_loss 3378743869440.0000\tregression_loss 3378743869440.0000 \tbatch 16.0000\n"
     ]
    },
    {
     "name": "stderr",
     "output_type": "stream",
     "text": [
      "\n",
      "                                                       \n",
      "Epoch:  48%|████▊     | 48/100 [13:20<14:14, 16.43s/it]\n",
      "Test: 0it [00:03, ?it/s]\u001b[A\n",
      "Test: 1it [00:03,  3.35s/it]\u001b[A"
     ]
    },
    {
     "name": "stdout",
     "output_type": "stream",
     "text": [
      "{'total_loss': tensor(3.3787e+12, grad_fn=<AddBackward0>), 'regression_loss': tensor(3.3787e+12, grad_fn=<MseLossBackward0>)}\n",
      "data:\ttotal_loss 3378739150848.0000\tregression_loss 3378739150848.0000 \tbatch 16.0000\n"
     ]
    },
    {
     "name": "stderr",
     "output_type": "stream",
     "text": [
      "                                                       \n",
      "Epoch:  48%|████▊     | 48/100 [13:23<14:14, 16.43s/it]\n",
      "Test: 1it [00:06,  3.35s/it]\u001b[A\n",
      "Test: 2it [00:06,  3.38s/it]\u001b[A\n",
      "Epoch:  48%|████▊     | 48/100 [13:23<14:14, 16.43s/it]"
     ]
    },
    {
     "name": "stdout",
     "output_type": "stream",
     "text": [
      "{'total_loss': tensor(3.3787e+12, grad_fn=<AddBackward0>), 'regression_loss': tensor(3.3787e+12, grad_fn=<MseLossBackward0>)}\n",
      "data:\ttotal_loss 3378734170112.0000\tregression_loss 3378734170112.0000 \tbatch 16.0000\n",
      "epoch 48.00%\n"
     ]
    },
    {
     "name": "stderr",
     "output_type": "stream",
     "text": [
      "Epoch:  49%|████▉     | 49/100 [13:24<13:57, 16.43s/it]\n",
      "                                                       \n",
      "Epoch:  49%|████▉     | 49/100 [13:28<13:57, 16.43s/it]\n",
      "instances: 0it [00:04, ?it/s]\u001b[A\n",
      "instances: 1it [00:04,  4.51s/it]\u001b[A"
     ]
    },
    {
     "name": "stdout",
     "output_type": "stream",
     "text": [
      "data:\ttotal_loss 3378744918016.0000\tregression_loss 3378744918016.0000 \tbatch 16.0000\n"
     ]
    },
    {
     "name": "stderr",
     "output_type": "stream",
     "text": [
      "                                                       \n",
      "Epoch:  49%|████▉     | 49/100 [13:33<13:57, 16.43s/it]\n",
      "instances: 1it [00:08,  4.51s/it]\u001b[A\n",
      "instances: 2it [00:08,  4.46s/it]\u001b[A\n"
     ]
    },
    {
     "name": "stdout",
     "output_type": "stream",
     "text": [
      "data:\ttotal_loss 3378728140800.0000\tregression_loss 3378728140800.0000 \tbatch 16.0000\n"
     ]
    },
    {
     "name": "stderr",
     "output_type": "stream",
     "text": [
      "\n",
      "                                                       \n",
      "Epoch:  49%|████▉     | 49/100 [13:36<13:57, 16.43s/it]\n",
      "Test: 0it [00:03, ?it/s]\u001b[A\n",
      "Test: 1it [00:03,  3.35s/it]\u001b[A"
     ]
    },
    {
     "name": "stdout",
     "output_type": "stream",
     "text": [
      "{'total_loss': tensor(3.3787e+12, grad_fn=<AddBackward0>), 'regression_loss': tensor(3.3787e+12, grad_fn=<MseLossBackward0>)}\n",
      "data:\ttotal_loss 3378742820864.0000\tregression_loss 3378742820864.0000 \tbatch 16.0000\n"
     ]
    },
    {
     "name": "stderr",
     "output_type": "stream",
     "text": [
      "                                                       \n",
      "Epoch:  49%|████▉     | 49/100 [13:39<13:57, 16.43s/it]\n",
      "Test: 1it [00:06,  3.35s/it]\u001b[A\n",
      "Test: 2it [00:06,  3.38s/it]\u001b[A\n",
      "Epoch:  49%|████▉     | 49/100 [13:40<13:57, 16.43s/it]"
     ]
    },
    {
     "name": "stdout",
     "output_type": "stream",
     "text": [
      "{'total_loss': tensor(3.3787e+12, grad_fn=<AddBackward0>), 'regression_loss': tensor(3.3787e+12, grad_fn=<MseLossBackward0>)}\n",
      "data:\ttotal_loss 3378730762240.0000\tregression_loss 3378730762240.0000 \tbatch 16.0000\n",
      "epoch 49.00%\n"
     ]
    },
    {
     "name": "stderr",
     "output_type": "stream",
     "text": [
      "Epoch:  50%|█████     | 50/100 [13:40<13:40, 16.42s/it]\n",
      "                                                       \n",
      "Epoch:  50%|█████     | 50/100 [13:45<13:40, 16.42s/it]\n",
      "instances: 0it [00:04, ?it/s]\u001b[A\n",
      "instances: 1it [00:04,  4.52s/it]\u001b[A"
     ]
    },
    {
     "name": "stdout",
     "output_type": "stream",
     "text": [
      "data:\ttotal_loss 3378735480832.0000\tregression_loss 3378735480832.0000 \tbatch 16.0000\n"
     ]
    },
    {
     "name": "stderr",
     "output_type": "stream",
     "text": [
      "                                                       \n",
      "Epoch:  50%|█████     | 50/100 [13:49<13:40, 16.42s/it]\n",
      "instances: 1it [00:08,  4.52s/it]\u001b[A\n",
      "instances: 2it [00:09,  4.50s/it]\u001b[A\n"
     ]
    },
    {
     "name": "stdout",
     "output_type": "stream",
     "text": [
      "data:\ttotal_loss 3378737577984.0000\tregression_loss 3378737577984.0000 \tbatch 16.0000\n"
     ]
    },
    {
     "name": "stderr",
     "output_type": "stream",
     "text": [
      "\n",
      "Test: 0it [00:00, ?it/s]\u001b[A\n",
      "                                                       \n",
      "Epoch:  50%|█████     | 50/100 [13:53<13:40, 16.42s/it]\n",
      "Test: 1it [00:03,  3.37s/it]\u001b[A"
     ]
    },
    {
     "name": "stdout",
     "output_type": "stream",
     "text": [
      "{'total_loss': tensor(3.3787e+12, grad_fn=<AddBackward0>), 'regression_loss': tensor(3.3787e+12, grad_fn=<MseLossBackward0>)}\n",
      "data:\ttotal_loss 3378740461568.0000\tregression_loss 3378740461568.0000 \tbatch 16.0000\n"
     ]
    },
    {
     "name": "stderr",
     "output_type": "stream",
     "text": [
      "\n",
      "                                                       \n",
      "Epoch:  50%|█████     | 50/100 [13:56<13:40, 16.42s/it]\n",
      "Test: 2it [00:06,  3.39s/it]\u001b[A\n",
      "Epoch:  50%|█████     | 50/100 [13:56<13:40, 16.42s/it]"
     ]
    },
    {
     "name": "stdout",
     "output_type": "stream",
     "text": [
      "{'total_loss': tensor(3.3787e+12, grad_fn=<AddBackward0>), 'regression_loss': tensor(3.3787e+12, grad_fn=<MseLossBackward0>)}\n",
      "data:\ttotal_loss 3378733121536.0000\tregression_loss 3378733121536.0000 \tbatch 16.0000\n",
      "epoch 50.00%\n"
     ]
    },
    {
     "name": "stderr",
     "output_type": "stream",
     "text": [
      "Epoch:  51%|█████     | 51/100 [13:57<13:26, 16.46s/it]\n",
      "instances: 0it [00:00, ?it/s]\u001b[A\n",
      "                                                       \n",
      "Epoch:  51%|█████     | 51/100 [14:01<13:26, 16.46s/it]\n",
      "instances: 1it [00:04,  4.45s/it]\u001b[A"
     ]
    },
    {
     "name": "stdout",
     "output_type": "stream",
     "text": [
      "data:\ttotal_loss 3378736005120.0000\tregression_loss 3378736005120.0000 \tbatch 16.0000\n"
     ]
    },
    {
     "name": "stderr",
     "output_type": "stream",
     "text": [
      "\n",
      "                                                       \n",
      "Epoch:  51%|█████     | 51/100 [14:06<13:26, 16.46s/it]\n",
      "instances: 2it [00:08,  4.43s/it]\u001b[A\n"
     ]
    },
    {
     "name": "stdout",
     "output_type": "stream",
     "text": [
      "data:\ttotal_loss 3378737315840.0000\tregression_loss 3378737315840.0000 \tbatch 16.0000\n"
     ]
    },
    {
     "name": "stderr",
     "output_type": "stream",
     "text": [
      "\n",
      "Test: 0it [00:00, ?it/s]\u001b[A\n",
      "                                                       \n",
      "Epoch:  51%|█████     | 51/100 [14:09<13:26, 16.46s/it]\n",
      "Test: 1it [00:03,  3.38s/it]\u001b[A"
     ]
    },
    {
     "name": "stdout",
     "output_type": "stream",
     "text": [
      "{'total_loss': tensor(3.3787e+12, grad_fn=<AddBackward0>), 'regression_loss': tensor(3.3787e+12, grad_fn=<MseLossBackward0>)}\n",
      "data:\ttotal_loss 3378731024384.0000\tregression_loss 3378731024384.0000 \tbatch 16.0000\n"
     ]
    },
    {
     "name": "stderr",
     "output_type": "stream",
     "text": [
      "\n",
      "                                                       \n",
      "Epoch:  51%|█████     | 51/100 [14:12<13:26, 16.46s/it]\n",
      "Test: 2it [00:06,  3.39s/it]\u001b[A\n",
      "Epoch:  51%|█████     | 51/100 [14:12<13:26, 16.46s/it]"
     ]
    },
    {
     "name": "stdout",
     "output_type": "stream",
     "text": [
      "{'total_loss': tensor(3.3787e+12, grad_fn=<AddBackward0>), 'regression_loss': tensor(3.3787e+12, grad_fn=<MseLossBackward0>)}\n",
      "data:\ttotal_loss 3378742296576.0000\tregression_loss 3378742296576.0000 \tbatch 16.0000\n",
      "epoch 51.00%\n"
     ]
    },
    {
     "name": "stderr",
     "output_type": "stream",
     "text": [
      "Epoch:  52%|█████▏    | 52/100 [14:13<13:08, 16.43s/it]\n",
      "instances: 0it [00:00, ?it/s]\u001b[A\n",
      "                                                       \n",
      "Epoch:  52%|█████▏    | 52/100 [14:18<13:08, 16.43s/it]\n",
      "instances: 1it [00:04,  4.60s/it]\u001b[A"
     ]
    },
    {
     "name": "stdout",
     "output_type": "stream",
     "text": [
      "data:\ttotal_loss 3378739675136.0000\tregression_loss 3378739675136.0000 \tbatch 16.0000\n"
     ]
    },
    {
     "name": "stderr",
     "output_type": "stream",
     "text": [
      "\n",
      "                                                       \n",
      "Epoch:  52%|█████▏    | 52/100 [14:22<13:08, 16.43s/it]\n",
      "instances: 2it [00:09,  4.52s/it]\u001b[A\n"
     ]
    },
    {
     "name": "stdout",
     "output_type": "stream",
     "text": [
      "data:\ttotal_loss 3378733383680.0000\tregression_loss 3378733383680.0000 \tbatch 16.0000\n"
     ]
    },
    {
     "name": "stderr",
     "output_type": "stream",
     "text": [
      "\n",
      "Test: 0it [00:00, ?it/s]\u001b[A\n",
      "                                                       \n",
      "Epoch:  52%|█████▏    | 52/100 [14:26<13:08, 16.43s/it]\n",
      "Test: 1it [00:03,  3.37s/it]\u001b[A"
     ]
    },
    {
     "name": "stdout",
     "output_type": "stream",
     "text": [
      "{'total_loss': tensor(3.3787e+12, grad_fn=<AddBackward0>), 'regression_loss': tensor(3.3787e+12, grad_fn=<MseLossBackward0>)}\n",
      "data:\ttotal_loss 3378747015168.0000\tregression_loss 3378747015168.0000 \tbatch 16.0000\n"
     ]
    },
    {
     "name": "stderr",
     "output_type": "stream",
     "text": [
      "\n",
      "                                                       \n",
      "Epoch:  52%|█████▏    | 52/100 [14:29<13:08, 16.43s/it]\n",
      "Test: 2it [00:06,  3.39s/it]\u001b[A\n",
      "Epoch:  52%|█████▏    | 52/100 [14:29<13:08, 16.43s/it]"
     ]
    },
    {
     "name": "stdout",
     "output_type": "stream",
     "text": [
      "{'total_loss': tensor(3.3787e+12, grad_fn=<AddBackward0>), 'regression_loss': tensor(3.3787e+12, grad_fn=<MseLossBackward0>)}\n",
      "data:\ttotal_loss 3378726567936.0000\tregression_loss 3378726567936.0000 \tbatch 16.0000\n",
      "epoch 52.00%\n"
     ]
    },
    {
     "name": "stderr",
     "output_type": "stream",
     "text": [
      "Epoch:  53%|█████▎    | 53/100 [14:30<12:53, 16.46s/it]\n",
      "instances: 0it [00:00, ?it/s]\u001b[A\n",
      "                                                       \n",
      "Epoch:  53%|█████▎    | 53/100 [14:34<12:53, 16.46s/it]\n",
      "instances: 1it [00:04,  4.52s/it]\u001b[A"
     ]
    },
    {
     "name": "stdout",
     "output_type": "stream",
     "text": [
      "data:\ttotal_loss 3378734956544.0000\tregression_loss 3378734956544.0000 \tbatch 16.0000\n"
     ]
    },
    {
     "name": "stderr",
     "output_type": "stream",
     "text": [
      "\n",
      "                                                       \n",
      "Epoch:  53%|█████▎    | 53/100 [14:39<12:53, 16.46s/it]\n",
      "instances: 2it [00:08,  4.46s/it]\u001b[A\n"
     ]
    },
    {
     "name": "stdout",
     "output_type": "stream",
     "text": [
      "data:\ttotal_loss 3378738364416.0000\tregression_loss 3378738364416.0000 \tbatch 16.0000\n"
     ]
    },
    {
     "name": "stderr",
     "output_type": "stream",
     "text": [
      "\n",
      "Test: 0it [00:00, ?it/s]\u001b[A\n",
      "                                                       \n",
      "Epoch:  53%|█████▎    | 53/100 [14:42<12:53, 16.46s/it]\n",
      "Test: 1it [00:03,  3.38s/it]\u001b[A"
     ]
    },
    {
     "name": "stdout",
     "output_type": "stream",
     "text": [
      "{'total_loss': tensor(3.3787e+12, grad_fn=<AddBackward0>), 'regression_loss': tensor(3.3787e+12, grad_fn=<MseLossBackward0>)}\n",
      "data:\ttotal_loss 3378733907968.0000\tregression_loss 3378733907968.0000 \tbatch 16.0000\n"
     ]
    },
    {
     "name": "stderr",
     "output_type": "stream",
     "text": [
      "\n",
      "                                                       \n",
      "Epoch:  53%|█████▎    | 53/100 [14:45<12:53, 16.46s/it]\n",
      "Test: 2it [00:06,  3.41s/it]\u001b[A\n",
      "Epoch:  53%|█████▎    | 53/100 [14:45<12:53, 16.46s/it]"
     ]
    },
    {
     "name": "stdout",
     "output_type": "stream",
     "text": [
      "{'total_loss': tensor(3.3787e+12, grad_fn=<AddBackward0>), 'regression_loss': tensor(3.3787e+12, grad_fn=<MseLossBackward0>)}\n",
      "data:\ttotal_loss 3378739150848.0000\tregression_loss 3378739150848.0000 \tbatch 16.0000\n",
      "epoch 53.00%\n"
     ]
    },
    {
     "name": "stderr",
     "output_type": "stream",
     "text": [
      "Epoch:  54%|█████▍    | 54/100 [14:46<12:37, 16.46s/it]\n",
      "instances: 0it [00:00, ?it/s]\u001b[A\n",
      "                                                       \n",
      "Epoch:  54%|█████▍    | 54/100 [14:51<12:37, 16.46s/it]\n",
      "instances: 1it [00:04,  4.51s/it]\u001b[A"
     ]
    },
    {
     "name": "stdout",
     "output_type": "stream",
     "text": [
      "data:\ttotal_loss 3378734956544.0000\tregression_loss 3378734956544.0000 \tbatch 16.0000\n"
     ]
    },
    {
     "name": "stderr",
     "output_type": "stream",
     "text": [
      "\n",
      "                                                       \n",
      "Epoch:  54%|█████▍    | 54/100 [14:55<12:37, 16.46s/it]\n",
      "instances: 2it [00:08,  4.46s/it]\u001b[A\n"
     ]
    },
    {
     "name": "stdout",
     "output_type": "stream",
     "text": [
      "data:\ttotal_loss 3378738364416.0000\tregression_loss 3378738364416.0000 \tbatch 16.0000\n"
     ]
    },
    {
     "name": "stderr",
     "output_type": "stream",
     "text": [
      "\n",
      "                                                       \n",
      "Epoch:  54%|█████▍    | 54/100 [14:58<12:37, 16.46s/it]\n",
      "Test: 0it [00:03, ?it/s]\u001b[A\n",
      "Test: 1it [00:03,  3.35s/it]\u001b[A"
     ]
    },
    {
     "name": "stdout",
     "output_type": "stream",
     "text": [
      "{'total_loss': tensor(3.3787e+12, grad_fn=<AddBackward0>), 'regression_loss': tensor(3.3787e+12, grad_fn=<MseLossBackward0>)}\n",
      "data:\ttotal_loss 3378737577984.0000\tregression_loss 3378737577984.0000 \tbatch 16.0000\n"
     ]
    },
    {
     "name": "stderr",
     "output_type": "stream",
     "text": [
      "                                                       \n",
      "Epoch:  54%|█████▍    | 54/100 [15:02<12:37, 16.46s/it]\n",
      "Test: 1it [00:06,  3.35s/it]\u001b[A\n",
      "Test: 2it [00:06,  3.39s/it]\u001b[A\n",
      "Epoch:  54%|█████▍    | 54/100 [15:02<12:37, 16.46s/it]"
     ]
    },
    {
     "name": "stdout",
     "output_type": "stream",
     "text": [
      "{'total_loss': tensor(3.3787e+12, grad_fn=<AddBackward0>), 'regression_loss': tensor(3.3787e+12, grad_fn=<MseLossBackward0>)}\n",
      "data:\ttotal_loss 3378735480832.0000\tregression_loss 3378735480832.0000 \tbatch 16.0000\n",
      "epoch 54.00%\n"
     ]
    },
    {
     "name": "stderr",
     "output_type": "stream",
     "text": [
      "Epoch:  55%|█████▌    | 55/100 [15:03<12:20, 16.45s/it]\n",
      "instances: 0it [00:00, ?it/s]\u001b[A\n",
      "                                                       \n",
      "Epoch:  55%|█████▌    | 55/100 [15:07<12:20, 16.45s/it]\n",
      "instances: 1it [00:04,  4.47s/it]\u001b[A"
     ]
    },
    {
     "name": "stdout",
     "output_type": "stream",
     "text": [
      "data:\ttotal_loss 3378744655872.0000\tregression_loss 3378744655872.0000 \tbatch 16.0000\n"
     ]
    },
    {
     "name": "stderr",
     "output_type": "stream",
     "text": [
      "\n",
      "                                                       \n",
      "Epoch:  55%|█████▌    | 55/100 [15:11<12:20, 16.45s/it]\n",
      "instances: 2it [00:08,  4.44s/it]\u001b[A\n"
     ]
    },
    {
     "name": "stdout",
     "output_type": "stream",
     "text": [
      "data:\ttotal_loss 3378728665088.0000\tregression_loss 3378728665088.0000 \tbatch 16.0000\n"
     ]
    },
    {
     "name": "stderr",
     "output_type": "stream",
     "text": [
      "\n",
      "                                                       \n",
      "Epoch:  55%|█████▌    | 55/100 [15:15<12:20, 16.45s/it]\n",
      "Test: 0it [00:03, ?it/s]\u001b[A\n",
      "Test: 1it [00:03,  3.37s/it]\u001b[A"
     ]
    },
    {
     "name": "stdout",
     "output_type": "stream",
     "text": [
      "{'total_loss': tensor(3.3787e+12, grad_fn=<AddBackward0>), 'regression_loss': tensor(3.3787e+12, grad_fn=<MseLossBackward0>)}\n",
      "data:\ttotal_loss 3378740461568.0000\tregression_loss 3378740461568.0000 \tbatch 16.0000\n"
     ]
    },
    {
     "name": "stderr",
     "output_type": "stream",
     "text": [
      "                                                       \n",
      "Epoch:  55%|█████▌    | 55/100 [15:18<12:20, 16.45s/it]\n",
      "Test: 1it [00:06,  3.37s/it]\u001b[A\n",
      "Test: 2it [00:06,  3.37s/it]\u001b[A\n",
      "Epoch:  55%|█████▌    | 55/100 [15:18<12:20, 16.45s/it]"
     ]
    },
    {
     "name": "stdout",
     "output_type": "stream",
     "text": [
      "{'total_loss': tensor(3.3787e+12, grad_fn=<AddBackward0>), 'regression_loss': tensor(3.3787e+12, grad_fn=<MseLossBackward0>)}\n",
      "data:\ttotal_loss 3378732859392.0000\tregression_loss 3378732859392.0000 \tbatch 16.0000\n",
      "epoch 55.00%\n"
     ]
    },
    {
     "name": "stderr",
     "output_type": "stream",
     "text": [
      "Epoch:  56%|█████▌    | 56/100 [15:19<12:02, 16.41s/it]\n",
      "instances: 0it [00:00, ?it/s]\u001b[A\n",
      "                                                       \n",
      "Epoch:  56%|█████▌    | 56/100 [15:23<12:02, 16.41s/it]\n",
      "instances: 1it [00:04,  4.49s/it]\u001b[A"
     ]
    },
    {
     "name": "stdout",
     "output_type": "stream",
     "text": [
      "data:\ttotal_loss 3378730762240.0000\tregression_loss 3378730762240.0000 \tbatch 16.0000\n"
     ]
    },
    {
     "name": "stderr",
     "output_type": "stream",
     "text": [
      "\n",
      "                                                       \n",
      "Epoch:  56%|█████▌    | 56/100 [15:28<12:02, 16.41s/it]\n",
      "instances: 2it [00:08,  4.47s/it]\u001b[A\n"
     ]
    },
    {
     "name": "stdout",
     "output_type": "stream",
     "text": [
      "data:\ttotal_loss 3378742558720.0000\tregression_loss 3378742558720.0000 \tbatch 16.0000\n"
     ]
    },
    {
     "name": "stderr",
     "output_type": "stream",
     "text": [
      "\n",
      "                                                       \n",
      "Epoch:  56%|█████▌    | 56/100 [15:31<12:02, 16.41s/it]\n",
      "Test: 0it [00:03, ?it/s]\u001b[A\n",
      "Test: 1it [00:03,  3.37s/it]\u001b[A"
     ]
    },
    {
     "name": "stdout",
     "output_type": "stream",
     "text": [
      "{'total_loss': tensor(3.3787e+12, grad_fn=<AddBackward0>), 'regression_loss': tensor(3.3787e+12, grad_fn=<MseLossBackward0>)}\n",
      "data:\ttotal_loss 3378739675136.0000\tregression_loss 3378739675136.0000 \tbatch 16.0000\n"
     ]
    },
    {
     "name": "stderr",
     "output_type": "stream",
     "text": [
      "                                                       \n",
      "Epoch:  56%|█████▌    | 56/100 [15:35<12:02, 16.41s/it]\n",
      "Test: 1it [00:06,  3.37s/it]\u001b[A\n",
      "Test: 2it [00:06,  3.38s/it]\u001b[A\n",
      "Epoch:  56%|█████▌    | 56/100 [15:35<12:02, 16.41s/it]"
     ]
    },
    {
     "name": "stdout",
     "output_type": "stream",
     "text": [
      "{'total_loss': tensor(3.3787e+12, grad_fn=<AddBackward0>), 'regression_loss': tensor(3.3787e+12, grad_fn=<MseLossBackward0>)}\n",
      "data:\ttotal_loss 3378733383680.0000\tregression_loss 3378733383680.0000 \tbatch 16.0000\n",
      "epoch 56.00%\n"
     ]
    },
    {
     "name": "stderr",
     "output_type": "stream",
     "text": [
      "Epoch:  57%|█████▋    | 57/100 [15:35<11:45, 16.41s/it]\n",
      "instances: 0it [00:00, ?it/s]\u001b[A\n",
      "                                                       \n",
      "Epoch:  57%|█████▋    | 57/100 [15:40<11:45, 16.41s/it]\n",
      "instances: 1it [00:04,  4.47s/it]\u001b[A"
     ]
    },
    {
     "name": "stdout",
     "output_type": "stream",
     "text": [
      "data:\ttotal_loss 3378732859392.0000\tregression_loss 3378732859392.0000 \tbatch 16.0000\n"
     ]
    },
    {
     "name": "stderr",
     "output_type": "stream",
     "text": [
      "\n",
      "                                                       \n",
      "Epoch:  57%|█████▋    | 57/100 [15:44<11:45, 16.41s/it]\n",
      "instances: 2it [00:08,  4.46s/it]\u001b[A\n"
     ]
    },
    {
     "name": "stdout",
     "output_type": "stream",
     "text": [
      "data:\ttotal_loss 3378740723712.0000\tregression_loss 3378740723712.0000 \tbatch 16.0000\n"
     ]
    },
    {
     "name": "stderr",
     "output_type": "stream",
     "text": [
      "\n",
      "                                                       \n",
      "Epoch:  57%|█████▋    | 57/100 [15:48<11:45, 16.41s/it]\n",
      "Test: 0it [00:03, ?it/s]\u001b[A\n",
      "Test: 1it [00:03,  3.36s/it]\u001b[A"
     ]
    },
    {
     "name": "stdout",
     "output_type": "stream",
     "text": [
      "{'total_loss': tensor(3.3787e+12, grad_fn=<AddBackward0>), 'regression_loss': tensor(3.3787e+12, grad_fn=<MseLossBackward0>)}\n",
      "data:\ttotal_loss 3378738102272.0000\tregression_loss 3378738102272.0000 \tbatch 16.0000\n"
     ]
    },
    {
     "name": "stderr",
     "output_type": "stream",
     "text": [
      "                                                       \n",
      "Epoch:  57%|█████▋    | 57/100 [15:51<11:45, 16.41s/it]\n",
      "Test: 1it [00:06,  3.36s/it]\u001b[A\n",
      "Test: 2it [00:06,  3.37s/it]\u001b[A\n",
      "Epoch:  57%|█████▋    | 57/100 [15:51<11:45, 16.41s/it]"
     ]
    },
    {
     "name": "stdout",
     "output_type": "stream",
     "text": [
      "{'total_loss': tensor(3.3787e+12, grad_fn=<AddBackward0>), 'regression_loss': tensor(3.3787e+12, grad_fn=<MseLossBackward0>)}\n",
      "data:\ttotal_loss 3378735480832.0000\tregression_loss 3378735480832.0000 \tbatch 16.0000\n",
      "epoch 57.00%\n"
     ]
    },
    {
     "name": "stderr",
     "output_type": "stream",
     "text": [
      "Epoch:  58%|█████▊    | 58/100 [15:52<11:29, 16.42s/it]\n",
      "instances: 0it [00:00, ?it/s]\u001b[A\n",
      "                                                       \n",
      "Epoch:  58%|█████▊    | 58/100 [15:56<11:29, 16.42s/it]\n",
      "instances: 1it [00:04,  4.50s/it]\u001b[A"
     ]
    },
    {
     "name": "stdout",
     "output_type": "stream",
     "text": [
      "data:\ttotal_loss 3378736267264.0000\tregression_loss 3378736267264.0000 \tbatch 16.0000\n"
     ]
    },
    {
     "name": "stderr",
     "output_type": "stream",
     "text": [
      "\n",
      "                                                       \n",
      "Epoch:  58%|█████▊    | 58/100 [16:01<11:29, 16.42s/it]\n",
      "instances: 2it [00:08,  4.45s/it]\u001b[A\n"
     ]
    },
    {
     "name": "stdout",
     "output_type": "stream",
     "text": [
      "data:\ttotal_loss 3378737053696.0000\tregression_loss 3378737053696.0000 \tbatch 16.0000\n"
     ]
    },
    {
     "name": "stderr",
     "output_type": "stream",
     "text": [
      "\n",
      "Test: 0it [00:00, ?it/s]\u001b[A\n",
      "                                                       \n",
      "Epoch:  58%|█████▊    | 58/100 [16:04<11:29, 16.42s/it]\n",
      "Test: 1it [00:03,  3.39s/it]\u001b[A"
     ]
    },
    {
     "name": "stdout",
     "output_type": "stream",
     "text": [
      "{'total_loss': tensor(3.3787e+12, grad_fn=<AddBackward0>), 'regression_loss': tensor(3.3787e+12, grad_fn=<MseLossBackward0>)}\n",
      "data:\ttotal_loss 3378729975808.0000\tregression_loss 3378729975808.0000 \tbatch 16.0000\n"
     ]
    },
    {
     "name": "stderr",
     "output_type": "stream",
     "text": [
      "\n",
      "                                                       \n",
      "Epoch:  58%|█████▊    | 58/100 [16:07<11:29, 16.42s/it]\n",
      "Test: 2it [00:06,  3.40s/it]\u001b[A\n",
      "Epoch:  58%|█████▊    | 58/100 [16:07<11:29, 16.42s/it]"
     ]
    },
    {
     "name": "stdout",
     "output_type": "stream",
     "text": [
      "{'total_loss': tensor(3.3787e+12, grad_fn=<AddBackward0>), 'regression_loss': tensor(3.3787e+12, grad_fn=<MseLossBackward0>)}\n",
      "data:\ttotal_loss 3378742558720.0000\tregression_loss 3378742558720.0000 \tbatch 16.0000\n",
      "epoch 58.00%\n"
     ]
    },
    {
     "name": "stderr",
     "output_type": "stream",
     "text": [
      "Epoch:  59%|█████▉    | 59/100 [16:08<11:13, 16.42s/it]\n",
      "                                                       \n",
      "Epoch:  59%|█████▉    | 59/100 [16:13<11:13, 16.42s/it]\n",
      "instances: 0it [00:04, ?it/s]\u001b[A\n",
      "instances: 1it [00:04,  4.46s/it]\u001b[A"
     ]
    },
    {
     "name": "stdout",
     "output_type": "stream",
     "text": [
      "data:\ttotal_loss 3378737053696.0000\tregression_loss 3378737053696.0000 \tbatch 16.0000\n"
     ]
    },
    {
     "name": "stderr",
     "output_type": "stream",
     "text": [
      "                                                       \n",
      "Epoch:  59%|█████▉    | 59/100 [16:17<11:13, 16.42s/it]\n",
      "instances: 1it [00:08,  4.46s/it]\u001b[A\n",
      "instances: 2it [00:08,  4.44s/it]\u001b[A\n"
     ]
    },
    {
     "name": "stdout",
     "output_type": "stream",
     "text": [
      "data:\ttotal_loss 3378735480832.0000\tregression_loss 3378735480832.0000 \tbatch 16.0000\n"
     ]
    },
    {
     "name": "stderr",
     "output_type": "stream",
     "text": [
      "\n",
      "                                                       \n",
      "Epoch:  59%|█████▉    | 59/100 [16:20<11:13, 16.42s/it]\n",
      "Test: 0it [00:03, ?it/s]\u001b[A\n",
      "Test: 1it [00:03,  3.35s/it]\u001b[A"
     ]
    },
    {
     "name": "stdout",
     "output_type": "stream",
     "text": [
      "{'total_loss': tensor(3.3787e+12, grad_fn=<AddBackward0>), 'regression_loss': tensor(3.3787e+12, grad_fn=<MseLossBackward0>)}\n",
      "data:\ttotal_loss 3378728665088.0000\tregression_loss 3378728665088.0000 \tbatch 16.0000\n"
     ]
    },
    {
     "name": "stderr",
     "output_type": "stream",
     "text": [
      "                                                       \n",
      "Epoch:  59%|█████▉    | 59/100 [16:24<11:13, 16.42s/it]\n",
      "Test: 1it [00:06,  3.35s/it]\u001b[A\n",
      "Test: 2it [00:06,  3.38s/it]\u001b[A\n",
      "Epoch:  59%|█████▉    | 59/100 [16:24<11:13, 16.42s/it]"
     ]
    },
    {
     "name": "stdout",
     "output_type": "stream",
     "text": [
      "{'total_loss': tensor(3.3787e+12, grad_fn=<AddBackward0>), 'regression_loss': tensor(3.3787e+12, grad_fn=<MseLossBackward0>)}\n",
      "data:\ttotal_loss 3378743869440.0000\tregression_loss 3378743869440.0000 \tbatch 16.0000\n",
      "epoch 59.00%\n"
     ]
    },
    {
     "name": "stderr",
     "output_type": "stream",
     "text": [
      "Epoch:  60%|██████    | 60/100 [16:24<10:55, 16.39s/it]\n",
      "instances: 0it [00:00, ?it/s]\u001b[A\n",
      "                                                       \n",
      "Epoch:  60%|██████    | 60/100 [16:29<10:55, 16.39s/it]\n",
      "instances: 1it [00:04,  4.46s/it]\u001b[A"
     ]
    },
    {
     "name": "stdout",
     "output_type": "stream",
     "text": [
      "data:\ttotal_loss 3378734432256.0000\tregression_loss 3378734432256.0000 \tbatch 16.0000\n"
     ]
    },
    {
     "name": "stderr",
     "output_type": "stream",
     "text": [
      "\n",
      "                                                       \n",
      "Epoch:  60%|██████    | 60/100 [16:33<10:55, 16.39s/it]\n",
      "instances: 2it [00:08,  4.46s/it]\u001b[A\n"
     ]
    },
    {
     "name": "stdout",
     "output_type": "stream",
     "text": [
      "data:\ttotal_loss 3378737577984.0000\tregression_loss 3378737577984.0000 \tbatch 16.0000\n"
     ]
    },
    {
     "name": "stderr",
     "output_type": "stream",
     "text": [
      "\n",
      "                                                       \n",
      "Epoch:  60%|██████    | 60/100 [16:37<10:55, 16.39s/it]\n",
      "Test: 0it [00:03, ?it/s]\u001b[A\n",
      "Test: 1it [00:03,  3.37s/it]\u001b[A"
     ]
    },
    {
     "name": "stdout",
     "output_type": "stream",
     "text": [
      "{'total_loss': tensor(3.3787e+12, grad_fn=<AddBackward0>), 'regression_loss': tensor(3.3787e+12, grad_fn=<MseLossBackward0>)}\n",
      "data:\ttotal_loss 3378737053696.0000\tregression_loss 3378737053696.0000 \tbatch 16.0000\n"
     ]
    },
    {
     "name": "stderr",
     "output_type": "stream",
     "text": [
      "                                                       \n",
      "Epoch:  60%|██████    | 60/100 [16:40<10:55, 16.39s/it]\n",
      "Test: 1it [00:06,  3.37s/it]\u001b[A\n",
      "Test: 2it [00:06,  3.39s/it]\u001b[A\n",
      "Epoch:  60%|██████    | 60/100 [16:40<10:55, 16.39s/it]"
     ]
    },
    {
     "name": "stdout",
     "output_type": "stream",
     "text": [
      "{'total_loss': tensor(3.3787e+12, grad_fn=<AddBackward0>), 'regression_loss': tensor(3.3787e+12, grad_fn=<MseLossBackward0>)}\n",
      "data:\ttotal_loss 3378735218688.0000\tregression_loss 3378735218688.0000 \tbatch 16.0000\n",
      "epoch 60.00%\n"
     ]
    },
    {
     "name": "stderr",
     "output_type": "stream",
     "text": [
      "Epoch:  61%|██████    | 61/100 [16:41<10:39, 16.40s/it]\n",
      "instances: 0it [00:00, ?it/s]\u001b[A\n",
      "                                                       \n",
      "Epoch:  61%|██████    | 61/100 [16:45<10:39, 16.40s/it]\n",
      "instances: 1it [00:04,  4.53s/it]\u001b[A"
     ]
    },
    {
     "name": "stdout",
     "output_type": "stream",
     "text": [
      "data:\ttotal_loss 3378743869440.0000\tregression_loss 3378743869440.0000 \tbatch 16.0000\n"
     ]
    },
    {
     "name": "stderr",
     "output_type": "stream",
     "text": [
      "\n",
      "                                                       \n",
      "Epoch:  61%|██████    | 61/100 [16:50<10:39, 16.40s/it]\n",
      "instances: 2it [00:09,  4.51s/it]\u001b[A\n"
     ]
    },
    {
     "name": "stdout",
     "output_type": "stream",
     "text": [
      "data:\ttotal_loss 3378728665088.0000\tregression_loss 3378728665088.0000 \tbatch 16.0000\n"
     ]
    },
    {
     "name": "stderr",
     "output_type": "stream",
     "text": [
      "\n",
      "Test: 0it [00:00, ?it/s]\u001b[A\n",
      "                                                       \n",
      "Epoch:  61%|██████    | 61/100 [16:53<10:39, 16.40s/it]\n",
      "Test: 1it [00:03,  3.38s/it]\u001b[A"
     ]
    },
    {
     "name": "stdout",
     "output_type": "stream",
     "text": [
      "{'total_loss': tensor(3.3787e+12, grad_fn=<AddBackward0>), 'regression_loss': tensor(3.3787e+12, grad_fn=<MseLossBackward0>)}\n",
      "data:\ttotal_loss 3378729189376.0000\tregression_loss 3378729189376.0000 \tbatch 16.0000\n"
     ]
    },
    {
     "name": "stderr",
     "output_type": "stream",
     "text": [
      "\n",
      "                                                       \n",
      "Epoch:  61%|██████    | 61/100 [16:57<10:39, 16.40s/it]\n",
      "Test: 2it [00:06,  3.39s/it]\u001b[A\n",
      "Epoch:  61%|██████    | 61/100 [16:57<10:39, 16.40s/it]"
     ]
    },
    {
     "name": "stdout",
     "output_type": "stream",
     "text": [
      "{'total_loss': tensor(3.3787e+12, grad_fn=<AddBackward0>), 'regression_loss': tensor(3.3787e+12, grad_fn=<MseLossBackward0>)}\n",
      "data:\ttotal_loss 3378743607296.0000\tregression_loss 3378743607296.0000 \tbatch 16.0000\n",
      "epoch 61.00%\n"
     ]
    },
    {
     "name": "stderr",
     "output_type": "stream",
     "text": [
      "Epoch:  62%|██████▏   | 62/100 [16:57<10:24, 16.43s/it]\n",
      "instances: 0it [00:00, ?it/s]\u001b[A\n",
      "                                                       \n",
      "Epoch:  62%|██████▏   | 62/100 [17:02<10:24, 16.43s/it]\n",
      "instances: 1it [00:04,  4.51s/it]\u001b[A"
     ]
    },
    {
     "name": "stdout",
     "output_type": "stream",
     "text": [
      "data:\ttotal_loss 3378728927232.0000\tregression_loss 3378728927232.0000 \tbatch 16.0000\n"
     ]
    },
    {
     "name": "stderr",
     "output_type": "stream",
     "text": [
      "\n",
      "                                                       \n",
      "Epoch:  62%|██████▏   | 62/100 [17:06<10:24, 16.43s/it]\n",
      "instances: 2it [00:08,  4.47s/it]\u001b[A\n"
     ]
    },
    {
     "name": "stdout",
     "output_type": "stream",
     "text": [
      "data:\ttotal_loss 3378743869440.0000\tregression_loss 3378743869440.0000 \tbatch 16.0000\n"
     ]
    },
    {
     "name": "stderr",
     "output_type": "stream",
     "text": [
      "\n",
      "Test: 0it [00:00, ?it/s]\u001b[A\n",
      "                                                       \n",
      "Epoch:  62%|██████▏   | 62/100 [17:10<10:24, 16.43s/it]\n",
      "Test: 1it [00:03,  3.37s/it]\u001b[A"
     ]
    },
    {
     "name": "stdout",
     "output_type": "stream",
     "text": [
      "{'total_loss': tensor(3.3787e+12, grad_fn=<AddBackward0>), 'regression_loss': tensor(3.3787e+12, grad_fn=<MseLossBackward0>)}\n",
      "data:\ttotal_loss 3378745442304.0000\tregression_loss 3378745442304.0000 \tbatch 16.0000\n"
     ]
    },
    {
     "name": "stderr",
     "output_type": "stream",
     "text": [
      "\n",
      "                                                       \n",
      "Epoch:  62%|██████▏   | 62/100 [17:13<10:24, 16.43s/it]\n",
      "Test: 2it [00:06,  3.38s/it]\u001b[A\n",
      "Epoch:  62%|██████▏   | 62/100 [17:13<10:24, 16.43s/it]"
     ]
    },
    {
     "name": "stdout",
     "output_type": "stream",
     "text": [
      "{'total_loss': tensor(3.3787e+12, grad_fn=<AddBackward0>), 'regression_loss': tensor(3.3787e+12, grad_fn=<MseLossBackward0>)}\n",
      "data:\ttotal_loss 3378727092224.0000\tregression_loss 3378727092224.0000 \tbatch 16.0000\n",
      "epoch 62.00%\n"
     ]
    },
    {
     "name": "stderr",
     "output_type": "stream",
     "text": [
      "Epoch:  63%|██████▎   | 63/100 [17:14<10:07, 16.42s/it]\n",
      "instances: 0it [00:00, ?it/s]\u001b[A\n",
      "                                                       \n",
      "Epoch:  63%|██████▎   | 63/100 [17:18<10:07, 16.42s/it]\n",
      "instances: 1it [00:04,  4.45s/it]\u001b[A"
     ]
    },
    {
     "name": "stdout",
     "output_type": "stream",
     "text": [
      "data:\ttotal_loss 3378738364416.0000\tregression_loss 3378738364416.0000 \tbatch 16.0000\n"
     ]
    },
    {
     "name": "stderr",
     "output_type": "stream",
     "text": [
      "\n",
      "                                                       \n",
      "Epoch:  63%|██████▎   | 63/100 [17:23<10:07, 16.42s/it]\n",
      "instances: 2it [00:08,  4.43s/it]\u001b[A\n"
     ]
    },
    {
     "name": "stdout",
     "output_type": "stream",
     "text": [
      "data:\ttotal_loss 3378734432256.0000\tregression_loss 3378734432256.0000 \tbatch 16.0000\n"
     ]
    },
    {
     "name": "stderr",
     "output_type": "stream",
     "text": [
      "\n",
      "                                                       \n",
      "Epoch:  63%|██████▎   | 63/100 [17:26<10:07, 16.42s/it]\n",
      "Test: 0it [00:03, ?it/s]\u001b[A\n",
      "Test: 1it [00:03,  3.39s/it]\u001b[A"
     ]
    },
    {
     "name": "stdout",
     "output_type": "stream",
     "text": [
      "{'total_loss': tensor(3.3787e+12, grad_fn=<AddBackward0>), 'regression_loss': tensor(3.3787e+12, grad_fn=<MseLossBackward0>)}\n",
      "data:\ttotal_loss 3378731286528.0000\tregression_loss 3378731286528.0000 \tbatch 16.0000\n"
     ]
    },
    {
     "name": "stderr",
     "output_type": "stream",
     "text": [
      "                                                       \n",
      "Epoch:  63%|██████▎   | 63/100 [17:29<10:07, 16.42s/it]\n",
      "Test: 1it [00:06,  3.39s/it]\u001b[A\n",
      "Test: 2it [00:06,  3.40s/it]\u001b[A\n",
      "Epoch:  63%|██████▎   | 63/100 [17:29<10:07, 16.42s/it]"
     ]
    },
    {
     "name": "stdout",
     "output_type": "stream",
     "text": [
      "{'total_loss': tensor(3.3787e+12, grad_fn=<AddBackward0>), 'regression_loss': tensor(3.3787e+12, grad_fn=<MseLossBackward0>)}\n",
      "data:\ttotal_loss 3378741248000.0000\tregression_loss 3378741248000.0000 \tbatch 16.0000\n",
      "epoch 63.00%\n"
     ]
    },
    {
     "name": "stderr",
     "output_type": "stream",
     "text": [
      "Epoch:  64%|██████▍   | 64/100 [17:30<09:51, 16.43s/it]\n",
      "instances: 0it [00:00, ?it/s]\u001b[A\n",
      "                                                       \n",
      "Epoch:  64%|██████▍   | 64/100 [17:35<09:51, 16.43s/it]\n",
      "instances: 1it [00:04,  4.54s/it]\u001b[A"
     ]
    },
    {
     "name": "stdout",
     "output_type": "stream",
     "text": [
      "data:\ttotal_loss 3378741248000.0000\tregression_loss 3378741248000.0000 \tbatch 16.0000\n"
     ]
    },
    {
     "name": "stderr",
     "output_type": "stream",
     "text": [
      "\n",
      "                                                       \n",
      "Epoch:  64%|██████▍   | 64/100 [17:39<09:51, 16.43s/it]\n",
      "instances: 2it [00:08,  4.49s/it]\u001b[A\n"
     ]
    },
    {
     "name": "stdout",
     "output_type": "stream",
     "text": [
      "data:\ttotal_loss 3378731286528.0000\tregression_loss 3378731286528.0000 \tbatch 16.0000\n"
     ]
    },
    {
     "name": "stderr",
     "output_type": "stream",
     "text": [
      "\n",
      "Test: 0it [00:00, ?it/s]\u001b[A\n",
      "                                                       \n",
      "Epoch:  64%|██████▍   | 64/100 [17:43<09:51, 16.43s/it]\n",
      "Test: 1it [00:03,  3.38s/it]\u001b[A"
     ]
    },
    {
     "name": "stdout",
     "output_type": "stream",
     "text": [
      "{'total_loss': tensor(3.3787e+12, grad_fn=<AddBackward0>), 'regression_loss': tensor(3.3787e+12, grad_fn=<MseLossBackward0>)}\n",
      "data:\ttotal_loss 3378742820864.0000\tregression_loss 3378742820864.0000 \tbatch 16.0000\n"
     ]
    },
    {
     "name": "stderr",
     "output_type": "stream",
     "text": [
      "\n",
      "                                                       \n",
      "Epoch:  64%|██████▍   | 64/100 [17:46<09:51, 16.43s/it]\n",
      "Test: 2it [00:06,  3.40s/it]\u001b[A\n",
      "Epoch:  64%|██████▍   | 64/100 [17:46<09:51, 16.43s/it]"
     ]
    },
    {
     "name": "stdout",
     "output_type": "stream",
     "text": [
      "{'total_loss': tensor(3.3787e+12, grad_fn=<AddBackward0>), 'regression_loss': tensor(3.3787e+12, grad_fn=<MseLossBackward0>)}\n",
      "data:\ttotal_loss 3378729189376.0000\tregression_loss 3378729189376.0000 \tbatch 16.0000\n",
      "epoch 64.00%\n"
     ]
    },
    {
     "name": "stderr",
     "output_type": "stream",
     "text": [
      "Epoch:  65%|██████▌   | 65/100 [17:47<09:35, 16.45s/it]\n",
      "                                                       \n",
      "Epoch:  65%|██████▌   | 65/100 [17:51<09:35, 16.45s/it]\n",
      "instances: 0it [00:04, ?it/s]\u001b[A\n",
      "instances: 1it [00:04,  4.47s/it]\u001b[A"
     ]
    },
    {
     "name": "stdout",
     "output_type": "stream",
     "text": [
      "data:\ttotal_loss 3378723684352.0000\tregression_loss 3378723684352.0000 \tbatch 16.0000\n"
     ]
    },
    {
     "name": "stderr",
     "output_type": "stream",
     "text": [
      "                                                       \n",
      "Epoch:  65%|██████▌   | 65/100 [17:56<09:35, 16.45s/it]\n",
      "instances: 1it [00:08,  4.47s/it]\u001b[A\n",
      "instances: 2it [00:08,  4.49s/it]\u001b[A\n"
     ]
    },
    {
     "name": "stdout",
     "output_type": "stream",
     "text": [
      "data:\ttotal_loss 3378748850176.0000\tregression_loss 3378748850176.0000 \tbatch 16.0000\n"
     ]
    },
    {
     "name": "stderr",
     "output_type": "stream",
     "text": [
      "\n",
      "Test: 0it [00:00, ?it/s]\u001b[A\n",
      "                                                       \n",
      "Epoch:  65%|██████▌   | 65/100 [17:59<09:35, 16.45s/it]\n",
      "Test: 1it [00:03,  3.37s/it]\u001b[A"
     ]
    },
    {
     "name": "stdout",
     "output_type": "stream",
     "text": [
      "{'total_loss': tensor(3.3787e+12, grad_fn=<AddBackward0>), 'regression_loss': tensor(3.3787e+12, grad_fn=<MseLossBackward0>)}\n",
      "data:\ttotal_loss 3378728927232.0000\tregression_loss 3378728927232.0000 \tbatch 16.0000\n"
     ]
    },
    {
     "name": "stderr",
     "output_type": "stream",
     "text": [
      "\n",
      "                                                       \n",
      "Epoch:  65%|██████▌   | 65/100 [18:02<09:35, 16.45s/it]\n",
      "Test: 2it [00:06,  3.39s/it]\u001b[A\n",
      "Epoch:  65%|██████▌   | 65/100 [18:02<09:35, 16.45s/it]"
     ]
    },
    {
     "name": "stdout",
     "output_type": "stream",
     "text": [
      "{'total_loss': tensor(3.3787e+12, grad_fn=<AddBackward0>), 'regression_loss': tensor(3.3787e+12, grad_fn=<MseLossBackward0>)}\n",
      "data:\ttotal_loss 3378743345152.0000\tregression_loss 3378743345152.0000 \tbatch 16.0000\n",
      "epoch 65.00%\n"
     ]
    },
    {
     "name": "stderr",
     "output_type": "stream",
     "text": [
      "Epoch:  66%|██████▌   | 66/100 [18:03<09:19, 16.46s/it]\n",
      "                                                       \n",
      "Epoch:  66%|██████▌   | 66/100 [18:08<09:19, 16.46s/it]\n",
      "instances: 0it [00:04, ?it/s]\u001b[A\n",
      "instances: 1it [00:04,  4.49s/it]\u001b[A"
     ]
    },
    {
     "name": "stdout",
     "output_type": "stream",
     "text": [
      "data:\ttotal_loss 3378738364416.0000\tregression_loss 3378738364416.0000 \tbatch 16.0000\n"
     ]
    },
    {
     "name": "stderr",
     "output_type": "stream",
     "text": [
      "                                                       \n",
      "Epoch:  66%|██████▌   | 66/100 [18:12<09:19, 16.46s/it]\n",
      "instances: 1it [00:08,  4.49s/it]\u001b[A\n",
      "instances: 2it [00:08,  4.45s/it]\u001b[A\n"
     ]
    },
    {
     "name": "stdout",
     "output_type": "stream",
     "text": [
      "data:\ttotal_loss 3378734170112.0000\tregression_loss 3378734170112.0000 \tbatch 16.0000\n"
     ]
    },
    {
     "name": "stderr",
     "output_type": "stream",
     "text": [
      "\n",
      "Test: 0it [00:00, ?it/s]\u001b[A\n",
      "                                                       \n",
      "Epoch:  66%|██████▌   | 66/100 [18:15<09:19, 16.46s/it]\n",
      "Test: 1it [00:03,  3.37s/it]\u001b[A"
     ]
    },
    {
     "name": "stdout",
     "output_type": "stream",
     "text": [
      "{'total_loss': tensor(3.3787e+12, grad_fn=<AddBackward0>), 'regression_loss': tensor(3.3787e+12, grad_fn=<MseLossBackward0>)}\n",
      "data:\ttotal_loss 3378737315840.0000\tregression_loss 3378737315840.0000 \tbatch 16.0000\n"
     ]
    },
    {
     "name": "stderr",
     "output_type": "stream",
     "text": [
      "\n",
      "                                                       \n",
      "Epoch:  66%|██████▌   | 66/100 [18:19<09:19, 16.46s/it]\n",
      "Test: 2it [00:06,  3.38s/it]\u001b[A\n",
      "Epoch:  66%|██████▌   | 66/100 [18:19<09:19, 16.46s/it]"
     ]
    },
    {
     "name": "stdout",
     "output_type": "stream",
     "text": [
      "{'total_loss': tensor(3.3787e+12, grad_fn=<AddBackward0>), 'regression_loss': tensor(3.3787e+12, grad_fn=<MseLossBackward0>)}\n",
      "data:\ttotal_loss 3378735218688.0000\tregression_loss 3378735218688.0000 \tbatch 16.0000\n",
      "epoch 66.00%\n"
     ]
    },
    {
     "name": "stderr",
     "output_type": "stream",
     "text": [
      "Epoch:  67%|██████▋   | 67/100 [18:19<09:00, 16.38s/it]\n",
      "                                                       \n",
      "Epoch:  67%|██████▋   | 67/100 [18:24<09:00, 16.38s/it]\n",
      "instances: 0it [00:04, ?it/s]\u001b[A\n",
      "instances: 1it [00:04,  4.52s/it]\u001b[A"
     ]
    },
    {
     "name": "stdout",
     "output_type": "stream",
     "text": [
      "data:\ttotal_loss 3378721587200.0000\tregression_loss 3378721587200.0000 \tbatch 16.0000\n"
     ]
    },
    {
     "name": "stderr",
     "output_type": "stream",
     "text": [
      "                                                       \n",
      "Epoch:  67%|██████▋   | 67/100 [18:28<09:00, 16.38s/it]\n",
      "instances: 1it [00:08,  4.52s/it]\u001b[A\n",
      "instances: 2it [00:09,  4.50s/it]\u001b[A\n"
     ]
    },
    {
     "name": "stdout",
     "output_type": "stream",
     "text": [
      "data:\ttotal_loss 3378750947328.0000\tregression_loss 3378750947328.0000 \tbatch 16.0000\n"
     ]
    },
    {
     "name": "stderr",
     "output_type": "stream",
     "text": [
      "\n",
      "Test: 0it [00:00, ?it/s]\u001b[A\n",
      "                                                       \n",
      "Epoch:  67%|██████▋   | 67/100 [18:32<09:00, 16.38s/it]\n",
      "Test: 1it [00:03,  3.37s/it]\u001b[A"
     ]
    },
    {
     "name": "stdout",
     "output_type": "stream",
     "text": [
      "{'total_loss': tensor(3.3787e+12, grad_fn=<AddBackward0>), 'regression_loss': tensor(3.3787e+12, grad_fn=<MseLossBackward0>)}\n",
      "data:\ttotal_loss 3378727878656.0000\tregression_loss 3378727878656.0000 \tbatch 16.0000\n"
     ]
    },
    {
     "name": "stderr",
     "output_type": "stream",
     "text": [
      "\n",
      "                                                       \n",
      "Epoch:  67%|██████▋   | 67/100 [18:35<09:00, 16.38s/it]\n",
      "Test: 2it [00:06,  3.37s/it]\u001b[A\n",
      "Epoch:  67%|██████▋   | 67/100 [18:35<09:00, 16.38s/it]"
     ]
    },
    {
     "name": "stdout",
     "output_type": "stream",
     "text": [
      "{'total_loss': tensor(3.3787e+12, grad_fn=<AddBackward0>), 'regression_loss': tensor(3.3787e+12, grad_fn=<MseLossBackward0>)}\n",
      "data:\ttotal_loss 3378744655872.0000\tregression_loss 3378744655872.0000 \tbatch 16.0000\n",
      "epoch 67.00%\n"
     ]
    },
    {
     "name": "stderr",
     "output_type": "stream",
     "text": [
      "Epoch:  68%|██████▊   | 68/100 [18:36<08:45, 16.41s/it]\n",
      "instances: 0it [00:00, ?it/s]\u001b[A\n",
      "                                                       \n",
      "Epoch:  68%|██████▊   | 68/100 [18:40<08:45, 16.41s/it]\n",
      "instances: 1it [00:04,  4.50s/it]\u001b[A"
     ]
    },
    {
     "name": "stdout",
     "output_type": "stream",
     "text": [
      "data:\ttotal_loss 3378737053696.0000\tregression_loss 3378737053696.0000 \tbatch 16.0000\n"
     ]
    },
    {
     "name": "stderr",
     "output_type": "stream",
     "text": [
      "\n",
      "                                                       \n",
      "Epoch:  68%|██████▊   | 68/100 [18:45<08:45, 16.41s/it]\n",
      "instances: 2it [00:08,  4.48s/it]\u001b[A\n"
     ]
    },
    {
     "name": "stdout",
     "output_type": "stream",
     "text": [
      "data:\ttotal_loss 3378736005120.0000\tregression_loss 3378736005120.0000 \tbatch 16.0000\n"
     ]
    },
    {
     "name": "stderr",
     "output_type": "stream",
     "text": [
      "\n",
      "                                                       \n",
      "Epoch:  68%|██████▊   | 68/100 [18:48<08:45, 16.41s/it]\n",
      "Test: 0it [00:03, ?it/s]\u001b[A\n",
      "Test: 1it [00:03,  3.37s/it]\u001b[A"
     ]
    },
    {
     "name": "stdout",
     "output_type": "stream",
     "text": [
      "{'total_loss': tensor(3.3787e+12, grad_fn=<AddBackward0>), 'regression_loss': tensor(3.3787e+12, grad_fn=<MseLossBackward0>)}\n",
      "data:\ttotal_loss 3378741772288.0000\tregression_loss 3378741772288.0000 \tbatch 16.0000\n"
     ]
    },
    {
     "name": "stderr",
     "output_type": "stream",
     "text": [
      "                                                       \n",
      "Epoch:  68%|██████▊   | 68/100 [18:52<08:45, 16.41s/it]\n",
      "Test: 1it [00:06,  3.37s/it]\u001b[A\n",
      "Test: 2it [00:06,  3.39s/it]\u001b[A\n",
      "Epoch:  68%|██████▊   | 68/100 [18:52<08:45, 16.41s/it]"
     ]
    },
    {
     "name": "stdout",
     "output_type": "stream",
     "text": [
      "{'total_loss': tensor(3.3787e+12, grad_fn=<AddBackward0>), 'regression_loss': tensor(3.3787e+12, grad_fn=<MseLossBackward0>)}\n",
      "data:\ttotal_loss 3378730762240.0000\tregression_loss 3378730762240.0000 \tbatch 16.0000\n",
      "epoch 68.00%\n"
     ]
    },
    {
     "name": "stderr",
     "output_type": "stream",
     "text": [
      "Epoch:  69%|██████▉   | 69/100 [18:52<08:28, 16.42s/it]\n",
      "instances: 0it [00:00, ?it/s]\u001b[A\n",
      "                                                       \n",
      "Epoch:  69%|██████▉   | 69/100 [18:57<08:28, 16.42s/it]\n",
      "instances: 1it [00:04,  4.52s/it]\u001b[A"
     ]
    },
    {
     "name": "stdout",
     "output_type": "stream",
     "text": [
      "data:\ttotal_loss 3378732072960.0000\tregression_loss 3378732072960.0000 \tbatch 16.0000\n"
     ]
    },
    {
     "name": "stderr",
     "output_type": "stream",
     "text": [
      "\n",
      "                                                       \n",
      "Epoch:  69%|██████▉   | 69/100 [19:01<08:28, 16.42s/it]\n",
      "instances: 2it [00:08,  4.49s/it]\u001b[A\n"
     ]
    },
    {
     "name": "stdout",
     "output_type": "stream",
     "text": [
      "data:\ttotal_loss 3378740461568.0000\tregression_loss 3378740461568.0000 \tbatch 16.0000\n"
     ]
    },
    {
     "name": "stderr",
     "output_type": "stream",
     "text": [
      "\n",
      "                                                       \n",
      "Epoch:  69%|██████▉   | 69/100 [19:05<08:28, 16.42s/it]\n",
      "Test: 0it [00:03, ?it/s]\u001b[A\n",
      "Test: 1it [00:03,  3.35s/it]\u001b[A"
     ]
    },
    {
     "name": "stdout",
     "output_type": "stream",
     "text": [
      "{'total_loss': tensor(3.3787e+12, grad_fn=<AddBackward0>), 'regression_loss': tensor(3.3787e+12, grad_fn=<MseLossBackward0>)}\n",
      "data:\ttotal_loss 3378735480832.0000\tregression_loss 3378735480832.0000 \tbatch 16.0000\n"
     ]
    },
    {
     "name": "stderr",
     "output_type": "stream",
     "text": [
      "                                                       \n",
      "Epoch:  69%|██████▉   | 69/100 [19:08<08:28, 16.42s/it]\n",
      "Test: 1it [00:06,  3.35s/it]\u001b[A\n",
      "Test: 2it [00:06,  3.37s/it]\u001b[A\n",
      "Epoch:  69%|██████▉   | 69/100 [19:08<08:28, 16.42s/it]"
     ]
    },
    {
     "name": "stdout",
     "output_type": "stream",
     "text": [
      "{'total_loss': tensor(3.3787e+12, grad_fn=<AddBackward0>), 'regression_loss': tensor(3.3787e+12, grad_fn=<MseLossBackward0>)}\n",
      "data:\ttotal_loss 3378737053696.0000\tregression_loss 3378737053696.0000 \tbatch 16.0000\n",
      "epoch 69.00%\n"
     ]
    },
    {
     "name": "stderr",
     "output_type": "stream",
     "text": [
      "Epoch:  70%|███████   | 70/100 [19:09<08:12, 16.43s/it]\n",
      "                                                       \n",
      "Epoch:  70%|███████   | 70/100 [19:13<08:12, 16.43s/it]\n",
      "instances: 0it [00:04, ?it/s]\u001b[A\n",
      "instances: 1it [00:04,  4.46s/it]\u001b[A"
     ]
    },
    {
     "name": "stdout",
     "output_type": "stream",
     "text": [
      "data:\ttotal_loss 3378747539456.0000\tregression_loss 3378747539456.0000 \tbatch 16.0000\n"
     ]
    },
    {
     "name": "stderr",
     "output_type": "stream",
     "text": [
      "                                                       \n",
      "Epoch:  70%|███████   | 70/100 [19:18<08:12, 16.43s/it]\n",
      "instances: 1it [00:08,  4.46s/it]\u001b[A\n",
      "instances: 2it [00:08,  4.45s/it]\u001b[A\n"
     ]
    },
    {
     "name": "stdout",
     "output_type": "stream",
     "text": [
      "data:\ttotal_loss 3378724995072.0000\tregression_loss 3378724995072.0000 \tbatch 16.0000\n"
     ]
    },
    {
     "name": "stderr",
     "output_type": "stream",
     "text": [
      "\n",
      "                                                       \n",
      "Epoch:  70%|███████   | 70/100 [19:21<08:12, 16.43s/it]\n",
      "Test: 0it [00:03, ?it/s]\u001b[A\n",
      "Test: 1it [00:03,  3.39s/it]\u001b[A"
     ]
    },
    {
     "name": "stdout",
     "output_type": "stream",
     "text": [
      "{'total_loss': tensor(3.3787e+12, grad_fn=<AddBackward0>), 'regression_loss': tensor(3.3787e+12, grad_fn=<MseLossBackward0>)}\n",
      "data:\ttotal_loss 3378729713664.0000\tregression_loss 3378729713664.0000 \tbatch 16.0000\n"
     ]
    },
    {
     "name": "stderr",
     "output_type": "stream",
     "text": [
      "                                                       \n",
      "Epoch:  70%|███████   | 70/100 [19:24<08:12, 16.43s/it]\n",
      "Test: 1it [00:06,  3.39s/it]\u001b[A\n",
      "Test: 2it [00:06,  3.39s/it]\u001b[A\n",
      "Epoch:  70%|███████   | 70/100 [19:24<08:12, 16.43s/it]"
     ]
    },
    {
     "name": "stdout",
     "output_type": "stream",
     "text": [
      "{'total_loss': tensor(3.3787e+12, grad_fn=<AddBackward0>), 'regression_loss': tensor(3.3787e+12, grad_fn=<MseLossBackward0>)}\n",
      "data:\ttotal_loss 3378742820864.0000\tregression_loss 3378742820864.0000 \tbatch 16.0000\n",
      "epoch 70.00%\n"
     ]
    },
    {
     "name": "stderr",
     "output_type": "stream",
     "text": [
      "Epoch:  71%|███████   | 71/100 [19:25<07:56, 16.42s/it]\n",
      "                                                       \n",
      "Epoch:  71%|███████   | 71/100 [19:30<07:56, 16.42s/it]\n",
      "instances: 0it [00:04, ?it/s]\u001b[A\n",
      "instances: 1it [00:04,  4.53s/it]\u001b[A"
     ]
    },
    {
     "name": "stdout",
     "output_type": "stream",
     "text": [
      "data:\ttotal_loss 3378732072960.0000\tregression_loss 3378732072960.0000 \tbatch 16.0000\n"
     ]
    },
    {
     "name": "stderr",
     "output_type": "stream",
     "text": [
      "                                                       \n",
      "Epoch:  71%|███████   | 71/100 [19:34<07:56, 16.42s/it]\n",
      "instances: 1it [00:08,  4.53s/it]\u001b[A\n",
      "instances: 2it [00:08,  4.50s/it]\u001b[A\n"
     ]
    },
    {
     "name": "stdout",
     "output_type": "stream",
     "text": [
      "data:\ttotal_loss 3378740461568.0000\tregression_loss 3378740461568.0000 \tbatch 16.0000\n"
     ]
    },
    {
     "name": "stderr",
     "output_type": "stream",
     "text": [
      "\n",
      "                                                       \n",
      "Epoch:  71%|███████   | 71/100 [19:38<07:56, 16.42s/it]\n",
      "Test: 0it [00:03, ?it/s]\u001b[A\n",
      "Test: 1it [00:03,  3.37s/it]\u001b[A"
     ]
    },
    {
     "name": "stdout",
     "output_type": "stream",
     "text": [
      "{'total_loss': tensor(3.3787e+12, grad_fn=<AddBackward0>), 'regression_loss': tensor(3.3787e+12, grad_fn=<MseLossBackward0>)}\n",
      "data:\ttotal_loss 3378739412992.0000\tregression_loss 3378739412992.0000 \tbatch 16.0000\n"
     ]
    },
    {
     "name": "stderr",
     "output_type": "stream",
     "text": [
      "                                                       \n",
      "Epoch:  71%|███████   | 71/100 [19:41<07:56, 16.42s/it]\n",
      "Test: 1it [00:06,  3.37s/it]\u001b[A\n",
      "Test: 2it [00:06,  3.40s/it]\u001b[A\n",
      "Epoch:  71%|███████   | 71/100 [19:41<07:56, 16.42s/it]"
     ]
    },
    {
     "name": "stdout",
     "output_type": "stream",
     "text": [
      "{'total_loss': tensor(3.3787e+12, grad_fn=<AddBackward0>), 'regression_loss': tensor(3.3787e+12, grad_fn=<MseLossBackward0>)}\n",
      "data:\ttotal_loss 3378733121536.0000\tregression_loss 3378733121536.0000 \tbatch 16.0000\n",
      "epoch 71.00%\n"
     ]
    },
    {
     "name": "stderr",
     "output_type": "stream",
     "text": [
      "Epoch:  72%|███████▏  | 72/100 [19:42<07:40, 16.45s/it]\n",
      "                                                       \n",
      "Epoch:  72%|███████▏  | 72/100 [19:46<07:40, 16.45s/it]\n",
      "instances: 0it [00:04, ?it/s]\u001b[A\n",
      "instances: 1it [00:04,  4.55s/it]\u001b[A"
     ]
    },
    {
     "name": "stdout",
     "output_type": "stream",
     "text": [
      "data:\ttotal_loss 3378742558720.0000\tregression_loss 3378742558720.0000 \tbatch 16.0000\n"
     ]
    },
    {
     "name": "stderr",
     "output_type": "stream",
     "text": [
      "                                                       \n",
      "Epoch:  72%|███████▏  | 72/100 [19:51<07:40, 16.45s/it]\n",
      "instances: 1it [00:08,  4.55s/it]\u001b[A\n",
      "instances: 2it [00:08,  4.48s/it]\u001b[A\n"
     ]
    },
    {
     "name": "stdout",
     "output_type": "stream",
     "text": [
      "data:\ttotal_loss 3378730237952.0000\tregression_loss 3378730237952.0000 \tbatch 16.0000\n"
     ]
    },
    {
     "name": "stderr",
     "output_type": "stream",
     "text": [
      "\n",
      "                                                       \n",
      "Epoch:  72%|███████▏  | 72/100 [19:54<07:40, 16.45s/it]\n",
      "Test: 0it [00:03, ?it/s]\u001b[A\n",
      "Test: 1it [00:03,  3.40s/it]\u001b[A"
     ]
    },
    {
     "name": "stdout",
     "output_type": "stream",
     "text": [
      "{'total_loss': tensor(3.3787e+12, grad_fn=<AddBackward0>), 'regression_loss': tensor(3.3787e+12, grad_fn=<MseLossBackward0>)}\n",
      "data:\ttotal_loss 3378737053696.0000\tregression_loss 3378737053696.0000 \tbatch 16.0000\n"
     ]
    },
    {
     "name": "stderr",
     "output_type": "stream",
     "text": [
      "                                                       \n",
      "Epoch:  72%|███████▏  | 72/100 [19:57<07:40, 16.45s/it]\n",
      "Test: 1it [00:06,  3.40s/it]\u001b[A\n",
      "Test: 2it [00:06,  3.41s/it]\u001b[A\n",
      "Epoch:  72%|███████▏  | 72/100 [19:57<07:40, 16.45s/it]"
     ]
    },
    {
     "name": "stdout",
     "output_type": "stream",
     "text": [
      "{'total_loss': tensor(3.3787e+12, grad_fn=<AddBackward0>), 'regression_loss': tensor(3.3787e+12, grad_fn=<MseLossBackward0>)}\n",
      "data:\ttotal_loss 3378735480832.0000\tregression_loss 3378735480832.0000 \tbatch 16.0000\n",
      "epoch 72.00%\n"
     ]
    },
    {
     "name": "stderr",
     "output_type": "stream",
     "text": [
      "Epoch:  73%|███████▎  | 73/100 [19:58<07:24, 16.47s/it]\n",
      "instances: 0it [00:00, ?it/s]\u001b[A\n",
      "                                                       \n",
      "Epoch:  73%|███████▎  | 73/100 [20:03<07:24, 16.47s/it]\n",
      "instances: 1it [00:04,  4.45s/it]\u001b[A"
     ]
    },
    {
     "name": "stdout",
     "output_type": "stream",
     "text": [
      "data:\ttotal_loss 3378729713664.0000\tregression_loss 3378729713664.0000 \tbatch 16.0000\n"
     ]
    },
    {
     "name": "stderr",
     "output_type": "stream",
     "text": [
      "\n",
      "                                                       \n",
      "Epoch:  73%|███████▎  | 73/100 [20:07<07:24, 16.47s/it]\n",
      "instances: 2it [00:08,  4.45s/it]\u001b[A\n"
     ]
    },
    {
     "name": "stdout",
     "output_type": "stream",
     "text": [
      "data:\ttotal_loss 3378742820864.0000\tregression_loss 3378742820864.0000 \tbatch 16.0000\n"
     ]
    },
    {
     "name": "stderr",
     "output_type": "stream",
     "text": [
      "\n",
      "Test: 0it [00:00, ?it/s]\u001b[A\n",
      "                                                       \n",
      "Epoch:  73%|███████▎  | 73/100 [20:10<07:24, 16.47s/it]\n",
      "Test: 1it [00:03,  3.34s/it]\u001b[A"
     ]
    },
    {
     "name": "stdout",
     "output_type": "stream",
     "text": [
      "{'total_loss': tensor(3.3787e+12, grad_fn=<AddBackward0>), 'regression_loss': tensor(3.3787e+12, grad_fn=<MseLossBackward0>)}\n",
      "data:\ttotal_loss 3378729189376.0000\tregression_loss 3378729189376.0000 \tbatch 16.0000\n"
     ]
    },
    {
     "name": "stderr",
     "output_type": "stream",
     "text": [
      "\n",
      "                                                       \n",
      "Epoch:  73%|███████▎  | 73/100 [20:14<07:24, 16.47s/it]\n",
      "Test: 2it [00:06,  3.36s/it]\u001b[A\n",
      "Epoch:  73%|███████▎  | 73/100 [20:14<07:24, 16.47s/it]"
     ]
    },
    {
     "name": "stdout",
     "output_type": "stream",
     "text": [
      "{'total_loss': tensor(3.3787e+12, grad_fn=<AddBackward0>), 'regression_loss': tensor(3.3787e+12, grad_fn=<MseLossBackward0>)}\n",
      "data:\ttotal_loss 3378743345152.0000\tregression_loss 3378743345152.0000 \tbatch 16.0000\n",
      "epoch 73.00%\n"
     ]
    },
    {
     "name": "stderr",
     "output_type": "stream",
     "text": [
      "Epoch:  74%|███████▍  | 74/100 [20:14<07:06, 16.42s/it]\n",
      "                                                       \n",
      "Epoch:  74%|███████▍  | 74/100 [20:19<07:06, 16.42s/it]\n",
      "instances: 0it [00:04, ?it/s]\u001b[A\n",
      "instances: 1it [00:04,  4.46s/it]\u001b[A"
     ]
    },
    {
     "name": "stdout",
     "output_type": "stream",
     "text": [
      "data:\ttotal_loss 3378741772288.0000\tregression_loss 3378741772288.0000 \tbatch 16.0000\n"
     ]
    },
    {
     "name": "stderr",
     "output_type": "stream",
     "text": [
      "                                                       \n",
      "Epoch:  74%|███████▍  | 74/100 [20:23<07:06, 16.42s/it]\n",
      "instances: 1it [00:08,  4.46s/it]\u001b[A\n",
      "instances: 2it [00:08,  4.44s/it]\u001b[A\n"
     ]
    },
    {
     "name": "stdout",
     "output_type": "stream",
     "text": [
      "data:\ttotal_loss 3378730762240.0000\tregression_loss 3378730762240.0000 \tbatch 16.0000\n"
     ]
    },
    {
     "name": "stderr",
     "output_type": "stream",
     "text": [
      "\n",
      "Test: 0it [00:00, ?it/s]\u001b[A\n",
      "                                                       \n",
      "Epoch:  74%|███████▍  | 74/100 [20:27<07:06, 16.42s/it]\n",
      "Test: 1it [00:03,  3.36s/it]\u001b[A"
     ]
    },
    {
     "name": "stdout",
     "output_type": "stream",
     "text": [
      "{'total_loss': tensor(3.3787e+12, grad_fn=<AddBackward0>), 'regression_loss': tensor(3.3787e+12, grad_fn=<MseLossBackward0>)}\n",
      "data:\ttotal_loss 3378739150848.0000\tregression_loss 3378739150848.0000 \tbatch 16.0000\n"
     ]
    },
    {
     "name": "stderr",
     "output_type": "stream",
     "text": [
      "\n",
      "                                                       \n",
      "Epoch:  74%|███████▍  | 74/100 [20:30<07:06, 16.42s/it]\n",
      "Test: 2it [00:06,  3.37s/it]\u001b[A\n",
      "Epoch:  74%|███████▍  | 74/100 [20:30<07:06, 16.42s/it]"
     ]
    },
    {
     "name": "stdout",
     "output_type": "stream",
     "text": [
      "{'total_loss': tensor(3.3787e+12, grad_fn=<AddBackward0>), 'regression_loss': tensor(3.3787e+12, grad_fn=<MseLossBackward0>)}\n",
      "data:\ttotal_loss 3378733383680.0000\tregression_loss 3378733383680.0000 \tbatch 16.0000\n",
      "epoch 74.00%\n"
     ]
    },
    {
     "name": "stderr",
     "output_type": "stream",
     "text": [
      "Epoch:  75%|███████▌  | 75/100 [20:31<06:50, 16.40s/it]\n",
      "                                                       \n",
      "Epoch:  75%|███████▌  | 75/100 [20:35<06:50, 16.40s/it]\n",
      "instances: 0it [00:04, ?it/s]\u001b[A\n",
      "instances: 1it [00:04,  4.49s/it]\u001b[A"
     ]
    },
    {
     "name": "stdout",
     "output_type": "stream",
     "text": [
      "data:\ttotal_loss 3378739412992.0000\tregression_loss 3378739412992.0000 \tbatch 16.0000\n"
     ]
    },
    {
     "name": "stderr",
     "output_type": "stream",
     "text": [
      "                                                       \n",
      "Epoch:  75%|███████▌  | 75/100 [20:40<06:50, 16.40s/it]\n",
      "instances: 1it [00:08,  4.49s/it]\u001b[A\n",
      "instances: 2it [00:08,  4.44s/it]\u001b[A\n"
     ]
    },
    {
     "name": "stdout",
     "output_type": "stream",
     "text": [
      "data:\ttotal_loss 3378733121536.0000\tregression_loss 3378733121536.0000 \tbatch 16.0000\n"
     ]
    },
    {
     "name": "stderr",
     "output_type": "stream",
     "text": [
      "\n",
      "Test: 0it [00:00, ?it/s]\u001b[A\n",
      "                                                       \n",
      "Epoch:  75%|███████▌  | 75/100 [20:43<06:50, 16.40s/it]\n",
      "Test: 1it [00:03,  3.36s/it]\u001b[A"
     ]
    },
    {
     "name": "stdout",
     "output_type": "stream",
     "text": [
      "{'total_loss': tensor(3.3787e+12, grad_fn=<AddBackward0>), 'regression_loss': tensor(3.3787e+12, grad_fn=<MseLossBackward0>)}\n",
      "data:\ttotal_loss 3378734170112.0000\tregression_loss 3378734170112.0000 \tbatch 16.0000\n"
     ]
    },
    {
     "name": "stderr",
     "output_type": "stream",
     "text": [
      "\n",
      "                                                       \n",
      "Epoch:  75%|███████▌  | 75/100 [20:47<06:50, 16.40s/it]\n",
      "Test: 2it [00:06,  3.38s/it]\u001b[A\n",
      "Epoch:  75%|███████▌  | 75/100 [20:47<06:50, 16.40s/it]"
     ]
    },
    {
     "name": "stdout",
     "output_type": "stream",
     "text": [
      "{'total_loss': tensor(3.3787e+12, grad_fn=<AddBackward0>), 'regression_loss': tensor(3.3787e+12, grad_fn=<MseLossBackward0>)}\n",
      "data:\ttotal_loss 3378738364416.0000\tregression_loss 3378738364416.0000 \tbatch 16.0000\n",
      "epoch 75.00%\n"
     ]
    },
    {
     "name": "stderr",
     "output_type": "stream",
     "text": [
      "Epoch:  76%|███████▌  | 76/100 [20:47<06:33, 16.39s/it]\n",
      "                                                       \n",
      "Epoch:  76%|███████▌  | 76/100 [20:52<06:33, 16.39s/it]\n",
      "instances: 0it [00:04, ?it/s]\u001b[A\n",
      "instances: 1it [00:04,  4.46s/it]\u001b[A"
     ]
    },
    {
     "name": "stdout",
     "output_type": "stream",
     "text": [
      "data:\ttotal_loss 3378736267264.0000\tregression_loss 3378736267264.0000 \tbatch 16.0000\n"
     ]
    },
    {
     "name": "stderr",
     "output_type": "stream",
     "text": [
      "                                                       \n",
      "Epoch:  76%|███████▌  | 76/100 [20:56<06:33, 16.39s/it]\n",
      "instances: 1it [00:08,  4.46s/it]\u001b[A\n",
      "instances: 2it [00:08,  4.45s/it]\u001b[A\n"
     ]
    },
    {
     "name": "stdout",
     "output_type": "stream",
     "text": [
      "data:\ttotal_loss 3378736267264.0000\tregression_loss 3378736267264.0000 \tbatch 16.0000\n"
     ]
    },
    {
     "name": "stderr",
     "output_type": "stream",
     "text": [
      "\n",
      "Test: 0it [00:00, ?it/s]\u001b[A\n",
      "                                                       \n",
      "Epoch:  76%|███████▌  | 76/100 [20:59<06:33, 16.39s/it]\n",
      "Test: 1it [00:03,  3.36s/it]\u001b[A"
     ]
    },
    {
     "name": "stdout",
     "output_type": "stream",
     "text": [
      "{'total_loss': tensor(3.3787e+12, grad_fn=<AddBackward0>), 'regression_loss': tensor(3.3787e+12, grad_fn=<MseLossBackward0>)}\n",
      "data:\ttotal_loss 3378742558720.0000\tregression_loss 3378742558720.0000 \tbatch 16.0000\n"
     ]
    },
    {
     "name": "stderr",
     "output_type": "stream",
     "text": [
      "\n",
      "                                                       \n",
      "Epoch:  76%|███████▌  | 76/100 [21:03<06:33, 16.39s/it]\n",
      "Test: 2it [00:06,  3.37s/it]\u001b[A\n",
      "Epoch:  76%|███████▌  | 76/100 [21:03<06:33, 16.39s/it]"
     ]
    },
    {
     "name": "stdout",
     "output_type": "stream",
     "text": [
      "{'total_loss': tensor(3.3787e+12, grad_fn=<AddBackward0>), 'regression_loss': tensor(3.3787e+12, grad_fn=<MseLossBackward0>)}\n",
      "data:\ttotal_loss 3378729975808.0000\tregression_loss 3378729975808.0000 \tbatch 16.0000\n",
      "epoch 76.00%\n"
     ]
    },
    {
     "name": "stderr",
     "output_type": "stream",
     "text": [
      "Epoch:  77%|███████▋  | 77/100 [21:04<06:17, 16.39s/it]\n",
      "instances: 0it [00:00, ?it/s]\u001b[A\n",
      "                                                       \n",
      "Epoch:  77%|███████▋  | 77/100 [21:08<06:17, 16.39s/it]\n",
      "instances: 1it [00:04,  4.49s/it]\u001b[A"
     ]
    },
    {
     "name": "stdout",
     "output_type": "stream",
     "text": [
      "data:\ttotal_loss 3378730762240.0000\tregression_loss 3378730762240.0000 \tbatch 16.0000\n"
     ]
    },
    {
     "name": "stderr",
     "output_type": "stream",
     "text": [
      "\n",
      "                                                       \n",
      "Epoch:  77%|███████▋  | 77/100 [21:13<06:17, 16.39s/it]\n",
      "instances: 2it [00:08,  4.46s/it]\u001b[A\n"
     ]
    },
    {
     "name": "stdout",
     "output_type": "stream",
     "text": [
      "data:\ttotal_loss 3378741772288.0000\tregression_loss 3378741772288.0000 \tbatch 16.0000\n"
     ]
    },
    {
     "name": "stderr",
     "output_type": "stream",
     "text": [
      "\n",
      "                                                       \n",
      "Epoch:  77%|███████▋  | 77/100 [21:16<06:17, 16.39s/it]\n",
      "Test: 0it [00:03, ?it/s]\u001b[A\n",
      "Test: 1it [00:03,  3.37s/it]\u001b[A"
     ]
    },
    {
     "name": "stdout",
     "output_type": "stream",
     "text": [
      "{'total_loss': tensor(3.3787e+12, grad_fn=<AddBackward0>), 'regression_loss': tensor(3.3787e+12, grad_fn=<MseLossBackward0>)}\n",
      "data:\ttotal_loss 3378739412992.0000\tregression_loss 3378739412992.0000 \tbatch 16.0000\n"
     ]
    },
    {
     "name": "stderr",
     "output_type": "stream",
     "text": [
      "                                                       \n",
      "Epoch:  77%|███████▋  | 77/100 [21:19<06:17, 16.39s/it]\n",
      "Test: 1it [00:06,  3.37s/it]\u001b[A\n",
      "Test: 2it [00:06,  3.38s/it]\u001b[A\n",
      "Epoch:  77%|███████▋  | 77/100 [21:19<06:17, 16.39s/it]"
     ]
    },
    {
     "name": "stdout",
     "output_type": "stream",
     "text": [
      "{'total_loss': tensor(3.3787e+12, grad_fn=<AddBackward0>), 'regression_loss': tensor(3.3787e+12, grad_fn=<MseLossBackward0>)}\n",
      "data:\ttotal_loss 3378733121536.0000\tregression_loss 3378733121536.0000 \tbatch 16.0000\n",
      "epoch 77.00%\n"
     ]
    },
    {
     "name": "stderr",
     "output_type": "stream",
     "text": [
      "Epoch:  78%|███████▊  | 78/100 [21:20<06:00, 16.39s/it]\n",
      "                                                       \n",
      "Epoch:  78%|███████▊  | 78/100 [21:25<06:00, 16.39s/it]\n",
      "instances: 0it [00:04, ?it/s]\u001b[A\n",
      "instances: 1it [00:04,  4.51s/it]\u001b[A"
     ]
    },
    {
     "name": "stdout",
     "output_type": "stream",
     "text": [
      "data:\ttotal_loss 3378732072960.0000\tregression_loss 3378732072960.0000 \tbatch 16.0000\n"
     ]
    },
    {
     "name": "stderr",
     "output_type": "stream",
     "text": [
      "                                                       \n",
      "Epoch:  78%|███████▊  | 78/100 [21:29<06:00, 16.39s/it]\n",
      "instances: 1it [00:09,  4.51s/it]\u001b[A\n",
      "instances: 2it [00:09,  4.52s/it]\u001b[A\n"
     ]
    },
    {
     "name": "stdout",
     "output_type": "stream",
     "text": [
      "data:\ttotal_loss 3378740461568.0000\tregression_loss 3378740461568.0000 \tbatch 16.0000\n"
     ]
    },
    {
     "name": "stderr",
     "output_type": "stream",
     "text": [
      "\n",
      "Test: 0it [00:00, ?it/s]\u001b[A\n",
      "                                                       \n",
      "Epoch:  78%|███████▊  | 78/100 [21:32<06:00, 16.39s/it]\n",
      "Test: 1it [00:03,  3.38s/it]\u001b[A"
     ]
    },
    {
     "name": "stdout",
     "output_type": "stream",
     "text": [
      "{'total_loss': tensor(3.3787e+12, grad_fn=<AddBackward0>), 'regression_loss': tensor(3.3787e+12, grad_fn=<MseLossBackward0>)}\n",
      "data:\ttotal_loss 3378739150848.0000\tregression_loss 3378739150848.0000 \tbatch 16.0000\n"
     ]
    },
    {
     "name": "stderr",
     "output_type": "stream",
     "text": [
      "\n",
      "                                                       \n",
      "Epoch:  78%|███████▊  | 78/100 [21:36<06:00, 16.39s/it]\n",
      "Test: 2it [00:06,  3.38s/it]\u001b[A\n",
      "Epoch:  78%|███████▊  | 78/100 [21:36<06:00, 16.39s/it]"
     ]
    },
    {
     "name": "stdout",
     "output_type": "stream",
     "text": [
      "{'total_loss': tensor(3.3787e+12, grad_fn=<AddBackward0>), 'regression_loss': tensor(3.3787e+12, grad_fn=<MseLossBackward0>)}\n",
      "data:\ttotal_loss 3378733383680.0000\tregression_loss 3378733383680.0000 \tbatch 16.0000\n",
      "epoch 78.00%\n"
     ]
    },
    {
     "name": "stderr",
     "output_type": "stream",
     "text": [
      "Epoch:  79%|███████▉  | 79/100 [21:36<05:43, 16.36s/it]\n",
      "instances: 0it [00:00, ?it/s]\u001b[A\n",
      "                                                       \n",
      "Epoch:  79%|███████▉  | 79/100 [21:41<05:43, 16.36s/it]\n",
      "instances: 1it [00:04,  4.48s/it]\u001b[A"
     ]
    },
    {
     "name": "stdout",
     "output_type": "stream",
     "text": [
      "data:\ttotal_loss 3378744393728.0000\tregression_loss 3378744393728.0000 \tbatch 16.0000\n"
     ]
    },
    {
     "name": "stderr",
     "output_type": "stream",
     "text": [
      "\n",
      "                                                       \n",
      "Epoch:  79%|███████▉  | 79/100 [21:45<05:43, 16.36s/it]\n",
      "instances: 2it [00:08,  4.46s/it]\u001b[A\n"
     ]
    },
    {
     "name": "stdout",
     "output_type": "stream",
     "text": [
      "data:\ttotal_loss 3378728140800.0000\tregression_loss 3378728140800.0000 \tbatch 16.0000\n"
     ]
    },
    {
     "name": "stderr",
     "output_type": "stream",
     "text": [
      "\n",
      "                                                       \n",
      "Epoch:  79%|███████▉  | 79/100 [21:49<05:43, 16.36s/it]\n",
      "Test: 0it [00:03, ?it/s]\u001b[A\n",
      "Test: 1it [00:03,  3.37s/it]\u001b[A"
     ]
    },
    {
     "name": "stdout",
     "output_type": "stream",
     "text": [
      "{'total_loss': tensor(3.3787e+12, grad_fn=<AddBackward0>), 'regression_loss': tensor(3.3787e+12, grad_fn=<MseLossBackward0>)}\n",
      "data:\ttotal_loss 3378732859392.0000\tregression_loss 3378732859392.0000 \tbatch 16.0000\n"
     ]
    },
    {
     "name": "stderr",
     "output_type": "stream",
     "text": [
      "                                                       \n",
      "Epoch:  79%|███████▉  | 79/100 [21:52<05:43, 16.36s/it]\n",
      "Test: 1it [00:06,  3.37s/it]\u001b[A\n",
      "Test: 2it [00:06,  3.42s/it]\u001b[A\n",
      "Epoch:  79%|███████▉  | 79/100 [21:52<05:43, 16.36s/it]"
     ]
    },
    {
     "name": "stdout",
     "output_type": "stream",
     "text": [
      "{'total_loss': tensor(3.3787e+12, grad_fn=<AddBackward0>), 'regression_loss': tensor(3.3787e+12, grad_fn=<MseLossBackward0>)}\n",
      "data:\ttotal_loss 3378739675136.0000\tregression_loss 3378739675136.0000 \tbatch 16.0000\n",
      "epoch 79.00%\n"
     ]
    },
    {
     "name": "stderr",
     "output_type": "stream",
     "text": [
      "Epoch:  80%|████████  | 80/100 [21:53<05:27, 16.40s/it]\n",
      "                                                       \n",
      "Epoch:  80%|████████  | 80/100 [21:57<05:27, 16.40s/it]\n",
      "instances: 0it [00:04, ?it/s]\u001b[A\n",
      "instances: 1it [00:04,  4.49s/it]\u001b[A"
     ]
    },
    {
     "name": "stdout",
     "output_type": "stream",
     "text": [
      "data:\ttotal_loss 3378737053696.0000\tregression_loss 3378737053696.0000 \tbatch 16.0000\n"
     ]
    },
    {
     "name": "stderr",
     "output_type": "stream",
     "text": [
      "                                                       \n",
      "Epoch:  80%|████████  | 80/100 [22:02<05:27, 16.40s/it]\n",
      "instances: 1it [00:08,  4.49s/it]\u001b[A\n",
      "instances: 2it [00:08,  4.47s/it]\u001b[A\n"
     ]
    },
    {
     "name": "stdout",
     "output_type": "stream",
     "text": [
      "data:\ttotal_loss 3378735218688.0000\tregression_loss 3378735218688.0000 \tbatch 16.0000\n"
     ]
    },
    {
     "name": "stderr",
     "output_type": "stream",
     "text": [
      "\n",
      "Test: 0it [00:00, ?it/s]\u001b[A\n",
      "                                                       \n",
      "Epoch:  80%|████████  | 80/100 [22:05<05:27, 16.40s/it]\n",
      "Test: 1it [00:03,  3.42s/it]\u001b[A"
     ]
    },
    {
     "name": "stdout",
     "output_type": "stream",
     "text": [
      "{'total_loss': tensor(3.3787e+12, grad_fn=<AddBackward0>), 'regression_loss': tensor(3.3787e+12, grad_fn=<MseLossBackward0>)}\n",
      "data:\ttotal_loss 3378730237952.0000\tregression_loss 3378730237952.0000 \tbatch 16.0000\n"
     ]
    },
    {
     "name": "stderr",
     "output_type": "stream",
     "text": [
      "\n",
      "                                                       \n",
      "Epoch:  80%|████████  | 80/100 [22:09<05:27, 16.40s/it]\n",
      "Test: 2it [00:06,  3.44s/it]\u001b[A\n",
      "Epoch:  80%|████████  | 80/100 [22:09<05:27, 16.40s/it]"
     ]
    },
    {
     "name": "stdout",
     "output_type": "stream",
     "text": [
      "{'total_loss': tensor(3.3787e+12, grad_fn=<AddBackward0>), 'regression_loss': tensor(3.3787e+12, grad_fn=<MseLossBackward0>)}\n",
      "data:\ttotal_loss 3378741772288.0000\tregression_loss 3378741772288.0000 \tbatch 16.0000\n",
      "epoch 80.00%\n"
     ]
    },
    {
     "name": "stderr",
     "output_type": "stream",
     "text": [
      "Epoch:  81%|████████  | 81/100 [22:09<05:12, 16.44s/it]\n",
      "                                                       \n",
      "Epoch:  81%|████████  | 81/100 [22:14<05:12, 16.44s/it]\n",
      "instances: 0it [00:04, ?it/s]\u001b[A\n",
      "instances: 1it [00:04,  4.69s/it]\u001b[A"
     ]
    },
    {
     "name": "stdout",
     "output_type": "stream",
     "text": [
      "data:\ttotal_loss 3378737053696.0000\tregression_loss 3378737053696.0000 \tbatch 16.0000\n"
     ]
    },
    {
     "name": "stderr",
     "output_type": "stream",
     "text": [
      "                                                       \n",
      "Epoch:  81%|████████  | 81/100 [22:19<05:12, 16.44s/it]\n",
      "instances: 1it [00:09,  4.69s/it]\u001b[A\n",
      "instances: 2it [00:09,  4.60s/it]\u001b[A\n"
     ]
    },
    {
     "name": "stdout",
     "output_type": "stream",
     "text": [
      "data:\ttotal_loss 3378735480832.0000\tregression_loss 3378735480832.0000 \tbatch 16.0000\n"
     ]
    },
    {
     "name": "stderr",
     "output_type": "stream",
     "text": [
      "\n",
      "Test: 0it [00:00, ?it/s]\u001b[A\n",
      "                                                       \n",
      "Epoch:  81%|████████  | 81/100 [22:22<05:12, 16.44s/it]\n",
      "Test: 1it [00:03,  3.42s/it]\u001b[A"
     ]
    },
    {
     "name": "stdout",
     "output_type": "stream",
     "text": [
      "{'total_loss': tensor(3.3787e+12, grad_fn=<AddBackward0>), 'regression_loss': tensor(3.3787e+12, grad_fn=<MseLossBackward0>)}\n",
      "data:\ttotal_loss 3378735480832.0000\tregression_loss 3378735480832.0000 \tbatch 16.0000\n"
     ]
    },
    {
     "name": "stderr",
     "output_type": "stream",
     "text": [
      "\n",
      "                                                       \n",
      "Epoch:  81%|████████  | 81/100 [22:25<05:12, 16.44s/it]\n",
      "Test: 2it [00:06,  3.46s/it]\u001b[A\n",
      "Epoch:  81%|████████  | 81/100 [22:25<05:12, 16.44s/it]"
     ]
    },
    {
     "name": "stdout",
     "output_type": "stream",
     "text": [
      "{'total_loss': tensor(3.3787e+12, grad_fn=<AddBackward0>), 'regression_loss': tensor(3.3787e+12, grad_fn=<MseLossBackward0>)}\n",
      "data:\ttotal_loss 3378737053696.0000\tregression_loss 3378737053696.0000 \tbatch 16.0000\n",
      "epoch 81.00%\n"
     ]
    },
    {
     "name": "stderr",
     "output_type": "stream",
     "text": [
      "Epoch:  82%|████████▏ | 82/100 [22:26<04:58, 16.56s/it]\n",
      "instances: 0it [00:00, ?it/s]\u001b[A\n",
      "                                                       \n",
      "Epoch:  82%|████████▏ | 82/100 [22:31<04:58, 16.56s/it]\n",
      "instances: 1it [00:04,  4.71s/it]\u001b[A"
     ]
    },
    {
     "name": "stdout",
     "output_type": "stream",
     "text": [
      "data:\ttotal_loss 3378727878656.0000\tregression_loss 3378727878656.0000 \tbatch 16.0000\n"
     ]
    },
    {
     "name": "stderr",
     "output_type": "stream",
     "text": [
      "\n",
      "                                                       \n",
      "Epoch:  82%|████████▏ | 82/100 [22:35<04:58, 16.56s/it]\n",
      "instances: 2it [00:09,  4.65s/it]\u001b[A\n"
     ]
    },
    {
     "name": "stdout",
     "output_type": "stream",
     "text": [
      "data:\ttotal_loss 3378744655872.0000\tregression_loss 3378744655872.0000 \tbatch 16.0000\n"
     ]
    },
    {
     "name": "stderr",
     "output_type": "stream",
     "text": [
      "\n",
      "                                                       \n",
      "Epoch:  82%|████████▏ | 82/100 [22:39<04:58, 16.56s/it]\n",
      "Test: 0it [00:03, ?it/s]\u001b[A\n",
      "Test: 1it [00:03,  3.54s/it]\u001b[A"
     ]
    },
    {
     "name": "stdout",
     "output_type": "stream",
     "text": [
      "{'total_loss': tensor(3.3787e+12, grad_fn=<AddBackward0>), 'regression_loss': tensor(3.3787e+12, grad_fn=<MseLossBackward0>)}\n",
      "data:\ttotal_loss 3378734432256.0000\tregression_loss 3378734432256.0000 \tbatch 16.0000\n"
     ]
    },
    {
     "name": "stderr",
     "output_type": "stream",
     "text": [
      "                                                       \n",
      "Epoch:  82%|████████▏ | 82/100 [22:43<04:58, 16.56s/it]\n",
      "Test: 1it [00:07,  3.54s/it]\u001b[A\n",
      "Test: 2it [00:07,  3.55s/it]\u001b[A\n",
      "Epoch:  82%|████████▏ | 82/100 [22:43<04:58, 16.56s/it]"
     ]
    },
    {
     "name": "stdout",
     "output_type": "stream",
     "text": [
      "{'total_loss': tensor(3.3787e+12, grad_fn=<AddBackward0>), 'regression_loss': tensor(3.3787e+12, grad_fn=<MseLossBackward0>)}\n",
      "data:\ttotal_loss 3378738364416.0000\tregression_loss 3378738364416.0000 \tbatch 16.0000\n",
      "epoch 82.00%\n"
     ]
    },
    {
     "name": "stderr",
     "output_type": "stream",
     "text": [
      "Epoch:  83%|████████▎ | 83/100 [22:43<04:44, 16.75s/it]\n",
      "instances: 0it [00:00, ?it/s]\u001b[A\n",
      "                                                       \n",
      "Epoch:  83%|████████▎ | 83/100 [22:48<04:44, 16.75s/it]\n",
      "instances: 1it [00:04,  4.53s/it]\u001b[A"
     ]
    },
    {
     "name": "stdout",
     "output_type": "stream",
     "text": [
      "data:\ttotal_loss 3378738102272.0000\tregression_loss 3378738102272.0000 \tbatch 16.0000\n"
     ]
    },
    {
     "name": "stderr",
     "output_type": "stream",
     "text": [
      "\n",
      "                                                       \n",
      "Epoch:  83%|████████▎ | 83/100 [22:52<04:44, 16.75s/it]\n",
      "instances: 2it [00:08,  4.47s/it]\u001b[A\n"
     ]
    },
    {
     "name": "stdout",
     "output_type": "stream",
     "text": [
      "data:\ttotal_loss 3378734170112.0000\tregression_loss 3378734170112.0000 \tbatch 16.0000\n"
     ]
    },
    {
     "name": "stderr",
     "output_type": "stream",
     "text": [
      "\n",
      "Test: 0it [00:00, ?it/s]\u001b[A\n",
      "                                                       \n",
      "Epoch:  83%|████████▎ | 83/100 [22:56<04:44, 16.75s/it]\n",
      "Test: 1it [00:03,  3.36s/it]\u001b[A"
     ]
    },
    {
     "name": "stdout",
     "output_type": "stream",
     "text": [
      "{'total_loss': tensor(3.3787e+12, grad_fn=<AddBackward0>), 'regression_loss': tensor(3.3787e+12, grad_fn=<MseLossBackward0>)}\n",
      "data:\ttotal_loss 3378728665088.0000\tregression_loss 3378728665088.0000 \tbatch 16.0000\n"
     ]
    },
    {
     "name": "stderr",
     "output_type": "stream",
     "text": [
      "\n",
      "                                                       \n",
      "Epoch:  83%|████████▎ | 83/100 [22:59<04:44, 16.75s/it]\n",
      "Test: 2it [00:06,  3.37s/it]\u001b[A\n",
      "Epoch:  83%|████████▎ | 83/100 [22:59<04:44, 16.75s/it]"
     ]
    },
    {
     "name": "stdout",
     "output_type": "stream",
     "text": [
      "{'total_loss': tensor(3.3787e+12, grad_fn=<AddBackward0>), 'regression_loss': tensor(3.3787e+12, grad_fn=<MseLossBackward0>)}\n",
      "data:\ttotal_loss 3378743869440.0000\tregression_loss 3378743869440.0000 \tbatch 16.0000\n",
      "epoch 83.00%\n"
     ]
    },
    {
     "name": "stderr",
     "output_type": "stream",
     "text": [
      "Epoch:  84%|████████▍ | 84/100 [23:00<04:26, 16.64s/it]\n",
      "                                                       \n",
      "Epoch:  84%|████████▍ | 84/100 [23:04<04:26, 16.64s/it]\n",
      "instances: 0it [00:04, ?it/s]\u001b[A\n",
      "instances: 1it [00:04,  4.51s/it]\u001b[A"
     ]
    },
    {
     "name": "stdout",
     "output_type": "stream",
     "text": [
      "data:\ttotal_loss 3378737053696.0000\tregression_loss 3378737053696.0000 \tbatch 16.0000\n"
     ]
    },
    {
     "name": "stderr",
     "output_type": "stream",
     "text": [
      "                                                       \n",
      "Epoch:  84%|████████▍ | 84/100 [23:09<04:26, 16.64s/it]\n",
      "instances: 1it [00:08,  4.51s/it]\u001b[A\n",
      "instances: 2it [00:08,  4.47s/it]\u001b[A\n"
     ]
    },
    {
     "name": "stdout",
     "output_type": "stream",
     "text": [
      "data:\ttotal_loss 3378735480832.0000\tregression_loss 3378735480832.0000 \tbatch 16.0000\n"
     ]
    },
    {
     "name": "stderr",
     "output_type": "stream",
     "text": [
      "\n",
      "                                                       \n",
      "Epoch:  84%|████████▍ | 84/100 [23:12<04:26, 16.64s/it]\n",
      "Test: 0it [00:03, ?it/s]\u001b[A\n",
      "Test: 1it [00:03,  3.40s/it]\u001b[A"
     ]
    },
    {
     "name": "stdout",
     "output_type": "stream",
     "text": [
      "{'total_loss': tensor(3.3787e+12, grad_fn=<AddBackward0>), 'regression_loss': tensor(3.3787e+12, grad_fn=<MseLossBackward0>)}\n",
      "data:\ttotal_loss 3378731286528.0000\tregression_loss 3378731286528.0000 \tbatch 16.0000\n"
     ]
    },
    {
     "name": "stderr",
     "output_type": "stream",
     "text": [
      "                                                       \n",
      "Epoch:  84%|████████▍ | 84/100 [23:16<04:26, 16.64s/it]\n",
      "Test: 1it [00:06,  3.40s/it]\u001b[A\n",
      "Test: 2it [00:06,  3.43s/it]\u001b[A\n",
      "Epoch:  84%|████████▍ | 84/100 [23:16<04:26, 16.64s/it]"
     ]
    },
    {
     "name": "stdout",
     "output_type": "stream",
     "text": [
      "{'total_loss': tensor(3.3787e+12, grad_fn=<AddBackward0>), 'regression_loss': tensor(3.3787e+12, grad_fn=<MseLossBackward0>)}\n",
      "data:\ttotal_loss 3378741248000.0000\tregression_loss 3378741248000.0000 \tbatch 16.0000\n",
      "epoch 84.00%\n"
     ]
    },
    {
     "name": "stderr",
     "output_type": "stream",
     "text": [
      "Epoch:  85%|████████▌ | 85/100 [23:16<04:08, 16.57s/it]\n",
      "instances: 0it [00:00, ?it/s]\u001b[A\n",
      "                                                       \n",
      "Epoch:  85%|████████▌ | 85/100 [23:21<04:08, 16.57s/it]\n",
      "instances: 1it [00:04,  4.56s/it]\u001b[A"
     ]
    },
    {
     "name": "stdout",
     "output_type": "stream",
     "text": [
      "data:\ttotal_loss 3378727878656.0000\tregression_loss 3378727878656.0000 \tbatch 16.0000\n"
     ]
    },
    {
     "name": "stderr",
     "output_type": "stream",
     "text": [
      "\n",
      "                                                       \n",
      "Epoch:  85%|████████▌ | 85/100 [23:25<04:08, 16.57s/it]\n",
      "instances: 2it [00:08,  4.49s/it]\u001b[A\n"
     ]
    },
    {
     "name": "stdout",
     "output_type": "stream",
     "text": [
      "data:\ttotal_loss 3378744655872.0000\tregression_loss 3378744655872.0000 \tbatch 16.0000\n"
     ]
    },
    {
     "name": "stderr",
     "output_type": "stream",
     "text": [
      "\n",
      "Test: 0it [00:00, ?it/s]\u001b[A\n",
      "                                                       \n",
      "Epoch:  85%|████████▌ | 85/100 [23:29<04:08, 16.57s/it]\n",
      "Test: 1it [00:03,  3.46s/it]\u001b[A"
     ]
    },
    {
     "name": "stdout",
     "output_type": "stream",
     "text": [
      "{'total_loss': tensor(3.3787e+12, grad_fn=<AddBackward0>), 'regression_loss': tensor(3.3787e+12, grad_fn=<MseLossBackward0>)}\n",
      "data:\ttotal_loss 3378734432256.0000\tregression_loss 3378734432256.0000 \tbatch 16.0000\n"
     ]
    },
    {
     "name": "stderr",
     "output_type": "stream",
     "text": [
      "\n",
      "                                                       \n",
      "Epoch:  85%|████████▌ | 85/100 [23:32<04:08, 16.57s/it]\n",
      "Test: 2it [00:06,  3.43s/it]\u001b[A\n",
      "Epoch:  85%|████████▌ | 85/100 [23:32<04:08, 16.57s/it]"
     ]
    },
    {
     "name": "stdout",
     "output_type": "stream",
     "text": [
      "{'total_loss': tensor(3.3787e+12, grad_fn=<AddBackward0>), 'regression_loss': tensor(3.3787e+12, grad_fn=<MseLossBackward0>)}\n",
      "data:\ttotal_loss 3378737577984.0000\tregression_loss 3378737577984.0000 \tbatch 16.0000\n",
      "epoch 85.00%\n"
     ]
    },
    {
     "name": "stderr",
     "output_type": "stream",
     "text": [
      "Epoch:  86%|████████▌ | 86/100 [23:33<03:52, 16.57s/it]\n",
      "instances: 0it [00:00, ?it/s]\u001b[A\n",
      "                                                       \n",
      "Epoch:  86%|████████▌ | 86/100 [23:37<03:52, 16.57s/it]\n",
      "instances: 1it [00:04,  4.49s/it]\u001b[A"
     ]
    },
    {
     "name": "stdout",
     "output_type": "stream",
     "text": [
      "data:\ttotal_loss 3378735480832.0000\tregression_loss 3378735480832.0000 \tbatch 16.0000\n"
     ]
    },
    {
     "name": "stderr",
     "output_type": "stream",
     "text": [
      "\n",
      "                                                       \n",
      "Epoch:  86%|████████▌ | 86/100 [23:42<03:52, 16.57s/it]\n",
      "instances: 2it [00:08,  4.47s/it]\u001b[A\n"
     ]
    },
    {
     "name": "stdout",
     "output_type": "stream",
     "text": [
      "data:\ttotal_loss 3378737053696.0000\tregression_loss 3378737053696.0000 \tbatch 16.0000\n"
     ]
    },
    {
     "name": "stderr",
     "output_type": "stream",
     "text": [
      "\n",
      "                                                       \n",
      "Epoch:  86%|████████▌ | 86/100 [23:45<03:52, 16.57s/it]\n",
      "Test: 0it [00:03, ?it/s]\u001b[A\n",
      "Test: 1it [00:03,  3.37s/it]\u001b[A"
     ]
    },
    {
     "name": "stdout",
     "output_type": "stream",
     "text": [
      "{'total_loss': tensor(3.3787e+12, grad_fn=<AddBackward0>), 'regression_loss': tensor(3.3787e+12, grad_fn=<MseLossBackward0>)}\n",
      "data:\ttotal_loss 3378737577984.0000\tregression_loss 3378737577984.0000 \tbatch 16.0000\n"
     ]
    },
    {
     "name": "stderr",
     "output_type": "stream",
     "text": [
      "                                                       \n",
      "Epoch:  86%|████████▌ | 86/100 [23:48<03:52, 16.57s/it]\n",
      "Test: 1it [00:06,  3.37s/it]\u001b[A\n",
      "Test: 2it [00:06,  3.40s/it]\u001b[A\n",
      "Epoch:  86%|████████▌ | 86/100 [23:48<03:52, 16.57s/it]"
     ]
    },
    {
     "name": "stdout",
     "output_type": "stream",
     "text": [
      "{'total_loss': tensor(3.3787e+12, grad_fn=<AddBackward0>), 'regression_loss': tensor(3.3787e+12, grad_fn=<MseLossBackward0>)}\n",
      "data:\ttotal_loss 3378734956544.0000\tregression_loss 3378734956544.0000 \tbatch 16.0000\n",
      "epoch 86.00%\n"
     ]
    },
    {
     "name": "stderr",
     "output_type": "stream",
     "text": [
      "Epoch:  87%|████████▋ | 87/100 [23:49<03:34, 16.53s/it]\n",
      "instances: 0it [00:00, ?it/s]\u001b[A\n",
      "                                                       \n",
      "Epoch:  87%|████████▋ | 87/100 [23:54<03:34, 16.53s/it]\n",
      "instances: 1it [00:04,  4.54s/it]\u001b[A"
     ]
    },
    {
     "name": "stdout",
     "output_type": "stream",
     "text": [
      "data:\ttotal_loss 3378734170112.0000\tregression_loss 3378734170112.0000 \tbatch 16.0000\n"
     ]
    },
    {
     "name": "stderr",
     "output_type": "stream",
     "text": [
      "\n",
      "                                                       \n",
      "Epoch:  87%|████████▋ | 87/100 [23:58<03:34, 16.53s/it]\n",
      "instances: 2it [00:08,  4.49s/it]\u001b[A\n"
     ]
    },
    {
     "name": "stdout",
     "output_type": "stream",
     "text": [
      "data:\ttotal_loss 3378738102272.0000\tregression_loss 3378738102272.0000 \tbatch 16.0000\n"
     ]
    },
    {
     "name": "stderr",
     "output_type": "stream",
     "text": [
      "\n",
      "Test: 0it [00:00, ?it/s]\u001b[A\n",
      "                                                       \n",
      "Epoch:  87%|████████▋ | 87/100 [24:01<03:34, 16.53s/it]\n",
      "Test: 1it [00:03,  3.34s/it]\u001b[A"
     ]
    },
    {
     "name": "stdout",
     "output_type": "stream",
     "text": [
      "{'total_loss': tensor(3.3787e+12, grad_fn=<AddBackward0>), 'regression_loss': tensor(3.3787e+12, grad_fn=<MseLossBackward0>)}\n",
      "data:\ttotal_loss 3378733383680.0000\tregression_loss 3378733383680.0000 \tbatch 16.0000\n"
     ]
    },
    {
     "name": "stderr",
     "output_type": "stream",
     "text": [
      "\n",
      "                                                       \n",
      "Epoch:  87%|████████▋ | 87/100 [24:05<03:34, 16.53s/it]\n",
      "Test: 2it [00:06,  3.37s/it]\u001b[A\n",
      "Epoch:  87%|████████▋ | 87/100 [24:05<03:34, 16.53s/it]"
     ]
    },
    {
     "name": "stdout",
     "output_type": "stream",
     "text": [
      "{'total_loss': tensor(3.3787e+12, grad_fn=<AddBackward0>), 'regression_loss': tensor(3.3787e+12, grad_fn=<MseLossBackward0>)}\n",
      "data:\ttotal_loss 3378739150848.0000\tregression_loss 3378739150848.0000 \tbatch 16.0000\n",
      "epoch 87.00%\n"
     ]
    },
    {
     "name": "stderr",
     "output_type": "stream",
     "text": [
      "Epoch:  88%|████████▊ | 88/100 [24:06<03:17, 16.50s/it]\n",
      "instances: 0it [00:00, ?it/s]\u001b[A\n",
      "                                                       \n",
      "Epoch:  88%|████████▊ | 88/100 [24:10<03:17, 16.50s/it]\n",
      "instances: 1it [00:04,  4.52s/it]\u001b[A"
     ]
    },
    {
     "name": "stdout",
     "output_type": "stream",
     "text": [
      "data:\ttotal_loss 3378729189376.0000\tregression_loss 3378729189376.0000 \tbatch 16.0000\n"
     ]
    },
    {
     "name": "stderr",
     "output_type": "stream",
     "text": [
      "\n",
      "                                                       \n",
      "Epoch:  88%|████████▊ | 88/100 [24:15<03:17, 16.50s/it]\n",
      "instances: 2it [00:08,  4.47s/it]\u001b[A\n"
     ]
    },
    {
     "name": "stdout",
     "output_type": "stream",
     "text": [
      "data:\ttotal_loss 3378743345152.0000\tregression_loss 3378743345152.0000 \tbatch 16.0000\n"
     ]
    },
    {
     "name": "stderr",
     "output_type": "stream",
     "text": [
      "\n",
      "                                                       \n",
      "Epoch:  88%|████████▊ | 88/100 [24:18<03:17, 16.50s/it]\n",
      "Test: 0it [00:03, ?it/s]\u001b[A\n",
      "Test: 1it [00:03,  3.36s/it]\u001b[A"
     ]
    },
    {
     "name": "stdout",
     "output_type": "stream",
     "text": [
      "{'total_loss': tensor(3.3787e+12, grad_fn=<AddBackward0>), 'regression_loss': tensor(3.3787e+12, grad_fn=<MseLossBackward0>)}\n",
      "data:\ttotal_loss 3378737053696.0000\tregression_loss 3378737053696.0000 \tbatch 16.0000\n"
     ]
    },
    {
     "name": "stderr",
     "output_type": "stream",
     "text": [
      "                                                       \n",
      "Epoch:  88%|████████▊ | 88/100 [24:21<03:17, 16.50s/it]\n",
      "Test: 1it [00:06,  3.36s/it]\u001b[A\n",
      "Test: 2it [00:06,  3.38s/it]\u001b[A\n",
      "Epoch:  88%|████████▊ | 88/100 [24:21<03:17, 16.50s/it]"
     ]
    },
    {
     "name": "stdout",
     "output_type": "stream",
     "text": [
      "{'total_loss': tensor(3.3787e+12, grad_fn=<AddBackward0>), 'regression_loss': tensor(3.3787e+12, grad_fn=<MseLossBackward0>)}\n",
      "data:\ttotal_loss 3378735480832.0000\tregression_loss 3378735480832.0000 \tbatch 16.0000\n",
      "epoch 88.00%\n"
     ]
    },
    {
     "name": "stderr",
     "output_type": "stream",
     "text": [
      "Epoch:  89%|████████▉ | 89/100 [24:22<03:01, 16.48s/it]\n",
      "instances: 0it [00:00, ?it/s]\u001b[A\n",
      "                                                       \n",
      "Epoch:  89%|████████▉ | 89/100 [24:27<03:01, 16.48s/it]\n",
      "instances: 1it [00:04,  4.54s/it]\u001b[A"
     ]
    },
    {
     "name": "stdout",
     "output_type": "stream",
     "text": [
      "data:\ttotal_loss 3378737577984.0000\tregression_loss 3378737577984.0000 \tbatch 16.0000\n"
     ]
    },
    {
     "name": "stderr",
     "output_type": "stream",
     "text": [
      "\n",
      "                                                       \n",
      "Epoch:  89%|████████▉ | 89/100 [24:31<03:01, 16.48s/it]\n",
      "instances: 2it [00:08,  4.48s/it]\u001b[A\n"
     ]
    },
    {
     "name": "stdout",
     "output_type": "stream",
     "text": [
      "data:\ttotal_loss 3378734956544.0000\tregression_loss 3378734956544.0000 \tbatch 16.0000\n"
     ]
    },
    {
     "name": "stderr",
     "output_type": "stream",
     "text": [
      "\n",
      "                                                       \n",
      "Epoch:  89%|████████▉ | 89/100 [24:34<03:01, 16.48s/it]\n",
      "Test: 0it [00:03, ?it/s]\u001b[A\n",
      "Test: 1it [00:03,  3.35s/it]\u001b[A"
     ]
    },
    {
     "name": "stdout",
     "output_type": "stream",
     "text": [
      "{'total_loss': tensor(3.3787e+12, grad_fn=<AddBackward0>), 'regression_loss': tensor(3.3787e+12, grad_fn=<MseLossBackward0>)}\n",
      "data:\ttotal_loss 3378729189376.0000\tregression_loss 3378729189376.0000 \tbatch 16.0000\n"
     ]
    },
    {
     "name": "stderr",
     "output_type": "stream",
     "text": [
      "                                                       \n",
      "Epoch:  89%|████████▉ | 89/100 [24:38<03:01, 16.48s/it]\n",
      "Test: 1it [00:06,  3.35s/it]\u001b[A\n",
      "Test: 2it [00:06,  3.36s/it]\u001b[A\n",
      "Epoch:  89%|████████▉ | 89/100 [24:38<03:01, 16.48s/it]"
     ]
    },
    {
     "name": "stdout",
     "output_type": "stream",
     "text": [
      "{'total_loss': tensor(3.3787e+12, grad_fn=<AddBackward0>), 'regression_loss': tensor(3.3787e+12, grad_fn=<MseLossBackward0>)}\n",
      "data:\ttotal_loss 3378743345152.0000\tregression_loss 3378743345152.0000 \tbatch 16.0000\n",
      "epoch 89.00%\n"
     ]
    },
    {
     "name": "stderr",
     "output_type": "stream",
     "text": [
      "Epoch:  90%|█████████ | 90/100 [24:38<02:44, 16.44s/it]\n",
      "                                                       \n",
      "Epoch:  90%|█████████ | 90/100 [24:43<02:44, 16.44s/it]\n",
      "instances: 0it [00:04, ?it/s]\u001b[A\n",
      "instances: 1it [00:04,  4.47s/it]\u001b[A"
     ]
    },
    {
     "name": "stdout",
     "output_type": "stream",
     "text": [
      "data:\ttotal_loss 3378728927232.0000\tregression_loss 3378728927232.0000 \tbatch 16.0000\n"
     ]
    },
    {
     "name": "stderr",
     "output_type": "stream",
     "text": [
      "                                                       \n",
      "Epoch:  90%|█████████ | 90/100 [24:47<02:44, 16.44s/it]\n",
      "instances: 1it [00:08,  4.47s/it]\u001b[A\n",
      "instances: 2it [00:08,  4.46s/it]\u001b[A\n"
     ]
    },
    {
     "name": "stdout",
     "output_type": "stream",
     "text": [
      "data:\ttotal_loss 3378743345152.0000\tregression_loss 3378743345152.0000 \tbatch 16.0000\n"
     ]
    },
    {
     "name": "stderr",
     "output_type": "stream",
     "text": [
      "\n",
      "Test: 0it [00:00, ?it/s]\u001b[A\n",
      "                                                       \n",
      "Epoch:  90%|█████████ | 90/100 [24:51<02:44, 16.44s/it]\n",
      "Test: 1it [00:03,  3.40s/it]\u001b[A"
     ]
    },
    {
     "name": "stdout",
     "output_type": "stream",
     "text": [
      "{'total_loss': tensor(3.3787e+12, grad_fn=<AddBackward0>), 'regression_loss': tensor(3.3787e+12, grad_fn=<MseLossBackward0>)}\n",
      "data:\ttotal_loss 3378735218688.0000\tregression_loss 3378735218688.0000 \tbatch 16.0000\n"
     ]
    },
    {
     "name": "stderr",
     "output_type": "stream",
     "text": [
      "\n",
      "                                                       \n",
      "Epoch:  90%|█████████ | 90/100 [24:54<02:44, 16.44s/it]\n",
      "Test: 2it [00:06,  3.40s/it]\u001b[A\n",
      "Epoch:  90%|█████████ | 90/100 [24:54<02:44, 16.44s/it]"
     ]
    },
    {
     "name": "stdout",
     "output_type": "stream",
     "text": [
      "{'total_loss': tensor(3.3787e+12, grad_fn=<AddBackward0>), 'regression_loss': tensor(3.3787e+12, grad_fn=<MseLossBackward0>)}\n",
      "data:\ttotal_loss 3378737577984.0000\tregression_loss 3378737577984.0000 \tbatch 16.0000\n",
      "epoch 90.00%\n"
     ]
    },
    {
     "name": "stderr",
     "output_type": "stream",
     "text": [
      "Epoch:  91%|█████████ | 91/100 [24:55<02:27, 16.41s/it]\n",
      "                                                       \n",
      "Epoch:  91%|█████████ | 91/100 [24:59<02:27, 16.41s/it]\n",
      "instances: 0it [00:04, ?it/s]\u001b[A\n",
      "instances: 1it [00:04,  4.50s/it]\u001b[A"
     ]
    },
    {
     "name": "stdout",
     "output_type": "stream",
     "text": [
      "data:\ttotal_loss 3378743607296.0000\tregression_loss 3378743607296.0000 \tbatch 16.0000\n"
     ]
    },
    {
     "name": "stderr",
     "output_type": "stream",
     "text": [
      "                                                       \n",
      "Epoch:  91%|█████████ | 91/100 [25:04<02:27, 16.41s/it]\n",
      "instances: 1it [00:08,  4.50s/it]\u001b[A\n",
      "instances: 2it [00:08,  4.46s/it]\u001b[A\n"
     ]
    },
    {
     "name": "stdout",
     "output_type": "stream",
     "text": [
      "data:\ttotal_loss 3378729189376.0000\tregression_loss 3378729189376.0000 \tbatch 16.0000\n"
     ]
    },
    {
     "name": "stderr",
     "output_type": "stream",
     "text": [
      "\n",
      "Test: 0it [00:00, ?it/s]\u001b[A\n",
      "                                                       \n",
      "Epoch:  91%|█████████ | 91/100 [25:07<02:27, 16.41s/it]\n",
      "Test: 1it [00:03,  3.34s/it]\u001b[A"
     ]
    },
    {
     "name": "stdout",
     "output_type": "stream",
     "text": [
      "{'total_loss': tensor(3.3787e+12, grad_fn=<AddBackward0>), 'regression_loss': tensor(3.3787e+12, grad_fn=<MseLossBackward0>)}\n",
      "data:\ttotal_loss 3378730237952.0000\tregression_loss 3378730237952.0000 \tbatch 16.0000\n"
     ]
    },
    {
     "name": "stderr",
     "output_type": "stream",
     "text": [
      "\n",
      "                                                       \n",
      "Epoch:  91%|█████████ | 91/100 [25:10<02:27, 16.41s/it]\n",
      "Test: 2it [00:06,  3.37s/it]\u001b[A\n",
      "Epoch:  91%|█████████ | 91/100 [25:10<02:27, 16.41s/it]"
     ]
    },
    {
     "name": "stdout",
     "output_type": "stream",
     "text": [
      "{'total_loss': tensor(3.3787e+12, grad_fn=<AddBackward0>), 'regression_loss': tensor(3.3787e+12, grad_fn=<MseLossBackward0>)}\n",
      "data:\ttotal_loss 3378741772288.0000\tregression_loss 3378741772288.0000 \tbatch 16.0000\n",
      "epoch 91.00%\n"
     ]
    },
    {
     "name": "stderr",
     "output_type": "stream",
     "text": [
      "Epoch:  92%|█████████▏| 92/100 [25:11<02:11, 16.39s/it]\n",
      "                                                       \n",
      "Epoch:  92%|█████████▏| 92/100 [25:16<02:11, 16.39s/it]\n",
      "instances: 0it [00:04, ?it/s]\u001b[A\n",
      "instances: 1it [00:04,  4.47s/it]\u001b[A"
     ]
    },
    {
     "name": "stdout",
     "output_type": "stream",
     "text": [
      "data:\ttotal_loss 3378743345152.0000\tregression_loss 3378743345152.0000 \tbatch 16.0000\n"
     ]
    },
    {
     "name": "stderr",
     "output_type": "stream",
     "text": [
      "                                                       \n",
      "Epoch:  92%|█████████▏| 92/100 [25:20<02:11, 16.39s/it]\n",
      "instances: 1it [00:08,  4.47s/it]\u001b[A\n",
      "instances: 2it [00:08,  4.46s/it]\u001b[A\n"
     ]
    },
    {
     "name": "stdout",
     "output_type": "stream",
     "text": [
      "data:\ttotal_loss 3378729189376.0000\tregression_loss 3378729189376.0000 \tbatch 16.0000\n"
     ]
    },
    {
     "name": "stderr",
     "output_type": "stream",
     "text": [
      "\n",
      "                                                       \n",
      "Epoch:  92%|█████████▏| 92/100 [25:23<02:11, 16.39s/it]\n",
      "Test: 0it [00:03, ?it/s]\u001b[A\n",
      "Test: 1it [00:03,  3.37s/it]\u001b[A"
     ]
    },
    {
     "name": "stdout",
     "output_type": "stream",
     "text": [
      "{'total_loss': tensor(3.3787e+12, grad_fn=<AddBackward0>), 'regression_loss': tensor(3.3787e+12, grad_fn=<MseLossBackward0>)}\n",
      "data:\ttotal_loss 3378729189376.0000\tregression_loss 3378729189376.0000 \tbatch 16.0000\n"
     ]
    },
    {
     "name": "stderr",
     "output_type": "stream",
     "text": [
      "                                                       \n",
      "Epoch:  92%|█████████▏| 92/100 [25:27<02:11, 16.39s/it]\n",
      "Test: 1it [00:06,  3.37s/it]\u001b[A\n",
      "Test: 2it [00:06,  3.40s/it]\u001b[A\n",
      "Epoch:  92%|█████████▏| 92/100 [25:27<02:11, 16.39s/it]"
     ]
    },
    {
     "name": "stdout",
     "output_type": "stream",
     "text": [
      "{'total_loss': tensor(3.3787e+12, grad_fn=<AddBackward0>), 'regression_loss': tensor(3.3787e+12, grad_fn=<MseLossBackward0>)}\n",
      "data:\ttotal_loss 3378743345152.0000\tregression_loss 3378743345152.0000 \tbatch 16.0000\n",
      "epoch 92.00%\n"
     ]
    },
    {
     "name": "stderr",
     "output_type": "stream",
     "text": [
      "Epoch:  93%|█████████▎| 93/100 [25:27<01:54, 16.40s/it]\n",
      "instances: 0it [00:00, ?it/s]\u001b[A\n",
      "                                                       \n",
      "Epoch:  93%|█████████▎| 93/100 [25:32<01:54, 16.40s/it]\n",
      "instances: 1it [00:04,  4.46s/it]\u001b[A"
     ]
    },
    {
     "name": "stdout",
     "output_type": "stream",
     "text": [
      "data:\ttotal_loss 3378729975808.0000\tregression_loss 3378729975808.0000 \tbatch 16.0000\n"
     ]
    },
    {
     "name": "stderr",
     "output_type": "stream",
     "text": [
      "\n",
      "                                                       \n",
      "Epoch:  93%|█████████▎| 93/100 [25:36<01:54, 16.40s/it]\n",
      "instances: 2it [00:08,  4.46s/it]\u001b[A\n"
     ]
    },
    {
     "name": "stdout",
     "output_type": "stream",
     "text": [
      "data:\ttotal_loss 3378742558720.0000\tregression_loss 3378742558720.0000 \tbatch 16.0000\n"
     ]
    },
    {
     "name": "stderr",
     "output_type": "stream",
     "text": [
      "\n",
      "Test: 0it [00:00, ?it/s]\u001b[A\n",
      "                                                       \n",
      "Epoch:  93%|█████████▎| 93/100 [25:40<01:54, 16.40s/it]\n",
      "Test: 1it [00:03,  3.40s/it]\u001b[A"
     ]
    },
    {
     "name": "stdout",
     "output_type": "stream",
     "text": [
      "{'total_loss': tensor(3.3787e+12, grad_fn=<AddBackward0>), 'regression_loss': tensor(3.3787e+12, grad_fn=<MseLossBackward0>)}\n",
      "data:\ttotal_loss 3378741248000.0000\tregression_loss 3378741248000.0000 \tbatch 16.0000\n"
     ]
    },
    {
     "name": "stderr",
     "output_type": "stream",
     "text": [
      "\n",
      "                                                       \n",
      "Epoch:  93%|█████████▎| 93/100 [25:43<01:54, 16.40s/it]\n",
      "Test: 2it [00:06,  3.45s/it]\u001b[A\n",
      "Epoch:  93%|█████████▎| 93/100 [25:43<01:54, 16.40s/it]"
     ]
    },
    {
     "name": "stdout",
     "output_type": "stream",
     "text": [
      "{'total_loss': tensor(3.3787e+12, grad_fn=<AddBackward0>), 'regression_loss': tensor(3.3787e+12, grad_fn=<MseLossBackward0>)}\n",
      "data:\ttotal_loss 3378731286528.0000\tregression_loss 3378731286528.0000 \tbatch 16.0000\n",
      "epoch 93.00%\n"
     ]
    },
    {
     "name": "stderr",
     "output_type": "stream",
     "text": [
      "Epoch:  94%|█████████▍| 94/100 [25:44<01:38, 16.44s/it]\n",
      "                                                       \n",
      "Epoch:  94%|█████████▍| 94/100 [25:49<01:38, 16.44s/it]\n",
      "instances: 0it [00:04, ?it/s]\u001b[A\n",
      "instances: 1it [00:04,  4.52s/it]\u001b[A"
     ]
    },
    {
     "name": "stdout",
     "output_type": "stream",
     "text": [
      "data:\ttotal_loss 3378731024384.0000\tregression_loss 3378731024384.0000 \tbatch 16.0000\n"
     ]
    },
    {
     "name": "stderr",
     "output_type": "stream",
     "text": [
      "                                                       \n",
      "Epoch:  94%|█████████▍| 94/100 [25:53<01:38, 16.44s/it]\n",
      "instances: 1it [00:09,  4.52s/it]\u001b[A\n",
      "instances: 2it [00:09,  4.51s/it]\u001b[A\n"
     ]
    },
    {
     "name": "stdout",
     "output_type": "stream",
     "text": [
      "data:\ttotal_loss 3378741510144.0000\tregression_loss 3378741510144.0000 \tbatch 16.0000\n"
     ]
    },
    {
     "name": "stderr",
     "output_type": "stream",
     "text": [
      "\n",
      "                                                       \n",
      "Epoch:  94%|█████████▍| 94/100 [25:56<01:38, 16.44s/it]\n",
      "Test: 0it [00:03, ?it/s]\u001b[A\n",
      "Test: 1it [00:03,  3.37s/it]\u001b[A"
     ]
    },
    {
     "name": "stdout",
     "output_type": "stream",
     "text": [
      "{'total_loss': tensor(3.3787e+12, grad_fn=<AddBackward0>), 'regression_loss': tensor(3.3787e+12, grad_fn=<MseLossBackward0>)}\n",
      "data:\ttotal_loss 3378732859392.0000\tregression_loss 3378732859392.0000 \tbatch 16.0000\n"
     ]
    },
    {
     "name": "stderr",
     "output_type": "stream",
     "text": [
      "                                                       \n",
      "Epoch:  94%|█████████▍| 94/100 [26:00<01:38, 16.44s/it]\n",
      "Test: 1it [00:06,  3.37s/it]\u001b[A\n",
      "Test: 2it [00:06,  3.38s/it]\u001b[A\n",
      "Epoch:  94%|█████████▍| 94/100 [26:00<01:38, 16.44s/it]"
     ]
    },
    {
     "name": "stdout",
     "output_type": "stream",
     "text": [
      "{'total_loss': tensor(3.3787e+12, grad_fn=<AddBackward0>), 'regression_loss': tensor(3.3787e+12, grad_fn=<MseLossBackward0>)}\n",
      "data:\ttotal_loss 3378739675136.0000\tregression_loss 3378739675136.0000 \tbatch 16.0000\n",
      "epoch 94.00%\n"
     ]
    },
    {
     "name": "stderr",
     "output_type": "stream",
     "text": [
      "Epoch:  95%|█████████▌| 95/100 [26:00<01:22, 16.45s/it]\n",
      "instances: 0it [00:00, ?it/s]\u001b[A\n",
      "                                                       \n",
      "Epoch:  95%|█████████▌| 95/100 [26:05<01:22, 16.45s/it]\n",
      "instances: 1it [00:04,  4.46s/it]\u001b[A"
     ]
    },
    {
     "name": "stdout",
     "output_type": "stream",
     "text": [
      "data:\ttotal_loss 3378726567936.0000\tregression_loss 3378726567936.0000 \tbatch 16.0000\n"
     ]
    },
    {
     "name": "stderr",
     "output_type": "stream",
     "text": [
      "\n",
      "                                                       \n",
      "Epoch:  95%|█████████▌| 95/100 [26:09<01:22, 16.45s/it]\n",
      "instances: 2it [00:08,  4.43s/it]\u001b[A\n"
     ]
    },
    {
     "name": "stdout",
     "output_type": "stream",
     "text": [
      "data:\ttotal_loss 3378745966592.0000\tregression_loss 3378745966592.0000 \tbatch 16.0000\n"
     ]
    },
    {
     "name": "stderr",
     "output_type": "stream",
     "text": [
      "\n",
      "                                                       \n",
      "Epoch:  95%|█████████▌| 95/100 [26:13<01:22, 16.45s/it]\n",
      "Test: 0it [00:03, ?it/s]\u001b[A\n",
      "Test: 1it [00:03,  3.38s/it]\u001b[A"
     ]
    },
    {
     "name": "stdout",
     "output_type": "stream",
     "text": [
      "{'total_loss': tensor(3.3787e+12, grad_fn=<AddBackward0>), 'regression_loss': tensor(3.3787e+12, grad_fn=<MseLossBackward0>)}\n",
      "data:\ttotal_loss 3378733121536.0000\tregression_loss 3378733121536.0000 \tbatch 16.0000\n"
     ]
    },
    {
     "name": "stderr",
     "output_type": "stream",
     "text": [
      "                                                       \n",
      "Epoch:  95%|█████████▌| 95/100 [26:16<01:22, 16.45s/it]\n",
      "Test: 1it [00:06,  3.38s/it]\u001b[A\n",
      "Test: 2it [00:06,  3.42s/it]\u001b[A\n",
      "Epoch:  95%|█████████▌| 95/100 [26:16<01:22, 16.45s/it]"
     ]
    },
    {
     "name": "stdout",
     "output_type": "stream",
     "text": [
      "{'total_loss': tensor(3.3787e+12, grad_fn=<AddBackward0>), 'regression_loss': tensor(3.3787e+12, grad_fn=<MseLossBackward0>)}\n",
      "data:\ttotal_loss 3378739675136.0000\tregression_loss 3378739675136.0000 \tbatch 16.0000\n",
      "epoch 95.00%\n"
     ]
    },
    {
     "name": "stderr",
     "output_type": "stream",
     "text": [
      "Epoch:  96%|█████████▌| 96/100 [26:17<01:05, 16.45s/it]\n",
      "instances: 0it [00:00, ?it/s]\u001b[A\n",
      "                                                       \n",
      "Epoch:  96%|█████████▌| 96/100 [26:21<01:05, 16.45s/it]\n",
      "instances: 1it [00:04,  4.49s/it]\u001b[A"
     ]
    },
    {
     "name": "stdout",
     "output_type": "stream",
     "text": [
      "data:\ttotal_loss 3378732072960.0000\tregression_loss 3378732072960.0000 \tbatch 16.0000\n"
     ]
    },
    {
     "name": "stderr",
     "output_type": "stream",
     "text": [
      "\n",
      "                                                       \n",
      "Epoch:  96%|█████████▌| 96/100 [26:26<01:05, 16.45s/it]\n",
      "instances: 2it [00:08,  4.46s/it]\u001b[A\n"
     ]
    },
    {
     "name": "stdout",
     "output_type": "stream",
     "text": [
      "data:\ttotal_loss 3378740461568.0000\tregression_loss 3378740461568.0000 \tbatch 16.0000\n"
     ]
    },
    {
     "name": "stderr",
     "output_type": "stream",
     "text": [
      "\n",
      "                                                       \n",
      "Epoch:  96%|█████████▌| 96/100 [26:29<01:05, 16.45s/it]\n",
      "Test: 0it [00:03, ?it/s]\u001b[A\n",
      "Test: 1it [00:03,  3.38s/it]\u001b[A"
     ]
    },
    {
     "name": "stdout",
     "output_type": "stream",
     "text": [
      "{'total_loss': tensor(3.3787e+12, grad_fn=<AddBackward0>), 'regression_loss': tensor(3.3787e+12, grad_fn=<MseLossBackward0>)}\n",
      "data:\ttotal_loss 3378733383680.0000\tregression_loss 3378733383680.0000 \tbatch 16.0000\n"
     ]
    },
    {
     "name": "stderr",
     "output_type": "stream",
     "text": [
      "                                                       \n",
      "Epoch:  96%|█████████▌| 96/100 [26:33<01:05, 16.45s/it]\n",
      "Test: 1it [00:06,  3.38s/it]\u001b[A\n",
      "Test: 2it [00:06,  3.41s/it]\u001b[A\n",
      "Epoch:  96%|█████████▌| 96/100 [26:33<01:05, 16.45s/it]"
     ]
    },
    {
     "name": "stdout",
     "output_type": "stream",
     "text": [
      "{'total_loss': tensor(3.3787e+12, grad_fn=<AddBackward0>), 'regression_loss': tensor(3.3787e+12, grad_fn=<MseLossBackward0>)}\n",
      "data:\ttotal_loss 3378739150848.0000\tregression_loss 3378739150848.0000 \tbatch 16.0000\n",
      "epoch 96.00%\n"
     ]
    },
    {
     "name": "stderr",
     "output_type": "stream",
     "text": [
      "Epoch:  97%|█████████▋| 97/100 [26:33<00:49, 16.45s/it]\n",
      "instances: 0it [00:00, ?it/s]\u001b[A\n",
      "                                                       \n",
      "Epoch:  97%|█████████▋| 97/100 [26:38<00:49, 16.45s/it]\n",
      "instances: 1it [00:04,  4.51s/it]\u001b[A"
     ]
    },
    {
     "name": "stdout",
     "output_type": "stream",
     "text": [
      "data:\ttotal_loss 3378720800768.0000\tregression_loss 3378720800768.0000 \tbatch 16.0000\n"
     ]
    },
    {
     "name": "stderr",
     "output_type": "stream",
     "text": [
      "\n",
      "                                                       \n",
      "Epoch:  97%|█████████▋| 97/100 [26:42<00:49, 16.45s/it]\n",
      "instances: 2it [00:08,  4.48s/it]\u001b[A\n"
     ]
    },
    {
     "name": "stdout",
     "output_type": "stream",
     "text": [
      "data:\ttotal_loss 3378751995904.0000\tregression_loss 3378751995904.0000 \tbatch 16.0000\n"
     ]
    },
    {
     "name": "stderr",
     "output_type": "stream",
     "text": [
      "\n",
      "                                                       \n",
      "Epoch:  97%|█████████▋| 97/100 [26:46<00:49, 16.45s/it]\n",
      "Test: 0it [00:03, ?it/s]\u001b[A\n",
      "Test: 1it [00:03,  3.37s/it]\u001b[A"
     ]
    },
    {
     "name": "stdout",
     "output_type": "stream",
     "text": [
      "{'total_loss': tensor(3.3787e+12, grad_fn=<AddBackward0>), 'regression_loss': tensor(3.3787e+12, grad_fn=<MseLossBackward0>)}\n",
      "data:\ttotal_loss 3378734956544.0000\tregression_loss 3378734956544.0000 \tbatch 16.0000\n"
     ]
    },
    {
     "name": "stderr",
     "output_type": "stream",
     "text": [
      "                                                       \n",
      "Epoch:  97%|█████████▋| 97/100 [26:49<00:49, 16.45s/it]\n",
      "Test: 1it [00:06,  3.37s/it]\u001b[A\n",
      "Test: 2it [00:06,  3.40s/it]\u001b[A\n",
      "Epoch:  97%|█████████▋| 97/100 [26:49<00:49, 16.45s/it]"
     ]
    },
    {
     "name": "stdout",
     "output_type": "stream",
     "text": [
      "{'total_loss': tensor(3.3787e+12, grad_fn=<AddBackward0>), 'regression_loss': tensor(3.3787e+12, grad_fn=<MseLossBackward0>)}\n",
      "data:\ttotal_loss 3378737577984.0000\tregression_loss 3378737577984.0000 \tbatch 16.0000\n",
      "epoch 97.00%\n"
     ]
    },
    {
     "name": "stderr",
     "output_type": "stream",
     "text": [
      "Epoch:  98%|█████████▊| 98/100 [26:50<00:32, 16.45s/it]\n",
      "instances: 0it [00:00, ?it/s]\u001b[A\n",
      "                                                       \n",
      "Epoch:  98%|█████████▊| 98/100 [26:54<00:32, 16.45s/it]\n",
      "instances: 1it [00:04,  4.48s/it]\u001b[A"
     ]
    },
    {
     "name": "stdout",
     "output_type": "stream",
     "text": [
      "data:\ttotal_loss 3378736267264.0000\tregression_loss 3378736267264.0000 \tbatch 16.0000\n"
     ]
    },
    {
     "name": "stderr",
     "output_type": "stream",
     "text": [
      "\n",
      "                                                       \n",
      "Epoch:  98%|█████████▊| 98/100 [26:59<00:32, 16.45s/it]\n",
      "instances: 2it [00:08,  4.45s/it]\u001b[A\n"
     ]
    },
    {
     "name": "stdout",
     "output_type": "stream",
     "text": [
      "data:\ttotal_loss 3378736005120.0000\tregression_loss 3378736005120.0000 \tbatch 16.0000\n"
     ]
    },
    {
     "name": "stderr",
     "output_type": "stream",
     "text": [
      "\n",
      "Test: 0it [00:00, ?it/s]\u001b[A\n",
      "                                                       \n",
      "Epoch:  98%|█████████▊| 98/100 [27:02<00:32, 16.45s/it]\n",
      "Test: 1it [00:03,  3.36s/it]\u001b[A"
     ]
    },
    {
     "name": "stdout",
     "output_type": "stream",
     "text": [
      "{'total_loss': tensor(3.3787e+12, grad_fn=<AddBackward0>), 'regression_loss': tensor(3.3787e+12, grad_fn=<MseLossBackward0>)}\n",
      "data:\ttotal_loss 3378728927232.0000\tregression_loss 3378728927232.0000 \tbatch 16.0000\n"
     ]
    },
    {
     "name": "stderr",
     "output_type": "stream",
     "text": [
      "\n",
      "                                                       \n",
      "Epoch:  98%|█████████▊| 98/100 [27:06<00:32, 16.45s/it]\n",
      "Test: 2it [00:06,  3.39s/it]\u001b[A\n",
      "Epoch:  98%|█████████▊| 98/100 [27:06<00:32, 16.45s/it]"
     ]
    },
    {
     "name": "stdout",
     "output_type": "stream",
     "text": [
      "{'total_loss': tensor(3.3787e+12, grad_fn=<AddBackward0>), 'regression_loss': tensor(3.3787e+12, grad_fn=<MseLossBackward0>)}\n",
      "data:\ttotal_loss 3378743345152.0000\tregression_loss 3378743345152.0000 \tbatch 16.0000\n",
      "epoch 98.00%\n"
     ]
    },
    {
     "name": "stderr",
     "output_type": "stream",
     "text": [
      "Epoch:  99%|█████████▉| 99/100 [27:06<00:16, 16.43s/it]\n",
      "instances: 0it [00:00, ?it/s]\u001b[A\n",
      "                                                       \n",
      "Epoch:  99%|█████████▉| 99/100 [27:11<00:16, 16.43s/it]\n",
      "instances: 1it [00:04,  4.51s/it]\u001b[A"
     ]
    },
    {
     "name": "stdout",
     "output_type": "stream",
     "text": [
      "data:\ttotal_loss 3378731286528.0000\tregression_loss 3378731286528.0000 \tbatch 16.0000\n"
     ]
    },
    {
     "name": "stderr",
     "output_type": "stream",
     "text": [
      "\n",
      "                                                       \n",
      "Epoch:  99%|█████████▉| 99/100 [27:15<00:16, 16.43s/it]\n",
      "instances: 2it [00:08,  4.46s/it]\u001b[A\n"
     ]
    },
    {
     "name": "stdout",
     "output_type": "stream",
     "text": [
      "data:\ttotal_loss 3378741248000.0000\tregression_loss 3378741248000.0000 \tbatch 16.0000\n"
     ]
    },
    {
     "name": "stderr",
     "output_type": "stream",
     "text": [
      "\n",
      "Test: 0it [00:00, ?it/s]\u001b[A\n",
      "                                                       \n",
      "Epoch:  99%|█████████▉| 99/100 [27:19<00:16, 16.43s/it]\n",
      "Test: 1it [00:03,  3.37s/it]\u001b[A"
     ]
    },
    {
     "name": "stdout",
     "output_type": "stream",
     "text": [
      "{'total_loss': tensor(3.3787e+12, grad_fn=<AddBackward0>), 'regression_loss': tensor(3.3787e+12, grad_fn=<MseLossBackward0>)}\n",
      "data:\ttotal_loss 3378742558720.0000\tregression_loss 3378742558720.0000 \tbatch 16.0000\n"
     ]
    },
    {
     "name": "stderr",
     "output_type": "stream",
     "text": [
      "\n",
      "                                                       \n",
      "Epoch:  99%|█████████▉| 99/100 [27:22<00:16, 16.43s/it]\n",
      "Test: 2it [00:06,  3.38s/it]\u001b[A\n",
      "Epoch:  99%|█████████▉| 99/100 [27:22<00:16, 16.43s/it]"
     ]
    },
    {
     "name": "stdout",
     "output_type": "stream",
     "text": [
      "{'total_loss': tensor(3.3787e+12, grad_fn=<AddBackward0>), 'regression_loss': tensor(3.3787e+12, grad_fn=<MseLossBackward0>)}\n",
      "data:\ttotal_loss 3378729713664.0000\tregression_loss 3378729713664.0000 \tbatch 16.0000\n",
      "epoch 99.00%\n"
     ]
    },
    {
     "name": "stderr",
     "output_type": "stream",
     "text": [
      "Epoch: 100%|██████████| 100/100 [27:23<00:00, 16.43s/it]\n"
     ]
    },
    {
     "data": {
      "text/plain": [
       "OrderedDict([('img_enc.im_layers.0.shortcut.0.weight',\n",
       "              tensor([[[[ 0.0884, -0.0916, -0.0919],\n",
       "                        [-0.0423,  0.0047,  0.0728],\n",
       "                        [-0.0437,  0.0768, -0.1452]],\n",
       "              \n",
       "                       [[-0.0679, -0.0312, -0.1507],\n",
       "                        [ 0.0952,  0.0343, -0.0087],\n",
       "                        [-0.0784,  0.0486,  0.0172]],\n",
       "              \n",
       "                       [[-0.0870,  0.1492, -0.1908],\n",
       "                        [-0.0127, -0.1370, -0.1265],\n",
       "                        [-0.1516,  0.1340,  0.0595]]],\n",
       "              \n",
       "              \n",
       "                      [[[-0.1830,  0.1557, -0.0417],\n",
       "                        [ 0.1283, -0.0556, -0.1328],\n",
       "                        [-0.0470,  0.0465, -0.1676]],\n",
       "              \n",
       "                       [[ 0.0397,  0.0952,  0.1392],\n",
       "                        [ 0.0925,  0.0211, -0.1611],\n",
       "                        [ 0.0828,  0.2008,  0.0205]],\n",
       "              \n",
       "                       [[-0.1759, -0.1504,  0.1633],\n",
       "                        [-0.0433,  0.0789, -0.1263],\n",
       "                        [-0.1587, -0.0204, -0.0160]]],\n",
       "              \n",
       "              \n",
       "                      [[[-0.1688,  0.0977,  0.1097],\n",
       "                        [ 0.1806, -0.1107,  0.0027],\n",
       "                        [ 0.0733, -0.1575,  0.2026]],\n",
       "              \n",
       "                       [[-0.0288,  0.1728, -0.0902],\n",
       "                        [ 0.0418, -0.0708, -0.0235],\n",
       "                        [ 0.0605, -0.1622, -0.0443]],\n",
       "              \n",
       "                       [[ 0.1483,  0.0046, -0.1629],\n",
       "                        [ 0.1195,  0.0830,  0.0936],\n",
       "                        [-0.0398,  0.0740,  0.0882]]],\n",
       "              \n",
       "              \n",
       "                      [[[ 0.1634,  0.1374, -0.1453],\n",
       "                        [-0.0055,  0.0601,  0.0951],\n",
       "                        [ 0.0167, -0.2034,  0.1479]],\n",
       "              \n",
       "                       [[-0.0429, -0.2063, -0.1773],\n",
       "                        [ 0.1691, -0.0514, -0.1857],\n",
       "                        [-0.1602, -0.1169, -0.0009]],\n",
       "              \n",
       "                       [[ 0.1359, -0.0651, -0.1244],\n",
       "                        [ 0.1009, -0.1497,  0.1619],\n",
       "                        [ 0.0475,  0.1192,  0.0677]]],\n",
       "              \n",
       "              \n",
       "                      [[[-0.1096,  0.0454,  0.1270],\n",
       "                        [-0.0641, -0.1490,  0.1976],\n",
       "                        [ 0.0212, -0.0513, -0.1139]],\n",
       "              \n",
       "                       [[ 0.0394, -0.0104,  0.0747],\n",
       "                        [ 0.0123,  0.0409,  0.1464],\n",
       "                        [-0.0422,  0.1443, -0.1073]],\n",
       "              \n",
       "                       [[ 0.1590,  0.0443,  0.1452],\n",
       "                        [ 0.1640,  0.0994, -0.0009],\n",
       "                        [-0.0317, -0.1777,  0.0019]]]])),\n",
       "             ('img_enc.im_layers.0.shortcut.0.bias',\n",
       "              tensor([ 0.0901, -0.1457,  0.0049,  0.1353,  0.0184])),\n",
       "             ('img_enc.im_layers.0.shortcut.1.weight',\n",
       "              tensor([0.9962, 0.9954, 1.0019, 0.9992, 0.9900])),\n",
       "             ('img_enc.im_layers.0.shortcut.1.bias',\n",
       "              tensor([-0.0050, -0.0041,  0.0024,  0.0019,  0.0021])),\n",
       "             ('img_enc.im_layers.0.shortcut.1.running_mean',\n",
       "              tensor([-0.1652, -0.1962,  0.1798,  0.0215,  0.2324])),\n",
       "             ('img_enc.im_layers.0.shortcut.1.running_var',\n",
       "              tensor([0.0108, 0.0061, 0.0078, 0.0059, 0.0091])),\n",
       "             ('img_enc.im_layers.0.shortcut.1.num_batches_tracked',\n",
       "              tensor(76)),\n",
       "             ('img_enc.im_layers.0.pre_layer.0.weight',\n",
       "              tensor([[[[ 0.0497,  0.0730, -0.1740],\n",
       "                        [-0.1960,  0.1353, -0.0458],\n",
       "                        [ 0.0224,  0.1265, -0.1955]],\n",
       "              \n",
       "                       [[ 0.0873, -0.1886, -0.1197],\n",
       "                        [-0.0586,  0.0329,  0.0226],\n",
       "                        [-0.1900, -0.0190,  0.0029]],\n",
       "              \n",
       "                       [[ 0.0656,  0.1491, -0.0711],\n",
       "                        [-0.1856,  0.0236,  0.1533],\n",
       "                        [ 0.1784, -0.1927,  0.1534]]],\n",
       "              \n",
       "              \n",
       "                      [[[-0.1052, -0.1716,  0.0076],\n",
       "                        [-0.1065,  0.0900,  0.1694],\n",
       "                        [ 0.1460,  0.0597,  0.1479]],\n",
       "              \n",
       "                       [[ 0.1577, -0.1680, -0.0317],\n",
       "                        [ 0.0881, -0.1483, -0.1560],\n",
       "                        [ 0.1122, -0.0029,  0.0849]],\n",
       "              \n",
       "                       [[-0.1413, -0.1573, -0.1599],\n",
       "                        [-0.1201, -0.0647,  0.0228],\n",
       "                        [-0.0074,  0.0089,  0.1302]]],\n",
       "              \n",
       "              \n",
       "                      [[[-0.1149, -0.1027,  0.0425],\n",
       "                        [-0.1942, -0.0408, -0.0733],\n",
       "                        [ 0.1075, -0.1604,  0.1301]],\n",
       "              \n",
       "                       [[ 0.1031, -0.1254, -0.1418],\n",
       "                        [-0.2023, -0.0670, -0.1382],\n",
       "                        [ 0.0320,  0.0463,  0.1175]],\n",
       "              \n",
       "                       [[-0.0573,  0.1721,  0.0601],\n",
       "                        [ 0.0807,  0.0546,  0.1619],\n",
       "                        [ 0.1709, -0.0940, -0.1703]]],\n",
       "              \n",
       "              \n",
       "                      [[[ 0.1491,  0.0701, -0.1239],\n",
       "                        [ 0.1714, -0.0117,  0.1383],\n",
       "                        [-0.1111, -0.0829,  0.1378]],\n",
       "              \n",
       "                       [[-0.1499, -0.1578, -0.1287],\n",
       "                        [ 0.1119,  0.1581,  0.1581],\n",
       "                        [ 0.0180, -0.1110,  0.1474]],\n",
       "              \n",
       "                       [[-0.1786,  0.1173,  0.0163],\n",
       "                        [-0.0009, -0.1546,  0.0140],\n",
       "                        [ 0.1394,  0.1183,  0.1245]]]])),\n",
       "             ('img_enc.im_layers.0.pre_layer.0.bias',\n",
       "              tensor([ 0.0533,  0.1287, -0.1811, -0.0111])),\n",
       "             ('img_enc.im_layers.0.pre_layer.1.weight',\n",
       "              tensor([1.0109, 0.9983, 1.0083, 0.9861])),\n",
       "             ('img_enc.im_layers.0.pre_layer.1.bias',\n",
       "              tensor([ 0.0092,  0.0094,  0.0030, -0.0064])),\n",
       "             ('img_enc.im_layers.0.pre_layer.1.running_mean',\n",
       "              tensor([-0.1360,  0.0533, -0.4055,  0.2254])),\n",
       "             ('img_enc.im_layers.0.pre_layer.1.running_var',\n",
       "              tensor([0.0067, 0.0086, 0.0098, 0.0109])),\n",
       "             ('img_enc.im_layers.0.pre_layer.1.num_batches_tracked',\n",
       "              tensor(76)),\n",
       "             ('img_enc.im_layers.0.pre_layer.3.weight',\n",
       "              tensor([[[[ 0.0005, -0.0817, -0.0692, -0.0386, -0.0357],\n",
       "                        [ 0.0129, -0.0631,  0.0039, -0.0976, -0.0472],\n",
       "                        [ 0.0061, -0.0437,  0.0489, -0.0879,  0.0018],\n",
       "                        [-0.0187,  0.0774,  0.0361,  0.0682,  0.0428],\n",
       "                        [ 0.0767, -0.0149,  0.0405, -0.0599, -0.0466]],\n",
       "              \n",
       "                       [[ 0.0952, -0.0203, -0.0509, -0.0761,  0.0971],\n",
       "                        [-0.0764,  0.0927,  0.0403,  0.0974, -0.0579],\n",
       "                        [-0.0351, -0.0850, -0.0870,  0.0507,  0.0052],\n",
       "                        [ 0.0984,  0.0358, -0.0368,  0.0095,  0.0198],\n",
       "                        [-0.0080,  0.0305, -0.0594, -0.0880, -0.0844]],\n",
       "              \n",
       "                       [[ 0.0850,  0.0771, -0.0277, -0.0340, -0.0581],\n",
       "                        [-0.0682, -0.0976, -0.0837,  0.0281, -0.0173],\n",
       "                        [ 0.0299,  0.0747,  0.0675,  0.0019,  0.0496],\n",
       "                        [-0.1091, -0.0048, -0.0480, -0.0242, -0.0161],\n",
       "                        [ 0.0543, -0.0065,  0.0754, -0.0382, -0.0032]],\n",
       "              \n",
       "                       [[ 0.0309,  0.0138, -0.0027, -0.0745,  0.0240],\n",
       "                        [ 0.0520, -0.0714, -0.0478,  0.0143,  0.0900],\n",
       "                        [-0.0045, -0.0178,  0.0678,  0.0999, -0.0566],\n",
       "                        [-0.0918, -0.0550,  0.0874, -0.0768,  0.0006],\n",
       "                        [ 0.0121,  0.0855, -0.0155, -0.0002,  0.0252]]],\n",
       "              \n",
       "              \n",
       "                      [[[-0.0350,  0.0830,  0.0064,  0.0058, -0.1062],\n",
       "                        [-0.0417, -0.0054,  0.0385, -0.0167,  0.0514],\n",
       "                        [ 0.0626,  0.0725,  0.0532, -0.0159, -0.0338],\n",
       "                        [-0.0926,  0.0151,  0.0802, -0.1045, -0.0346],\n",
       "                        [-0.0813,  0.0562,  0.0648,  0.0352, -0.0260]],\n",
       "              \n",
       "                       [[-0.0718, -0.0217, -0.0960,  0.0556,  0.0314],\n",
       "                        [-0.0533,  0.0054,  0.0395, -0.0894, -0.0594],\n",
       "                        [ 0.0383,  0.0907, -0.0014,  0.0611, -0.0940],\n",
       "                        [-0.0364,  0.0760,  0.0624,  0.0135,  0.0266],\n",
       "                        [-0.0817,  0.0554,  0.0872,  0.0638, -0.0795]],\n",
       "              \n",
       "                       [[-0.0807,  0.0843, -0.0743, -0.0510,  0.0132],\n",
       "                        [ 0.0169, -0.0177,  0.0534,  0.0772, -0.0079],\n",
       "                        [-0.0790, -0.1050, -0.0675, -0.0560,  0.0704],\n",
       "                        [-0.0959, -0.0461, -0.0197, -0.0543, -0.0238],\n",
       "                        [-0.0485,  0.0814, -0.0906, -0.0917, -0.0294]],\n",
       "              \n",
       "                       [[ 0.0334, -0.0776,  0.0991,  0.0323,  0.0030],\n",
       "                        [-0.0902,  0.0719,  0.1084,  0.0692,  0.0544],\n",
       "                        [-0.0580,  0.0558, -0.0831, -0.0318,  0.0606],\n",
       "                        [-0.0272,  0.0209,  0.0639, -0.0532,  0.0403],\n",
       "                        [ 0.1080,  0.0236,  0.0943, -0.0441,  0.0786]]],\n",
       "              \n",
       "              \n",
       "                      [[[ 0.0764,  0.0657, -0.0397,  0.0113,  0.0186],\n",
       "                        [ 0.0595, -0.0150, -0.0523, -0.0098,  0.0709],\n",
       "                        [ 0.0308, -0.0539,  0.0396,  0.0191, -0.0509],\n",
       "                        [-0.0707, -0.0664, -0.0728, -0.0281, -0.1069],\n",
       "                        [ 0.0307, -0.0780,  0.0312, -0.0511, -0.0479]],\n",
       "              \n",
       "                       [[ 0.0914,  0.0606, -0.0417, -0.0679,  0.0606],\n",
       "                        [-0.0074, -0.0099,  0.0039,  0.0117,  0.0073],\n",
       "                        [ 0.0483,  0.0349, -0.0806, -0.0744,  0.0195],\n",
       "                        [ 0.0283,  0.0909,  0.0103, -0.1019, -0.0387],\n",
       "                        [-0.0317,  0.0962, -0.0561,  0.0168,  0.0977]],\n",
       "              \n",
       "                       [[-0.0553, -0.0268,  0.0268,  0.0102,  0.0782],\n",
       "                        [ 0.0180, -0.0030, -0.0422,  0.0608, -0.0498],\n",
       "                        [ 0.0891, -0.0352, -0.0053, -0.0453, -0.1019],\n",
       "                        [-0.0685, -0.0476, -0.0524,  0.0859,  0.0169],\n",
       "                        [-0.1115,  0.0164,  0.0367,  0.0338,  0.0101]],\n",
       "              \n",
       "                       [[-0.0145, -0.0499,  0.0759,  0.0088, -0.0223],\n",
       "                        [-0.0791,  0.0979,  0.0934, -0.0344, -0.0102],\n",
       "                        [-0.0665,  0.0612, -0.0317, -0.0912, -0.0190],\n",
       "                        [-0.0959, -0.0569,  0.0654, -0.0260,  0.0155],\n",
       "                        [ 0.0474, -0.0621, -0.0791,  0.0922,  0.0340]]],\n",
       "              \n",
       "              \n",
       "                      [[[-0.0491,  0.0968, -0.0231,  0.0059, -0.0853],\n",
       "                        [ 0.0309,  0.0270,  0.0312, -0.0127,  0.0725],\n",
       "                        [-0.0212, -0.0473,  0.0355,  0.0159,  0.0145],\n",
       "                        [ 0.0416,  0.0104,  0.1047,  0.0655, -0.0591],\n",
       "                        [ 0.1003,  0.0135, -0.0706, -0.0035,  0.0803]],\n",
       "              \n",
       "                       [[-0.0454, -0.0823,  0.0512,  0.0067, -0.0963],\n",
       "                        [-0.0461,  0.0333, -0.0729, -0.0668, -0.0543],\n",
       "                        [ 0.0897,  0.0814,  0.0588, -0.0377, -0.0082],\n",
       "                        [ 0.0423,  0.0404, -0.0512, -0.0933,  0.0096],\n",
       "                        [ 0.0066,  0.0479,  0.0482, -0.0927,  0.0393]],\n",
       "              \n",
       "                       [[-0.0232,  0.0382, -0.0729,  0.0396,  0.0115],\n",
       "                        [ 0.0535, -0.0348, -0.0391,  0.0885,  0.0392],\n",
       "                        [ 0.0591,  0.0605, -0.0553, -0.0561,  0.0876],\n",
       "                        [ 0.0124,  0.0141, -0.0079,  0.0712, -0.0044],\n",
       "                        [-0.0810,  0.0670,  0.1140,  0.0953, -0.0768]],\n",
       "              \n",
       "                       [[-0.0753, -0.0350, -0.0501, -0.1003, -0.0084],\n",
       "                        [ 0.0883,  0.0410,  0.0570,  0.0287, -0.0629],\n",
       "                        [ 0.0457,  0.0683,  0.0095, -0.0620,  0.0149],\n",
       "                        [ 0.0151,  0.0173, -0.0021, -0.0187, -0.0153],\n",
       "                        [-0.0290, -0.0540, -0.1003,  0.0372,  0.0473]]],\n",
       "              \n",
       "              \n",
       "                      [[[-0.0341, -0.0390, -0.0541, -0.0244,  0.0265],\n",
       "                        [ 0.0254,  0.0183, -0.0994,  0.0164, -0.0029],\n",
       "                        [-0.0517,  0.0236, -0.1129, -0.0769,  0.0051],\n",
       "                        [ 0.0481, -0.0675, -0.0948,  0.0020,  0.0193],\n",
       "                        [ 0.0620, -0.0085, -0.1092,  0.0784, -0.0218]],\n",
       "              \n",
       "                       [[ 0.0485,  0.1063,  0.0912, -0.0087,  0.1067],\n",
       "                        [ 0.0735, -0.0293,  0.0919, -0.0282,  0.0907],\n",
       "                        [ 0.0311, -0.0381, -0.0044, -0.0199, -0.0348],\n",
       "                        [ 0.0457, -0.0005,  0.0185,  0.0848,  0.0673],\n",
       "                        [ 0.0540,  0.1029,  0.0057,  0.0226, -0.0113]],\n",
       "              \n",
       "                       [[ 0.0646, -0.0799, -0.1052,  0.0740,  0.0037],\n",
       "                        [-0.0776, -0.0110, -0.0950, -0.0308,  0.0101],\n",
       "                        [-0.0251, -0.0563,  0.0183,  0.0603,  0.0822],\n",
       "                        [-0.1094,  0.0734, -0.0048, -0.0983, -0.0720],\n",
       "                        [ 0.0565,  0.0374, -0.0334,  0.0411, -0.0943]],\n",
       "              \n",
       "                       [[ 0.0722, -0.0271,  0.0917,  0.0286,  0.0768],\n",
       "                        [-0.0619, -0.0019,  0.0862,  0.0616,  0.0518],\n",
       "                        [ 0.0093,  0.0218,  0.0282, -0.0818, -0.0120],\n",
       "                        [-0.0972,  0.0523, -0.0557, -0.0838, -0.0865],\n",
       "                        [-0.0266, -0.0297,  0.0461,  0.0192,  0.0491]]]])),\n",
       "             ('img_enc.im_layers.0.pre_layer.3.bias',\n",
       "              tensor([-0.0939,  0.0866, -0.0780, -0.0301, -0.0723])),\n",
       "             ('img_enc.im_layers.0.pre_layer.4.weight',\n",
       "              tensor([1.0117, 0.9993, 0.9986, 1.0160, 0.9985])),\n",
       "             ('img_enc.im_layers.0.pre_layer.4.bias',\n",
       "              tensor([-0.0044,  0.0078,  0.0176, -0.0017,  0.0165])),\n",
       "             ('img_enc.im_layers.0.pre_layer.4.running_mean',\n",
       "              tensor([-0.2511,  0.0600, -0.2620,  0.1671, -0.0537])),\n",
       "             ('img_enc.im_layers.0.pre_layer.4.running_var',\n",
       "              tensor([0.0923, 0.2885, 0.0937, 0.2482, 0.3770])),\n",
       "             ('img_enc.im_layers.0.pre_layer.4.num_batches_tracked',\n",
       "              tensor(76)),\n",
       "             ('img_enc.im_layers.1.shortcut.0.weight',\n",
       "              tensor([[[[ 0.0397, -0.0160,  0.0668],\n",
       "                        [-0.0433, -0.0568, -0.0783],\n",
       "                        [ 0.0451, -0.0301, -0.1403]],\n",
       "              \n",
       "                       [[ 0.0999, -0.0513, -0.1611],\n",
       "                        [-0.1378,  0.0417,  0.0693],\n",
       "                        [ 0.0338,  0.0895, -0.1536]],\n",
       "              \n",
       "                       [[-0.0221, -0.0961, -0.0164],\n",
       "                        [ 0.0630, -0.1063,  0.1039],\n",
       "                        [-0.0534,  0.0463, -0.1116]],\n",
       "              \n",
       "                       [[-0.0967,  0.0557, -0.0329],\n",
       "                        [ 0.1320,  0.0609,  0.0491],\n",
       "                        [ 0.1179, -0.1281, -0.0319]],\n",
       "              \n",
       "                       [[ 0.1393,  0.0530, -0.0243],\n",
       "                        [-0.0844, -0.1305,  0.0482],\n",
       "                        [-0.0965,  0.1080, -0.0034]]],\n",
       "              \n",
       "              \n",
       "                      [[[-0.0280, -0.0583, -0.1401],\n",
       "                        [ 0.0872, -0.1271, -0.0130],\n",
       "                        [-0.0786,  0.0162,  0.0527]],\n",
       "              \n",
       "                       [[-0.0395, -0.0970, -0.0330],\n",
       "                        [ 0.0100,  0.0433, -0.0348],\n",
       "                        [-0.1299, -0.0359, -0.0838]],\n",
       "              \n",
       "                       [[ 0.1217,  0.1100, -0.1046],\n",
       "                        [ 0.0989,  0.1219, -0.0075],\n",
       "                        [-0.0333, -0.0599, -0.0582]],\n",
       "              \n",
       "                       [[-0.1115, -0.0967, -0.0815],\n",
       "                        [-0.0570, -0.1083, -0.0751],\n",
       "                        [-0.0820,  0.0022,  0.0765]],\n",
       "              \n",
       "                       [[ 0.0705,  0.0512, -0.1091],\n",
       "                        [-0.0760, -0.1274, -0.0904],\n",
       "                        [ 0.0063, -0.1291, -0.0787]]],\n",
       "              \n",
       "              \n",
       "                      [[[-0.1300, -0.0917, -0.0501],\n",
       "                        [ 0.0745, -0.1587,  0.0041],\n",
       "                        [-0.0879,  0.0831, -0.0969]],\n",
       "              \n",
       "                       [[-0.0489, -0.0231,  0.1120],\n",
       "                        [ 0.0874,  0.0896, -0.0681],\n",
       "                        [-0.0186, -0.1186,  0.1208]],\n",
       "              \n",
       "                       [[-0.0463, -0.0318, -0.0020],\n",
       "                        [-0.1528,  0.0470,  0.1112],\n",
       "                        [-0.0708, -0.0524,  0.0156]],\n",
       "              \n",
       "                       [[-0.0807,  0.0586,  0.1041],\n",
       "                        [ 0.0103, -0.0483, -0.0787],\n",
       "                        [-0.0291, -0.1178,  0.1281]],\n",
       "              \n",
       "                       [[ 0.0974,  0.0775,  0.1035],\n",
       "                        [ 0.0305,  0.0121,  0.0356],\n",
       "                        [-0.0391, -0.1039,  0.0558]]],\n",
       "              \n",
       "              \n",
       "                      [[[-0.1078, -0.0670, -0.1243],\n",
       "                        [-0.0704,  0.1547,  0.1272],\n",
       "                        [ 0.0520, -0.1212,  0.0779]],\n",
       "              \n",
       "                       [[-0.0801, -0.0659,  0.0867],\n",
       "                        [ 0.0128,  0.0258,  0.0103],\n",
       "                        [-0.0405,  0.0044, -0.1371]],\n",
       "              \n",
       "                       [[-0.1294, -0.0225, -0.0273],\n",
       "                        [ 0.1394,  0.1228,  0.1077],\n",
       "                        [ 0.0345, -0.1010,  0.0176]],\n",
       "              \n",
       "                       [[-0.1419, -0.1493,  0.0229],\n",
       "                        [-0.0577,  0.0359,  0.0858],\n",
       "                        [-0.0535, -0.1532, -0.0916]],\n",
       "              \n",
       "                       [[ 0.1248, -0.0253,  0.0199],\n",
       "                        [-0.0907,  0.1213, -0.1375],\n",
       "                        [ 0.1138, -0.0773,  0.0977]]],\n",
       "              \n",
       "              \n",
       "                      [[[-0.1291, -0.0426, -0.0080],\n",
       "                        [ 0.1341, -0.0795,  0.1236],\n",
       "                        [ 0.1273, -0.0786,  0.0829]],\n",
       "              \n",
       "                       [[-0.0582,  0.1185,  0.1300],\n",
       "                        [ 0.0832, -0.0575,  0.0929],\n",
       "                        [ 0.0511, -0.0176,  0.0501]],\n",
       "              \n",
       "                       [[ 0.0224, -0.0445,  0.0945],\n",
       "                        [ 0.1420, -0.0793,  0.0975],\n",
       "                        [ 0.0895,  0.0018, -0.0290]],\n",
       "              \n",
       "                       [[-0.0694, -0.0432, -0.1024],\n",
       "                        [-0.0200, -0.1059,  0.0190],\n",
       "                        [-0.1369, -0.1125,  0.1011]],\n",
       "              \n",
       "                       [[ 0.0124,  0.0747, -0.0143],\n",
       "                        [-0.0280, -0.0569, -0.0549],\n",
       "                        [-0.1081, -0.1320,  0.0382]]],\n",
       "              \n",
       "              \n",
       "                      [[[ 0.0506, -0.0385,  0.0194],\n",
       "                        [-0.0443, -0.0284, -0.0708],\n",
       "                        [-0.0103, -0.0092,  0.1095]],\n",
       "              \n",
       "                       [[-0.1565,  0.0296, -0.1299],\n",
       "                        [-0.0797, -0.0568,  0.0722],\n",
       "                        [-0.1584, -0.0219, -0.1339]],\n",
       "              \n",
       "                       [[-0.0738,  0.0189,  0.0854],\n",
       "                        [ 0.0750,  0.0778, -0.1077],\n",
       "                        [ 0.0406,  0.0351, -0.1100]],\n",
       "              \n",
       "                       [[-0.1188, -0.1368, -0.0914],\n",
       "                        [ 0.0335,  0.1122,  0.1082],\n",
       "                        [-0.0767,  0.0514,  0.0346]],\n",
       "              \n",
       "                       [[-0.1128, -0.0827, -0.0482],\n",
       "                        [ 0.1367,  0.1080,  0.0771],\n",
       "                        [-0.1547,  0.0757,  0.0759]]],\n",
       "              \n",
       "              \n",
       "                      [[[-0.0880,  0.0071, -0.1437],\n",
       "                        [-0.1377,  0.1361,  0.1371],\n",
       "                        [-0.1083, -0.0963,  0.1110]],\n",
       "              \n",
       "                       [[-0.1386,  0.0849,  0.1200],\n",
       "                        [-0.0258,  0.1237, -0.0754],\n",
       "                        [-0.0500, -0.1296,  0.0789]],\n",
       "              \n",
       "                       [[-0.1216,  0.0447, -0.0239],\n",
       "                        [-0.0875, -0.1012,  0.1220],\n",
       "                        [ 0.1042, -0.1304,  0.0083]],\n",
       "              \n",
       "                       [[ 0.0659, -0.0844,  0.0082],\n",
       "                        [ 0.1472, -0.1398, -0.1421],\n",
       "                        [-0.1356, -0.0377,  0.1122]],\n",
       "              \n",
       "                       [[ 0.0987,  0.0463, -0.1234],\n",
       "                        [ 0.0141,  0.0374, -0.0405],\n",
       "                        [-0.0144,  0.0952,  0.0891]]]])),\n",
       "             ('img_enc.im_layers.1.shortcut.0.bias',\n",
       "              tensor([ 0.0172,  0.0930,  0.0317, -0.1425,  0.0187,  0.0649, -0.0446])),\n",
       "             ('img_enc.im_layers.1.shortcut.1.weight',\n",
       "              tensor([1.0152, 1.0109, 0.9830, 0.9884, 0.9969, 0.9835, 1.0022])),\n",
       "             ('img_enc.im_layers.1.shortcut.1.bias',\n",
       "              tensor([ 0.0214,  0.0162, -0.0119, -0.0012,  0.0032, -0.0100,  0.0147])),\n",
       "             ('img_enc.im_layers.1.shortcut.1.running_mean',\n",
       "              tensor([-0.2732, -0.9787, -0.1061, -0.4697,  0.0406, -0.3711, -0.2882])),\n",
       "             ('img_enc.im_layers.1.shortcut.1.running_var',\n",
       "              tensor([0.2010, 0.2899, 0.1147, 0.3594, 0.5335, 0.1632, 0.1237])),\n",
       "             ('img_enc.im_layers.1.shortcut.1.num_batches_tracked',\n",
       "              tensor(76)),\n",
       "             ('img_enc.im_layers.1.pre_layer.0.weight',\n",
       "              tensor([[[[ 0.0338,  0.0533, -0.0142, -0.0531,  0.0525],\n",
       "                        [-0.0124,  0.0465, -0.0292, -0.0259, -0.0258],\n",
       "                        [-0.0359, -0.0151, -0.0395, -0.0447,  0.0641],\n",
       "                        [ 0.0618,  0.0276, -0.0331, -0.0244, -0.0686],\n",
       "                        [-0.0234,  0.0839,  0.0732, -0.0395, -0.0687]],\n",
       "              \n",
       "                       [[ 0.0730, -0.0556, -0.0182, -0.0681, -0.0033],\n",
       "                        [-0.0817, -0.0612, -0.0090, -0.0212,  0.0190],\n",
       "                        [-0.0510,  0.0363,  0.0756, -0.0612, -0.0849],\n",
       "                        [-0.0385,  0.0660,  0.0076, -0.0856,  0.0146],\n",
       "                        [ 0.0668, -0.0077,  0.0163, -0.0918,  0.0109]],\n",
       "              \n",
       "                       [[ 0.0288, -0.0119, -0.0633, -0.1020, -0.0433],\n",
       "                        [ 0.0091, -0.0831, -0.0312,  0.0541, -0.0421],\n",
       "                        [ 0.0217,  0.0510, -0.1004, -0.0203, -0.0774],\n",
       "                        [-0.0306, -0.0311,  0.0244, -0.0863, -0.0516],\n",
       "                        [ 0.0710, -0.0054, -0.0303, -0.0845,  0.0582]],\n",
       "              \n",
       "                       [[ 0.0477,  0.0826, -0.0586,  0.0567,  0.0665],\n",
       "                        [-0.0159, -0.0075,  0.0032,  0.0740, -0.0320],\n",
       "                        [-0.0209,  0.0016,  0.0438,  0.0806, -0.0739],\n",
       "                        [ 0.0172,  0.0200, -0.0768,  0.0186, -0.0261],\n",
       "                        [-0.0885,  0.0053, -0.0466,  0.0084,  0.0644]],\n",
       "              \n",
       "                       [[-0.0666,  0.0365,  0.0593, -0.0902, -0.0045],\n",
       "                        [ 0.0181, -0.1031,  0.0698,  0.0101, -0.0940],\n",
       "                        [-0.0930, -0.0697,  0.0727, -0.0396, -0.0369],\n",
       "                        [-0.0222, -0.0186, -0.0734, -0.0012,  0.0706],\n",
       "                        [-0.0641,  0.0214, -0.0584, -0.0412,  0.0325]]],\n",
       "              \n",
       "              \n",
       "                      [[[ 0.0364,  0.0739,  0.0020, -0.0089, -0.0302],\n",
       "                        [ 0.0457,  0.0644,  0.0649, -0.0042,  0.0268],\n",
       "                        [ 0.0811, -0.0499, -0.0425,  0.0666,  0.0263],\n",
       "                        [-0.0025,  0.0543,  0.0584, -0.0151,  0.0021],\n",
       "                        [-0.0628, -0.0407, -0.0067,  0.0849,  0.0898]],\n",
       "              \n",
       "                       [[-0.0667,  0.0447, -0.0583, -0.0019,  0.0667],\n",
       "                        [-0.0590, -0.0538, -0.0292, -0.0248, -0.0062],\n",
       "                        [ 0.0618, -0.1065,  0.0493, -0.0182,  0.0369],\n",
       "                        [ 0.0493,  0.0560, -0.0230, -0.0652, -0.0559],\n",
       "                        [-0.0593,  0.0171,  0.0236,  0.0347, -0.0858]],\n",
       "              \n",
       "                       [[-0.0371,  0.0379, -0.0135,  0.0246, -0.0470],\n",
       "                        [-0.0314, -0.0773, -0.0601, -0.0323,  0.0240],\n",
       "                        [-0.0505, -0.0237, -0.0855,  0.0719,  0.0127],\n",
       "                        [-0.0986,  0.0660,  0.0694, -0.1059,  0.0350],\n",
       "                        [-0.0143,  0.0731, -0.0777, -0.0629, -0.0234]],\n",
       "              \n",
       "                       [[-0.0728, -0.0642,  0.0152,  0.0839, -0.0466],\n",
       "                        [ 0.0013,  0.0160,  0.0357,  0.0568, -0.0276],\n",
       "                        [ 0.0458, -0.0309,  0.0967,  0.0125,  0.0296],\n",
       "                        [ 0.0526,  0.0777,  0.0889,  0.0279,  0.0852],\n",
       "                        [-0.0463, -0.0301,  0.0506,  0.0223,  0.0446]],\n",
       "              \n",
       "                       [[-0.0261, -0.0911, -0.0398,  0.0666, -0.0772],\n",
       "                        [ 0.0530,  0.0644, -0.0363,  0.0199, -0.0904],\n",
       "                        [ 0.0454, -0.0522, -0.0679, -0.0407,  0.0088],\n",
       "                        [ 0.0405, -0.0859, -0.0346,  0.0851,  0.0287],\n",
       "                        [ 0.0466,  0.0660, -0.0584, -0.0079, -0.0061]]],\n",
       "              \n",
       "              \n",
       "                      [[[ 0.0360,  0.0032, -0.0260,  0.0375, -0.0615],\n",
       "                        [ 0.0455, -0.0086,  0.0326,  0.0650, -0.0520],\n",
       "                        [ 0.0908,  0.0477,  0.0233, -0.0392, -0.0672],\n",
       "                        [ 0.0855,  0.0640,  0.0045, -0.0781,  0.0200],\n",
       "                        [-0.0747,  0.0900,  0.0765,  0.0197,  0.0653]],\n",
       "              \n",
       "                       [[-0.0892,  0.0411, -0.0224, -0.0395, -0.0819],\n",
       "                        [ 0.0011, -0.0176,  0.0275,  0.0234, -0.0905],\n",
       "                        [ 0.0614, -0.0578, -0.0262,  0.0338,  0.0321],\n",
       "                        [-0.0159,  0.0229, -0.0288,  0.0755, -0.0668],\n",
       "                        [-0.0171,  0.0110, -0.0618,  0.0729, -0.0848]],\n",
       "              \n",
       "                       [[-0.0764, -0.0287, -0.0226,  0.0174, -0.0457],\n",
       "                        [ 0.0136, -0.0800,  0.0285,  0.0708, -0.0282],\n",
       "                        [-0.0382, -0.0918,  0.0406, -0.0732, -0.0569],\n",
       "                        [ 0.0403,  0.0680, -0.0324, -0.0160, -0.0517],\n",
       "                        [-0.0084,  0.0222, -0.0408,  0.0306,  0.0258]],\n",
       "              \n",
       "                       [[-0.0581,  0.0368, -0.0251,  0.0779, -0.0762],\n",
       "                        [ 0.0601, -0.0223, -0.0677,  0.0298, -0.0663],\n",
       "                        [ 0.0500,  0.0010,  0.0018, -0.0187,  0.0017],\n",
       "                        [-0.0278, -0.0828,  0.0180,  0.0711, -0.0117],\n",
       "                        [ 0.0178,  0.0177,  0.0212,  0.0361, -0.0641]],\n",
       "              \n",
       "                       [[-0.0469, -0.0943,  0.0459,  0.0424, -0.0535],\n",
       "                        [ 0.0622, -0.0731,  0.0119,  0.0657,  0.0424],\n",
       "                        [ 0.0453, -0.0347,  0.0180,  0.0408, -0.0342],\n",
       "                        [ 0.0239, -0.0212, -0.0887, -0.0217, -0.0891],\n",
       "                        [-0.0251, -0.0967,  0.0449, -0.0777,  0.0431]]],\n",
       "              \n",
       "              \n",
       "                      [[[-0.0054,  0.0636,  0.0807,  0.0321, -0.0170],\n",
       "                        [-0.0042, -0.0564, -0.0433, -0.0250, -0.0159],\n",
       "                        [ 0.0926,  0.0753, -0.0720,  0.0561,  0.0644],\n",
       "                        [-0.0715,  0.0050, -0.0834,  0.0296,  0.0818],\n",
       "                        [-0.0074, -0.0065, -0.0419, -0.0155, -0.0672]],\n",
       "              \n",
       "                       [[ 0.0198, -0.0552, -0.0755,  0.0543, -0.0764],\n",
       "                        [-0.0126,  0.0497, -0.0101,  0.0536, -0.0261],\n",
       "                        [ 0.0067,  0.0730,  0.0760,  0.0401,  0.0192],\n",
       "                        [ 0.0526, -0.0948, -0.0354, -0.0314,  0.0269],\n",
       "                        [-0.0173, -0.0021, -0.0635,  0.0391, -0.0938]],\n",
       "              \n",
       "                       [[ 0.0023,  0.0707, -0.0789,  0.0428,  0.0227],\n",
       "                        [ 0.0226, -0.0499,  0.0742, -0.0484, -0.0075],\n",
       "                        [ 0.0373, -0.0701, -0.0637, -0.0761,  0.0408],\n",
       "                        [ 0.0298,  0.0687, -0.0534,  0.0687, -0.0556],\n",
       "                        [-0.0214, -0.0715, -0.0652, -0.0313, -0.0158]],\n",
       "              \n",
       "                       [[ 0.0529,  0.0292, -0.0226, -0.0416, -0.0358],\n",
       "                        [ 0.0716, -0.0446,  0.0419, -0.0663, -0.0568],\n",
       "                        [ 0.0559,  0.0332,  0.0201,  0.0325,  0.0296],\n",
       "                        [ 0.0794,  0.0204, -0.0314, -0.0826,  0.0774],\n",
       "                        [ 0.0744, -0.0057, -0.0284, -0.0838, -0.0413]],\n",
       "              \n",
       "                       [[-0.0382,  0.0022, -0.0869, -0.0689,  0.0654],\n",
       "                        [-0.0758,  0.0688, -0.0834, -0.0248,  0.0542],\n",
       "                        [-0.0025,  0.0279, -0.0697,  0.0016, -0.0740],\n",
       "                        [-0.0898,  0.0054,  0.0561,  0.0610,  0.0327],\n",
       "                        [-0.0653,  0.0128,  0.0342,  0.0587, -0.0938]]],\n",
       "              \n",
       "              \n",
       "                      [[[ 0.0592,  0.0719,  0.0289,  0.0548,  0.0108],\n",
       "                        [ 0.0450, -0.0973, -0.0193,  0.0441,  0.0012],\n",
       "                        [ 0.0376, -0.0936,  0.0652,  0.0019,  0.0736],\n",
       "                        [-0.0720, -0.0774, -0.0770,  0.0602,  0.0361],\n",
       "                        [-0.0969, -0.0756, -0.0019, -0.0394, -0.0732]],\n",
       "              \n",
       "                       [[ 0.0653,  0.0291, -0.0326, -0.0139,  0.0261],\n",
       "                        [ 0.0293, -0.0042, -0.0864,  0.0761, -0.0341],\n",
       "                        [-0.0091, -0.0213, -0.0221, -0.0483,  0.0077],\n",
       "                        [ 0.0325, -0.0411, -0.0040, -0.0164,  0.0711],\n",
       "                        [-0.0771,  0.0441, -0.0087, -0.0481,  0.0392]],\n",
       "              \n",
       "                       [[-0.0659,  0.0549, -0.0091, -0.0881, -0.0677],\n",
       "                        [ 0.0009, -0.0003,  0.0823,  0.0766,  0.0590],\n",
       "                        [-0.0035,  0.0488,  0.0331, -0.0416, -0.0534],\n",
       "                        [-0.0098,  0.0465,  0.0939,  0.0256,  0.0434],\n",
       "                        [-0.0462,  0.0683,  0.0121,  0.0079, -0.0671]],\n",
       "              \n",
       "                       [[ 0.0392,  0.0752,  0.0121,  0.0370,  0.0518],\n",
       "                        [ 0.0901, -0.0129, -0.0308,  0.0248,  0.0654],\n",
       "                        [-0.0439, -0.0335, -0.0288,  0.0531, -0.0326],\n",
       "                        [ 0.0377,  0.0696,  0.0748, -0.0482, -0.0919],\n",
       "                        [-0.0774,  0.0572,  0.0218, -0.0814,  0.0658]],\n",
       "              \n",
       "                       [[-0.0542, -0.0015, -0.0718, -0.0524,  0.0034],\n",
       "                        [-0.0468, -0.0097,  0.0836,  0.0240,  0.0341],\n",
       "                        [ 0.0887,  0.0267, -0.0241,  0.0908, -0.0313],\n",
       "                        [ 0.0428,  0.0332, -0.0113, -0.0203, -0.0273],\n",
       "                        [ 0.0256, -0.0174, -0.0681, -0.0616,  0.0915]]],\n",
       "              \n",
       "              \n",
       "                      [[[ 0.0309, -0.0425, -0.0502,  0.0218,  0.1018],\n",
       "                        [ 0.0018, -0.0473, -0.0204,  0.0018,  0.0385],\n",
       "                        [ 0.0183,  0.0572, -0.0164,  0.0739, -0.0073],\n",
       "                        [-0.0428, -0.0369,  0.0575, -0.0203, -0.0561],\n",
       "                        [-0.0498, -0.0311,  0.0399, -0.0300,  0.0248]],\n",
       "              \n",
       "                       [[-0.0131, -0.0024,  0.0443,  0.0137,  0.0394],\n",
       "                        [-0.0277, -0.0597,  0.0369, -0.0312, -0.0376],\n",
       "                        [-0.0190, -0.0644, -0.0839,  0.0332, -0.0204],\n",
       "                        [-0.0978,  0.0500,  0.0753,  0.0473, -0.0582],\n",
       "                        [-0.0887,  0.0063,  0.0324, -0.0412, -0.0166]],\n",
       "              \n",
       "                       [[-0.0942, -0.0328, -0.0192, -0.0565, -0.0529],\n",
       "                        [ 0.0065, -0.0663,  0.0208, -0.0692, -0.0337],\n",
       "                        [-0.0121, -0.0349, -0.0113, -0.0247,  0.0524],\n",
       "                        [-0.0496, -0.0287,  0.0179,  0.0096, -0.0507],\n",
       "                        [-0.0902, -0.0933,  0.0493,  0.0321,  0.0804]],\n",
       "              \n",
       "                       [[-0.0477, -0.0074, -0.0214,  0.0005,  0.0216],\n",
       "                        [ 0.0171, -0.0875, -0.0653, -0.0261,  0.0917],\n",
       "                        [ 0.0194,  0.0063,  0.0523,  0.0779, -0.0503],\n",
       "                        [ 0.0266,  0.0528, -0.0017, -0.0776, -0.0335],\n",
       "                        [-0.0370,  0.0484,  0.0290,  0.0128,  0.0012]],\n",
       "              \n",
       "                       [[-0.0080,  0.0244, -0.0131,  0.0331, -0.0243],\n",
       "                        [-0.0315, -0.0950, -0.0313,  0.0670, -0.0479],\n",
       "                        [ 0.0385,  0.0311,  0.0357,  0.0366, -0.0142],\n",
       "                        [-0.0703,  0.0002, -0.0792, -0.0385, -0.0776],\n",
       "                        [-0.0384,  0.0201, -0.0952,  0.0560,  0.0678]]]])),\n",
       "             ('img_enc.im_layers.1.pre_layer.0.bias',\n",
       "              tensor([ 0.0963, -0.0089,  0.0788, -0.0297, -0.0169,  0.0760])),\n",
       "             ('img_enc.im_layers.1.pre_layer.1.weight',\n",
       "              tensor([1.0052, 1.0067, 1.0008, 0.9859, 0.9984, 1.0022])),\n",
       "             ('img_enc.im_layers.1.pre_layer.1.bias',\n",
       "              tensor([ 0.0193,  0.0073,  0.0005, -0.0097, -0.0016,  0.0017])),\n",
       "             ('img_enc.im_layers.1.pre_layer.1.running_mean',\n",
       "              tensor([-0.8791,  0.0156, -0.4152, -0.3933,  0.2837, -0.7108])),\n",
       "             ('img_enc.im_layers.1.pre_layer.1.running_var',\n",
       "              tensor([0.9218, 0.7404, 0.2201, 0.2538, 0.2027, 0.4400])),\n",
       "             ('img_enc.im_layers.1.pre_layer.1.num_batches_tracked',\n",
       "              tensor(76)),\n",
       "             ('img_enc.im_layers.1.pre_layer.3.weight',\n",
       "              tensor([[[[ 4.8077e-03, -4.8702e-02, -5.3705e-02, -5.5555e-02,  9.6977e-03],\n",
       "                        [-2.5217e-02, -2.6717e-02,  5.0981e-02,  2.3256e-02, -3.3472e-02],\n",
       "                        [ 5.1263e-02, -2.8768e-02,  6.7425e-02,  2.4557e-03,  7.3107e-02],\n",
       "                        [ 4.2665e-03, -5.8813e-02,  5.4162e-02, -3.6552e-02, -2.7107e-02],\n",
       "                        [ 1.4487e-02,  4.5159e-02,  8.7476e-03, -3.4733e-02, -2.6939e-02]],\n",
       "              \n",
       "                       [[ 1.4511e-02, -2.3966e-02, -2.8615e-02, -2.4109e-02,  4.3117e-02],\n",
       "                        [ 4.7431e-02, -5.2384e-02,  3.6082e-03, -4.4891e-02, -8.4004e-02],\n",
       "                        [-6.3454e-02, -5.4541e-02, -5.1804e-03,  1.4736e-03,  4.4688e-02],\n",
       "                        [-8.0168e-02, -5.4192e-02,  3.5332e-02,  4.6778e-02,  7.0054e-02],\n",
       "                        [ 5.5982e-02,  2.6671e-03,  2.3316e-02,  7.0991e-02,  6.9425e-03]],\n",
       "              \n",
       "                       [[ 1.4310e-02, -9.1969e-02, -7.8058e-02,  3.2489e-02, -2.7984e-02],\n",
       "                        [ 2.7722e-02,  4.8807e-02, -9.1270e-02, -8.2875e-02, -9.3593e-02],\n",
       "                        [ 2.2301e-03,  2.2461e-02, -7.0395e-02,  7.3798e-02,  1.7288e-02],\n",
       "                        [-4.1560e-03, -1.0997e-02, -3.7146e-02,  6.2362e-02,  1.1629e-02],\n",
       "                        [ 7.8305e-02,  3.3617e-02, -7.0239e-02,  4.1762e-03, -9.0097e-02]],\n",
       "              \n",
       "                       [[-8.8509e-02,  4.3485e-02, -5.0352e-02,  3.9173e-02,  2.5203e-03],\n",
       "                        [-1.4363e-03,  7.0880e-02, -1.4764e-02,  1.6886e-02, -8.5331e-02],\n",
       "                        [-2.6136e-02,  5.6419e-02, -7.9977e-02,  1.2011e-02,  6.8124e-02],\n",
       "                        [ 1.3862e-02, -4.3126e-02,  6.9425e-02,  4.7581e-02,  4.4862e-02],\n",
       "                        [-9.8104e-03, -3.4191e-03, -7.9549e-02, -5.3577e-03,  5.9597e-02]],\n",
       "              \n",
       "                       [[ 2.3591e-02, -5.6057e-02,  3.0990e-02, -5.1363e-02, -5.7829e-02],\n",
       "                        [ 5.8533e-02,  6.7010e-02, -5.9196e-02, -5.8030e-02, -2.6382e-02],\n",
       "                        [-6.7460e-02,  8.3903e-03,  7.4035e-02, -5.9016e-02,  4.3877e-02],\n",
       "                        [ 2.9449e-02, -5.6601e-02, -2.6500e-02,  1.8058e-02,  2.5186e-02],\n",
       "                        [ 3.0876e-02, -8.6261e-02, -1.9417e-02,  1.8212e-02, -8.2123e-03]],\n",
       "              \n",
       "                       [[ 5.4220e-02,  3.2027e-02,  3.6853e-02, -7.4313e-02,  2.4857e-02],\n",
       "                        [-6.4159e-02,  4.5050e-02, -5.7493e-02,  3.2002e-02, -7.1332e-02],\n",
       "                        [-6.8659e-02, -5.1039e-02,  2.1479e-02, -3.0185e-02, -8.5041e-02],\n",
       "                        [-1.8077e-02,  1.1308e-02,  6.4709e-02, -4.2261e-02, -7.2225e-02],\n",
       "                        [ 1.1723e-02, -6.9456e-02, -3.9244e-02,  5.3406e-02,  3.3730e-02]]],\n",
       "              \n",
       "              \n",
       "                      [[[-4.1920e-02,  4.1373e-03,  7.3966e-02,  6.8416e-02, -2.6085e-02],\n",
       "                        [ 7.3444e-02,  1.4990e-02,  4.1792e-02, -2.4529e-02, -6.8362e-03],\n",
       "                        [-4.6087e-02,  7.7719e-02, -5.4917e-02,  8.3653e-02, -5.1467e-02],\n",
       "                        [ 2.8902e-02,  4.1538e-02,  8.6486e-02,  3.1508e-02, -6.8553e-02],\n",
       "                        [ 4.8267e-02,  7.5990e-02,  6.9113e-02,  6.4951e-02,  5.3292e-02]],\n",
       "              \n",
       "                       [[-3.8062e-02,  6.6842e-03,  6.6649e-02,  6.2347e-02, -1.6197e-02],\n",
       "                        [ 4.4848e-02, -1.0990e-03, -2.0198e-02,  2.7945e-02,  7.6162e-02],\n",
       "                        [ 3.8070e-02,  2.1879e-02, -4.0641e-03, -7.6382e-02,  8.3343e-02],\n",
       "                        [ 3.9851e-02,  2.2615e-02,  6.4312e-02, -1.0492e-02, -3.6561e-02],\n",
       "                        [-3.0054e-02, -1.4891e-02, -4.1189e-02, -2.8164e-03, -4.1817e-02]],\n",
       "              \n",
       "                       [[ 4.3111e-02, -3.2904e-02,  2.6126e-02,  5.6774e-02, -1.1529e-02],\n",
       "                        [-5.0364e-03, -5.4482e-02,  1.4693e-02,  1.3983e-02,  7.2425e-02],\n",
       "                        [-4.3854e-02,  9.5847e-03, -7.1178e-03,  4.0053e-02,  4.4603e-03],\n",
       "                        [ 2.7802e-02,  7.2675e-02,  4.5032e-03, -1.9678e-02, -6.7282e-02],\n",
       "                        [-5.6979e-02,  3.9457e-02,  4.4389e-02,  2.3271e-03,  7.9711e-02]],\n",
       "              \n",
       "                       [[ 4.7637e-02,  2.7072e-02, -5.3352e-02, -4.2044e-02,  1.8709e-02],\n",
       "                        [ 2.8515e-02, -8.2754e-02,  7.2461e-03, -2.2641e-02,  1.6858e-02],\n",
       "                        [ 2.7375e-02,  2.4142e-03,  1.6522e-02, -4.8805e-03,  5.6471e-02],\n",
       "                        [-5.2655e-02,  2.9567e-02, -6.5589e-02, -3.3161e-02,  1.4797e-02],\n",
       "                        [ 2.6846e-02, -8.7139e-02,  3.3941e-02, -3.0866e-02,  7.2641e-02]],\n",
       "              \n",
       "                       [[-4.8663e-02,  5.4175e-02, -7.2383e-04, -4.6563e-02, -5.6902e-02],\n",
       "                        [ 4.8128e-02, -2.4647e-02,  6.2972e-02, -6.4277e-02, -4.5812e-02],\n",
       "                        [-3.7866e-03,  3.5091e-02,  1.6520e-02, -1.1281e-02, -6.1683e-02],\n",
       "                        [ 5.6062e-02,  8.1030e-03, -6.0482e-03, -5.3543e-02, -7.0290e-03],\n",
       "                        [-3.5150e-02,  5.2204e-02,  3.7414e-02, -2.8140e-02, -1.0592e-02]],\n",
       "              \n",
       "                       [[ 1.4518e-02, -4.6280e-03, -3.5250e-02,  5.4744e-02,  5.4789e-02],\n",
       "                        [-1.8632e-02, -1.5931e-02, -3.0918e-03,  2.1845e-02,  6.1607e-02],\n",
       "                        [-5.7490e-02,  4.9618e-02,  6.5128e-02,  5.9036e-02,  3.5294e-02],\n",
       "                        [-4.0098e-02, -6.9681e-02,  5.4034e-02, -5.2042e-02,  1.8187e-02],\n",
       "                        [-7.3011e-02,  1.9572e-02, -1.0890e-02,  4.0671e-03,  3.9729e-03]]],\n",
       "              \n",
       "              \n",
       "                      [[[ 7.3095e-02,  5.5446e-02,  2.3258e-04,  4.2934e-02,  7.0445e-03],\n",
       "                        [ 2.3990e-02, -7.1649e-02, -8.2276e-02,  6.3895e-02, -1.5880e-02],\n",
       "                        [-7.3143e-02,  1.4243e-02,  1.6269e-02,  3.2875e-02, -8.4050e-03],\n",
       "                        [ 7.1763e-02,  2.7751e-02,  1.5587e-02, -5.0975e-02, -2.0613e-02],\n",
       "                        [-7.6770e-02, -4.2359e-02, -5.1428e-02,  4.6800e-04, -8.5296e-02]],\n",
       "              \n",
       "                       [[-6.6504e-02, -1.0923e-02, -6.2065e-02, -6.1060e-02, -8.2437e-02],\n",
       "                        [ 2.0192e-02, -9.2596e-02, -5.4623e-02, -1.3409e-02,  4.6558e-02],\n",
       "                        [ 6.8030e-02,  5.2602e-02,  4.0255e-02,  6.5174e-02,  4.0796e-03],\n",
       "                        [ 4.4456e-02, -2.7707e-02, -8.0786e-02, -9.1967e-02, -6.5161e-02],\n",
       "                        [-4.1385e-02, -8.2144e-02, -9.8811e-03, -7.6873e-02, -4.5388e-02]],\n",
       "              \n",
       "                       [[-9.0424e-04, -3.0033e-02, -1.8214e-02, -6.4706e-03,  1.9350e-02],\n",
       "                        [ 1.0521e-02, -1.8358e-02,  3.1698e-02, -3.1080e-02, -2.7557e-02],\n",
       "                        [-7.7787e-02, -3.7951e-02,  6.3881e-03,  2.4317e-02, -7.2890e-03],\n",
       "                        [-1.1487e-02,  6.9981e-02,  4.2514e-02,  6.2595e-02,  2.9351e-02],\n",
       "                        [-2.2199e-02,  1.8544e-02, -6.3119e-02,  2.4612e-02, -1.2292e-02]],\n",
       "              \n",
       "                       [[ 6.3308e-02, -7.9160e-02, -4.9153e-02,  7.1384e-02, -4.3671e-02],\n",
       "                        [-8.2138e-02,  3.0920e-03,  6.5565e-02, -7.0460e-02, -3.9937e-02],\n",
       "                        [-4.2617e-02,  1.0104e-02, -4.4586e-03,  5.0998e-02, -8.9650e-02],\n",
       "                        [-7.3700e-02,  6.6476e-02, -2.9225e-02,  3.2758e-02,  5.8300e-03],\n",
       "                        [ 2.2725e-03, -6.9573e-02,  5.1005e-03, -2.2893e-02,  5.0626e-02]],\n",
       "              \n",
       "                       [[-7.1917e-02, -3.4246e-02, -4.0654e-02,  1.1686e-02, -4.4307e-03],\n",
       "                        [ 8.7733e-03, -3.8393e-02, -6.9380e-02, -7.6067e-02, -6.7549e-02],\n",
       "                        [-2.2612e-02,  5.0906e-02,  5.6251e-02,  3.8802e-02, -1.8421e-03],\n",
       "                        [ 1.1656e-02,  5.4746e-02,  1.0415e-03,  6.5075e-02, -6.1817e-02],\n",
       "                        [ 5.7694e-02,  6.3520e-02, -2.8052e-02,  7.8473e-02, -5.3938e-02]],\n",
       "              \n",
       "                       [[ 1.2166e-02,  7.0944e-02,  7.5408e-03,  3.5846e-02, -6.0601e-02],\n",
       "                        [-7.1114e-02,  1.7016e-02,  5.7026e-02,  1.4979e-02, -3.2405e-02],\n",
       "                        [-2.0766e-02, -1.1818e-02, -4.9003e-02,  6.8996e-02,  4.5912e-02],\n",
       "                        [-5.2077e-02,  4.8231e-02,  5.1707e-02, -8.6559e-02, -4.7018e-02],\n",
       "                        [ 5.4925e-02,  1.5482e-02,  3.2711e-02, -3.9649e-02, -5.2461e-02]]],\n",
       "              \n",
       "              \n",
       "                      ...,\n",
       "              \n",
       "              \n",
       "                      [[[-1.2441e-02,  1.1417e-02, -2.7431e-02,  7.2695e-02,  2.0122e-02],\n",
       "                        [ 1.0517e-03, -3.3611e-02,  6.8371e-02,  1.6167e-02, -5.4917e-02],\n",
       "                        [ 2.9915e-02, -2.7329e-02,  8.0278e-02, -5.0212e-02,  1.5351e-02],\n",
       "                        [-4.4302e-02, -4.9323e-03, -7.6516e-02,  3.9924e-02, -4.6817e-02],\n",
       "                        [-2.6274e-02, -4.4096e-02,  2.6675e-02,  4.9198e-02, -3.2957e-02]],\n",
       "              \n",
       "                       [[ 5.4630e-02, -3.3353e-02, -7.6901e-02, -7.8146e-02,  4.5822e-02],\n",
       "                        [ 2.4766e-02,  3.5191e-02, -7.4423e-02,  3.8172e-02, -5.6990e-02],\n",
       "                        [ 7.5566e-02, -2.3632e-02, -3.8113e-03, -5.5642e-02, -6.9432e-02],\n",
       "                        [-1.7757e-02,  7.5101e-02,  3.1276e-02,  1.3677e-02, -2.4164e-02],\n",
       "                        [-1.0327e-02,  6.8772e-02, -7.7444e-02,  7.1390e-02,  4.7894e-02]],\n",
       "              \n",
       "                       [[ 2.5261e-02,  7.6003e-02,  2.0746e-02, -5.3698e-02, -6.9970e-02],\n",
       "                        [-4.4008e-02,  7.7718e-02, -7.4445e-03, -4.5607e-02, -7.1188e-02],\n",
       "                        [ 4.0044e-02, -5.6797e-02,  3.4283e-02,  7.0015e-02, -1.6166e-02],\n",
       "                        [-4.9203e-02,  3.2893e-02, -7.2082e-02,  6.2448e-02,  8.5280e-02],\n",
       "                        [-5.7744e-02,  1.3164e-02,  2.6844e-02,  4.5119e-02,  6.8107e-02]],\n",
       "              \n",
       "                       [[ 4.3602e-02,  1.9657e-02, -1.8552e-02,  4.9342e-02,  5.6159e-02],\n",
       "                        [-4.5450e-02,  4.3118e-03, -2.8526e-02,  1.5729e-02, -4.4939e-02],\n",
       "                        [ 5.4156e-02,  5.8109e-02,  6.4287e-04,  4.8890e-02,  2.9106e-02],\n",
       "                        [ 4.7464e-04, -1.4008e-04, -1.5725e-02, -5.2852e-02, -8.8841e-02],\n",
       "                        [-3.3727e-02,  6.4691e-02,  2.3425e-02,  4.7069e-02,  4.9585e-02]],\n",
       "              \n",
       "                       [[-1.6235e-02, -7.0359e-03, -4.0185e-02,  4.5724e-02,  1.7262e-02],\n",
       "                        [-8.1926e-02,  1.2316e-02, -2.7924e-02,  7.3112e-02, -5.5778e-02],\n",
       "                        [-5.1582e-02,  5.3597e-02,  4.9973e-03,  5.5960e-03,  2.6595e-02],\n",
       "                        [-6.2312e-02, -1.6461e-02,  4.9788e-02, -6.3798e-02,  5.7105e-02],\n",
       "                        [-2.4053e-02, -4.9551e-02,  3.9823e-02, -7.9380e-02,  1.0574e-02]],\n",
       "              \n",
       "                       [[-4.1491e-02,  3.9293e-02, -4.9443e-02, -7.4881e-02, -6.4685e-02],\n",
       "                        [-3.1338e-02, -4.3363e-02, -4.9423e-02, -4.7537e-04,  8.2287e-02],\n",
       "                        [-5.1847e-02,  7.1683e-02,  3.0609e-02, -5.4523e-02,  7.7637e-02],\n",
       "                        [ 2.8663e-02,  8.0185e-02, -3.8343e-02,  5.7679e-02,  5.7770e-02],\n",
       "                        [ 5.6962e-03, -1.2104e-02, -6.1609e-02, -3.8587e-02,  4.4968e-02]]],\n",
       "              \n",
       "              \n",
       "                      [[[-8.4172e-02,  5.6803e-02,  1.1351e-02,  2.2137e-02,  5.4225e-02],\n",
       "                        [-1.3909e-02, -3.5142e-02, -6.9729e-02, -8.1815e-02,  3.3075e-02],\n",
       "                        [-2.9620e-02,  7.0623e-02, -2.6533e-02,  7.5715e-02,  2.1855e-02],\n",
       "                        [-6.7570e-02, -3.5761e-02,  2.4400e-02,  4.9521e-02,  3.6286e-04],\n",
       "                        [-3.0672e-02, -1.2722e-02, -3.1803e-02, -4.1976e-02, -1.2141e-02]],\n",
       "              \n",
       "                       [[-6.0038e-02,  7.3025e-02,  4.0951e-02,  3.2502e-02, -5.3255e-02],\n",
       "                        [ 6.1221e-02, -2.8223e-02,  2.8512e-02, -6.0912e-02, -3.5176e-02],\n",
       "                        [-4.9436e-02,  6.9625e-02,  2.1861e-02,  3.3194e-02,  6.3907e-03],\n",
       "                        [-4.0515e-02, -3.0135e-03, -1.7101e-03,  1.0452e-02,  2.8655e-02],\n",
       "                        [ 1.2324e-02,  2.8382e-02,  6.3921e-02, -6.7060e-02,  3.6043e-02]],\n",
       "              \n",
       "                       [[ 6.5640e-03,  3.0282e-02,  7.1698e-02, -3.5455e-02, -6.6900e-02],\n",
       "                        [-3.1435e-02, -6.1840e-04, -2.1952e-02,  4.9305e-02,  6.4775e-04],\n",
       "                        [-4.4950e-03, -3.8220e-03,  2.7130e-02, -3.3977e-02,  4.7305e-02],\n",
       "                        [ 5.6199e-02, -3.2025e-02, -7.4915e-02, -6.4628e-02, -2.5125e-02],\n",
       "                        [-5.8176e-02,  5.7028e-02,  8.8959e-03,  8.3748e-03,  5.9083e-02]],\n",
       "              \n",
       "                       [[ 4.4976e-02, -8.1730e-02, -8.2022e-02, -1.0103e-02,  5.9081e-02],\n",
       "                        [ 1.9927e-03,  7.3274e-03, -9.6415e-03, -4.1815e-02, -5.6805e-02],\n",
       "                        [ 3.8936e-03, -1.3226e-02, -4.7808e-02, -3.7345e-02, -8.7801e-02],\n",
       "                        [ 4.9236e-03, -2.1578e-02, -9.1503e-02, -8.1836e-03,  4.7863e-05],\n",
       "                        [-5.4211e-02, -7.2151e-02, -6.4614e-02,  2.4862e-02, -7.4411e-02]],\n",
       "              \n",
       "                       [[-2.2078e-02, -7.2835e-02, -5.0457e-02, -2.5330e-02, -7.9435e-02],\n",
       "                        [-7.3137e-02, -1.0086e-02,  1.6162e-02, -8.1422e-02,  5.4849e-02],\n",
       "                        [ 4.9885e-02, -4.3266e-02, -1.9812e-02, -7.9159e-02,  2.6104e-02],\n",
       "                        [-8.3482e-02,  4.8697e-02,  4.8807e-02,  3.0437e-02, -5.5220e-02],\n",
       "                        [ 2.7645e-02,  5.4429e-04,  9.1327e-03, -4.2350e-02, -7.5106e-02]],\n",
       "              \n",
       "                       [[-6.3295e-02, -8.2481e-02,  7.1641e-02,  2.1306e-02,  2.9637e-02],\n",
       "                        [-4.0627e-02,  1.1635e-02, -7.8407e-02,  2.7638e-02, -6.1308e-02],\n",
       "                        [-2.8597e-02,  4.9179e-02, -4.5630e-02,  3.6659e-02, -3.9190e-02],\n",
       "                        [ 1.2578e-02, -4.3987e-02,  3.4922e-03, -4.8830e-02, -8.2568e-02],\n",
       "                        [-1.4250e-02, -3.3596e-02,  5.5283e-02,  1.7542e-02,  4.2994e-02]]],\n",
       "              \n",
       "              \n",
       "                      [[[ 7.8948e-02, -3.8858e-02,  4.6557e-02,  1.0035e-02, -6.1125e-02],\n",
       "                        [-6.1304e-03,  4.7045e-02,  3.0890e-02,  5.2338e-02,  3.1010e-02],\n",
       "                        [ 7.7064e-02,  7.7089e-02, -4.1618e-02,  1.7839e-02,  3.7527e-02],\n",
       "                        [ 8.0906e-02, -6.2438e-03,  3.4059e-03,  7.0914e-02, -5.8011e-03],\n",
       "                        [-5.8331e-02, -6.9091e-02, -4.9863e-02, -6.4080e-02, -4.2799e-02]],\n",
       "              \n",
       "                       [[-1.7172e-02,  2.5183e-02, -2.5667e-02,  6.6645e-02,  8.8227e-03],\n",
       "                        [-2.5384e-03, -6.0076e-02, -6.6108e-02, -1.4979e-02, -3.8240e-02],\n",
       "                        [ 2.2491e-02, -1.7236e-02,  1.7777e-02,  3.4220e-02,  7.7264e-02],\n",
       "                        [-1.7425e-02,  1.0588e-02,  6.1338e-02,  4.8557e-02,  6.8039e-02],\n",
       "                        [ 9.8668e-03,  4.3172e-02,  3.5175e-03, -5.2943e-02,  2.2544e-02]],\n",
       "              \n",
       "                       [[ 7.5604e-02,  4.2218e-02, -3.1923e-02, -7.0284e-02, -1.3957e-02],\n",
       "                        [ 1.8820e-02, -4.9170e-02,  4.2588e-02,  6.6449e-02, -1.7215e-02],\n",
       "                        [ 1.4917e-02, -1.5111e-02, -2.3311e-02,  4.4168e-02,  5.4161e-02],\n",
       "                        [-3.3047e-02, -5.9432e-02,  3.6179e-02,  4.1128e-02, -2.5464e-02],\n",
       "                        [ 2.7204e-02,  4.1435e-02,  1.7653e-02,  5.7654e-02,  1.0051e-02]],\n",
       "              \n",
       "                       [[ 5.6843e-02, -6.6794e-02, -6.1537e-02,  5.8804e-02, -3.9148e-02],\n",
       "                        [ 3.5007e-02, -1.3499e-02,  3.5299e-03, -7.4291e-05, -4.1144e-02],\n",
       "                        [-6.0828e-02,  1.3258e-02, -8.0810e-02,  3.1124e-02,  1.7745e-02],\n",
       "                        [-6.9267e-02,  2.9421e-02, -2.4403e-02,  3.1734e-02, -1.5018e-02],\n",
       "                        [ 5.5133e-02,  6.2512e-02, -2.2203e-02,  1.2284e-02, -5.9744e-03]],\n",
       "              \n",
       "                       [[ 2.7179e-02, -5.3693e-04, -6.6348e-02,  7.7593e-03,  2.6448e-02],\n",
       "                        [ 1.8513e-02, -1.8399e-02, -4.2224e-02, -4.9819e-02,  4.4932e-02],\n",
       "                        [-2.6018e-03,  3.4164e-02,  1.4491e-02,  1.2298e-02,  3.7283e-02],\n",
       "                        [ 2.7978e-03, -2.2391e-03, -6.3609e-02,  1.3744e-03, -1.4025e-02],\n",
       "                        [ 6.7112e-03,  4.5027e-02,  2.1210e-02,  4.7455e-02,  1.6951e-04]],\n",
       "              \n",
       "                       [[-3.1620e-02,  4.2157e-02,  5.2922e-02, -1.8596e-02,  8.0969e-02],\n",
       "                        [-6.4373e-02,  5.1673e-02, -4.0628e-02,  7.1012e-02,  5.3385e-02],\n",
       "                        [ 5.7208e-02, -6.1327e-02,  4.9915e-02, -5.3887e-02, -4.0734e-03],\n",
       "                        [ 5.9395e-02,  5.3274e-02,  4.0027e-02,  4.9937e-02,  6.3655e-03],\n",
       "                        [ 6.3873e-02,  3.2503e-02,  7.1135e-02,  6.2539e-03,  1.4034e-02]]]])),\n",
       "             ('img_enc.im_layers.1.pre_layer.3.bias',\n",
       "              tensor([ 0.0007, -0.0155, -0.0295, -0.0305,  0.0488, -0.0496, -0.0506])),\n",
       "             ('img_enc.im_layers.1.pre_layer.4.weight',\n",
       "              tensor([1.0068, 1.0121, 0.9849, 0.9889, 0.9889, 0.9933, 1.0078])),\n",
       "             ('img_enc.im_layers.1.pre_layer.4.bias',\n",
       "              tensor([ 0.0206,  0.0188, -0.0050,  0.0070,  0.0169, -0.0008,  0.0239])),\n",
       "             ('img_enc.im_layers.1.pre_layer.4.running_mean',\n",
       "              tensor([-0.3555,  0.4164, -0.4790, -0.1593,  0.0751, -0.6477,  0.4577])),\n",
       "             ('img_enc.im_layers.1.pre_layer.4.running_var',\n",
       "              tensor([0.1482, 0.3193, 0.3502, 0.0759, 0.0492, 0.3650, 0.3057])),\n",
       "             ('img_enc.im_layers.1.pre_layer.4.num_batches_tracked',\n",
       "              tensor(76)),\n",
       "             ('grph_enc.graph_layers.0.N_conv_linear.weight',\n",
       "              tensor([[ 0.0188,  0.0169,  0.0153,  ...,  0.0057,  0.0007,  0.0113],\n",
       "                      [-0.0020,  0.0009,  0.0019,  ..., -0.0028,  0.0075,  0.0017],\n",
       "                      [-0.0120, -0.0037, -0.0078,  ..., -0.0012, -0.0056, -0.0011],\n",
       "                      ...,\n",
       "                      [ 0.0203,  0.0182,  0.0114,  ...,  0.0031,  0.0090,  0.0159],\n",
       "                      [-0.0136, -0.0034, -0.0093,  ..., -0.0112,  0.0029,  0.0066],\n",
       "                      [-0.0116,  0.0018, -0.0037,  ..., -0.0053, -0.0075, -0.0026]])),\n",
       "             ('grph_enc.graph_layers.0.N_conv_linear.bias',\n",
       "              tensor([ 0.0186,  0.0065, -0.0176, -0.0123,  0.0224,  0.0075, -0.0128,  0.0066,\n",
       "                       0.0215, -0.0004,  0.0115, -0.0149,  0.0045,  0.0208,  0.0085,  0.0144,\n",
       "                       0.0199,  0.0013,  0.0195,  0.0031, -0.0194, -0.0057,  0.0102,  0.0082,\n",
       "                      -0.0022, -0.0229,  0.0153,  0.0234,  0.0188, -0.0107,  0.0178,  0.0143,\n",
       "                       0.0013,  0.0112,  0.0140,  0.0152,  0.0170,  0.0093, -0.0050,  0.0142,\n",
       "                      -0.0011, -0.0142, -0.0100,  0.0146,  0.0090, -0.0148, -0.0127,  0.0196,\n",
       "                       0.0162,  0.0153, -0.0130, -0.0211,  0.0161, -0.0117,  0.0200,  0.0133,\n",
       "                       0.0178, -0.0204,  0.0127, -0.0170, -0.0170, -0.0204, -0.0073,  0.0158,\n",
       "                       0.0149,  0.0175, -0.0126, -0.0167, -0.0081, -0.0208,  0.0175, -0.0036,\n",
       "                      -0.0110, -0.0175, -0.0195, -0.0129, -0.0124,  0.0172,  0.0135,  0.0040,\n",
       "                       0.0130, -0.0041, -0.0120,  0.0211,  0.0200,  0.0136, -0.0168, -0.0085,\n",
       "                      -0.0143, -0.0042,  0.0132, -0.0113,  0.0189,  0.0081,  0.0038, -0.0197,\n",
       "                      -0.0220,  0.0158, -0.0094, -0.0156])),\n",
       "             ('grph_enc.graph_layers.0.n_conv_linear.weight',\n",
       "              tensor([[-0.0049,  0.0028, -0.0055,  ...,  0.0033, -0.0044,  0.0164],\n",
       "                      [ 0.0028, -0.0079, -0.0025,  ..., -0.0032,  0.0023, -0.0108],\n",
       "                      [ 0.0243,  0.0098,  0.0116,  ...,  0.0097,  0.0004, -0.0017],\n",
       "                      ...,\n",
       "                      [-0.0148, -0.0050, -0.0128,  ..., -0.0052, -0.0061,  0.0135],\n",
       "                      [ 0.0144,  0.0123,  0.0120,  ...,  0.0023,  0.0122,  0.0044],\n",
       "                      [ 0.0014,  0.0077,  0.0048,  ...,  0.0027, -0.0004,  0.0134]])),\n",
       "             ('grph_enc.graph_layers.0.n_conv_linear.bias',\n",
       "              tensor([ 0.0173, -0.0129,  0.0200,  0.0094,  0.0126, -0.0163, -0.0199,  0.0211,\n",
       "                       0.0039, -0.0235,  0.0157, -0.0179, -0.0168, -0.0005,  0.0207,  0.0064,\n",
       "                      -0.0025,  0.0214,  0.0140, -0.0083, -0.0130,  0.0080, -0.0224,  0.0040,\n",
       "                      -0.0251,  0.0209, -0.0141, -0.0170,  0.0151,  0.0221,  0.0140, -0.0218,\n",
       "                       0.0017,  0.0176,  0.0164, -0.0209, -0.0164, -0.0126, -0.0124,  0.0174,\n",
       "                       0.0213,  0.0184,  0.0230, -0.0178,  0.0221, -0.0167, -0.0174, -0.0158,\n",
       "                       0.0223, -0.0059, -0.0150,  0.0162, -0.0229, -0.0235,  0.0184, -0.0197,\n",
       "                      -0.0173,  0.0108, -0.0036, -0.0172,  0.0198,  0.0064, -0.0144,  0.0191,\n",
       "                       0.0159, -0.0024,  0.0188,  0.0138, -0.0054,  0.0216,  0.0016, -0.0193,\n",
       "                       0.0210, -0.0070, -0.0200,  0.0227,  0.0180,  0.0139,  0.0180,  0.0183,\n",
       "                      -0.0078,  0.0104, -0.0167,  0.0076, -0.0176,  0.0250,  0.0141, -0.0100,\n",
       "                      -0.0073, -0.0182, -0.0166, -0.0213, -0.0222, -0.0197,  0.0116,  0.0025,\n",
       "                      -0.0159, -0.0205,  0.0215,  0.0213])),\n",
       "             ('grph_enc.graph_layers.1.N_conv_linear.weight',\n",
       "              tensor([[-0.0651, -0.0554, -0.0051,  ..., -0.0339, -0.0389, -0.1105],\n",
       "                      [-0.0562,  0.0830, -0.0728,  ..., -0.0148, -0.0914, -0.0961],\n",
       "                      [ 0.0727,  0.0998, -0.0612,  ...,  0.0502, -0.0130, -0.1032],\n",
       "                      ...,\n",
       "                      [ 0.0101, -0.0475, -0.0074,  ...,  0.0119, -0.0498,  0.0439],\n",
       "                      [ 0.0976,  0.0801, -0.0684,  ..., -0.0275,  0.0631, -0.0038],\n",
       "                      [ 0.1072, -0.0251, -0.0040,  ..., -0.0693, -0.0074, -0.0487]])),\n",
       "             ('grph_enc.graph_layers.1.N_conv_linear.bias',\n",
       "              tensor([-8.8648e-02, -1.0663e-01,  4.0979e-03, -7.9188e-02,  9.9919e-02,\n",
       "                       7.7663e-02, -1.1092e-01,  8.8976e-05,  3.7396e-03,  3.5720e-02,\n",
       "                      -9.4809e-02,  1.0462e-01, -5.5203e-02, -5.7906e-02, -9.9788e-02,\n",
       "                       4.8287e-03,  3.4916e-02,  7.2982e-02,  3.0476e-02, -7.8963e-02,\n",
       "                      -3.7600e-02, -6.1400e-02,  5.4030e-02,  2.4724e-02,  5.2583e-02,\n",
       "                      -7.8782e-02,  1.1451e-01, -2.1836e-02,  8.6684e-02, -5.3432e-02,\n",
       "                      -1.1309e-01, -4.1611e-03,  5.2229e-02,  7.9645e-03, -1.7365e-02,\n",
       "                      -2.8569e-02, -6.6704e-02, -6.7457e-02,  1.0207e-01,  8.5180e-02,\n",
       "                       6.8093e-03, -4.5813e-02, -6.4702e-03,  1.0684e-01,  8.2681e-02,\n",
       "                       6.9046e-02,  2.4905e-02,  2.7714e-02, -2.1972e-02,  1.0751e-01])),\n",
       "             ('grph_enc.graph_layers.1.n_conv_linear.weight',\n",
       "              tensor([[-0.0615,  0.0319, -0.0356,  ..., -0.0391,  0.0703,  0.0845],\n",
       "                      [-0.0015, -0.0312, -0.0470,  ..., -0.0914,  0.0996,  0.0669],\n",
       "                      [-0.0261, -0.0016,  0.0117,  ..., -0.0345,  0.0638, -0.0505],\n",
       "                      ...,\n",
       "                      [-0.0909,  0.0705, -0.0313,  ..., -0.0309, -0.0293, -0.0563],\n",
       "                      [ 0.0687, -0.0545, -0.0700,  ...,  0.0923, -0.0111, -0.0923],\n",
       "                      [ 0.0514,  0.0924, -0.0705,  ...,  0.0745, -0.0282,  0.0621]])),\n",
       "             ('grph_enc.graph_layers.1.n_conv_linear.bias',\n",
       "              tensor([ 0.0667,  0.0946, -0.0314,  0.0454, -0.0395,  0.1140,  0.0071,  0.0880,\n",
       "                       0.0030, -0.0667, -0.0163, -0.0400, -0.0703, -0.0115, -0.0219, -0.0665,\n",
       "                      -0.0184, -0.0796,  0.0805, -0.0256, -0.0616,  0.0432, -0.0093,  0.0336,\n",
       "                      -0.0178,  0.0337, -0.0834,  0.0065,  0.0549,  0.0129,  0.0404,  0.0195,\n",
       "                       0.0561, -0.0568,  0.0482, -0.0089,  0.0714,  0.0249,  0.0943,  0.0345,\n",
       "                      -0.1174, -0.0740, -0.0157, -0.0348, -0.0407, -0.0188, -0.0424, -0.1162,\n",
       "                       0.0522, -0.1039])),\n",
       "             ('grph_enc.graph_layers.2.N_conv_linear.weight',\n",
       "              tensor([[-1.5259e-01, -9.3422e-02, -3.2947e-02,  8.4468e-02,  3.6174e-02,\n",
       "                        1.1069e-01, -5.0501e-02,  1.2447e-01, -8.8830e-02,  8.3270e-02,\n",
       "                       -5.8057e-02, -1.2215e-01, -1.6622e-02, -1.1096e-01, -1.7014e-02,\n",
       "                        8.1903e-02,  9.8463e-03,  4.3847e-02,  1.2363e-02,  1.5711e-02,\n",
       "                       -1.5328e-02, -4.3815e-02, -7.8216e-03, -9.0394e-03,  1.3391e-01,\n",
       "                        1.0403e-01, -6.1825e-02, -1.2363e-01, -7.6725e-02,  1.5195e-02,\n",
       "                       -5.7793e-02, -1.3717e-01, -4.8095e-02,  7.6931e-02, -1.1532e-01,\n",
       "                       -1.1678e-01, -8.8466e-02, -3.3977e-02,  9.0503e-02, -2.5914e-02,\n",
       "                       -4.4434e-02, -2.5501e-04,  6.2555e-02,  1.1757e-01, -3.1735e-02,\n",
       "                       -8.6026e-02,  7.7954e-02,  3.9467e-02, -2.1643e-02,  9.0122e-02],\n",
       "                      [-6.6675e-02,  4.7956e-04, -1.0868e-01, -7.0624e-02,  5.7791e-02,\n",
       "                        1.1112e-01, -1.0301e-01,  1.4786e-01, -7.0902e-02, -2.5694e-02,\n",
       "                        9.1005e-02,  7.0215e-02,  4.2667e-02, -7.4738e-02, -8.9118e-02,\n",
       "                        1.1204e-01,  1.1388e-02,  1.0495e-01, -1.0966e-01, -6.4719e-02,\n",
       "                        2.5591e-02, -5.7940e-02, -9.9479e-02,  3.0550e-02,  4.4718e-02,\n",
       "                        1.4929e-01,  9.8092e-02, -4.2162e-02, -1.8557e-02,  9.2645e-02,\n",
       "                       -2.1041e-02, -6.2005e-04, -9.1452e-04, -4.2259e-02,  2.6244e-02,\n",
       "                        9.2717e-02, -1.9632e-02, -2.1734e-02, -8.2765e-02,  9.5775e-03,\n",
       "                       -6.9065e-02,  2.7042e-02, -1.4257e-01, -5.8571e-02, -8.2690e-03,\n",
       "                       -6.0441e-02,  7.6117e-03, -1.1444e-01, -3.8884e-02, -8.6443e-02],\n",
       "                      [-2.2090e-03,  1.1239e-01,  1.1459e-01, -8.0627e-02,  5.0009e-02,\n",
       "                        1.6458e-02,  5.0117e-02, -6.8424e-02, -1.1722e-01, -3.3588e-02,\n",
       "                       -9.2471e-02,  4.8933e-02,  1.1502e-02, -3.4544e-02, -9.5317e-02,\n",
       "                       -1.1514e-01,  9.1664e-02,  3.1112e-03, -2.1295e-02,  7.2486e-03,\n",
       "                       -1.4556e-01, -1.2608e-01,  7.0791e-02, -7.1946e-02, -8.0205e-03,\n",
       "                        1.1469e-01,  5.7235e-02,  7.9608e-02, -5.1618e-02, -1.0309e-01,\n",
       "                        6.5531e-02,  1.7670e-02,  2.8782e-02,  3.8671e-02, -1.2534e-01,\n",
       "                       -8.7618e-02, -4.0215e-03, -1.0326e-01, -1.1111e-01, -8.7351e-02,\n",
       "                        1.0798e-01,  7.3784e-02, -6.3760e-02,  4.3109e-02, -3.9694e-02,\n",
       "                        5.6533e-02, -7.2392e-02,  1.5149e-02,  5.6881e-02,  3.3692e-02],\n",
       "                      [ 1.2880e-01, -1.2345e-01, -2.2321e-02,  1.0424e-01,  1.4571e-02,\n",
       "                        2.8121e-02, -4.2625e-02,  3.7918e-03,  5.4280e-02, -9.9423e-02,\n",
       "                        7.4245e-02, -8.2453e-02,  8.1317e-03,  6.1438e-03, -1.2776e-01,\n",
       "                       -1.2376e-01, -5.3402e-02, -5.6524e-02, -1.0638e-01,  6.7181e-02,\n",
       "                       -3.3854e-02,  6.5834e-02, -4.6944e-02,  5.8383e-02, -4.4855e-03,\n",
       "                       -1.0162e-01, -1.2838e-01,  1.0969e-01,  5.6383e-02, -1.2570e-01,\n",
       "                       -8.9312e-02, -1.0405e-01,  2.1642e-02, -6.4812e-02,  1.1167e-01,\n",
       "                        8.7641e-02,  1.0946e-01, -1.1482e-01, -6.6706e-02,  2.8183e-02,\n",
       "                        1.2270e-01, -1.3199e-01,  9.8986e-04,  5.7012e-02, -2.5666e-02,\n",
       "                        5.2680e-02, -1.0332e-01,  7.8137e-02,  3.5943e-02,  6.1640e-02],\n",
       "                      [ 4.5969e-02,  1.4865e-02,  3.9637e-02, -8.8448e-02,  1.1746e-01,\n",
       "                        1.0070e-01,  1.1232e-02,  3.7186e-02,  9.8485e-02, -2.5130e-02,\n",
       "                        1.2160e-01, -7.4545e-02,  1.9778e-02, -1.4373e-01,  9.6493e-02,\n",
       "                        8.1261e-02,  6.8107e-02,  1.2898e-01, -6.6286e-02, -1.1000e-01,\n",
       "                       -4.4788e-02, -1.3868e-02,  5.8400e-02,  5.6678e-02, -4.6373e-02,\n",
       "                        5.2716e-02, -2.0660e-02,  3.2397e-02,  4.9462e-02,  1.2228e-01,\n",
       "                        3.1698e-02, -5.2081e-02, -7.4397e-02, -3.7590e-04, -8.3732e-02,\n",
       "                       -6.2173e-02, -1.1581e-01,  1.3002e-01, -3.0048e-02,  5.5965e-02,\n",
       "                       -6.9302e-02,  1.3306e-01, -1.2298e-01, -1.3184e-01, -1.2637e-01,\n",
       "                       -6.6062e-04,  3.8095e-02, -4.3161e-02, -9.7780e-02,  8.7890e-02],\n",
       "                      [-5.2799e-02, -8.1592e-02,  1.3170e-01, -8.2703e-02,  9.3361e-02,\n",
       "                       -7.5217e-02,  3.7873e-02, -6.3574e-02, -1.5344e-02,  9.5763e-02,\n",
       "                        6.0954e-02, -4.3676e-02, -4.9298e-02, -3.8855e-02,  1.2836e-01,\n",
       "                       -1.1207e-01,  9.5141e-02, -1.4464e-01, -2.5884e-02,  8.8553e-02,\n",
       "                       -7.9614e-02,  1.0017e-01, -8.6363e-02, -5.4152e-02, -1.4650e-01,\n",
       "                        4.2968e-02,  4.2551e-02,  1.3547e-01, -1.6034e-02, -1.2077e-01,\n",
       "                        3.9956e-02,  1.3414e-01, -2.4931e-03,  6.6968e-02, -3.5511e-02,\n",
       "                       -8.2856e-02, -8.3427e-03, -3.1734e-02,  5.3828e-02, -7.8375e-02,\n",
       "                        9.4768e-02, -7.0087e-02, -3.7152e-02,  2.6619e-02,  1.2420e-01,\n",
       "                        1.5467e-01, -5.5747e-02,  7.6136e-02,  1.3616e-01, -1.5430e-02],\n",
       "                      [-4.9742e-02, -7.5071e-02,  5.2595e-02, -3.1480e-02,  4.3731e-02,\n",
       "                       -7.7577e-02, -1.3990e-01, -2.9256e-02,  6.0786e-02,  3.1613e-02,\n",
       "                       -8.1145e-02, -7.9910e-03,  9.3552e-02, -1.1627e-01,  1.4065e-01,\n",
       "                        6.2527e-04, -1.0988e-01, -8.8663e-02,  1.2800e-01,  8.6206e-02,\n",
       "                       -1.0952e-02, -2.6048e-03,  5.0861e-02,  1.5161e-02, -6.0912e-02,\n",
       "                       -3.3027e-02,  4.1744e-02, -3.4292e-03, -1.1310e-01, -7.1154e-02,\n",
       "                       -2.4233e-02,  9.7536e-03, -6.5930e-02, -8.1979e-03,  1.2179e-01,\n",
       "                       -3.1686e-02,  6.9136e-02,  8.2788e-02,  1.5417e-02,  4.4193e-03,\n",
       "                        4.2642e-02,  2.0491e-02, -8.1354e-02,  1.4179e-01,  6.1007e-02,\n",
       "                       -9.4097e-02,  6.6825e-02,  1.5059e-01,  8.4628e-02,  6.6187e-02],\n",
       "                      [ 9.3455e-02,  1.3261e-01,  4.3841e-05, -1.3403e-01,  7.8880e-02,\n",
       "                       -3.5201e-02,  3.0958e-02, -4.0566e-02, -5.7907e-02,  1.3059e-01,\n",
       "                       -1.5165e-01,  5.5470e-02,  9.3343e-02,  7.1908e-02,  3.5388e-02,\n",
       "                        1.1639e-02,  8.2562e-03, -9.7102e-02,  4.9676e-02,  3.5891e-02,\n",
       "                       -9.1371e-02,  7.4941e-02,  6.3033e-02,  5.1887e-02, -4.5370e-02,\n",
       "                       -5.8433e-02, -1.2443e-01,  1.1979e-01, -5.1621e-02, -6.7016e-02,\n",
       "                       -9.6642e-02, -7.4141e-02, -1.0264e-01, -8.2180e-02,  1.5497e-02,\n",
       "                        3.5607e-02, -1.1533e-01,  3.0761e-02, -1.2609e-01, -6.4917e-02,\n",
       "                        2.9057e-02, -5.4349e-02,  7.6535e-02, -6.8155e-02, -6.5322e-02,\n",
       "                        9.6755e-03, -1.1642e-02, -1.9178e-02,  2.6134e-02, -9.6017e-02],\n",
       "                      [-1.3072e-01, -4.8443e-02, -9.0262e-02, -4.0201e-02,  1.9282e-02,\n",
       "                        7.9796e-03,  1.2365e-01, -5.3816e-02,  3.7726e-02,  1.2261e-01,\n",
       "                       -4.7046e-02,  7.5115e-02,  4.0388e-02,  1.4026e-01, -1.1834e-01,\n",
       "                        4.8909e-02,  3.2759e-02, -7.3680e-02, -4.6634e-02,  4.6328e-02,\n",
       "                        6.0490e-02,  4.8796e-02, -6.2647e-02,  1.1660e-01, -7.0564e-02,\n",
       "                        9.0262e-02,  5.4088e-02,  1.4017e-01, -1.4113e-03,  1.1552e-02,\n",
       "                       -3.5417e-02,  1.2488e-02, -5.9987e-02,  8.5574e-02,  7.2160e-02,\n",
       "                       -7.0578e-02,  6.6471e-02, -1.2676e-01, -1.1234e-01,  1.1517e-01,\n",
       "                        5.7858e-02,  2.4386e-02, -1.2233e-01, -6.3107e-02, -9.7413e-02,\n",
       "                       -1.0308e-01,  7.9236e-02, -6.7007e-02, -4.8822e-02,  2.3656e-02],\n",
       "                      [-1.4484e-01,  6.6350e-02,  2.5155e-02,  4.8656e-02,  9.5676e-02,\n",
       "                       -8.9544e-02,  1.1794e-01, -1.7215e-02, -8.5184e-02, -3.5786e-02,\n",
       "                       -1.1000e-01,  5.0305e-02, -8.4828e-02, -9.7823e-02, -6.6083e-02,\n",
       "                        5.2252e-02, -9.0581e-02,  6.0811e-03,  5.7215e-02, -3.7627e-02,\n",
       "                       -1.4636e-01, -5.3715e-02,  2.5102e-02,  1.1887e-01,  1.0909e-01,\n",
       "                       -2.2608e-02,  3.5707e-02, -1.5399e-02, -3.7279e-02,  8.3387e-02,\n",
       "                        3.1731e-02,  6.1759e-02, -1.3381e-01,  7.9794e-02, -1.9737e-02,\n",
       "                        4.0375e-02, -4.1169e-02, -1.9132e-02,  1.1787e-02, -6.7028e-02,\n",
       "                       -1.2907e-02,  1.0720e-01, -1.3344e-01, -2.9444e-02,  1.5787e-02,\n",
       "                        9.7037e-02, -9.8474e-02, -1.0261e-01, -1.2082e-01,  7.5614e-02],\n",
       "                      [ 7.4012e-03,  1.1296e-01, -2.2668e-02,  8.5869e-02,  8.1508e-02,\n",
       "                        1.4789e-01, -7.8866e-03,  1.1687e-01,  4.3098e-02, -7.9510e-02,\n",
       "                        4.4548e-02,  2.7674e-02,  5.1242e-02,  1.1900e-01, -1.3027e-01,\n",
       "                       -7.2245e-02,  4.8514e-02, -1.1395e-01,  2.7104e-02, -5.2331e-02,\n",
       "                        9.4568e-02,  1.2399e-01, -1.2331e-01,  9.5366e-02,  5.1730e-02,\n",
       "                       -5.4146e-02, -1.2644e-01,  8.7392e-02,  7.4144e-02,  1.4114e-01,\n",
       "                        1.1289e-01,  1.2116e-01,  1.1715e-01, -3.4707e-02,  8.4423e-02,\n",
       "                        2.9253e-02, -7.3792e-02,  5.0187e-02, -6.7758e-02, -4.3061e-02,\n",
       "                       -6.1532e-02, -7.3788e-02,  4.8606e-03,  8.6706e-02, -5.1078e-02,\n",
       "                        1.1554e-01,  2.2028e-02, -1.3035e-01,  1.2394e-01, -2.2337e-02],\n",
       "                      [ 1.0424e-01,  1.2139e-01, -1.1622e-01, -1.2365e-01,  4.6209e-02,\n",
       "                       -1.4460e-01,  2.0713e-03, -1.3732e-02, -1.2418e-01, -8.3977e-02,\n",
       "                       -5.6393e-02, -6.8949e-02, -3.3223e-02, -1.1610e-01,  1.1283e-01,\n",
       "                       -4.7015e-02, -1.4615e-01,  5.7006e-02, -9.0031e-02,  3.2993e-02,\n",
       "                       -8.3507e-02, -1.1632e-01,  8.0192e-02, -6.4300e-02, -1.3629e-01,\n",
       "                       -1.0526e-01, -2.8197e-03,  9.2678e-02, -1.0052e-01, -7.3340e-02,\n",
       "                       -1.4776e-01,  5.7467e-02, -3.6359e-02, -2.7016e-02,  8.8910e-02,\n",
       "                       -1.4086e-02, -3.1993e-02, -1.1457e-01, -7.7442e-02, -5.2099e-02,\n",
       "                        7.9994e-02, -6.7225e-02,  1.4863e-01, -4.3288e-02, -7.8448e-02,\n",
       "                       -9.1046e-02, -2.6075e-02, -8.6052e-02, -7.6374e-02, -8.4482e-03]])),\n",
       "             ('grph_enc.graph_layers.2.N_conv_linear.bias',\n",
       "              tensor([ 0.0361, -0.1204,  0.0822,  0.0559, -0.1250, -0.1203, -0.0173,  0.0068,\n",
       "                      -0.0386,  0.0822, -0.0177,  0.0437])),\n",
       "             ('grph_enc.graph_layers.2.n_conv_linear.weight',\n",
       "              tensor([[ 7.0377e-02,  7.0897e-02,  8.8224e-02,  1.5564e-02,  4.6332e-02,\n",
       "                        7.0263e-02, -1.4323e-01,  4.6546e-02,  6.6188e-03, -1.4715e-01,\n",
       "                        1.0667e-01,  2.3970e-02,  9.6325e-02,  1.6988e-02, -1.0336e-01,\n",
       "                        1.1622e-01,  1.0197e-01,  4.2830e-02, -5.5472e-02, -1.0005e-01,\n",
       "                       -6.2100e-02, -1.1921e-01, -6.4138e-02, -5.2565e-04, -3.6405e-02,\n",
       "                        3.3724e-02,  2.1366e-02,  6.0049e-04, -9.8882e-02, -7.0868e-03,\n",
       "                       -1.5064e-02, -7.9455e-02,  9.0775e-02,  3.4012e-02, -6.3769e-02,\n",
       "                        7.0089e-02, -9.8759e-03,  7.5846e-02, -1.2342e-01,  5.3348e-02,\n",
       "                        2.9068e-02,  1.0927e-01, -6.7161e-02, -8.1670e-02,  1.2678e-01,\n",
       "                       -1.8568e-02, -1.3328e-01, -5.5050e-02,  5.9044e-02,  3.9907e-02],\n",
       "                      [-1.0436e-01,  1.0306e-01,  1.0041e-01, -1.1868e-01,  3.4416e-02,\n",
       "                       -4.4850e-02, -1.3882e-01,  2.7159e-02, -5.1993e-02, -1.6017e-02,\n",
       "                       -1.4967e-01,  7.1653e-02,  1.2033e-01,  1.0509e-01,  3.1312e-02,\n",
       "                       -1.0100e-01, -1.4955e-01, -8.5184e-03,  6.5629e-02, -5.6517e-02,\n",
       "                        1.1790e-01, -1.4033e-01,  3.2776e-02, -7.0065e-02, -1.0923e-01,\n",
       "                       -8.9802e-02, -9.3008e-02, -2.4039e-02,  8.3095e-02,  4.3435e-03,\n",
       "                        5.9499e-02, -1.1046e-01,  7.1009e-02, -1.4669e-01,  2.2545e-02,\n",
       "                        3.4780e-02,  1.3430e-01, -1.1529e-03,  1.4627e-01, -5.9285e-02,\n",
       "                       -5.1935e-02,  1.2143e-01, -1.1359e-01, -1.2641e-02,  1.0209e-01,\n",
       "                       -9.4874e-02,  1.0180e-01, -5.8565e-02,  8.9184e-02, -3.1294e-02],\n",
       "                      [-1.6609e-02, -7.3993e-02,  1.0115e-01, -9.3828e-02,  8.3507e-02,\n",
       "                       -5.6925e-03, -1.2159e-01,  4.5132e-02, -5.4855e-02,  5.8460e-02,\n",
       "                        1.0480e-01, -7.9038e-02,  8.2016e-03,  7.0800e-03, -8.7872e-02,\n",
       "                       -8.1001e-03, -1.1185e-01,  2.6593e-02,  4.5248e-02, -9.3976e-02,\n",
       "                        1.1764e-01,  2.8752e-02,  9.8398e-02, -9.3620e-02, -1.1352e-01,\n",
       "                       -1.0086e-02,  4.2624e-02,  1.0007e-01, -4.4564e-02,  6.1116e-02,\n",
       "                       -5.0729e-02, -8.0454e-02,  4.9659e-02, -7.3394e-02, -5.6914e-02,\n",
       "                       -7.9535e-02, -8.0445e-02, -8.7021e-04, -6.2004e-02, -1.1645e-01,\n",
       "                        2.2963e-02, -9.3871e-03,  2.3187e-02,  1.0304e-01, -5.2940e-02,\n",
       "                        1.3998e-01,  2.9748e-02, -1.4220e-02,  4.1879e-03, -1.1504e-01],\n",
       "                      [ 6.2417e-02,  1.0908e-01, -4.2126e-02, -4.8529e-02, -3.6053e-02,\n",
       "                       -5.4832e-02, -1.1345e-01,  3.7989e-02,  3.9435e-04,  1.2264e-02,\n",
       "                        1.3950e-01, -4.8309e-02,  3.0537e-02,  1.9577e-02, -1.0057e-01,\n",
       "                        5.6611e-02,  1.0490e-01, -7.2261e-02, -1.3225e-01,  8.5301e-02,\n",
       "                        9.2117e-02, -8.4019e-02, -1.4861e-02,  2.3643e-02,  5.0673e-02,\n",
       "                        1.1216e-01, -4.6198e-02, -1.1281e-01,  2.1688e-02, -2.4791e-02,\n",
       "                        1.0618e-01, -3.0021e-02, -1.2220e-01, -7.3313e-02,  7.8121e-02,\n",
       "                        8.0022e-02,  2.5752e-02,  6.0701e-02,  3.2500e-02, -9.5550e-02,\n",
       "                        1.2205e-01, -3.6606e-02,  2.6119e-02, -6.0013e-02,  1.0875e-01,\n",
       "                       -9.1853e-02,  1.1581e-01,  1.1253e-01,  1.1884e-01, -1.0811e-02],\n",
       "                      [-8.8528e-02, -8.9044e-03, -9.1806e-02,  1.9655e-02,  8.6642e-02,\n",
       "                       -2.1588e-02, -7.9437e-02,  1.2177e-01,  6.9574e-02,  5.4156e-03,\n",
       "                        1.0969e-01,  2.4719e-02, -1.0773e-01, -1.2428e-01,  3.8570e-02,\n",
       "                        5.7659e-02,  5.1501e-02, -5.0762e-02, -1.1424e-01,  1.2250e-01,\n",
       "                       -4.5743e-02,  2.2849e-02, -5.6526e-02,  6.3181e-02,  9.1002e-02,\n",
       "                        1.0086e-02, -5.9505e-02,  8.3615e-02,  4.9578e-02, -5.1719e-02,\n",
       "                       -5.0157e-02,  6.4538e-02,  9.9931e-02,  3.3780e-02,  1.1615e-01,\n",
       "                       -3.0053e-03,  8.7186e-02,  4.9851e-02,  3.2490e-03,  1.6205e-02,\n",
       "                        1.2848e-02,  3.6598e-02,  1.6153e-02,  3.3722e-02,  6.6963e-02,\n",
       "                       -6.3170e-02,  2.5689e-02,  5.1099e-02,  1.2862e-01,  5.0872e-02],\n",
       "                      [-2.1511e-02,  1.0438e-01,  9.0312e-02, -6.0868e-02, -6.8007e-02,\n",
       "                        1.4941e-03,  1.3087e-01,  7.5522e-02, -2.2586e-02,  1.0542e-01,\n",
       "                        1.1287e-01, -8.2499e-02, -1.1807e-01, -1.2981e-01, -5.6587e-02,\n",
       "                        1.4235e-01, -2.4536e-02,  1.2090e-01, -1.1666e-01,  7.6700e-02,\n",
       "                        1.2319e-01, -5.5999e-02, -1.3991e-01,  6.1279e-02, -5.2306e-02,\n",
       "                        1.1057e-01,  8.0754e-02,  1.9038e-02,  3.5257e-02, -3.9430e-02,\n",
       "                        1.1279e-01, -4.9965e-02, -8.6142e-02, -4.1609e-02,  1.5365e-01,\n",
       "                       -1.1300e-01,  6.9105e-02, -1.3306e-02,  8.7261e-02, -4.7899e-02,\n",
       "                        1.5543e-01, -1.0887e-01, -6.1637e-02, -4.1900e-02, -1.4233e-01,\n",
       "                        1.8752e-02,  1.3756e-01, -1.3031e-01, -6.5518e-03,  9.8831e-05],\n",
       "                      [ 6.7359e-02,  4.1702e-02,  1.0772e-01,  8.3934e-02,  5.0481e-02,\n",
       "                       -9.2640e-02,  1.2110e-01, -4.9645e-02,  1.5523e-01, -4.5579e-03,\n",
       "                        9.3001e-02, -1.3764e-01,  1.1432e-01,  8.3039e-03,  1.3513e-01,\n",
       "                        5.8077e-02,  6.1081e-02, -8.8859e-02, -2.0618e-02, -6.2432e-02,\n",
       "                       -1.4329e-01, -9.2028e-02, -4.0151e-03, -3.0821e-02,  9.5497e-02,\n",
       "                        1.4889e-01, -1.2843e-01, -4.6730e-02, -1.1508e-01,  1.1772e-01,\n",
       "                       -2.6506e-02, -2.7256e-02,  1.2879e-01,  9.1355e-02,  1.2690e-02,\n",
       "                       -1.3944e-01, -1.1135e-01,  6.8597e-02, -1.3369e-01,  6.0242e-02,\n",
       "                       -3.5775e-02, -1.3323e-01,  6.5499e-02,  9.7114e-02, -1.0720e-01,\n",
       "                       -8.6849e-02, -5.3055e-03,  1.0893e-01,  8.8585e-02, -1.0243e-01],\n",
       "                      [-5.1046e-02, -8.7150e-02, -7.5863e-02, -1.2682e-02, -2.0404e-02,\n",
       "                        1.3269e-01,  7.1951e-02, -1.1570e-01, -1.4265e-01, -5.3904e-02,\n",
       "                        3.0568e-03,  1.5174e-01,  6.6003e-02,  9.9646e-02, -8.1780e-03,\n",
       "                       -4.1044e-02, -7.4339e-02, -9.5006e-02, -7.8553e-02,  8.9541e-03,\n",
       "                        4.2804e-02, -1.3969e-01, -1.3815e-01,  3.8418e-02, -1.0803e-01,\n",
       "                       -9.0251e-02,  1.1374e-01,  2.4873e-02, -1.4333e-01, -1.1116e-01,\n",
       "                       -9.5970e-02, -2.1701e-02, -1.2723e-01,  4.1207e-02,  7.8740e-02,\n",
       "                       -5.4681e-02, -2.3045e-02,  6.6321e-02,  7.2192e-02,  1.2283e-01,\n",
       "                       -1.1059e-01,  5.1821e-02,  7.4518e-02,  7.1204e-02,  1.3041e-01,\n",
       "                        9.1232e-02,  4.8316e-02,  1.4236e-01,  3.5066e-02,  9.4949e-04],\n",
       "                      [ 4.0279e-02,  1.0107e-01, -1.8992e-02, -3.4087e-03, -5.5622e-02,\n",
       "                        8.7855e-02, -6.8445e-03, -1.0589e-01,  8.7262e-02,  3.5185e-02,\n",
       "                       -5.9471e-02,  1.1218e-01,  1.0732e-01,  7.6376e-02,  9.5179e-02,\n",
       "                       -6.8579e-02,  2.5764e-02, -8.3529e-02,  5.3831e-02, -3.1767e-02,\n",
       "                        1.0911e-01,  9.8636e-03,  1.1894e-01, -6.8897e-02, -1.2845e-01,\n",
       "                       -1.1752e-01, -1.2973e-01, -1.5964e-02,  3.3473e-02,  2.2706e-02,\n",
       "                       -2.8188e-02,  1.3415e-01, -1.4744e-01,  4.1068e-02, -3.2160e-02,\n",
       "                        7.8646e-02,  1.0757e-02, -2.0814e-02, -6.9270e-02,  1.0485e-01,\n",
       "                        1.1321e-01,  6.6464e-02,  1.7554e-02, -5.6137e-02,  7.8888e-03,\n",
       "                       -4.3380e-03,  4.7654e-03, -7.2996e-02, -7.7891e-02, -7.4887e-02],\n",
       "                      [ 1.2111e-01,  1.2318e-03, -3.3490e-02,  9.2253e-02,  1.3856e-01,\n",
       "                        7.5142e-02, -3.1028e-02, -3.8179e-02, -1.8245e-02, -1.0632e-01,\n",
       "                       -8.9744e-02,  9.2890e-02, -7.6861e-03,  1.5039e-01, -8.4886e-03,\n",
       "                       -7.7505e-02, -1.2872e-01, -8.1760e-02, -8.3504e-02, -1.4584e-01,\n",
       "                       -2.9314e-02, -8.6707e-02, -7.4861e-02, -5.9117e-02,  6.3623e-02,\n",
       "                        8.7681e-02,  5.1545e-02, -1.4581e-02,  8.8192e-02, -1.9985e-02,\n",
       "                       -1.2495e-01,  1.0624e-01,  7.7288e-02, -1.3129e-01, -1.1441e-02,\n",
       "                       -9.5319e-02,  9.2410e-02, -6.8931e-02,  1.0582e-01, -8.7164e-02,\n",
       "                       -8.2917e-02,  1.3213e-01,  5.7695e-03,  8.3529e-02, -2.3792e-02,\n",
       "                       -1.3138e-01, -4.4080e-02,  4.9495e-02,  1.1791e-01,  1.3912e-02],\n",
       "                      [-4.1327e-02, -5.6769e-02, -1.2170e-01, -1.0333e-01,  7.0622e-02,\n",
       "                        7.5781e-02, -4.4590e-02,  4.4029e-02, -1.0053e-02,  7.8975e-02,\n",
       "                        2.4068e-02, -7.0018e-02,  3.8333e-02,  1.3838e-01,  3.8538e-02,\n",
       "                        9.6984e-04,  1.6752e-02, -1.4079e-01,  1.1392e-01,  3.9371e-02,\n",
       "                        1.3479e-01, -1.2149e-01, -1.0759e-01, -4.1408e-02, -7.7508e-02,\n",
       "                        3.5712e-02,  4.4366e-02, -2.8839e-02,  6.5928e-02, -3.1147e-02,\n",
       "                        3.5309e-02, -3.6317e-02,  3.5149e-02, -4.0868e-02,  1.1611e-01,\n",
       "                       -8.2047e-02, -1.1253e-01,  1.0512e-01, -2.6861e-02,  6.8597e-02,\n",
       "                       -1.4888e-01,  1.4374e-01, -4.0819e-02,  6.3777e-02,  1.3121e-01,\n",
       "                       -2.1300e-02,  4.2561e-02, -9.3083e-02,  4.1074e-02,  4.6335e-02],\n",
       "                      [ 1.8850e-02, -3.1853e-02,  1.2380e-01,  1.5224e-01,  5.6469e-03,\n",
       "                       -1.3360e-01, -3.4489e-02, -3.0496e-02, -3.2934e-02, -7.9329e-02,\n",
       "                        1.5242e-01,  1.4509e-02,  8.8467e-02,  1.1105e-01,  1.5164e-01,\n",
       "                        1.9099e-03,  1.1913e-01,  3.9984e-03,  8.9597e-02, -6.9793e-02,\n",
       "                        8.2832e-03,  1.4417e-01, -3.7754e-02,  1.0894e-01, -6.4784e-02,\n",
       "                       -1.1043e-01,  7.6239e-02,  1.0575e-01,  8.0042e-02,  4.5546e-02,\n",
       "                        1.4199e-01,  8.3886e-02, -8.9735e-02, -2.1782e-02,  1.4749e-01,\n",
       "                       -5.5792e-02, -1.5345e-01, -1.5673e-02,  6.3636e-02, -1.4730e-01,\n",
       "                        1.0960e-01,  1.1834e-01,  1.7422e-02, -1.8549e-02, -1.2195e-02,\n",
       "                       -1.5036e-01,  4.5237e-02, -1.2121e-01, -1.3138e-02, -1.3011e-01]])),\n",
       "             ('grph_enc.graph_layers.2.n_conv_linear.bias',\n",
       "              tensor([ 0.0674,  0.1020,  0.0659, -0.1054,  0.0003,  0.0813,  0.0388, -0.0555,\n",
       "                       0.0257, -0.1323,  0.1116, -0.1480])),\n",
       "             ('E_NN.layers.0.0.layer.0.weight',\n",
       "              tensor([[-0.0462,  0.1130,  0.0694,  ...,  0.0057,  0.0573, -0.0404],\n",
       "                      [ 0.0956, -0.0138,  0.0627,  ...,  0.0766,  0.0110, -0.0327],\n",
       "                      [ 0.0048,  0.0734, -0.1027,  ..., -0.0409, -0.0635, -0.0473],\n",
       "                      ...,\n",
       "                      [-0.0522,  0.0371, -0.0081,  ..., -0.0963,  0.0388,  0.0953],\n",
       "                      [-0.0480,  0.0836, -0.0012,  ...,  0.0434, -0.0460,  0.1353],\n",
       "                      [ 0.0567,  0.0146, -0.1078,  ...,  0.0921, -0.0178,  0.0088]])),\n",
       "             ('E_NN.layers.0.0.layer.0.bias',\n",
       "              tensor([ 0.0192, -0.0366, -0.0208,  0.1202,  0.0753,  0.0480,  0.0500,  0.0539,\n",
       "                      -0.0429, -0.0267,  0.0069, -0.1017])),\n",
       "             ('E_NN.layers.0.0.layer.1.weight',\n",
       "              tensor([1.2055, 1.2086, 1.2090, 1.2082, 1.2081, 1.2082, 1.2091, 1.2085, 1.2035,\n",
       "                      1.1699, 1.0907, 1.1754])),\n",
       "             ('E_NN.layers.0.0.layer.1.bias',\n",
       "              tensor([0.2049, 0.2090, 0.2079, 0.2080, 0.2080, 0.2080, 0.2082, 0.2074, 0.2031,\n",
       "                      0.1728, 0.0894, 0.1717])),\n",
       "             ('E_NN.layers.0.0.layer.1.running_mean',\n",
       "              tensor([  9186.2539,   9042.7207, -11310.2979, -13442.7061,  -8300.2812,\n",
       "                      -12865.2334,   8704.0107,  11832.8447, -12330.8145,  -6740.6113,\n",
       "                       -9945.4717,   2009.1826])),\n",
       "             ('E_NN.layers.0.0.layer.1.running_var',\n",
       "              tensor([8.9964e+07, 9.0860e+07, 1.3923e+08, 1.9516e+08, 7.4236e+07, 1.7742e+08,\n",
       "                      7.9222e+07, 1.5189e+08, 1.6378e+08, 4.6961e+07, 1.1022e+08, 4.8919e+06])),\n",
       "             ('E_NN.layers.0.0.layer.1.num_batches_tracked', tensor(76))])"
      ]
     },
     "execution_count": 18,
     "metadata": {},
     "output_type": "execute_result"
    }
   ],
   "source": [
    "tr.train_test(PRS,PRS)"
   ]
  },
  {
   "cell_type": "code",
   "execution_count": 14,
   "metadata": {},
   "outputs": [
    {
     "data": {
      "text/plain": [
       "ResNET_ENC(\n",
       "  (im_layers): ModuleList(\n",
       "    (0): set_ResNET_conv(\n",
       "      (shortcut): ModuleList(\n",
       "        (0): Conv2d(3, 5, kernel_size=(3, 3), stride=(1, 1), padding=(1, 1))\n",
       "        (1): BatchNorm2d(5, eps=1e-05, momentum=0.1, affine=True, track_running_stats=True)\n",
       "        (2): ReLU()\n",
       "      )\n",
       "      (pre_layer): ModuleList(\n",
       "        (0): Conv2d(3, 4, kernel_size=(3, 3), stride=(1, 1), padding=(1, 1))\n",
       "        (1): BatchNorm2d(4, eps=1e-05, momentum=0.1, affine=True, track_running_stats=True)\n",
       "        (2): ReLU()\n",
       "        (3): Conv2d(4, 5, kernel_size=(5, 5), stride=(1, 1), padding=(2, 2))\n",
       "        (4): BatchNorm2d(5, eps=1e-05, momentum=0.1, affine=True, track_running_stats=True)\n",
       "      )\n",
       "      (lay_act): ReLU()\n",
       "    )\n",
       "    (1): set_ResNET_conv(\n",
       "      (shortcut): ModuleList(\n",
       "        (0): Conv2d(5, 7, kernel_size=(3, 3), stride=(2, 2), padding=(1, 1))\n",
       "        (1): BatchNorm2d(7, eps=1e-05, momentum=0.1, affine=True, track_running_stats=True)\n",
       "        (2): ReLU()\n",
       "      )\n",
       "      (pre_layer): ModuleList(\n",
       "        (0): Conv2d(5, 6, kernel_size=(5, 5), stride=(1, 1), padding=(2, 2))\n",
       "        (1): BatchNorm2d(6, eps=1e-05, momentum=0.1, affine=True, track_running_stats=True)\n",
       "        (2): ReLU()\n",
       "        (3): Conv2d(6, 7, kernel_size=(5, 5), stride=(2, 2), padding=(2, 2))\n",
       "        (4): BatchNorm2d(7, eps=1e-05, momentum=0.1, affine=True, track_running_stats=True)\n",
       "      )\n",
       "      (lay_act): ReLU()\n",
       "    )\n",
       "  )\n",
       ")"
      ]
     },
     "execution_count": 14,
     "metadata": {},
     "output_type": "execute_result"
    }
   ],
   "source": [
    "EDM.ENC"
   ]
  },
  {
   "cell_type": "code",
   "execution_count": 11,
   "metadata": {},
   "outputs": [
    {
     "name": "stdout",
     "output_type": "stream",
     "text": [
      "torch.Size([16, 7, 12])\n",
      "torch.Size([16, 84])\n"
     ]
    }
   ],
   "source": [
    "pr=torch.randn([16, 7, 12]).cuda()\n",
    "print(pr.shape)\n",
    "print((pr.flatten(1)).shape)"
   ]
  },
  {
   "cell_type": "code",
   "execution_count": 14,
   "metadata": {},
   "outputs": [
    {
     "data": {
      "text/plain": [
       "device(type='cpu')"
      ]
     },
     "execution_count": 14,
     "metadata": {},
     "output_type": "execute_result"
    }
   ],
   "source": [
    "a=torch.randn([16, 7, 12])\n",
    "a.device"
   ]
  },
  {
   "cell_type": "code",
   "execution_count": 25,
   "metadata": {},
   "outputs": [
    {
     "data": {
      "text/plain": [
       "0"
      ]
     },
     "execution_count": 25,
     "metadata": {},
     "output_type": "execute_result"
    }
   ],
   "source": [
    "pr.get_device()"
   ]
  },
  {
   "cell_type": "code",
   "execution_count": 27,
   "metadata": {},
   "outputs": [
    {
     "data": {
      "text/plain": [
       "-1"
      ]
     },
     "execution_count": 27,
     "metadata": {},
     "output_type": "execute_result"
    }
   ],
   "source": [
    "a.to(pr.device)\n",
    "a.get_device()"
   ]
  }
 ],
 "metadata": {
  "kernelspec": {
   "display_name": "ODO_ENV",
   "language": "python",
   "name": "odo_env"
  },
  "language_info": {
   "codemirror_mode": {
    "name": "ipython",
    "version": 3
   },
   "file_extension": ".py",
   "mimetype": "text/x-python",
   "name": "python",
   "nbconvert_exporter": "python",
   "pygments_lexer": "ipython3",
   "version": "3.6.9"
  }
 },
 "nbformat": 4,
 "nbformat_minor": 2
}
